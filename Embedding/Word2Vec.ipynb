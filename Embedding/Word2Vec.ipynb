{
 "cells": [
  {
   "cell_type": "code",
   "execution_count": 33,
   "metadata": {},
   "outputs": [],
   "source": [
    "import pickle\n",
    "from bareunpy import Tagger\n",
    "\n",
    "import time"
   ]
  },
  {
   "cell_type": "code",
   "execution_count": 34,
   "metadata": {},
   "outputs": [],
   "source": [
    "# 바른 형태소 분석기 정의\n",
    "API_KEY = \"--\"\n",
    "baruen_tagger = Tagger(API_KEY, 'localhost')"
   ]
  },
  {
   "cell_type": "code",
   "execution_count": 35,
   "metadata": {},
   "outputs": [],
   "source": [
    "def tokenize(s):\n",
    "    return [token for token in baruen_tagger.morphs(s)]"
   ]
  },
  {
   "cell_type": "code",
   "execution_count": 36,
   "metadata": {},
   "outputs": [
    {
     "name": "stdout",
     "output_type": "stream",
     "text": [
      "100 sample processed. Elapsed time : 0.0m 0.0s\n",
      "200 sample processed. Elapsed time : 0.0m 0.0s\n",
      "300 sample processed. Elapsed time : 0.0m 0.0s\n",
      "400 sample processed. Elapsed time : 0.0m 0.0s\n",
      "500 sample processed. Elapsed time : 0.0m 0.0s\n",
      "600 sample processed. Elapsed time : 0.0m 0.0s\n",
      "700 sample processed. Elapsed time : 0.0m 0.0s\n",
      "800 sample processed. Elapsed time : 0.0m 0.0s\n",
      "900 sample processed. Elapsed time : 0.0m 0.0s\n",
      "1000 sample processed. Elapsed time : 0.0m 0.0s\n",
      "1100 sample processed. Elapsed time : 0.0m 0.0s\n",
      "1200 sample processed. Elapsed time : 0.0m 0.0s\n",
      "1300 sample processed. Elapsed time : 0.0m 0.0s\n",
      "1400 sample processed. Elapsed time : 0.0m 0.0s\n",
      "1500 sample processed. Elapsed time : 0.0m 0.0s\n",
      "1600 sample processed. Elapsed time : 0.0m 0.0s\n",
      "1700 sample processed. Elapsed time : 0.0m 0.0s\n",
      "1800 sample processed. Elapsed time : 0.0m 0.0s\n",
      "1900 sample processed. Elapsed time : 0.0m 0.0s\n",
      "2000 sample processed. Elapsed time : 0.0m 0.0s\n",
      "2100 sample processed. Elapsed time : 0.0m 0.0s\n",
      "2200 sample processed. Elapsed time : 0.0m 0.0s\n",
      "2300 sample processed. Elapsed time : 0.0m 0.0s\n",
      "2400 sample processed. Elapsed time : 0.0m 0.0s\n",
      "2500 sample processed. Elapsed time : 0.0m 0.0s\n",
      "2600 sample processed. Elapsed time : 0.0m 0.0s\n",
      "2700 sample processed. Elapsed time : 0.0m 0.0s\n",
      "2800 sample processed. Elapsed time : 0.0m 0.0s\n",
      "2900 sample processed. Elapsed time : 0.0m 0.0s\n",
      "3000 sample processed. Elapsed time : 0.0m 0.0s\n",
      "3100 sample processed. Elapsed time : 0.0m 0.0s\n",
      "3200 sample processed. Elapsed time : 0.0m 0.0s\n",
      "3300 sample processed. Elapsed time : 0.0m 0.0s\n",
      "3400 sample processed. Elapsed time : 0.0m 0.0s\n",
      "3500 sample processed. Elapsed time : 0.0m 0.0s\n",
      "3600 sample processed. Elapsed time : 0.0m 0.0s\n",
      "3700 sample processed. Elapsed time : 0.0m 0.0s\n",
      "3800 sample processed. Elapsed time : 0.0m 0.0s\n",
      "3900 sample processed. Elapsed time : 0.0m 0.0s\n",
      "4000 sample processed. Elapsed time : 0.0m 0.0s\n",
      "4100 sample processed. Elapsed time : 0.0m 0.0s\n",
      "4200 sample processed. Elapsed time : 0.0m 0.0s\n",
      "4300 sample processed. Elapsed time : 0.0m 0.0s\n",
      "4400 sample processed. Elapsed time : 0.0m 0.0s\n",
      "4500 sample processed. Elapsed time : 0.0m 0.0s\n",
      "4600 sample processed. Elapsed time : 0.0m 0.0s\n",
      "4700 sample processed. Elapsed time : 0.0m 0.0s\n",
      "4800 sample processed. Elapsed time : 0.0m 0.0s\n",
      "4900 sample processed. Elapsed time : 0.0m 0.0s\n",
      "5000 sample processed. Elapsed time : 0.0m 0.0s\n",
      "5100 sample processed. Elapsed time : 0.0m 0.0s\n",
      "5200 sample processed. Elapsed time : 0.0m 0.0s\n",
      "5300 sample processed. Elapsed time : 0.0m 0.0s\n",
      "5400 sample processed. Elapsed time : 0.0m 0.0s\n",
      "5500 sample processed. Elapsed time : 0.0m 0.0s\n",
      "5600 sample processed. Elapsed time : 0.0m 0.0s\n",
      "5700 sample processed. Elapsed time : 0.0m 0.0s\n",
      "5800 sample processed. Elapsed time : 0.0m 0.0s\n",
      "5900 sample processed. Elapsed time : 0.0m 0.0s\n",
      "6000 sample processed. Elapsed time : 0.0m 0.0s\n",
      "6100 sample processed. Elapsed time : 0.0m 0.0s\n",
      "6200 sample processed. Elapsed time : 0.0m 0.0s\n",
      "6300 sample processed. Elapsed time : 0.0m 0.0s\n",
      "6400 sample processed. Elapsed time : 0.0m 0.0s\n",
      "6500 sample processed. Elapsed time : 0.0m 0.0s\n",
      "6600 sample processed. Elapsed time : 0.0m 0.0s\n",
      "6700 sample processed. Elapsed time : 0.0m 0.0s\n",
      "6800 sample processed. Elapsed time : 0.0m 0.0s\n",
      "6900 sample processed. Elapsed time : 0.0m 0.0s\n",
      "7000 sample processed. Elapsed time : 0.0m 0.0s\n",
      "7100 sample processed. Elapsed time : 0.0m 0.0s\n",
      "7200 sample processed. Elapsed time : 0.0m 0.0s\n",
      "7300 sample processed. Elapsed time : 0.0m 0.0s\n",
      "7400 sample processed. Elapsed time : 0.0m 0.0s\n",
      "7500 sample processed. Elapsed time : 0.0m 0.0s\n",
      "7600 sample processed. Elapsed time : 0.0m 0.0s\n",
      "7700 sample processed. Elapsed time : 0.0m 0.0s\n",
      "7800 sample processed. Elapsed time : 0.0m 0.0s\n",
      "7900 sample processed. Elapsed time : 0.0m 0.0s\n",
      "8000 sample processed. Elapsed time : 0.0m 0.0s\n",
      "8100 sample processed. Elapsed time : 0.0m 0.0s\n",
      "8200 sample processed. Elapsed time : 0.0m 0.0s\n",
      "8300 sample processed. Elapsed time : 0.0m 0.0s\n",
      "8400 sample processed. Elapsed time : 0.0m 0.0s\n",
      "8500 sample processed. Elapsed time : 0.0m 0.0s\n",
      "8600 sample processed. Elapsed time : 0.0m 0.0s\n",
      "8700 sample processed. Elapsed time : 0.0m 0.0s\n",
      "8800 sample processed. Elapsed time : 0.0m 0.0s\n",
      "8900 sample processed. Elapsed time : 0.0m 0.0s\n",
      "9000 sample processed. Elapsed time : 0.0m 0.0s\n",
      "9100 sample processed. Elapsed time : 0.0m 0.0s\n",
      "9200 sample processed. Elapsed time : 0.0m 0.0s\n",
      "9300 sample processed. Elapsed time : 0.0m 0.0s\n",
      "9400 sample processed. Elapsed time : 0.0m 0.0s\n",
      "9500 sample processed. Elapsed time : 0.0m 0.0s\n",
      "9600 sample processed. Elapsed time : 0.0m 0.0s\n",
      "9700 sample processed. Elapsed time : 0.0m 0.0s\n",
      "9800 sample processed. Elapsed time : 0.0m 0.0s\n",
      "9900 sample processed. Elapsed time : 0.0m 0.0s\n",
      "10000 sample processed. Elapsed time : 0.0m 0.0s\n",
      "10100 sample processed. Elapsed time : 0.0m 0.0s\n",
      "10200 sample processed. Elapsed time : 0.0m 0.0s\n",
      "10300 sample processed. Elapsed time : 0.0m 0.0s\n",
      "10400 sample processed. Elapsed time : 0.0m 0.0s\n",
      "10500 sample processed. Elapsed time : 0.0m 0.0s\n",
      "10600 sample processed. Elapsed time : 0.0m 0.0s\n",
      "10700 sample processed. Elapsed time : 0.0m 0.0s\n",
      "10800 sample processed. Elapsed time : 0.0m 0.0s\n",
      "10900 sample processed. Elapsed time : 0.0m 0.0s\n",
      "11000 sample processed. Elapsed time : 0.0m 0.0s\n",
      "11100 sample processed. Elapsed time : 0.0m 0.0s\n",
      "11200 sample processed. Elapsed time : 0.0m 0.0s\n",
      "11300 sample processed. Elapsed time : 0.0m 0.0s\n",
      "11400 sample processed. Elapsed time : 0.0m 0.0s\n",
      "11500 sample processed. Elapsed time : 0.0m 0.0s\n",
      "11600 sample processed. Elapsed time : 0.0m 0.0s\n",
      "11700 sample processed. Elapsed time : 0.0m 0.0s\n",
      "11800 sample processed. Elapsed time : 0.0m 0.0s\n",
      "11900 sample processed. Elapsed time : 0.0m 0.0s\n",
      "12000 sample processed. Elapsed time : 0.0m 0.0s\n",
      "12100 sample processed. Elapsed time : 0.0m 0.0s\n",
      "12200 sample processed. Elapsed time : 0.0m 0.0s\n",
      "12300 sample processed. Elapsed time : 0.0m 0.0s\n",
      "12400 sample processed. Elapsed time : 0.0m 0.0s\n",
      "12500 sample processed. Elapsed time : 0.0m 0.0s\n",
      "12600 sample processed. Elapsed time : 0.0m 0.0s\n",
      "12700 sample processed. Elapsed time : 0.0m 0.0s\n",
      "12800 sample processed. Elapsed time : 0.0m 0.0s\n",
      "12900 sample processed. Elapsed time : 0.0m 0.0s\n",
      "13000 sample processed. Elapsed time : 0.0m 0.0s\n",
      "13100 sample processed. Elapsed time : 0.0m 0.0s\n",
      "13200 sample processed. Elapsed time : 0.0m 0.0s\n",
      "13300 sample processed. Elapsed time : 0.0m 0.0s\n",
      "13400 sample processed. Elapsed time : 0.0m 0.0s\n",
      "13500 sample processed. Elapsed time : 0.0m 0.0s\n",
      "13600 sample processed. Elapsed time : 0.0m 0.0s\n",
      "13700 sample processed. Elapsed time : 0.0m 0.0s\n",
      "13800 sample processed. Elapsed time : 0.0m 0.0s\n",
      "13900 sample processed. Elapsed time : 0.0m 0.0s\n",
      "14000 sample processed. Elapsed time : 0.0m 0.0s\n",
      "14100 sample processed. Elapsed time : 0.0m 0.0s\n",
      "14200 sample processed. Elapsed time : 0.0m 0.0s\n",
      "14300 sample processed. Elapsed time : 0.0m 0.0s\n",
      "14400 sample processed. Elapsed time : 0.0m 0.0s\n",
      "14500 sample processed. Elapsed time : 0.0m 0.0s\n",
      "14600 sample processed. Elapsed time : 0.0m 0.0s\n",
      "14700 sample processed. Elapsed time : 0.0m 0.0s\n",
      "14800 sample processed. Elapsed time : 0.0m 0.0s\n",
      "14900 sample processed. Elapsed time : 0.0m 0.0s\n",
      "15000 sample processed. Elapsed time : 0.0m 0.0s\n",
      "15100 sample processed. Elapsed time : 0.0m 0.0s\n",
      "15200 sample processed. Elapsed time : 0.0m 0.0s\n",
      "15300 sample processed. Elapsed time : 0.0m 0.0s\n",
      "15400 sample processed. Elapsed time : 0.0m 0.0s\n",
      "15500 sample processed. Elapsed time : 0.0m 0.0s\n",
      "15600 sample processed. Elapsed time : 0.0m 0.0s\n",
      "15700 sample processed. Elapsed time : 0.0m 0.0s\n",
      "15800 sample processed. Elapsed time : 0.0m 0.0s\n",
      "15900 sample processed. Elapsed time : 0.0m 0.0s\n",
      "16000 sample processed. Elapsed time : 0.0m 0.0s\n",
      "16100 sample processed. Elapsed time : 0.0m 0.0s\n",
      "16200 sample processed. Elapsed time : 0.0m 0.0s\n",
      "16300 sample processed. Elapsed time : 0.0m 0.0s\n",
      "16400 sample processed. Elapsed time : 0.0m 0.0s\n",
      "16500 sample processed. Elapsed time : 0.0m 0.0s\n",
      "16600 sample processed. Elapsed time : 0.0m 0.0s\n",
      "16700 sample processed. Elapsed time : 0.0m 0.0s\n",
      "16800 sample processed. Elapsed time : 0.0m 0.0s\n",
      "16900 sample processed. Elapsed time : 0.0m 0.0s\n",
      "17000 sample processed. Elapsed time : 0.0m 0.0s\n",
      "17100 sample processed. Elapsed time : 0.0m 0.0s\n",
      "17200 sample processed. Elapsed time : 0.0m 0.0s\n",
      "17300 sample processed. Elapsed time : 0.0m 0.0s\n",
      "17400 sample processed. Elapsed time : 0.0m 0.0s\n",
      "17500 sample processed. Elapsed time : 0.0m 0.0s\n",
      "17600 sample processed. Elapsed time : 0.0m 0.0s\n",
      "17700 sample processed. Elapsed time : 0.0m 0.0s\n",
      "17800 sample processed. Elapsed time : 0.0m 0.0s\n",
      "17900 sample processed. Elapsed time : 0.0m 0.0s\n",
      "18000 sample processed. Elapsed time : 0.0m 0.0s\n",
      "18100 sample processed. Elapsed time : 0.0m 0.0s\n",
      "18200 sample processed. Elapsed time : 0.0m 0.0s\n",
      "18300 sample processed. Elapsed time : 0.0m 0.0s\n",
      "18400 sample processed. Elapsed time : 0.0m 0.0s\n",
      "18500 sample processed. Elapsed time : 0.0m 0.0s\n",
      "18600 sample processed. Elapsed time : 0.0m 0.0s\n",
      "18700 sample processed. Elapsed time : 0.0m 0.0s\n",
      "18800 sample processed. Elapsed time : 0.0m 0.0s\n",
      "18900 sample processed. Elapsed time : 0.0m 0.0s\n",
      "19000 sample processed. Elapsed time : 0.0m 0.0s\n",
      "19100 sample processed. Elapsed time : 0.0m 0.0s\n",
      "19200 sample processed. Elapsed time : 0.0m 0.0s\n",
      "19300 sample processed. Elapsed time : 0.0m 0.0s\n",
      "19400 sample processed. Elapsed time : 0.0m 0.0s\n",
      "19500 sample processed. Elapsed time : 0.0m 0.0s\n",
      "19600 sample processed. Elapsed time : 0.0m 0.0s\n",
      "19700 sample processed. Elapsed time : 0.0m 0.0s\n",
      "19800 sample processed. Elapsed time : 0.0m 0.0s\n",
      "19900 sample processed. Elapsed time : 0.0m 0.0s\n",
      "20000 sample processed. Elapsed time : 0.0m 0.0s\n",
      "20100 sample processed. Elapsed time : 0.0m 0.0s\n",
      "20200 sample processed. Elapsed time : 0.0m 0.0s\n",
      "20300 sample processed. Elapsed time : 0.0m 0.0s\n",
      "20400 sample processed. Elapsed time : 0.0m 0.0s\n",
      "20500 sample processed. Elapsed time : 0.0m 0.0s\n",
      "20600 sample processed. Elapsed time : 0.0m 0.0s\n",
      "20700 sample processed. Elapsed time : 0.0m 0.0s\n",
      "20800 sample processed. Elapsed time : 0.0m 0.0s\n",
      "20900 sample processed. Elapsed time : 0.0m 0.0s\n",
      "21000 sample processed. Elapsed time : 0.0m 0.0s\n",
      "21100 sample processed. Elapsed time : 0.0m 0.0s\n",
      "21200 sample processed. Elapsed time : 0.0m 0.0s\n",
      "21300 sample processed. Elapsed time : 0.0m 0.0s\n",
      "21400 sample processed. Elapsed time : 0.0m 0.0s\n",
      "21500 sample processed. Elapsed time : 0.0m 0.0s\n",
      "21600 sample processed. Elapsed time : 0.0m 0.0s\n",
      "21700 sample processed. Elapsed time : 0.0m 0.0s\n",
      "21800 sample processed. Elapsed time : 0.0m 0.0s\n",
      "21900 sample processed. Elapsed time : 0.0m 0.0s\n",
      "22000 sample processed. Elapsed time : 0.0m 0.0s\n",
      "22100 sample processed. Elapsed time : 0.0m 0.0s\n",
      "22200 sample processed. Elapsed time : 0.0m 0.0s\n",
      "22300 sample processed. Elapsed time : 0.0m 0.0s\n",
      "22400 sample processed. Elapsed time : 0.0m 0.0s\n",
      "22500 sample processed. Elapsed time : 0.0m 0.0s\n",
      "22600 sample processed. Elapsed time : 0.0m 0.0s\n",
      "22700 sample processed. Elapsed time : 0.0m 0.0s\n",
      "22800 sample processed. Elapsed time : 0.0m 0.0s\n",
      "22900 sample processed. Elapsed time : 0.0m 0.0s\n",
      "23000 sample processed. Elapsed time : 0.0m 0.0s\n",
      "23100 sample processed. Elapsed time : 0.0m 0.0s\n",
      "23200 sample processed. Elapsed time : 0.0m 0.0s\n",
      "23300 sample processed. Elapsed time : 0.0m 0.0s\n",
      "23400 sample processed. Elapsed time : 0.0m 0.0s\n",
      "23500 sample processed. Elapsed time : 0.0m 0.0s\n",
      "23600 sample processed. Elapsed time : 0.0m 0.0s\n",
      "23700 sample processed. Elapsed time : 0.0m 0.0s\n",
      "23800 sample processed. Elapsed time : 0.0m 0.0s\n",
      "23900 sample processed. Elapsed time : 0.0m 0.0s\n",
      "24000 sample processed. Elapsed time : 0.0m 0.0s\n",
      "24100 sample processed. Elapsed time : 0.0m 0.0s\n",
      "24200 sample processed. Elapsed time : 0.0m 0.0s\n",
      "24300 sample processed. Elapsed time : 0.0m 0.0s\n",
      "24400 sample processed. Elapsed time : 0.0m 0.0s\n",
      "24500 sample processed. Elapsed time : 0.0m 0.0s\n",
      "24600 sample processed. Elapsed time : 0.0m 0.0s\n",
      "24700 sample processed. Elapsed time : 0.0m 0.0s\n",
      "24800 sample processed. Elapsed time : 0.0m 0.0s\n",
      "24900 sample processed. Elapsed time : 0.0m 0.0s\n",
      "25000 sample processed. Elapsed time : 0.0m 0.0s\n",
      "25100 sample processed. Elapsed time : 0.0m 0.0s\n",
      "25200 sample processed. Elapsed time : 0.0m 0.0s\n",
      "25300 sample processed. Elapsed time : 0.0m 0.0s\n",
      "25400 sample processed. Elapsed time : 0.0m 0.0s\n",
      "25500 sample processed. Elapsed time : 0.0m 0.0s\n",
      "25600 sample processed. Elapsed time : 0.0m 0.0s\n",
      "25700 sample processed. Elapsed time : 0.0m 0.0s\n",
      "25800 sample processed. Elapsed time : 0.0m 0.0s\n",
      "25900 sample processed. Elapsed time : 0.0m 0.0s\n",
      "26000 sample processed. Elapsed time : 0.0m 0.0s\n",
      "26100 sample processed. Elapsed time : 0.0m 0.0s\n",
      "26200 sample processed. Elapsed time : 0.0m 0.0s\n",
      "26300 sample processed. Elapsed time : 0.0m 0.0s\n",
      "26400 sample processed. Elapsed time : 0.0m 0.0s\n",
      "26500 sample processed. Elapsed time : 0.0m 0.0s\n",
      "26600 sample processed. Elapsed time : 0.0m 0.0s\n",
      "26700 sample processed. Elapsed time : 0.0m 0.0s\n",
      "26800 sample processed. Elapsed time : 0.0m 0.0s\n",
      "26900 sample processed. Elapsed time : 0.0m 0.0s\n",
      "27000 sample processed. Elapsed time : 0.0m 0.0s\n",
      "27100 sample processed. Elapsed time : 0.0m 0.0s\n",
      "27200 sample processed. Elapsed time : 0.0m 0.0s\n",
      "27300 sample processed. Elapsed time : 0.0m 0.0s\n",
      "27400 sample processed. Elapsed time : 0.0m 0.0s\n",
      "27500 sample processed. Elapsed time : 0.0m 0.0s\n",
      "27600 sample processed. Elapsed time : 0.0m 0.0s\n",
      "27700 sample processed. Elapsed time : 0.0m 0.0s\n",
      "27800 sample processed. Elapsed time : 0.0m 0.0s\n",
      "27900 sample processed. Elapsed time : 0.0m 0.0s\n",
      "28000 sample processed. Elapsed time : 0.0m 0.0s\n",
      "28100 sample processed. Elapsed time : 0.0m 0.0s\n",
      "28200 sample processed. Elapsed time : 0.0m 0.0s\n",
      "28300 sample processed. Elapsed time : 0.0m 0.0s\n",
      "28400 sample processed. Elapsed time : 0.0m 0.0s\n",
      "28500 sample processed. Elapsed time : 0.0m 0.0s\n",
      "28600 sample processed. Elapsed time : 0.0m 0.0s\n",
      "28700 sample processed. Elapsed time : 0.0m 0.0s\n",
      "28800 sample processed. Elapsed time : 0.0m 0.0s\n",
      "28900 sample processed. Elapsed time : 0.0m 0.0s\n",
      "29000 sample processed. Elapsed time : 0.0m 0.0s\n",
      "29100 sample processed. Elapsed time : 0.0m 0.0s\n",
      "29200 sample processed. Elapsed time : 0.0m 0.0s\n",
      "29300 sample processed. Elapsed time : 0.0m 0.0s\n",
      "29400 sample processed. Elapsed time : 0.0m 0.0s\n",
      "29500 sample processed. Elapsed time : 0.0m 0.0s\n",
      "29600 sample processed. Elapsed time : 0.0m 0.0s\n",
      "29700 sample processed. Elapsed time : 0.0m 0.0s\n",
      "29800 sample processed. Elapsed time : 0.0m 0.0s\n",
      "29900 sample processed. Elapsed time : 0.0m 0.0s\n",
      "30000 sample processed. Elapsed time : 0.0m 0.0s\n",
      "30100 sample processed. Elapsed time : 0.0m 0.0s\n",
      "30200 sample processed. Elapsed time : 0.0m 0.0s\n",
      "30300 sample processed. Elapsed time : 0.0m 0.0s\n",
      "30400 sample processed. Elapsed time : 0.0m 0.0s\n",
      "30500 sample processed. Elapsed time : 0.0m 0.0s\n",
      "30600 sample processed. Elapsed time : 0.0m 0.0s\n",
      "30700 sample processed. Elapsed time : 0.0m 0.0s\n",
      "30800 sample processed. Elapsed time : 0.0m 0.0s\n",
      "30900 sample processed. Elapsed time : 0.0m 0.0s\n",
      "31000 sample processed. Elapsed time : 0.0m 0.0s\n",
      "31100 sample processed. Elapsed time : 0.0m 0.0s\n",
      "31200 sample processed. Elapsed time : 0.0m 0.0s\n",
      "31300 sample processed. Elapsed time : 0.0m 0.0s\n",
      "31400 sample processed. Elapsed time : 0.0m 0.0s\n",
      "31500 sample processed. Elapsed time : 0.0m 0.0s\n",
      "31600 sample processed. Elapsed time : 0.0m 0.0s\n",
      "31700 sample processed. Elapsed time : 0.0m 0.0s\n",
      "31800 sample processed. Elapsed time : 0.0m 0.0s\n",
      "31900 sample processed. Elapsed time : 0.0m 0.0s\n",
      "32000 sample processed. Elapsed time : 0.0m 0.0s\n",
      "32100 sample processed. Elapsed time : 0.0m 0.0s\n",
      "32200 sample processed. Elapsed time : 0.0m 0.0s\n",
      "32300 sample processed. Elapsed time : 0.0m 0.0s\n",
      "32400 sample processed. Elapsed time : 0.0m 0.0s\n",
      "32500 sample processed. Elapsed time : 0.0m 0.0s\n",
      "32600 sample processed. Elapsed time : 0.0m 0.0s\n",
      "32700 sample processed. Elapsed time : 0.0m 0.0s\n",
      "32800 sample processed. Elapsed time : 0.0m 0.0s\n",
      "32900 sample processed. Elapsed time : 0.0m 0.0s\n",
      "33000 sample processed. Elapsed time : 0.0m 0.0s\n",
      "33100 sample processed. Elapsed time : 0.0m 0.0s\n",
      "33200 sample processed. Elapsed time : 0.0m 0.0s\n",
      "33300 sample processed. Elapsed time : 0.0m 0.0s\n",
      "33400 sample processed. Elapsed time : 0.0m 0.0s\n",
      "33500 sample processed. Elapsed time : 0.0m 0.0s\n",
      "33600 sample processed. Elapsed time : 0.0m 0.0s\n",
      "33700 sample processed. Elapsed time : 0.0m 0.0s\n",
      "33800 sample processed. Elapsed time : 0.0m 0.0s\n",
      "33900 sample processed. Elapsed time : 0.0m 0.0s\n",
      "34000 sample processed. Elapsed time : 0.0m 0.0s\n",
      "34100 sample processed. Elapsed time : 0.0m 0.0s\n",
      "34200 sample processed. Elapsed time : 0.0m 0.0s\n",
      "34300 sample processed. Elapsed time : 0.0m 0.0s\n",
      "34400 sample processed. Elapsed time : 0.0m 0.0s\n",
      "34500 sample processed. Elapsed time : 0.0m 0.0s\n",
      "34600 sample processed. Elapsed time : 0.0m 0.0s\n",
      "34700 sample processed. Elapsed time : 0.0m 0.0s\n",
      "34800 sample processed. Elapsed time : 0.0m 0.0s\n",
      "34900 sample processed. Elapsed time : 0.0m 0.0s\n",
      "35000 sample processed. Elapsed time : 0.0m 0.0s\n",
      "35100 sample processed. Elapsed time : 0.0m 0.0s\n",
      "35200 sample processed. Elapsed time : 0.0m 0.0s\n",
      "35300 sample processed. Elapsed time : 0.0m 0.0s\n",
      "35400 sample processed. Elapsed time : 0.0m 0.0s\n",
      "35500 sample processed. Elapsed time : 0.0m 0.0s\n",
      "35600 sample processed. Elapsed time : 0.0m 0.0s\n",
      "35700 sample processed. Elapsed time : 0.0m 0.0s\n",
      "35800 sample processed. Elapsed time : 0.0m 0.0s\n",
      "35900 sample processed. Elapsed time : 0.0m 0.0s\n",
      "36000 sample processed. Elapsed time : 0.0m 0.0s\n",
      "36100 sample processed. Elapsed time : 0.0m 0.0s\n",
      "36200 sample processed. Elapsed time : 0.0m 0.0s\n",
      "36300 sample processed. Elapsed time : 0.0m 0.0s\n",
      "36400 sample processed. Elapsed time : 0.0m 0.0s\n",
      "36500 sample processed. Elapsed time : 0.0m 0.0s\n",
      "36600 sample processed. Elapsed time : 0.0m 0.0s\n",
      "36700 sample processed. Elapsed time : 0.0m 0.0s\n",
      "36800 sample processed. Elapsed time : 0.0m 0.0s\n",
      "36900 sample processed. Elapsed time : 0.0m 0.0s\n",
      "37000 sample processed. Elapsed time : 0.0m 0.0s\n",
      "37100 sample processed. Elapsed time : 0.0m 0.0s\n",
      "37200 sample processed. Elapsed time : 0.0m 0.0s\n",
      "37300 sample processed. Elapsed time : 0.0m 0.0s\n",
      "37400 sample processed. Elapsed time : 0.0m 0.0s\n",
      "37500 sample processed. Elapsed time : 0.0m 0.0s\n",
      "37600 sample processed. Elapsed time : 0.0m 0.0s\n",
      "37700 sample processed. Elapsed time : 0.0m 0.0s\n",
      "37800 sample processed. Elapsed time : 0.0m 0.0s\n",
      "37900 sample processed. Elapsed time : 0.0m 0.0s\n",
      "38000 sample processed. Elapsed time : 0.0m 0.0s\n",
      "38100 sample processed. Elapsed time : 0.0m 0.0s\n",
      "38200 sample processed. Elapsed time : 0.0m 0.0s\n",
      "38300 sample processed. Elapsed time : 0.0m 0.0s\n",
      "38400 sample processed. Elapsed time : 0.0m 0.0s\n",
      "38500 sample processed. Elapsed time : 0.0m 0.0s\n",
      "38600 sample processed. Elapsed time : 0.0m 0.0s\n",
      "38700 sample processed. Elapsed time : 0.0m 0.0s\n",
      "38800 sample processed. Elapsed time : 0.0m 0.0s\n",
      "38900 sample processed. Elapsed time : 0.0m 0.0s\n",
      "39000 sample processed. Elapsed time : 0.0m 0.0s\n",
      "39100 sample processed. Elapsed time : 0.0m 0.0s\n",
      "39200 sample processed. Elapsed time : 0.0m 0.0s\n",
      "39300 sample processed. Elapsed time : 0.0m 0.0s\n",
      "39400 sample processed. Elapsed time : 0.0m 0.0s\n",
      "39500 sample processed. Elapsed time : 0.0m 0.0s\n",
      "39600 sample processed. Elapsed time : 0.0m 0.0s\n",
      "39700 sample processed. Elapsed time : 0.0m 0.0s\n",
      "39800 sample processed. Elapsed time : 0.0m 0.0s\n",
      "39900 sample processed. Elapsed time : 0.0m 0.0s\n",
      "40000 sample processed. Elapsed time : 0.0m 0.0s\n",
      "40100 sample processed. Elapsed time : 0.0m 0.0s\n",
      "40200 sample processed. Elapsed time : 0.0m 0.0s\n",
      "40300 sample processed. Elapsed time : 0.0m 0.0s\n",
      "40400 sample processed. Elapsed time : 0.0m 0.0s\n",
      "40500 sample processed. Elapsed time : 0.0m 0.0s\n",
      "40600 sample processed. Elapsed time : 0.0m 0.0s\n",
      "40700 sample processed. Elapsed time : 0.0m 0.0s\n",
      "40800 sample processed. Elapsed time : 0.0m 0.0s\n",
      "40900 sample processed. Elapsed time : 0.0m 0.0s\n",
      "41000 sample processed. Elapsed time : 0.0m 0.0s\n",
      "41100 sample processed. Elapsed time : 0.0m 0.0s\n",
      "41200 sample processed. Elapsed time : 0.0m 0.0s\n",
      "41300 sample processed. Elapsed time : 0.0m 0.0s\n",
      "41400 sample processed. Elapsed time : 0.0m 0.0s\n",
      "41500 sample processed. Elapsed time : 0.0m 0.0s\n",
      "41600 sample processed. Elapsed time : 0.0m 0.0s\n",
      "41700 sample processed. Elapsed time : 0.0m 0.0s\n",
      "41800 sample processed. Elapsed time : 0.0m 0.0s\n",
      "41900 sample processed. Elapsed time : 0.0m 0.0s\n",
      "42000 sample processed. Elapsed time : 0.0m 0.0s\n",
      "42100 sample processed. Elapsed time : 0.0m 0.0s\n",
      "42200 sample processed. Elapsed time : 0.0m 0.0s\n",
      "42300 sample processed. Elapsed time : 0.0m 0.0s\n",
      "42400 sample processed. Elapsed time : 0.0m 0.0s\n",
      "42500 sample processed. Elapsed time : 0.0m 0.0s\n",
      "42600 sample processed. Elapsed time : 0.0m 0.0s\n",
      "42700 sample processed. Elapsed time : 0.0m 0.0s\n",
      "42800 sample processed. Elapsed time : 0.0m 0.0s\n",
      "42900 sample processed. Elapsed time : 0.0m 0.0s\n",
      "43000 sample processed. Elapsed time : 0.0m 0.0s\n",
      "43100 sample processed. Elapsed time : 0.0m 0.0s\n",
      "43200 sample processed. Elapsed time : 0.0m 0.0s\n",
      "43300 sample processed. Elapsed time : 0.0m 0.0s\n",
      "43400 sample processed. Elapsed time : 0.0m 0.0s\n",
      "43500 sample processed. Elapsed time : 0.0m 0.0s\n",
      "43600 sample processed. Elapsed time : 0.0m 0.0s\n",
      "43700 sample processed. Elapsed time : 0.0m 0.0s\n",
      "43800 sample processed. Elapsed time : 0.0m 0.0s\n",
      "43900 sample processed. Elapsed time : 0.0m 0.0s\n",
      "44000 sample processed. Elapsed time : 0.0m 0.0s\n",
      "44100 sample processed. Elapsed time : 0.0m 0.0s\n",
      "44200 sample processed. Elapsed time : 0.0m 0.0s\n",
      "44300 sample processed. Elapsed time : 0.0m 0.0s\n",
      "44400 sample processed. Elapsed time : 0.0m 0.0s\n",
      "44500 sample processed. Elapsed time : 0.0m 0.0s\n",
      "44600 sample processed. Elapsed time : 0.0m 0.0s\n",
      "44700 sample processed. Elapsed time : 0.0m 0.0s\n",
      "44800 sample processed. Elapsed time : 0.0m 0.0s\n",
      "44900 sample processed. Elapsed time : 0.0m 0.0s\n",
      "45000 sample processed. Elapsed time : 0.0m 0.0s\n",
      "45100 sample processed. Elapsed time : 0.0m 0.0s\n",
      "45200 sample processed. Elapsed time : 0.0m 0.0s\n",
      "45300 sample processed. Elapsed time : 0.0m 0.0s\n",
      "45400 sample processed. Elapsed time : 0.0m 0.0s\n",
      "45500 sample processed. Elapsed time : 0.0m 0.0s\n",
      "45600 sample processed. Elapsed time : 0.0m 0.0s\n",
      "45700 sample processed. Elapsed time : 0.0m 0.0s\n",
      "45800 sample processed. Elapsed time : 0.0m 0.0s\n",
      "45900 sample processed. Elapsed time : 0.0m 0.0s\n",
      "46000 sample processed. Elapsed time : 0.0m 0.0s\n",
      "46100 sample processed. Elapsed time : 0.0m 0.0s\n",
      "46200 sample processed. Elapsed time : 0.0m 0.0s\n",
      "46300 sample processed. Elapsed time : 0.0m 0.0s\n",
      "46400 sample processed. Elapsed time : 0.0m 0.0s\n",
      "46500 sample processed. Elapsed time : 0.0m 0.0s\n",
      "46600 sample processed. Elapsed time : 0.0m 0.0s\n",
      "46700 sample processed. Elapsed time : 0.0m 0.0s\n",
      "46800 sample processed. Elapsed time : 0.0m 0.0s\n",
      "46900 sample processed. Elapsed time : 0.0m 0.0s\n",
      "47000 sample processed. Elapsed time : 0.0m 0.0s\n",
      "47100 sample processed. Elapsed time : 0.0m 0.0s\n",
      "47200 sample processed. Elapsed time : 0.0m 0.0s\n",
      "47300 sample processed. Elapsed time : 0.0m 0.0s\n",
      "47400 sample processed. Elapsed time : 0.0m 0.0s\n",
      "47500 sample processed. Elapsed time : 0.0m 0.0s\n",
      "47600 sample processed. Elapsed time : 0.0m 0.0s\n",
      "47700 sample processed. Elapsed time : 0.0m 0.0s\n",
      "47800 sample processed. Elapsed time : 0.0m 0.0s\n",
      "47900 sample processed. Elapsed time : 0.0m 0.0s\n",
      "48000 sample processed. Elapsed time : 0.0m 0.0s\n",
      "48100 sample processed. Elapsed time : 0.0m 0.0s\n",
      "48200 sample processed. Elapsed time : 0.0m 0.0s\n",
      "48300 sample processed. Elapsed time : 0.0m 0.0s\n",
      "48400 sample processed. Elapsed time : 0.0m 0.0s\n",
      "48500 sample processed. Elapsed time : 0.0m 0.0s\n",
      "48600 sample processed. Elapsed time : 0.0m 0.0s\n",
      "48700 sample processed. Elapsed time : 0.0m 0.0s\n",
      "48800 sample processed. Elapsed time : 0.0m 0.0s\n",
      "48900 sample processed. Elapsed time : 0.0m 0.0s\n",
      "49000 sample processed. Elapsed time : 0.0m 0.0s\n",
      "49100 sample processed. Elapsed time : 0.0m 0.0s\n",
      "49200 sample processed. Elapsed time : 0.0m 0.0s\n",
      "49300 sample processed. Elapsed time : 0.0m 0.0s\n",
      "49400 sample processed. Elapsed time : 0.0m 0.0s\n",
      "49500 sample processed. Elapsed time : 0.0m 0.0s\n",
      "49600 sample processed. Elapsed time : 0.0m 0.0s\n",
      "49700 sample processed. Elapsed time : 0.0m 0.0s\n",
      "49800 sample processed. Elapsed time : 0.0m 0.0s\n",
      "49900 sample processed. Elapsed time : 0.0m 0.0s\n"
     ]
    }
   ],
   "source": [
    "# 토큰화&자모 분리 시작\n",
    "count = 0\n",
    "\n",
    "# 토큰화 결과를 담을 리스트\n",
    "tokenized_data = []\n",
    "\n",
    "for sample in data['Content'].to_list():\n",
    "    start_time = time.time()\n",
    "    tokenzied_sample = tokenize(sample)\n",
    "    tokenized_data.append(tokenzied_sample)\n",
    "    count += 1\n",
    "\n",
    "    # 경과시간 출력\n",
    "    if count % 100 == 0:\n",
    "        end_time = time.time()\n",
    "        elapsed_time = end_time - start_time\n",
    "        print(f'{count} sample processed. Elapsed time : {round(elapsed_time // 60, 0)}m {round(elapsed_time % 60, 0)}s')"
   ]
  },
  {
   "cell_type": "code",
   "execution_count": 37,
   "metadata": {},
   "outputs": [],
   "source": [
    "with open('Part2_Randomized_Data_to_Token.pkl',\"wb\") as f:\n",
    "    pickle.dump(tokenized_data, f)"
   ]
  },
  {
   "cell_type": "code",
   "execution_count": 38,
   "metadata": {},
   "outputs": [],
   "source": [
    "with open(\"Part2_Randomized_Data_to_Token.pkl\",\"rb\") as f:\n",
    "    tokenized_data = pickle.load(f)"
   ]
  },
  {
   "cell_type": "code",
   "execution_count": 40,
   "metadata": {},
   "outputs": [],
   "source": [
    "from gensim.models import Word2Vec\n",
    "\n",
    "# 모델 구성하기(fasttext와 다르게 skip-gram)\n",
    "model = Word2Vec(vector_size=128, window=5, min_count=3,\n",
    "                 sg=1, negative=5)"
   ]
  },
  {
   "cell_type": "code",
   "execution_count": 41,
   "metadata": {},
   "outputs": [
    {
     "name": "stdout",
     "output_type": "stream",
     "text": [
      "CPU times: total: 6.94 s\n",
      "Wall time: 7.29 s\n"
     ]
    }
   ],
   "source": [
    "%%time\n",
    "\n",
    "# 단어집합 만들기\n",
    "model.build_vocab(tokenized_data, progress_per=10000)"
   ]
  },
  {
   "cell_type": "code",
   "execution_count": 42,
   "metadata": {},
   "outputs": [
    {
     "data": {
      "text/plain": [
       "(99129, 128)"
      ]
     },
     "execution_count": 42,
     "metadata": {},
     "output_type": "execute_result"
    }
   ],
   "source": [
    "# 초기 임베딩 행렬의 크기\n",
    "model.wv.vectors.shape"
   ]
  },
  {
   "cell_type": "code",
   "execution_count": 43,
   "metadata": {},
   "outputs": [
    {
     "name": "stdout",
     "output_type": "stream",
     "text": [
      "CPU times: total: 29min 33s\n",
      "Wall time: 11min 6s\n"
     ]
    },
    {
     "data": {
      "text/plain": [
       "(187245146, 257378100)"
      ]
     },
     "execution_count": 43,
     "metadata": {},
     "output_type": "execute_result"
    }
   ],
   "source": [
    "%%time\n",
    "\n",
    "# 임베딩 학습\n",
    "model.train(tokenized_data, total_examples=model.corpus_count, epochs=10)"
   ]
  },
  {
   "cell_type": "code",
   "execution_count": 44,
   "metadata": {},
   "outputs": [],
   "source": [
    "word_vectors = model.wv"
   ]
  },
  {
   "cell_type": "code",
   "execution_count": 45,
   "metadata": {},
   "outputs": [
    {
     "data": {
      "text/plain": [
       "[('이익률', 0.7283915877342224),\n",
       " ('매출액', 0.7119492888450623),\n",
       " ('매출', 0.708001434803009),\n",
       " ('순이익', 0.700469970703125),\n",
       " ('이익', 0.6981784701347351),\n",
       " ('타이어보강재', 0.6545750498771667),\n",
       " ('분기', 0.6368043422698975),\n",
       " ('5118', 0.6311440467834473),\n",
       " ('순손실', 0.6281888484954834),\n",
       " ('감가상각비', 0.6266810894012451)]"
      ]
     },
     "execution_count": 45,
     "metadata": {},
     "output_type": "execute_result"
    }
   ],
   "source": [
    "# 양의 상관관계를 갖는 단어 출력\n",
    "word_vectors.most_similar(positive=[\"영업\"])"
   ]
  },
  {
   "cell_type": "code",
   "execution_count": 46,
   "metadata": {},
   "outputs": [
    {
     "data": {
      "text/plain": [
       "[('수퍼슬림', 0.7119824886322021),\n",
       " ('품목', 0.7087818384170532),\n",
       " ('제품군', 0.7074756622314453),\n",
       " ('펄프몰드', 0.7026435136795044),\n",
       " ('라펜', 0.7013533711433411),\n",
       " ('멀티쿠커', 0.6986954212188721),\n",
       " ('분해기', 0.6975739002227783),\n",
       " ('제조업자', 0.6951971054077148),\n",
       " ('DDIC', 0.6930301785469055),\n",
       " ('벌크', 0.6904259324073792)]"
      ]
     },
     "execution_count": 46,
     "metadata": {},
     "output_type": "execute_result"
    }
   ],
   "source": [
    "# 양의 상관관계를 갖는 단어 출력\n",
    "word_vectors.most_similar(positive=[\"제품\"])"
   ]
  },
  {
   "cell_type": "code",
   "execution_count": 47,
   "metadata": {},
   "outputs": [
    {
     "data": {
      "text/plain": [
       "[('거시', 0.6887995004653931),\n",
       " ('기획원', 0.6616912484169006),\n",
       " ('안보', 0.6521635055541992),\n",
       " ('현오석', 0.6508649587631226),\n",
       " ('추광호', 0.647553026676178),\n",
       " ('성장률', 0.635644257068634),\n",
       " ('사회', 0.6351566314697266),\n",
       " ('폭망', 0.6349054574966431),\n",
       " ('일자리기획관', 0.6342824697494507),\n",
       " ('대외', 0.626801609992981)]"
      ]
     },
     "execution_count": 47,
     "metadata": {},
     "output_type": "execute_result"
    }
   ],
   "source": [
    "# 양의 상관관계를 갖는 단어 출력\n",
    "word_vectors.most_similar(positive=[\"경제\"])"
   ]
  },
  {
   "cell_type": "code",
   "execution_count": 48,
   "metadata": {},
   "outputs": [
    {
     "ename": "KeyError",
     "evalue": "\"Key '뭐야' not present in vocabulary\"",
     "output_type": "error",
     "traceback": [
      "\u001b[1;31m---------------------------------------------------------------------------\u001b[0m",
      "\u001b[1;31mKeyError\u001b[0m                                  Traceback (most recent call last)",
      "Cell \u001b[1;32mIn[48], line 2\u001b[0m\n\u001b[0;32m      1\u001b[0m \u001b[38;5;66;03m# 양의 상관관계를 갖는 단어 출력\u001b[39;00m\n\u001b[1;32m----> 2\u001b[0m \u001b[43mword_vectors\u001b[49m\u001b[38;5;241;43m.\u001b[39;49m\u001b[43mmost_similar\u001b[49m\u001b[43m(\u001b[49m\u001b[43mpositive\u001b[49m\u001b[38;5;241;43m=\u001b[39;49m\u001b[43m[\u001b[49m\u001b[38;5;124;43m\"\u001b[39;49m\u001b[38;5;124;43m뭐야\u001b[39;49m\u001b[38;5;124;43m\"\u001b[39;49m\u001b[43m]\u001b[49m\u001b[43m)\u001b[49m\n",
      "File \u001b[1;32mc:\\Users\\leesa\\anaconda3\\envs\\tf\\lib\\site-packages\\gensim\\models\\keyedvectors.py:841\u001b[0m, in \u001b[0;36mKeyedVectors.most_similar\u001b[1;34m(self, positive, negative, topn, clip_start, clip_end, restrict_vocab, indexer)\u001b[0m\n\u001b[0;32m    838\u001b[0m         weight[idx] \u001b[38;5;241m=\u001b[39m item[\u001b[38;5;241m1\u001b[39m]\n\u001b[0;32m    840\u001b[0m \u001b[38;5;66;03m# compute the weighted average of all keys\u001b[39;00m\n\u001b[1;32m--> 841\u001b[0m mean \u001b[38;5;241m=\u001b[39m \u001b[38;5;28;43mself\u001b[39;49m\u001b[38;5;241;43m.\u001b[39;49m\u001b[43mget_mean_vector\u001b[49m\u001b[43m(\u001b[49m\u001b[43mkeys\u001b[49m\u001b[43m,\u001b[49m\u001b[43m \u001b[49m\u001b[43mweight\u001b[49m\u001b[43m,\u001b[49m\u001b[43m \u001b[49m\u001b[43mpre_normalize\u001b[49m\u001b[38;5;241;43m=\u001b[39;49m\u001b[38;5;28;43;01mTrue\u001b[39;49;00m\u001b[43m,\u001b[49m\u001b[43m \u001b[49m\u001b[43mpost_normalize\u001b[49m\u001b[38;5;241;43m=\u001b[39;49m\u001b[38;5;28;43;01mTrue\u001b[39;49;00m\u001b[43m,\u001b[49m\u001b[43m \u001b[49m\u001b[43mignore_missing\u001b[49m\u001b[38;5;241;43m=\u001b[39;49m\u001b[38;5;28;43;01mFalse\u001b[39;49;00m\u001b[43m)\u001b[49m\n\u001b[0;32m    842\u001b[0m all_keys \u001b[38;5;241m=\u001b[39m [\n\u001b[0;32m    843\u001b[0m     \u001b[38;5;28mself\u001b[39m\u001b[38;5;241m.\u001b[39mget_index(key) \u001b[38;5;28;01mfor\u001b[39;00m key \u001b[38;5;129;01min\u001b[39;00m keys \u001b[38;5;28;01mif\u001b[39;00m \u001b[38;5;28misinstance\u001b[39m(key, _KEY_TYPES) \u001b[38;5;129;01mand\u001b[39;00m \u001b[38;5;28mself\u001b[39m\u001b[38;5;241m.\u001b[39mhas_index_for(key)\n\u001b[0;32m    844\u001b[0m ]\n\u001b[0;32m    846\u001b[0m \u001b[38;5;28;01mif\u001b[39;00m indexer \u001b[38;5;129;01mis\u001b[39;00m \u001b[38;5;129;01mnot\u001b[39;00m \u001b[38;5;28;01mNone\u001b[39;00m \u001b[38;5;129;01mand\u001b[39;00m \u001b[38;5;28misinstance\u001b[39m(topn, \u001b[38;5;28mint\u001b[39m):\n",
      "File \u001b[1;32mc:\\Users\\leesa\\anaconda3\\envs\\tf\\lib\\site-packages\\gensim\\models\\keyedvectors.py:518\u001b[0m, in \u001b[0;36mKeyedVectors.get_mean_vector\u001b[1;34m(self, keys, weights, pre_normalize, post_normalize, ignore_missing)\u001b[0m\n\u001b[0;32m    516\u001b[0m         total_weight \u001b[38;5;241m+\u001b[39m\u001b[38;5;241m=\u001b[39m \u001b[38;5;28mabs\u001b[39m(weights[idx])\n\u001b[0;32m    517\u001b[0m     \u001b[38;5;28;01melif\u001b[39;00m \u001b[38;5;129;01mnot\u001b[39;00m ignore_missing:\n\u001b[1;32m--> 518\u001b[0m         \u001b[38;5;28;01mraise\u001b[39;00m \u001b[38;5;167;01mKeyError\u001b[39;00m(\u001b[38;5;124mf\u001b[39m\u001b[38;5;124m\"\u001b[39m\u001b[38;5;124mKey \u001b[39m\u001b[38;5;124m'\u001b[39m\u001b[38;5;132;01m{\u001b[39;00mkey\u001b[38;5;132;01m}\u001b[39;00m\u001b[38;5;124m'\u001b[39m\u001b[38;5;124m not present in vocabulary\u001b[39m\u001b[38;5;124m\"\u001b[39m)\n\u001b[0;32m    520\u001b[0m \u001b[38;5;28;01mif\u001b[39;00m total_weight \u001b[38;5;241m>\u001b[39m \u001b[38;5;241m0\u001b[39m:\n\u001b[0;32m    521\u001b[0m     mean \u001b[38;5;241m=\u001b[39m mean \u001b[38;5;241m/\u001b[39m total_weight\n",
      "\u001b[1;31mKeyError\u001b[0m: \"Key '뭐야' not present in vocabulary\""
     ]
    }
   ],
   "source": [
    "# 양의 상관관계를 갖는 단어 출력 -> OOV는 처리하지 못함\n",
    "word_vectors.most_similar(positive=[\"뭐야\"])"
   ]
  },
  {
   "cell_type": "code",
   "execution_count": 49,
   "metadata": {},
   "outputs": [
    {
     "data": {
      "text/plain": [
       "[('벌', 0.7716547250747681),\n",
       " ('큰돈', 0.7414222359657288),\n",
       " ('융통하', 0.7124620079994202),\n",
       " ('차입하', 0.7070488929748535),\n",
       " ('푼', 0.7044523358345032),\n",
       " ('빌려주', 0.695864737033844),\n",
       " ('나랏돈', 0.6794853210449219),\n",
       " ('호주머니', 0.6765522956848145),\n",
       " ('탕진하', 0.6724694967269897),\n",
       " ('종잣돈', 0.6709563136100769)]"
      ]
     },
     "execution_count": 49,
     "metadata": {},
     "output_type": "execute_result"
    }
   ],
   "source": [
    "# 양의 상관관계를 갖는 단어 출력\n",
    "word_vectors.most_similar(positive=[\"돈\"])"
   ]
  },
  {
   "cell_type": "code",
   "execution_count": 50,
   "metadata": {},
   "outputs": [
    {
     "data": {
      "text/plain": [
       "[('삼성전자', 0.7720504999160767),\n",
       " ('SDS', 0.728722095489502),\n",
       " ('SDI', 0.7279341220855713),\n",
       " ('LG', 0.6680448651313782),\n",
       " ('삼성전기', 0.6633411049842834),\n",
       " ('이재용', 0.6530425548553467),\n",
       " ('고동진', 0.6511996388435364),\n",
       " ('전영현', 0.6421107053756714),\n",
       " ('삼성그룹', 0.6359306573867798),\n",
       " ('이노텍', 0.6312949657440186)]"
      ]
     },
     "execution_count": 50,
     "metadata": {},
     "output_type": "execute_result"
    }
   ],
   "source": [
    "# 양의 상관관계를 갖는 단어 출력\n",
    "word_vectors.most_similar(positive=[\"삼성\"])"
   ]
  },
  {
   "cell_type": "code",
   "execution_count": 51,
   "metadata": {},
   "outputs": [
    {
     "data": {
      "text/plain": [
       "[('LG전자', 0.7927642464637756),\n",
       " ('이노텍', 0.7612348794937134),\n",
       " ('CNS', 0.741729199886322),\n",
       " ('듀얼업', 0.7292957305908203),\n",
       " ('삼성전자', 0.7215280532836914),\n",
       " ('에어로타워', 0.7136680483818054),\n",
       " ('QNED', 0.6971585750579834),\n",
       " ('가이드봇', 0.6965489387512207),\n",
       " ('프로빔', 0.6921705603599548),\n",
       " ('MiniLED', 0.6918479204177856)]"
      ]
     },
     "execution_count": 51,
     "metadata": {},
     "output_type": "execute_result"
    }
   ],
   "source": [
    "# 양의 상관관계를 갖는 단어 출력\n",
    "word_vectors.most_similar(positive=[\"LG\"])"
   ]
  },
  {
   "cell_type": "code",
   "execution_count": 52,
   "metadata": {},
   "outputs": [
    {
     "data": {
      "text/plain": [
       "[('남군', 0.7065442204475403),\n",
       " ('면접관', 0.6626892685890198),\n",
       " ('고군분투기', 0.6466269493103027),\n",
       " ('상담자', 0.6453847289085388),\n",
       " ('문제아', 0.6440674662590027),\n",
       " ('불합격하', 0.6403819918632507),\n",
       " ('주환', 0.6358957886695862),\n",
       " ('리사코', 0.6355201005935669),\n",
       " ('하숙', 0.6328415274620056),\n",
       " ('가사일', 0.6246992349624634)]"
      ]
     },
     "execution_count": 52,
     "metadata": {},
     "output_type": "execute_result"
    }
   ],
   "source": [
    "# 양의 상관관계를 갖는 단어 출력\n",
    "word_vectors.most_similar(positive=[\"취준생\"])"
   ]
  },
  {
   "cell_type": "code",
   "execution_count": 53,
   "metadata": {},
   "outputs": [
    {
     "ename": "KeyError",
     "evalue": "\"Key 'ㄹㅇ' not present in vocabulary\"",
     "output_type": "error",
     "traceback": [
      "\u001b[1;31m---------------------------------------------------------------------------\u001b[0m",
      "\u001b[1;31mKeyError\u001b[0m                                  Traceback (most recent call last)",
      "Cell \u001b[1;32mIn[53], line 2\u001b[0m\n\u001b[0;32m      1\u001b[0m \u001b[38;5;66;03m# 양의 상관관계를 갖는 단어 출력\u001b[39;00m\n\u001b[1;32m----> 2\u001b[0m \u001b[43mword_vectors\u001b[49m\u001b[38;5;241;43m.\u001b[39;49m\u001b[43mmost_similar\u001b[49m\u001b[43m(\u001b[49m\u001b[43mpositive\u001b[49m\u001b[38;5;241;43m=\u001b[39;49m\u001b[43m[\u001b[49m\u001b[38;5;124;43m\"\u001b[39;49m\u001b[38;5;124;43mㄹㅇ\u001b[39;49m\u001b[38;5;124;43m\"\u001b[39;49m\u001b[43m]\u001b[49m\u001b[43m)\u001b[49m\n",
      "File \u001b[1;32mc:\\Users\\leesa\\anaconda3\\envs\\tf\\lib\\site-packages\\gensim\\models\\keyedvectors.py:841\u001b[0m, in \u001b[0;36mKeyedVectors.most_similar\u001b[1;34m(self, positive, negative, topn, clip_start, clip_end, restrict_vocab, indexer)\u001b[0m\n\u001b[0;32m    838\u001b[0m         weight[idx] \u001b[38;5;241m=\u001b[39m item[\u001b[38;5;241m1\u001b[39m]\n\u001b[0;32m    840\u001b[0m \u001b[38;5;66;03m# compute the weighted average of all keys\u001b[39;00m\n\u001b[1;32m--> 841\u001b[0m mean \u001b[38;5;241m=\u001b[39m \u001b[38;5;28;43mself\u001b[39;49m\u001b[38;5;241;43m.\u001b[39;49m\u001b[43mget_mean_vector\u001b[49m\u001b[43m(\u001b[49m\u001b[43mkeys\u001b[49m\u001b[43m,\u001b[49m\u001b[43m \u001b[49m\u001b[43mweight\u001b[49m\u001b[43m,\u001b[49m\u001b[43m \u001b[49m\u001b[43mpre_normalize\u001b[49m\u001b[38;5;241;43m=\u001b[39;49m\u001b[38;5;28;43;01mTrue\u001b[39;49;00m\u001b[43m,\u001b[49m\u001b[43m \u001b[49m\u001b[43mpost_normalize\u001b[49m\u001b[38;5;241;43m=\u001b[39;49m\u001b[38;5;28;43;01mTrue\u001b[39;49;00m\u001b[43m,\u001b[49m\u001b[43m \u001b[49m\u001b[43mignore_missing\u001b[49m\u001b[38;5;241;43m=\u001b[39;49m\u001b[38;5;28;43;01mFalse\u001b[39;49;00m\u001b[43m)\u001b[49m\n\u001b[0;32m    842\u001b[0m all_keys \u001b[38;5;241m=\u001b[39m [\n\u001b[0;32m    843\u001b[0m     \u001b[38;5;28mself\u001b[39m\u001b[38;5;241m.\u001b[39mget_index(key) \u001b[38;5;28;01mfor\u001b[39;00m key \u001b[38;5;129;01min\u001b[39;00m keys \u001b[38;5;28;01mif\u001b[39;00m \u001b[38;5;28misinstance\u001b[39m(key, _KEY_TYPES) \u001b[38;5;129;01mand\u001b[39;00m \u001b[38;5;28mself\u001b[39m\u001b[38;5;241m.\u001b[39mhas_index_for(key)\n\u001b[0;32m    844\u001b[0m ]\n\u001b[0;32m    846\u001b[0m \u001b[38;5;28;01mif\u001b[39;00m indexer \u001b[38;5;129;01mis\u001b[39;00m \u001b[38;5;129;01mnot\u001b[39;00m \u001b[38;5;28;01mNone\u001b[39;00m \u001b[38;5;129;01mand\u001b[39;00m \u001b[38;5;28misinstance\u001b[39m(topn, \u001b[38;5;28mint\u001b[39m):\n",
      "File \u001b[1;32mc:\\Users\\leesa\\anaconda3\\envs\\tf\\lib\\site-packages\\gensim\\models\\keyedvectors.py:518\u001b[0m, in \u001b[0;36mKeyedVectors.get_mean_vector\u001b[1;34m(self, keys, weights, pre_normalize, post_normalize, ignore_missing)\u001b[0m\n\u001b[0;32m    516\u001b[0m         total_weight \u001b[38;5;241m+\u001b[39m\u001b[38;5;241m=\u001b[39m \u001b[38;5;28mabs\u001b[39m(weights[idx])\n\u001b[0;32m    517\u001b[0m     \u001b[38;5;28;01melif\u001b[39;00m \u001b[38;5;129;01mnot\u001b[39;00m ignore_missing:\n\u001b[1;32m--> 518\u001b[0m         \u001b[38;5;28;01mraise\u001b[39;00m \u001b[38;5;167;01mKeyError\u001b[39;00m(\u001b[38;5;124mf\u001b[39m\u001b[38;5;124m\"\u001b[39m\u001b[38;5;124mKey \u001b[39m\u001b[38;5;124m'\u001b[39m\u001b[38;5;132;01m{\u001b[39;00mkey\u001b[38;5;132;01m}\u001b[39;00m\u001b[38;5;124m'\u001b[39m\u001b[38;5;124m not present in vocabulary\u001b[39m\u001b[38;5;124m\"\u001b[39m)\n\u001b[0;32m    520\u001b[0m \u001b[38;5;28;01mif\u001b[39;00m total_weight \u001b[38;5;241m>\u001b[39m \u001b[38;5;241m0\u001b[39m:\n\u001b[0;32m    521\u001b[0m     mean \u001b[38;5;241m=\u001b[39m mean \u001b[38;5;241m/\u001b[39m total_weight\n",
      "\u001b[1;31mKeyError\u001b[0m: \"Key 'ㄹㅇ' not present in vocabulary\""
     ]
    }
   ],
   "source": [
    "# 양의 상관관계를 갖는 단어 출력 -> OOV\n",
    "word_vectors.most_similar(positive=[\"ㄹㅇ\"])"
   ]
  },
  {
   "cell_type": "code",
   "execution_count": 54,
   "metadata": {},
   "outputs": [
    {
     "data": {
      "text/plain": [
       "[('사죄', 0.7462431192398071),\n",
       " ('사과하', 0.6862327456474304),\n",
       " ('일언반구', 0.6561250686645508),\n",
       " ('돌잡이', 0.6408822536468506),\n",
       " ('송구하', 0.6359294056892395),\n",
       " ('반성', 0.6317437887191772),\n",
       " ('정중히', 0.6313472390174866),\n",
       " ('사죄하', 0.6261341571807861),\n",
       " ('사과문', 0.6226144433021545),\n",
       " ('조의', 0.6162630319595337)]"
      ]
     },
     "execution_count": 54,
     "metadata": {},
     "output_type": "execute_result"
    }
   ],
   "source": [
    "# 양의 상관관계를 갖는 단어 출력\n",
    "word_vectors.most_similar(positive=[\"사과\"])"
   ]
  },
  {
   "cell_type": "code",
   "execution_count": 55,
   "metadata": {},
   "outputs": [
    {
     "data": {
      "text/plain": [
       "[('프로그래밍', 0.7958728671073914),\n",
       " ('학습', 0.7582099437713623),\n",
       " ('비브라스', 0.72721266746521),\n",
       " ('SW', 0.7187265157699585),\n",
       " ('소프트웨어', 0.698569118976593),\n",
       " ('스마트올', 0.6966381072998047),\n",
       " ('지도안', 0.6960616111755371),\n",
       " ('커리큘럼', 0.6907548904418945),\n",
       " ('클래스팅', 0.6904010772705078),\n",
       " ('코듀에이스', 0.6901008486747742)]"
      ]
     },
     "execution_count": 55,
     "metadata": {},
     "output_type": "execute_result"
    }
   ],
   "source": [
    "# 양의 상관관계를 갖는 단어 출력\n",
    "word_vectors.most_similar(positive=[\"코딩\"])"
   ]
  },
  {
   "cell_type": "code",
   "execution_count": 56,
   "metadata": {},
   "outputs": [
    {
     "data": {
      "text/plain": [
       "[('Java', 0.7788122892379761),\n",
       " ('비브라스', 0.7777286767959595),\n",
       " ('캐치잇잉글리시', 0.7768628597259521),\n",
       " ('큐티포파이썬', 0.7767699360847473),\n",
       " ('라즈베리파이', 0.7704955339431763),\n",
       " ('텐서플로', 0.7688829302787781),\n",
       " ('커리어셀', 0.7670580744743347),\n",
       " ('아키텍쳐', 0.7662830352783203),\n",
       " ('엘리먼트', 0.7661173343658447),\n",
       " ('래블업', 0.7649107575416565)]"
      ]
     },
     "execution_count": 56,
     "metadata": {},
     "output_type": "execute_result"
    }
   ],
   "source": [
    "# 양의 상관관계를 갖는 단어 출력\n",
    "word_vectors.most_similar(positive=[\"파이썬\"])"
   ]
  },
  {
   "cell_type": "code",
   "execution_count": 57,
   "metadata": {},
   "outputs": [
    {
     "data": {
      "text/plain": [
       "[('아두이노', 0.6784263253211975),\n",
       " ('HMD', 0.6575337648391724),\n",
       " ('현미경', 0.6518418192863464),\n",
       " ('자이', 0.6494518518447876),\n",
       " ('CNC', 0.6448395252227783),\n",
       " ('ECU', 0.6413640975952148),\n",
       " ('노트북', 0.6381550431251526),\n",
       " ('소프트웨어', 0.6313837170600891),\n",
       " ('PC', 0.6289246082305908),\n",
       " ('CAD', 0.6277445554733276)]"
      ]
     },
     "execution_count": 57,
     "metadata": {},
     "output_type": "execute_result"
    }
   ],
   "source": [
    "# 양의 상관관계를 갖는 단어 출력\n",
    "word_vectors.most_similar(positive=[\"컴퓨터\"])"
   ]
  },
  {
   "cell_type": "code",
   "execution_count": 58,
   "metadata": {},
   "outputs": [
    {
     "data": {
      "text/plain": [
       "[('유사코그룹', 0.709170401096344),\n",
       " ('SAMR', 0.6855641007423401),\n",
       " ('글로벌', 0.6808845400810242),\n",
       " ('파이티움', 0.6770892143249512),\n",
       " ('무역국', 0.6724931001663208),\n",
       " ('조달처', 0.6684592962265015),\n",
       " ('중국', 0.6675516366958618),\n",
       " ('센스타임', 0.6660979986190796),\n",
       " ('중촨웨중', 0.6637479662895203),\n",
       " ('SMIC', 0.6623342037200928)]"
      ]
     },
     "execution_count": 58,
     "metadata": {},
     "output_type": "execute_result"
    }
   ],
   "source": [
    "# 단어 사이의 관계\n",
    "word_vectors.most_similar(positive=[\"미국\", \"기업\"])"
   ]
  },
  {
   "cell_type": "code",
   "execution_count": 59,
   "metadata": {},
   "outputs": [
    {
     "data": {
      "text/plain": [
       "[('중소기업', 0.7042385935783386),\n",
       " ('국제무역통상연구원', 0.6872962117195129),\n",
       " ('중소기업부', 0.6816702485084534),\n",
       " ('전자업체', 0.6691113710403442),\n",
       " ('유사코그룹', 0.6669377684593201),\n",
       " ('대·중견', 0.6665489673614502),\n",
       " ('기업인', 0.6639979481697083),\n",
       " ('트루윈', 0.6620478630065918),\n",
       " ('TYM', 0.6594043970108032),\n",
       " ('기업데이터', 0.6573240160942078)]"
      ]
     },
     "execution_count": 59,
     "metadata": {},
     "output_type": "execute_result"
    }
   ],
   "source": [
    "# 단어 사이의 관계\n",
    "word_vectors.most_similar(positive=[\"한국\", \"기업\"])"
   ]
  },
  {
   "cell_type": "code",
   "execution_count": 60,
   "metadata": {},
   "outputs": [
    {
     "data": {
      "text/plain": [
       "[('예순', 0.6061387062072754),\n",
       " ('저분', 0.6018008589744568),\n",
       " ('탄로', 0.6014621257781982),\n",
       " ('꾸역꾸역', 0.5995429754257202),\n",
       " ('치욕스럽', 0.5875227451324463),\n",
       " ('술친구', 0.5870833992958069),\n",
       " ('서른셋', 0.5835957527160645),\n",
       " ('존경스럽', 0.5826271772384644),\n",
       " ('새언니', 0.5811287760734558),\n",
       " ('반려자', 0.579098105430603)]"
      ]
     },
     "execution_count": 60,
     "metadata": {},
     "output_type": "execute_result"
    }
   ],
   "source": [
    "# 단어 사이의 관계\n",
    "word_vectors.most_similar(positive=[\"사람\", \"나이\"], negative=['노인'])"
   ]
  },
  {
   "cell_type": "code",
   "execution_count": 64,
   "metadata": {},
   "outputs": [],
   "source": [
    "# 5만개로 학습한 Word2Vec 모델 저장\n",
    "model.save(\"Part2_Word2Vec.model\")"
   ]
  }
 ],
 "metadata": {
  "kernelspec": {
   "display_name": "tf",
   "language": "python",
   "name": "python3"
  },
  "language_info": {
   "codemirror_mode": {
    "name": "ipython",
    "version": 3
   },
   "file_extension": ".py",
   "mimetype": "text/x-python",
   "name": "python",
   "nbconvert_exporter": "python",
   "pygments_lexer": "ipython3",
   "version": "3.10.13"
  }
 },
 "nbformat": 4,
 "nbformat_minor": 2
}
