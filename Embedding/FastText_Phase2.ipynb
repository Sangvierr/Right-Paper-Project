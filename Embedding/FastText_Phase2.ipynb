{
  "cells": [
    {
      "cell_type": "code",
      "source": [
        "from google.colab import drive\n",
        "drive.mount('/content/drive')"
      ],
      "metadata": {
        "colab": {
          "base_uri": "https://localhost:8080/"
        },
        "id": "U4jc76p1JDXp",
        "outputId": "c3d19509-4662-4b76-b299-5cebe7d925b3"
      },
      "execution_count": 1,
      "outputs": [
        {
          "output_type": "stream",
          "name": "stdout",
          "text": [
            "Drive already mounted at /content/drive; to attempt to forcibly remount, call drive.mount(\"/content/drive\", force_remount=True).\n"
          ]
        }
      ]
    },
    {
      "cell_type": "markdown",
      "metadata": {
        "id": "KkN10kVyJAcF"
      },
      "source": [
        "## FastText with AiHub Data (Phase 2)\n",
        "- Part 2는 Part 1에서 만든 토큰화&자모 분리 데이터를 바탕으로 FastText 모델을 학습시킵니다."
      ]
    },
    {
      "cell_type": "markdown",
      "metadata": {
        "id": "2-YC2tYgJAcK"
      },
      "source": [
        "[2024.04.04]\n",
        "- [링크](https://museonghwang.github.io/nlp(natural%20language%20processing)/2023/02/10/nlp-kor-fasttext/) 참고하여 자모 분리 및 FastText 학습시도\n",
        "\n",
        "[2024.04.05]\n",
        "- Colab 환경에서 Mecab을 이용하여 약 19만개를 모두 토큰화 및 자모 분리 시도 -> ⚠ 끝날 기미가 안 보임\n",
        "- 클래스 비율에 맞게 데이터 크기를 줄이고(50,00,개) ```바른```으로 토큰화 및 자모 분리 시도\n",
        "- 크기가 줄어든 데이터로 FastText 학습"
      ]
    },
    {
      "cell_type": "markdown",
      "source": [
        "###0. 라이브러리 설치 및 불러오기"
      ],
      "metadata": {
        "id": "tTfgRCOJX8P9"
      }
    },
    {
      "cell_type": "code",
      "source": [
        "# 필요한 패키지 다운로드 - 한글 자모 단위 처리\n",
        "!pip install hgtk"
      ],
      "metadata": {
        "colab": {
          "base_uri": "https://localhost:8080/"
        },
        "id": "y_3O-nn6X-7P",
        "outputId": "3d81fa5a-d67f-4d52-c08b-52b8c2ef6092"
      },
      "execution_count": 2,
      "outputs": [
        {
          "output_type": "stream",
          "name": "stdout",
          "text": [
            "Requirement already satisfied: hgtk in /usr/local/lib/python3.10/dist-packages (0.2.1)\n"
          ]
        }
      ]
    },
    {
      "cell_type": "code",
      "source": [
        "# 필요한 패키지 다운로드 - FastText (gensim과는 다름)\n",
        "!git clone https://github.com/facebookresearch/fastText.git\n",
        "%cd fastText\n",
        "!make\n",
        "!pip install ."
      ],
      "metadata": {
        "colab": {
          "base_uri": "https://localhost:8080/"
        },
        "id": "YRiEXZWVYCZ0",
        "outputId": "d1fd9190-e5c9-48cd-b625-a6238966f10d"
      },
      "execution_count": 3,
      "outputs": [
        {
          "output_type": "stream",
          "name": "stdout",
          "text": [
            "fatal: destination path 'fastText' already exists and is not an empty directory.\n",
            "/content/fastText\n",
            "make: Nothing to be done for 'opt'.\n",
            "Processing /content/fastText\n",
            "  Installing build dependencies ... \u001b[?25l\u001b[?25hdone\n",
            "  Getting requirements to build wheel ... \u001b[?25l\u001b[?25hdone\n",
            "  Preparing metadata (pyproject.toml) ... \u001b[?25l\u001b[?25hdone\n",
            "Requirement already satisfied: pybind11>=2.2 in /usr/local/lib/python3.10/dist-packages (from fasttext==0.9.2) (2.12.0)\n",
            "Requirement already satisfied: setuptools>=0.7.0 in /usr/local/lib/python3.10/dist-packages (from fasttext==0.9.2) (67.7.2)\n",
            "Requirement already satisfied: numpy in /usr/local/lib/python3.10/dist-packages (from fasttext==0.9.2) (1.25.2)\n",
            "Building wheels for collected packages: fasttext\n",
            "  Building wheel for fasttext (pyproject.toml) ... \u001b[?25l\u001b[?25hdone\n",
            "  Created wheel for fasttext: filename=fasttext-0.9.2-cp310-cp310-linux_x86_64.whl size=4239625 sha256=fcf70099750284704dabefe5813aea39fad0884cc2d0a420d2b9ccc91e14e704\n",
            "  Stored in directory: /tmp/pip-ephem-wheel-cache-5gk8fice/wheels/8b/05/af/3cfae069d904597d44b309c956601b611bdf8967bcbe968903\n",
            "Successfully built fasttext\n",
            "Installing collected packages: fasttext\n",
            "  Attempting uninstall: fasttext\n",
            "    Found existing installation: fasttext 0.9.2\n",
            "    Uninstalling fasttext-0.9.2:\n",
            "      Successfully uninstalled fasttext-0.9.2\n",
            "Successfully installed fasttext-0.9.2\n"
          ]
        }
      ]
    },
    {
      "cell_type": "code",
      "execution_count": 4,
      "metadata": {
        "id": "-S1LCEcOMUZv"
      },
      "outputs": [],
      "source": [
        "import time\n",
        "import pandas as pd\n",
        "import numpy as np\n",
        "import matplotlib.pyplot as plt\n",
        "from collections import Counter\n",
        "from tqdm import tqdm\n",
        "import pickle\n",
        "import hgtk\n",
        "import fasttext"
      ]
    },
    {
      "cell_type": "markdown",
      "source": [
        "### 1. 토큰화&자모 분리 완료 데이터 불러오기"
      ],
      "metadata": {
        "id": "Ax4sswRHY1Og"
      }
    },
    {
      "cell_type": "code",
      "source": [
        "with open(\"/content/drive/MyDrive/Projects/random_p2_tokenized_data.pkl\",\"rb\") as f:\n",
        "    tokenized_data = pickle.load(f)"
      ],
      "metadata": {
        "id": "Rn5FLlhdY_m9"
      },
      "execution_count": 5,
      "outputs": []
    },
    {
      "cell_type": "code",
      "source": [
        "# 확인\n",
        "tokenized_data[0][:10]"
      ],
      "metadata": {
        "colab": {
          "base_uri": "https://localhost:8080/"
        },
        "id": "PepHqb0uZLac",
        "outputId": "1c85c074-660e-456a-9634-b2405a260f31"
      },
      "execution_count": 6,
      "outputs": [
        {
          "output_type": "execute_result",
          "data": {
            "text/plain": [
              "['ㅇㅏㅍ',\n",
              " 'ㅇㅡ-ㄹㅗ-',\n",
              " 'ㅅㅏ-ㅇㅓㅂㅈㅏ-',\n",
              " 'ㄱㅏ-',\n",
              " 'ㅅㅡ-ㅁㅏ-ㅌㅡ-ㅍㅗㄴ',\n",
              " 'ㅇㅣ-ㄴㅏ-',\n",
              " 'USB',\n",
              " 'ㄷㅡㅇ',\n",
              " 'ㅇㅔ-',\n",
              " 'ㅌㅏ-ㅇㅣㄴ']"
            ]
          },
          "metadata": {},
          "execution_count": 6
        }
      ]
    },
    {
      "cell_type": "markdown",
      "source": [
        "### 2. 필요한 함수 정의"
      ],
      "metadata": {
        "id": "nLXBmYLPZK-Y"
      }
    },
    {
      "cell_type": "code",
      "execution_count": 7,
      "metadata": {
        "id": "tX449fRTO74k"
      },
      "outputs": [],
      "source": [
        "def word_to_jamo(token):\n",
        "    def to_special_token(jamo):\n",
        "        if not jamo:\n",
        "            return '-'\n",
        "        else:\n",
        "            return jamo\n",
        "\n",
        "    decomposed_token = ''\n",
        "    for char in token:\n",
        "        try:\n",
        "            # char(음절)을 초성, 중성, 종성으로 분리\n",
        "            cho, jung, jong = hgtk.letter.decompose(char)\n",
        "\n",
        "            # 자모가 빈 문자일 경우 특수문자 -로 대체\n",
        "            cho = to_special_token(cho)\n",
        "            jung = to_special_token(jung)\n",
        "            jong = to_special_token(jong)\n",
        "            decomposed_token = decomposed_token + cho + jung + jong\n",
        "\n",
        "        # 만약 char(음절)이 한글이 아닐 경우 자모를 나누지 않고 추가\n",
        "        except Exception as exception:\n",
        "            if type(exception).__name__ == 'NotHangulException':\n",
        "                decomposed_token += char\n",
        "\n",
        "    # 단어 토큰의 자모 단위 분리 결과를 추가\n",
        "    return decomposed_token"
      ]
    },
    {
      "cell_type": "code",
      "execution_count": 8,
      "metadata": {
        "id": "ZPkN3KtTQeLE"
      },
      "outputs": [],
      "source": [
        "def jamo_to_word(jamo_sequence):\n",
        "    tokenized_jamo = []\n",
        "    index = 0\n",
        "\n",
        "    # 1. 초기 입력\n",
        "    # jamo_sequence = 'ㄴㅏㅁㄷㅗㅇㅅㅐㅇ'\n",
        "\n",
        "    while index < len(jamo_sequence):\n",
        "        # 문자가 한글(정상적인 자모)이 아닐 경우\n",
        "        if not hgtk.checker.is_hangul(jamo_sequence[index]):\n",
        "            tokenized_jamo.append(jamo_sequence[index])\n",
        "            index = index + 1\n",
        "\n",
        "        # 문자가 정상적인 자모라면 초성, 중성, 종성을 하나의 토큰으로 간주.\n",
        "        else:\n",
        "            tokenized_jamo.append(jamo_sequence[index:index + 3])\n",
        "            index = index + 3\n",
        "\n",
        "    # 2. 자모 단위 토큰화 완료\n",
        "    # tokenized_jamo : ['ㄴㅏㅁ', 'ㄷㅗㅇ', 'ㅅㅐㅇ']\n",
        "\n",
        "    word = ''\n",
        "    try:\n",
        "        for jamo in tokenized_jamo:\n",
        "\n",
        "            # 초성, 중성, 종성의 묶음으로 추정되는 경우\n",
        "            if len(jamo) == 3:\n",
        "                if jamo[2] == \"-\":\n",
        "                    # 종성이 존재하지 않는 경우\n",
        "                    word = word + hgtk.letter.compose(jamo[0], jamo[1])\n",
        "                else:\n",
        "                    # 종성이 존재하는 경우\n",
        "                    word = word + hgtk.letter.compose(jamo[0], jamo[1], jamo[2])\n",
        "            # 한글이 아닌 경우\n",
        "            else:\n",
        "                word = word + jamo\n",
        "\n",
        "    # 복원 중(hgtk.letter.compose) 에러 발생 시 초기 입력 리턴.\n",
        "    # 복원이 불가능한 경우 예시) 'ㄴ!ㅁㄷㅗㅇㅅㅐㅇ'\n",
        "    except Exception as exception:\n",
        "        if type(exception).__name__ == 'NotHangulException':\n",
        "            return jamo_sequence\n",
        "\n",
        "    return word"
      ]
    },
    {
      "cell_type": "code",
      "execution_count": null,
      "metadata": {
        "id": "Ow37zJxoQ6Wo"
      },
      "outputs": [],
      "source": [
        "# 지금은 적용할 필요가 없어서 넘어가겠습니다.\n",
        "result = []\n",
        "for w in tokenized_data[0]:\n",
        "    result.append(jamo_to_word(w))"
      ]
    },
    {
      "cell_type": "markdown",
      "metadata": {
        "id": "HbnBIjQ6Re46"
      },
      "source": [
        "### 3. FastText"
      ]
    },
    {
      "cell_type": "code",
      "execution_count": 9,
      "metadata": {
        "colab": {
          "base_uri": "https://localhost:8080/"
        },
        "id": "D_-k_czrRmDW",
        "outputId": "b902687e-3036-409d-ebe6-4dbcaca79033"
      },
      "outputs": [
        {
          "output_type": "stream",
          "name": "stderr",
          "text": [
            "100%|██████████| 49999/49999 [00:03<00:00, 14512.12 line/s]\n"
          ]
        }
      ],
      "source": [
        "# 먼저 훈련데이터를 txt 파일로 만들겠습니다.\n",
        "with open('tokenized_data.txt', 'w', encoding='utf-8-sig') as out:\n",
        "    for line in tqdm(tokenized_data, unit=' line'):\n",
        "        out.write(' '.join(line) + '\\n')"
      ]
    },
    {
      "cell_type": "code",
      "execution_count": 10,
      "metadata": {
        "id": "5cuN9rMGRvOQ"
      },
      "outputs": [],
      "source": [
        "# skip-gram과 cbow 중에서 cbow를 시도해보겠습니다.\n",
        "model = fasttext.train_unsupervised('tokenized_data.txt', model='cbow')\n",
        "model.save_model(\"fasttext.bin\") # 모델 저장\n",
        "model = fasttext.load_model(\"fasttext.bin\") # 모델 로드"
      ]
    },
    {
      "cell_type": "markdown",
      "metadata": {
        "id": "RmSeYgtFSFIG"
      },
      "source": [
        "- 이렇게 모델 학습이 완료되었습니다. 35분 정도 걸렸습니다. 이제 임베딩 벡터를 확인해보겠습니다.\n",
        "- 이때 자모 단위로 학습했기 때문에 모델의 입력도 자모 단위로 입력해야 합니다."
      ]
    },
    {
      "cell_type": "code",
      "execution_count": 11,
      "metadata": {
        "colab": {
          "base_uri": "https://localhost:8080/"
        },
        "id": "wA3otAt9SDyb",
        "outputId": "0b9f82d6-0679-4ffc-c2a6-85d5116d8a8d"
      },
      "outputs": [
        {
          "output_type": "execute_result",
          "data": {
            "text/plain": [
              "array([-1.86826146e+00,  1.21995342e+00, -1.94796753e+00,  3.98976952e-01,\n",
              "        1.75177324e+00,  1.77325368e-01,  1.80364168e+00, -1.39277279e-01,\n",
              "       -9.20918941e-01, -1.94111896e+00,  2.20001578e+00,  1.22023857e+00,\n",
              "        2.80741811e+00,  1.69143713e+00,  2.51078629e+00, -9.93556499e-01,\n",
              "        2.62929749e+00, -1.20448089e+00, -8.07328448e-02, -8.44077885e-01,\n",
              "        5.13169527e-01,  2.64756799e-01, -1.84092951e+00,  2.84274578e+00,\n",
              "       -2.00315523e+00, -1.34603095e+00,  1.54997632e-01, -1.71831012e+00,\n",
              "        2.52326012e+00,  2.15441748e-01,  8.77778113e-01,  1.85453549e-01,\n",
              "       -1.86104262e+00,  1.87952912e+00, -1.19333029e+00, -1.03605509e+00,\n",
              "        2.59505582e+00, -2.16041461e-01, -1.01596808e+00, -1.17059875e+00,\n",
              "        3.25354934e+00,  2.33785820e+00, -2.44341395e-03, -6.69884562e-01,\n",
              "       -1.18245673e+00,  1.80434382e+00, -5.54258525e-01, -1.27541590e+00,\n",
              "        9.71631885e-01, -5.79150736e-01,  1.46131158e+00, -5.92421532e-01,\n",
              "       -8.87582779e-01,  1.54398453e+00, -1.79694653e+00,  5.81178367e-01,\n",
              "       -3.41462159e+00,  2.33845234e+00, -1.97540390e+00,  9.17856038e-01,\n",
              "       -3.00818586e+00, -1.37193477e+00, -2.65337515e+00, -2.03840971e+00,\n",
              "       -1.66248333e+00, -1.14894845e-01,  1.42568696e+00,  2.70580506e+00,\n",
              "       -5.72294950e-01, -1.62482530e-01, -4.50509712e-02, -4.36122805e-01,\n",
              "       -8.12004626e-01, -2.79951358e+00,  3.39367437e+00,  3.89706314e-01,\n",
              "       -3.99725342e+00, -7.59425223e-01,  2.75956702e+00,  6.17094636e-01,\n",
              "        1.31102121e+00, -4.37545866e-01,  9.28331554e-01, -1.90775901e-01,\n",
              "        1.04969883e+00,  1.50926375e+00,  5.71646057e-02,  1.76424384e+00,\n",
              "       -4.33974117e-01, -7.20734417e-01,  3.78018975e-01,  3.51725245e+00,\n",
              "        2.81276298e+00, -2.58833385e+00, -1.20434368e+00,  5.52140713e-01,\n",
              "       -2.08586931e+00,  2.88929296e+00, -6.47622585e-01,  6.30289197e-01],\n",
              "      dtype=float32)"
            ]
          },
          "metadata": {},
          "execution_count": 11
        }
      ],
      "source": [
        "# 임베딩 결과 확인\n",
        "model[word_to_jamo('영업')]"
      ]
    },
    {
      "cell_type": "code",
      "execution_count": 12,
      "metadata": {
        "colab": {
          "base_uri": "https://localhost:8080/"
        },
        "id": "DRU9P-qxSXf9",
        "outputId": "b9ee2bf4-a53e-4705-bd26-b7504e4296e0"
      },
      "outputs": [
        {
          "output_type": "execute_result",
          "data": {
            "text/plain": [
              "[(0.8996255993843079, 'ㅅㅜㄴㅇㅕㅇㅇㅓㅂ'),\n",
              " (0.8723154664039612, 'ㅇㅕㅇㅇㅓㅂㅇㅣㄱ'),\n",
              " (0.8520394563674927, 'ㅇㅕㅇㅇㅓㅂㅁㅏㅇ'),\n",
              " (0.8319339156150818, 'ㅇㅕㅇㅇㅓㅂㅈㅣㄱ'),\n",
              " (0.8309779763221741, 'ㅇㅕㅇㅇㅓㅂㅇㅣㄹ'),\n",
              " (0.8071931600570679, 'ㅇㅕㅇㅇㅓㅂㅈㅜ-'),\n",
              " (0.7987553477287292, 'ㅇㅕㅇㅇㅓㅂㄹㅕㄱ'),\n",
              " (0.7913650274276733, 'ㅇㅕㅇㅇㅓㅂㅂㅜ-'),\n",
              " (0.7566759586334229, 'ㅇㅕㅇㅇㅓㅂㅈㅓㅁ'),\n",
              " (0.7537907958030701, 'ㅇㅕㅇㅇㅓㅂㅅㅗ-')]"
            ]
          },
          "metadata": {},
          "execution_count": 12
        }
      ],
      "source": [
        "# 영업과 가장 가까운 단어 10개\n",
        "model.get_nearest_neighbors(word_to_jamo('영업'), k=10)"
      ]
    },
    {
      "cell_type": "code",
      "execution_count": 13,
      "metadata": {
        "id": "-y4HP8LqStoJ"
      },
      "outputs": [],
      "source": [
        "# 결과를 보기 좋게 다시 단어로 만드는 함수\n",
        "def transform(word_sequence):\n",
        "    return [(jamo_to_word(word), similarity) for (similarity, word) in word_sequence]"
      ]
    },
    {
      "cell_type": "code",
      "execution_count": 14,
      "metadata": {
        "colab": {
          "base_uri": "https://localhost:8080/"
        },
        "id": "voDvO44ES0qp",
        "outputId": "14a4b981-b5be-48e0-bfb1-8d3409e77240"
      },
      "outputs": [
        {
          "output_type": "execute_result",
          "data": {
            "text/plain": [
              "[('순영업', 0.8996255993843079),\n",
              " ('영업익', 0.8723154664039612),\n",
              " ('영업망', 0.8520394563674927),\n",
              " ('영업직', 0.8319339156150818),\n",
              " ('영업일', 0.8309779763221741),\n",
              " ('영업주', 0.8071931600570679),\n",
              " ('영업력', 0.7987553477287292),\n",
              " ('영업부', 0.7913650274276733),\n",
              " ('영업점', 0.7566759586334229),\n",
              " ('영업소', 0.7537907958030701)]"
            ]
          },
          "metadata": {},
          "execution_count": 14
        }
      ],
      "source": [
        "transform(model.get_nearest_neighbors(word_to_jamo('영업'), k=10))"
      ]
    },
    {
      "cell_type": "markdown",
      "source": [
        "- 영업이라는 단어를 포함하는 경우가 대부분입니다."
      ],
      "metadata": {
        "id": "bWLRmi6wjVmm"
      }
    },
    {
      "cell_type": "code",
      "execution_count": 15,
      "metadata": {
        "colab": {
          "base_uri": "https://localhost:8080/"
        },
        "id": "ZB2FFEjhTIsV",
        "outputId": "0086c8dd-a506-4288-dfba-38b2de075dc9"
      },
      "outputs": [
        {
          "output_type": "execute_result",
          "data": {
            "text/plain": [
              "[('수제품', 0.9000310897827148),\n",
              " ('완제품', 0.8986680507659912),\n",
              " ('유제품', 0.8916977643966675),\n",
              " ('복제품', 0.8841310143470764),\n",
              " ('제품명', 0.874809205532074),\n",
              " ('시제품', 0.8734177350997925),\n",
              " ('제품군', 0.861941397190094),\n",
              " ('제품력', 0.858100950717926),\n",
              " ('가전제품', 0.8364369869232178),\n",
              " ('규격품', 0.7852669954299927)]"
            ]
          },
          "metadata": {},
          "execution_count": 15
        }
      ],
      "source": [
        "# '제품'라는 단어로도 시도\n",
        "transform(model.get_nearest_neighbors(word_to_jamo('제품'), k=10))"
      ]
    },
    {
      "cell_type": "markdown",
      "source": [
        "- 제품이라는 단어를 포함하는 경우가 대부분입니다."
      ],
      "metadata": {
        "id": "0HIdKgMtjab7"
      }
    },
    {
      "cell_type": "code",
      "execution_count": 16,
      "metadata": {
        "colab": {
          "base_uri": "https://localhost:8080/"
        },
        "id": "n64-cbcETRGb",
        "outputId": "6aefbe56-e060-4c66-852d-7d56a6002348"
      },
      "outputs": [
        {
          "output_type": "execute_result",
          "data": {
            "text/plain": [
              "[('경제통', 0.9000993371009827),\n",
              " ('경제가', 0.8897873759269714),\n",
              " ('경제를', 0.8887243270874023),\n",
              " ('경제적', 0.8816461563110352),\n",
              " ('경제사', 0.8713679313659668),\n",
              " ('경제국', 0.8613507747650146),\n",
              " ('경제지', 0.8577458262443542),\n",
              " ('경제난', 0.8505710363388062),\n",
              " ('경제부', 0.8349419832229614),\n",
              " ('경제과', 0.8226110339164734)]"
            ]
          },
          "metadata": {},
          "execution_count": 16
        }
      ],
      "source": [
        "# '경제'라는 단어로도 시도\n",
        "transform(model.get_nearest_neighbors(word_to_jamo('경제'), k=10))"
      ]
    },
    {
      "cell_type": "markdown",
      "source": [
        "- 경제라는 단어를 포함하는 경우가 대부분입니다.\n",
        "- 이런 경우는 대부분 토큰화 과정에서 접미사로 분리되지 않는 하나의 단어이기 때문에 그럴 것입니다.\n",
        "- 결과는 상당히 좋은 것 같습니다."
      ],
      "metadata": {
        "id": "YjnZNeoRjfb4"
      }
    },
    {
      "cell_type": "code",
      "source": [
        "# '뭐야'라는 단어로도 시도(이상한 단어의 결과는?)\n",
        "transform(model.get_nearest_neighbors(word_to_jamo('뭐야'), k=10))"
      ],
      "metadata": {
        "colab": {
          "base_uri": "https://localhost:8080/"
        },
        "id": "FO_abOLIjpu6",
        "outputId": "843b58db-ad81-44de-c76c-5b989afb7e89"
      },
      "execution_count": 18,
      "outputs": [
        {
          "output_type": "execute_result",
          "data": {
            "text/plain": [
              "[('되야', 0.8090258836746216),\n",
              " ('려야', 0.7790184020996094),\n",
              " ('어야지', 0.7470511198043823),\n",
              " ('어야', 0.7273123860359192),\n",
              " ('그제서야', 0.7126782536506653),\n",
              " ('그거', 0.7099749445915222),\n",
              " ('이야', 0.7076672911643982),\n",
              " ('어쨌든', 0.6965583562850952),\n",
              " ('뭐', 0.6956238150596619),\n",
              " ('아야지', 0.6948559284210205)]"
            ]
          },
          "metadata": {},
          "execution_count": 18
        }
      ]
    },
    {
      "cell_type": "markdown",
      "source": [
        "- 되야라는 결과가 나온 것은 상당히 재밌는것 같습니다."
      ],
      "metadata": {
        "id": "1sGZrcFZj6om"
      }
    },
    {
      "cell_type": "code",
      "source": [
        "# '이거'라는 단어로도 시도\n",
        "transform(model.get_nearest_neighbors(word_to_jamo('이거'), k=10))"
      ],
      "metadata": {
        "colab": {
          "base_uri": "https://localhost:8080/"
        },
        "id": "vzEL9JSLj-1S",
        "outputId": "86422d49-edb5-4e80-b923-871fbb642fd1"
      },
      "execution_count": 19,
      "outputs": [
        {
          "output_type": "execute_result",
          "data": {
            "text/plain": [
              "[('그거', 0.8890333771705627),\n",
              " ('이것', 0.8240786790847778),\n",
              " ('이것저것', 0.8236950635910034),\n",
              " ('그러니까', 0.7796077728271484),\n",
              " ('라거', 0.7678987383842468),\n",
              " ('이러', 0.7427816390991211),\n",
              " ('거', 0.7314772605895996),\n",
              " ('그러면', 0.7308693528175354),\n",
              " ('그런데', 0.729199230670929),\n",
              " ('더라니까', 0.7267804741859436)]"
            ]
          },
          "metadata": {},
          "execution_count": 19
        }
      ]
    },
    {
      "cell_type": "markdown",
      "source": [
        "- 이거의 유사한 단어는 상당히 잘 나왔습니다."
      ],
      "metadata": {
        "id": "iOZbDSUPkCjk"
      }
    },
    {
      "cell_type": "code",
      "source": [
        "# '돈'이라는 단어로도 시도\n",
        "transform(model.get_nearest_neighbors(word_to_jamo('돈'), k=20))"
      ],
      "metadata": {
        "colab": {
          "base_uri": "https://localhost:8080/"
        },
        "id": "Ox8-qP_wkEyo",
        "outputId": "8dfac5f1-aa70-48f4-cc95-1bdcf74d5a89"
      },
      "execution_count": 21,
      "outputs": [
        {
          "output_type": "execute_result",
          "data": {
            "text/plain": [
              "[('뒷돈', 0.8545513153076172),\n",
              " ('돈돈', 0.838449239730835),\n",
              " ('돈쭐', 0.8188746571540833),\n",
              " ('쌈짓돈', 0.809073269367218),\n",
              " ('종잣돈', 0.7969065308570862),\n",
              " ('큰돈', 0.7603912949562073),\n",
              " ('돈줄', 0.7590497732162476),\n",
              " ('회삿돈', 0.7489598989486694),\n",
              " ('떼돈', 0.7423655390739441),\n",
              " ('뭉칫돈', 0.7418103218078613),\n",
              " ('목돈', 0.7406257390975952),\n",
              " ('나랏돈', 0.7313678860664368),\n",
              " ('용돈', 0.7221038937568665),\n",
              " ('세뱃돈', 0.7195857167243958),\n",
              " ('푼돈', 0.7183853983879089),\n",
              " ('여윳돈', 0.7043404579162598),\n",
              " ('한돈', 0.7013489603996277),\n",
              " ('거금', 0.700924813747406),\n",
              " ('잔돈', 0.6924550533294678),\n",
              " ('웃돈', 0.6880329847335815)]"
            ]
          },
          "metadata": {},
          "execution_count": 21
        }
      ]
    },
    {
      "cell_type": "code",
      "source": [
        "# '삼성'이라는 단어로도 시도\n",
        "transform(model.get_nearest_neighbors(word_to_jamo('삼성'), k=10))"
      ],
      "metadata": {
        "colab": {
          "base_uri": "https://localhost:8080/"
        },
        "id": "__YeJCaHkMDG",
        "outputId": "9d01d071-a896-4972-93ba-1f281e8960e0"
      },
      "execution_count": 22,
      "outputs": [
        {
          "output_type": "execute_result",
          "data": {
            "text/plain": [
              "[('삼성SDS', 0.9135909080505371),\n",
              " ('삼성SDI', 0.9012464880943298),\n",
              " ('삼성홀', 0.8562483191490173),\n",
              " ('삼성덱스', 0.8453385829925537),\n",
              " ('삼성가', 0.8334404230117798),\n",
              " ('삼성에스원', 0.8255721926689148),\n",
              " ('삼성역', 0.8245302438735962),\n",
              " ('뉴삼성', 0.8222330808639526),\n",
              " ('삼성그룹', 0.8053971529006958),\n",
              " ('삼성닷컴', 0.8044605255126953)]"
            ]
          },
          "metadata": {},
          "execution_count": 22
        }
      ]
    },
    {
      "cell_type": "markdown",
      "source": [
        "- 삼성의 의미를 정확하게 파악하고 있는 것 같습니다."
      ],
      "metadata": {
        "id": "CxbxXnbKkRYK"
      }
    },
    {
      "cell_type": "code",
      "source": [
        "# 'LG'이라는 단어로도 시도 (영어는?)\n",
        "transform(model.get_nearest_neighbors(word_to_jamo('LG'), k=10))"
      ],
      "metadata": {
        "colab": {
          "base_uri": "https://localhost:8080/"
        },
        "id": "dAgqR_13kUJC",
        "outputId": "9c24dcc0-4656-4a27-ae78-4a22dcdb87f5"
      },
      "execution_count": 23,
      "outputs": [
        {
          "output_type": "execute_result",
          "data": {
            "text/plain": [
              "[('LGU', 0.9459348917007446),\n",
              " ('LGD', 0.9422498345375061),\n",
              " ('LGBT', 0.9007177352905273),\n",
              " ('LGBTQ', 0.839914858341217),\n",
              " ('LG엔솔', 0.7915444374084473),\n",
              " ('LG이노텍', 0.7283596992492676),\n",
              " ('SK', 0.6889216899871826),\n",
              " ('SKT', 0.6878361701965332),\n",
              " ('SKB', 0.6848371028900146),\n",
              " ('DS', 0.6800515055656433)]"
            ]
          },
          "metadata": {},
          "execution_count": 23
        }
      ]
    },
    {
      "cell_type": "markdown",
      "source": [
        "- LG와 유사한 단어가 LGU, LGD입니다. 각각 유플러스, 디스플레이 같습니다."
      ],
      "metadata": {
        "id": "t0bwUqQJkbB2"
      }
    },
    {
      "cell_type": "code",
      "source": [
        "# '취준생'이라는 단어로도 시도\n",
        "transform(model.get_nearest_neighbors(word_to_jamo('취준생'), k=10))"
      ],
      "metadata": {
        "colab": {
          "base_uri": "https://localhost:8080/"
        },
        "id": "0u9TzGpWki96",
        "outputId": "d0e498bb-a43f-464a-905a-f2a06df26cfe"
      },
      "execution_count": 24,
      "outputs": [
        {
          "output_type": "execute_result",
          "data": {
            "text/plain": [
              "[('취준', 0.7517503499984741),\n",
              " ('숙명여고', 0.6552878022193909),\n",
              " ('취중', 0.6549308896064758),\n",
              " ('현생', 0.6450059413909912),\n",
              " ('갓생', 0.6357482075691223),\n",
              " ('청취자', 0.6291627287864685),\n",
              " ('영생', 0.6239936947822571),\n",
              " ('전생', 0.6236934661865234),\n",
              " ('취직', 0.6210567355155945),\n",
              " ('여고', 0.6192942261695862)]"
            ]
          },
          "metadata": {},
          "execution_count": 24
        }
      ]
    },
    {
      "cell_type": "code",
      "source": [
        "# 'ㄹㅇ'이라는 단어로도 시도\n",
        "transform(model.get_nearest_neighbors(word_to_jamo('ㄹㅇ'), k=10))"
      ],
      "metadata": {
        "colab": {
          "base_uri": "https://localhost:8080/"
        },
        "id": "0c8P0DeZkpX0",
        "outputId": "70633f51-64ed-4a8b-caf5-223d23b23c11"
      },
      "execution_count": 25,
      "outputs": [
        {
          "output_type": "execute_result",
          "data": {
            "text/plain": [
              "[('ㄹ--', 0.8847793936729431),\n",
              " ('ㄹ--ㄹㅗ-', 0.7879843711853027),\n",
              " ('ㄹ--ㄲㅔ-', 0.7500530481338501),\n",
              " ('ㄹ--ㄴㅡㄴㅈㅣ-', 0.737320065498352),\n",
              " ('ㄹ--ㄹㅏ-', 0.7352838516235352),\n",
              " ('ㄹ--ㄹㅐ-', 0.7019034028053284),\n",
              " ('ㄹ--ㄹㅕ-ㅁㅕㄴ', 0.6997913718223572),\n",
              " ('ㄹ--ㅈㅣ-', 0.6932205557823181),\n",
              " ('ㄹ--ㅈㅣ-ㄹㅏ-ㄷㅗ-', 0.6876563429832458),\n",
              " ('게끔', 0.6822352409362793)]"
            ]
          },
          "metadata": {},
          "execution_count": 25
        }
      ]
    },
    {
      "cell_type": "markdown",
      "source": [
        "- 이런 단어는 전혀 못 맞추네요. 데이터 전처리할 때 단어가 아닌 경우를 제거해서 아예 학습되지 않게 하는게 좋을 것 같습니다."
      ],
      "metadata": {
        "id": "dxVbJ-ipksW7"
      }
    },
    {
      "cell_type": "code",
      "source": [
        "# '사과'라는 단어로도 시도 (한 단어에 여러 뜻이 있다면?)\n",
        "transform(model.get_nearest_neighbors(word_to_jamo('사과'), k=10))"
      ],
      "metadata": {
        "colab": {
          "base_uri": "https://localhost:8080/"
        },
        "id": "mcWOG0aLk0D-",
        "outputId": "5117454d-028e-43e0-ab3c-0cffa84b0d37"
      },
      "execution_count": 26,
      "outputs": [
        {
          "output_type": "execute_result",
          "data": {
            "text/plain": [
              "[('사과문', 0.8473402857780457),\n",
              " ('사과하', 0.7733989953994751),\n",
              " ('사과나무', 0.747269868850708),\n",
              " ('다과', 0.7471315264701843),\n",
              " ('타과', 0.7384236454963684),\n",
              " ('의사과', 0.7354158163070679),\n",
              " ('수사과', 0.6987043619155884),\n",
              " ('형사과', 0.6810932755470276),\n",
              " ('공개사과', 0.6581310629844666),\n",
              " ('사죄', 0.6382438540458679)]"
            ]
          },
          "metadata": {},
          "execution_count": 26
        }
      ]
    },
    {
      "cell_type": "markdown",
      "source": [
        "- 먹는 사과와 사과하다에서 사과가 비슷한 유사도를 가질 것이라고 생각했는데 아니네요."
      ],
      "metadata": {
        "id": "T6TUqMdzk8XY"
      }
    },
    {
      "cell_type": "code",
      "source": [
        "transform(model.get_nearest_neighbors(word_to_jamo('코딩'), k=10))"
      ],
      "metadata": {
        "colab": {
          "base_uri": "https://localhost:8080/"
        },
        "id": "6XPxUyEjk7-i",
        "outputId": "9778c24b-821b-42b8-c5f6-eef9f0c9df95"
      },
      "execution_count": 27,
      "outputs": [
        {
          "output_type": "execute_result",
          "data": {
            "text/plain": [
              "[('인코딩', 0.8606064915657043),\n",
              " ('레코딩', 0.813941240310669),\n",
              " ('초딩', 0.7815424799919128),\n",
              " ('로딩', 0.7692169547080994),\n",
              " ('딩', 0.76865553855896),\n",
              " ('키딩', 0.7457128763198853),\n",
              " ('워딩', 0.7448025345802307),\n",
              " ('튜닝', 0.7425268292427063),\n",
              " ('코디스', 0.7367035746574402),\n",
              " ('코칭', 0.7263870239257812)]"
            ]
          },
          "metadata": {},
          "execution_count": 27
        }
      ]
    },
    {
      "cell_type": "code",
      "source": [
        "transform(model.get_nearest_neighbors(word_to_jamo('파이썬'), k=10))"
      ],
      "metadata": {
        "colab": {
          "base_uri": "https://localhost:8080/"
        },
        "id": "KLVcnO49k6Ew",
        "outputId": "0d83465b-de23-4b22-ae2b-e67d97ebe9d6"
      },
      "execution_count": 28,
      "outputs": [
        {
          "output_type": "execute_result",
          "data": {
            "text/plain": [
              "[('파이빅스', 0.8797593116760254),\n",
              " ('파이퍼', 0.8584555983543396),\n",
              " ('파이트', 0.8548797965049744),\n",
              " ('파파이스', 0.8445871472358704),\n",
              " ('엘파이스', 0.8410310745239258),\n",
              " ('파이버', 0.8409584164619446),\n",
              " ('파이어', 0.8364558815956116),\n",
              " ('파이팅', 0.8315353393554688),\n",
              " ('파이선', 0.8306028842926025),\n",
              " ('파이어킴', 0.8208320736885071)]"
            ]
          },
          "metadata": {},
          "execution_count": 28
        }
      ]
    },
    {
      "cell_type": "code",
      "source": [
        "transform(model.get_nearest_neighbors(word_to_jamo('컴퓨터'), k=10))"
      ],
      "metadata": {
        "colab": {
          "base_uri": "https://localhost:8080/"
        },
        "id": "0ETFL6S7lIDr",
        "outputId": "8c6027c5-bd35-4afc-a8bf-32256c5bfb04"
      },
      "execution_count": 29,
      "outputs": [
        {
          "output_type": "execute_result",
          "data": {
            "text/plain": [
              "[('한글과컴퓨터', 0.8677334785461426),\n",
              " ('삼보컴퓨터', 0.8544966578483582),\n",
              " ('슈퍼컴퓨터', 0.8528906106948853),\n",
              " ('컴퓨팅', 0.8124067783355713),\n",
              " ('튜터', 0.7814207673072815),\n",
              " ('에지컴퓨팅', 0.7419509291648865),\n",
              " ('학습터', 0.7015081644058228),\n",
              " ('슈퍼컴퓨팅', 0.6746425628662109),\n",
              " ('소프트웨어', 0.6730035543441772),\n",
              " ('스플리터', 0.6718708276748657)]"
            ]
          },
          "metadata": {},
          "execution_count": 29
        }
      ]
    },
    {
      "cell_type": "code",
      "source": [
        "# 5만개로 학습한 FastText 모델 저장\n",
        "model.save_model(\"AiHub_Part2_Total_Data_FastText.bin\") # 모델 저장\n",
        "\n",
        "# 모델 로드할 때는...\n",
        "# model = fasttext.load_model(\"/content/drive/MyDrive/Projects/AiHub_Part2_Total_Data_FastText.bin\")"
      ],
      "metadata": {
        "id": "dcEvxpKdlLSC"
      },
      "execution_count": 30,
      "outputs": []
    },
    {
      "cell_type": "code",
      "source": [
        "# model = fasttext.load_model(\"/content/drive/MyDrive/Projects/AiHub_Part2_Total_Data_FastText.bin\")"
      ],
      "metadata": {
        "id": "wT0hvFAwluJ4"
      },
      "execution_count": 33,
      "outputs": []
    },
    {
      "cell_type": "code",
      "source": [
        "# transform(model.get_nearest_neighbors(word_to_jamo('영업'), k=10))"
      ],
      "metadata": {
        "id": "tKBu4xZ6l2da"
      },
      "execution_count": 34,
      "outputs": []
    }
  ],
  "metadata": {
    "colab": {
      "provenance": []
    },
    "kernelspec": {
      "display_name": "PySang",
      "language": "python",
      "name": "python3"
    },
    "language_info": {
      "codemirror_mode": {
        "name": "ipython",
        "version": 3
      },
      "file_extension": ".py",
      "mimetype": "text/x-python",
      "name": "python",
      "nbconvert_exporter": "python",
      "pygments_lexer": "ipython3",
      "version": "3.10.13"
    }
  },
  "nbformat": 4,
  "nbformat_minor": 0
}