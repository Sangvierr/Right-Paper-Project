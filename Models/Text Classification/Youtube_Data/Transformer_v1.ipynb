{
 "cells": [
  {
   "cell_type": "code",
   "execution_count": 1,
   "metadata": {},
   "outputs": [
    {
     "name": "stdout",
     "output_type": "stream",
     "text": [
      "Thu Jun 27 16:32:35 2024       \n",
      "+---------------------------------------------------------------------------------------+\n",
      "| NVIDIA-SMI 535.171.04             Driver Version: 535.171.04   CUDA Version: 12.2     |\n",
      "|-----------------------------------------+----------------------+----------------------+\n",
      "| GPU  Name                 Persistence-M | Bus-Id        Disp.A | Volatile Uncorr. ECC |\n",
      "| Fan  Temp   Perf          Pwr:Usage/Cap |         Memory-Usage | GPU-Util  Compute M. |\n",
      "|                                         |                      |               MIG M. |\n",
      "|=========================================+======================+======================|\n",
      "|   0  NVIDIA L4                      Off | 00000000:00:03.0 Off |                    0 |\n",
      "| N/A   69C    P0              33W /  72W |   3088MiB / 23034MiB |      0%      Default |\n",
      "|                                         |                      |                  N/A |\n",
      "+-----------------------------------------+----------------------+----------------------+\n",
      "                                                                                         \n",
      "+---------------------------------------------------------------------------------------+\n",
      "| Processes:                                                                            |\n",
      "|  GPU   GI   CI        PID   Type   Process name                            GPU Memory |\n",
      "|        ID   ID                                                             Usage      |\n",
      "|=======================================================================================|\n",
      "|    0   N/A  N/A      1094      G   /usr/lib/xorg/Xorg                           95MiB |\n",
      "|    0   N/A  N/A      1170      G   /usr/bin/gnome-shell                          9MiB |\n",
      "|    0   N/A  N/A      2353      C   ...esanghyuk2000/PySangCUDA/bin/python     2962MiB |\n",
      "+---------------------------------------------------------------------------------------+\n"
     ]
    }
   ],
   "source": [
    "!nvidia-smi"
   ]
  },
  {
   "cell_type": "markdown",
   "metadata": {},
   "source": [
    "### 0. 라이브러리"
   ]
  },
  {
   "cell_type": "code",
   "execution_count": 2,
   "metadata": {},
   "outputs": [],
   "source": [
    "# 라이브러리\n",
    "import warnings\n",
    "warnings.filterwarnings('ignore')\n",
    "\n",
    "import os\n",
    "import time\n",
    "import pickle\n",
    "import random\n",
    "import zipfile\n",
    "import copy\n",
    "import glob\n",
    "import shutil\n",
    "\n",
    "import pandas as pd\n",
    "import numpy as np\n",
    "import matplotlib.pyplot as plt\n",
    "\n",
    "from math import sqrt\n",
    "from PIL import Image\n",
    "from tqdm import tqdm\n",
    "from sklearn.model_selection import train_test_split\n",
    "from sklearn.metrics import accuracy_score, f1_score, recall_score, precision_score, confusion_matrix\n",
    "\n",
    "import torch\n",
    "import torch.nn as nn\n",
    "import torch.optim as optim\n",
    "import torch.nn.functional as F\n",
    "from torch.utils.data import Dataset, DataLoader\n",
    "from torchmetrics.classification import BinaryAccuracy, BinaryPrecision, BinaryRecall, BinaryF1Score\n",
    "\n",
    "import transformers\n",
    "from transformers import AutoTokenizer, AutoModel, AutoConfig, get_linear_schedule_with_warmup"
   ]
  },
  {
   "cell_type": "code",
   "execution_count": 3,
   "metadata": {},
   "outputs": [],
   "source": [
    "# 시드 고정\n",
    "def fixSEED(seed, deterministic=True):\n",
    "    random.seed(seed)\n",
    "    np.random.seed(seed)\n",
    "    torch.manual_seed(seed)\n",
    "    torch.cuda.manual_seed_all(seed)\n",
    "    transformers.set_seed(seed)\n",
    "    if deterministic:\n",
    "        torch.backends.cudnn.deterministic = True\n",
    "        torch.backends.cudnn.benchmark = False\n",
    "\n",
    "SEED = 42\n",
    "fixSEED(seed=SEED)"
   ]
  },
  {
   "cell_type": "code",
   "execution_count": 4,
   "metadata": {},
   "outputs": [
    {
     "name": "stdout",
     "output_type": "stream",
     "text": [
      "Current path /home/leesanghyuk2000/Python_Programs\n"
     ]
    }
   ],
   "source": [
    "# 디렉토리 설정\n",
    "dir = 'Python_Programs'\n",
    "path = '/home/leesanghyuk2000/' + dir\n",
    "os.chdir(path)\n",
    "print('Current path {}'.format(os.getcwd()))"
   ]
  },
  {
   "cell_type": "code",
   "execution_count": 5,
   "metadata": {},
   "outputs": [
    {
     "name": "stdout",
     "output_type": "stream",
     "text": [
      "cuda\n"
     ]
    }
   ],
   "source": [
    "# GPU 사용 여부 확인\n",
    "device = torch.device('cuda' if torch.cuda.is_available() else 'cpu')\n",
    "print(device)"
   ]
  },
  {
   "cell_type": "code",
   "execution_count": 6,
   "metadata": {},
   "outputs": [
    {
     "name": "stdout",
     "output_type": "stream",
     "text": [
      "남은 GPU 메모리: 21.96 GB\n"
     ]
    }
   ],
   "source": [
    "def checkGPU(empty=False):\n",
    "    if torch.cuda.is_available():\n",
    "        total_mem = torch.cuda.get_device_properties(0).total_memory\n",
    "        current_mem = torch.cuda.memory_allocated(0)\n",
    "        free_mem = total_mem - current_mem\n",
    "        \n",
    "        print(f'남은 GPU 메모리: {free_mem / (1024 ** 3):.2f} GB')\n",
    "        \n",
    "        if empty:\n",
    "            torch.cuda.empty_cache()\n",
    "            after_mem = torch.cuda.memory_allocated(0)\n",
    "            print(f'GPU 캐시에서 메모리 삭제 후 메모리: {after_mem / (1024 ** 3):.2f} GB')\n",
    "    else:\n",
    "        print('CUDA 사용 불가')\n",
    "        \n",
    "checkGPU()"
   ]
  },
  {
   "cell_type": "markdown",
   "metadata": {},
   "source": [
    "### 1. 데이터 불러오기"
   ]
  },
  {
   "cell_type": "code",
   "execution_count": 7,
   "metadata": {},
   "outputs": [],
   "source": [
    "# Load data from a pickle file, and create labels\n",
    "def callData(path: str):\n",
    "    with open(path, \"rb\") as file:\n",
    "        data = pickle.load(file)\n",
    "\n",
    "    zero = data[data['label']==0]\n",
    "    non_zero = data[data['label']==1]\n",
    "\n",
    "    print(f'레이블 0 개수 : {len(zero)}')\n",
    "    print(f'레이블 1 개수 : {len(non_zero)}')\n",
    "\n",
    "    return data"
   ]
  },
  {
   "cell_type": "code",
   "execution_count": 8,
   "metadata": {},
   "outputs": [
    {
     "name": "stdout",
     "output_type": "stream",
     "text": [
      "레이블 0 개수 : 990\n",
      "레이블 1 개수 : 992\n"
     ]
    }
   ],
   "source": [
    "aihub_data = callData('AiHub_Sampled(2000).pkl')"
   ]
  },
  {
   "cell_type": "code",
   "execution_count": 9,
   "metadata": {},
   "outputs": [
    {
     "name": "stdout",
     "output_type": "stream",
     "text": [
      "레이블 0 개수 : 5208\n",
      "레이블 1 개수 : 3123\n"
     ]
    }
   ],
   "source": [
    "youtube_data = callData('youtubeData(8331)_with_label.pkl')"
   ]
  },
  {
   "cell_type": "code",
   "execution_count": 10,
   "metadata": {},
   "outputs": [],
   "source": [
    "# concat two data\n",
    "text1 = aihub_data['newsContent'] # 제목 미포함\n",
    "text2 = youtube_data['content'] # 제목 미포함\n",
    "\n",
    "label1 = aihub_data['label']\n",
    "label2 = youtube_data['label']\n",
    "\n",
    "data = pd.DataFrame({\n",
    "    'text': pd.concat([text1, text2], ignore_index=True),\n",
    "    'label': pd.concat([label1, label2], ignore_index=True)\n",
    "})"
   ]
  },
  {
   "cell_type": "code",
   "execution_count": 12,
   "metadata": {},
   "outputs": [
    {
     "data": {
      "text/plain": [
       "label\n",
       "0    6198\n",
       "1    4115\n",
       "Name: count, dtype: int64"
      ]
     },
     "execution_count": 12,
     "metadata": {},
     "output_type": "execute_result"
    }
   ],
   "source": [
    "# 레이블 확인\n",
    "data['label'].value_counts()"
   ]
  },
  {
   "cell_type": "markdown",
   "metadata": {},
   "source": [
    "### 2. Train/Test/Valid"
   ]
  },
  {
   "cell_type": "code",
   "execution_count": 13,
   "metadata": {},
   "outputs": [],
   "source": [
    "# Split into Train/Valid/Test\n",
    "def splitData(data, SEED=42):\n",
    "    train_val_data, test_data = train_test_split(data, test_size=0.2, random_state=SEED, stratify=data['label'])\n",
    "    train_data, valid_data = train_test_split(train_val_data, test_size=0.25, random_state=SEED, stratify=train_val_data['label'])\n",
    "\n",
    "    print('학습용 데이터 개수 : {}개 \\n검증용 데이터 개수 : {}개 \\n평가용 데이터 개수 : {}개'.format(len(train_data), len(valid_data), len(test_data)))\n",
    "    del train_val_data\n",
    "    return train_data, valid_data, test_data"
   ]
  },
  {
   "cell_type": "code",
   "execution_count": 14,
   "metadata": {},
   "outputs": [
    {
     "name": "stdout",
     "output_type": "stream",
     "text": [
      "학습용 데이터 개수 : 6187개 \n",
      "검증용 데이터 개수 : 2063개 \n",
      "평가용 데이터 개수 : 2063개\n"
     ]
    }
   ],
   "source": [
    "train_data, valid_data, test_data = splitData(data)"
   ]
  },
  {
   "cell_type": "markdown",
   "metadata": {},
   "source": [
    "### 3. Dataset 및 Dataloader 정의"
   ]
  },
  {
   "cell_type": "code",
   "execution_count": 15,
   "metadata": {},
   "outputs": [],
   "source": [
    "# 파라미터 개수 확인\n",
    "def print_trainable_parameters(model):\n",
    "    trainable_params = 0\n",
    "    all_param = 0\n",
    "    for _, param in model.named_parameters():\n",
    "        all_param += param.numel()\n",
    "        if param.requires_grad:\n",
    "            trainable_params += param.numel()\n",
    "    print(f\"Trainable Params: {trainable_params} \\nAll params: {all_param}\")\n",
    "    print('-'*50)\n",
    "    print(f\"Trainable(%): {round(100 * trainable_params / all_param, 5)}\")"
   ]
  },
  {
   "cell_type": "code",
   "execution_count": 37,
   "metadata": {},
   "outputs": [],
   "source": [
    "# Mixed Dataset for Transformers\n",
    "class TransformersDataset(Dataset):\n",
    "    def __init__(self, data, tokenizer, max_length):\n",
    "        self.data = data\n",
    "        self.tokenizer = tokenizer\n",
    "        self.max_length = max_length\n",
    "    \n",
    "    def __len__(self):\n",
    "        return len(self.data)\n",
    "    \n",
    "    def __getitem__(self, idx):\n",
    "        text = self.data.iloc[idx]['text']\n",
    "        label = self.data.iloc[idx]['label']\n",
    "        \n",
    "        inputs = self.tokenizer(text, return_tensors='pt', padding='max_length', truncation=True, max_length=self.max_length)\n",
    "        \n",
    "        input_ids = inputs['input_ids'].squeeze(0)\n",
    "        attention_mask = inputs['attention_mask'].squeeze(0)\n",
    "\n",
    "        return input_ids, attention_mask, torch.tensor(label, dtype=torch.long) # 정수형"
   ]
  },
  {
   "cell_type": "markdown",
   "metadata": {},
   "source": [
    "### 4. 모델 정의"
   ]
  },
  {
   "cell_type": "markdown",
   "metadata": {},
   "source": [
    "#### 4-1. Transformers Encoder"
   ]
  },
  {
   "cell_type": "code",
   "execution_count": 17,
   "metadata": {},
   "outputs": [],
   "source": [
    "# Scaled Dot-Product Attention\n",
    "def scaled_dot_product_attention(query, key, value):\n",
    "    dim_k = query.size(-1)\n",
    "    scores = torch.bmm(query, key.transpose(1, 2)) / sqrt(dim_k)\n",
    "    weights = F.softmax(scores, dim=-1)\n",
    "    return torch.bmm(weights, value)\n",
    "\n",
    "# Attention Head\n",
    "class AttentionHead(nn.Module):\n",
    "    def __init__(self, embed_dim, head_dim):\n",
    "        super().__init__()\n",
    "        self.q = nn.Linear(embed_dim, head_dim)\n",
    "        self.k = nn.Linear(embed_dim, head_dim)\n",
    "        self.v = nn.Linear(embed_dim, head_dim)\n",
    "\n",
    "    def forward(self, hidden_state):\n",
    "        attn_outputs = scaled_dot_product_attention(\n",
    "            self.q(hidden_state), self.k(hidden_state), self.v(hidden_state))\n",
    "        return attn_outputs\n",
    "    \n",
    "# Multi-Head Attention\n",
    "class MultiHeadAttention(nn.Module):\n",
    "    def __init__(self, config):\n",
    "        super().__init__()\n",
    "        embed_dim = config.hidden_size\n",
    "        num_heads = config.num_attention_heads\n",
    "        head_dim = embed_dim // num_heads\n",
    "        self.heads = nn.ModuleList(\n",
    "            [AttentionHead(embed_dim, head_dim) for _ in range(num_heads)]\n",
    "        )\n",
    "        self.output_linear = nn.Linear(embed_dim, embed_dim)\n",
    "\n",
    "    def forward(self, hidden_state):\n",
    "        x = torch.cat([h(hidden_state) for h in self.heads], dim=-1)\n",
    "        x = self.output_linear(x)\n",
    "        return x\n",
    "\n",
    "# Feed Forward Network\n",
    "class FeedForward(nn.Module):\n",
    "    def __init__(self, config):\n",
    "        super().__init__()\n",
    "        self.linear_1 = nn.Linear(config.hidden_size, config.intermediate_size)\n",
    "        self.linear_2 = nn.Linear(config.intermediate_size, config.hidden_size)\n",
    "        self.gelu = nn.GELU()\n",
    "        self.dropout = nn.Dropout(config.hidden_dropout_prob)\n",
    "\n",
    "    def forward(self, x):\n",
    "        x = self.linear_1(x)\n",
    "        x = self.gelu(x)\n",
    "        x = self.linear_2(x)\n",
    "        x = self.dropout(x)\n",
    "        return x\n",
    "    \n",
    "# Embeddings\n",
    "class Embeddings(nn.Module):\n",
    "    def __init__(self, config):\n",
    "        super().__init__()\n",
    "        self.token_embeddings = nn.Embedding(config.vocab_size, config.hidden_size)\n",
    "        self.position_embeddings = nn.Embedding(config.max_position_embeddings, config.hidden_size)\n",
    "        self.layer_norm = nn.LayerNorm(config.hidden_size, eps=1e-12)\n",
    "        self.dropout = nn.Dropout(config.hidden_dropout_prob)\n",
    "\n",
    "    def forward(self, input_ids):\n",
    "        # 입력 시퀀스에 대해 위치 ID를 만듭니다.\n",
    "        seq_length = input_ids.size(1)\n",
    "        position_ids = torch.arange(seq_length, dtype=torch.long, device=input_ids.device).unsqueeze(0)\n",
    "        # 토큰 임베딩과 위치 임베딩을 만듭니다.\n",
    "        token_embeddings = self.token_embeddings(input_ids)\n",
    "        position_embeddings = self.position_embeddings(position_ids)\n",
    "        # 토큰 임베딩과 위치 임베딩을 합칩니다.\n",
    "        embeddings = token_embeddings + position_embeddings\n",
    "        embeddings = self.layer_norm(embeddings)\n",
    "        embeddings = self.dropout(embeddings)\n",
    "        return embeddings\n",
    "\n",
    "# Transformer Encoder Layer\n",
    "class TransformerEncoderLayer(nn.Module):\n",
    "    def __init__(self, config):\n",
    "        super().__init__()\n",
    "        self.layer_norm_1 = nn.LayerNorm(config.hidden_size)\n",
    "        self.layer_norm_2 = nn.LayerNorm(config.hidden_size)\n",
    "        self.attention = MultiHeadAttention(config)\n",
    "        self.feed_forward = FeedForward(config)\n",
    "\n",
    "    def forward(self, x):\n",
    "        # 층 정규화를 적용하고 입력을 쿼리, 키, 값으로 복사합니다.\n",
    "        hidden_state = self.layer_norm_1(x)\n",
    "        # 어텐션에 스킵 연결을 적용합니다.\n",
    "        x = x + self.attention(hidden_state)\n",
    "        # 스킵 연결과 피드 포워드 층을 적용합니다.\n",
    "        x = x + self.feed_forward(self.layer_norm_2(x))\n",
    "        return x\n",
    "    \n",
    "# Transformer Encoder\n",
    "class TransformerEncoder(nn.Module):\n",
    "    def __init__(self, config):\n",
    "        super().__init__()\n",
    "        self.embeddings = Embeddings(config)\n",
    "        self.layers = nn.ModuleList([TransformerEncoderLayer(config)\n",
    "                                     for _ in range(config.num_hidden_layers)])\n",
    "\n",
    "    def forward(self, x):\n",
    "        x = self.embeddings(x)\n",
    "        for layer in self.layers:\n",
    "            x = layer(x)\n",
    "        return x"
   ]
  },
  {
   "cell_type": "markdown",
   "metadata": {},
   "source": [
    "#### 4-2. Attention Mechanism"
   ]
  },
  {
   "cell_type": "code",
   "execution_count": 18,
   "metadata": {},
   "outputs": [],
   "source": [
    "# Attention Mechanism\n",
    "class AttentionMechanism(nn.Module):\n",
    "    def __init__(self, input_dim, hidden_dim):\n",
    "        super(AttentionMechanism, self).__init__()\n",
    "        self.attention = nn.Linear(input_dim, hidden_dim)\n",
    "        self.context_vector = nn.Linear(hidden_dim, 1, bias=False)\n",
    "\n",
    "    def forward(self, features):\n",
    "        # features: (batch_size, seq_len, input_dim)\n",
    "        attention_weights = torch.tanh(self.attention(features))\n",
    "        attention_weights = self.context_vector(attention_weights).squeeze(-1)\n",
    "        attention_weights = F.softmax(attention_weights, dim=1)\n",
    "        context_vector = torch.sum(features * attention_weights.unsqueeze(-1), dim=1)\n",
    "        return context_vector, attention_weights"
   ]
  },
  {
   "cell_type": "markdown",
   "metadata": {},
   "source": [
    "#### 4-3. Transformers Models"
   ]
  },
  {
   "cell_type": "code",
   "execution_count": 53,
   "metadata": {},
   "outputs": [],
   "source": [
    "class TransformerModel(nn.Module):\n",
    "    def __init__(self, text_config):\n",
    "        super(TransformerModel, self).__init__()\n",
    "\n",
    "        # Use Transformer Encoder for text\n",
    "        self.text_model = TransformerEncoder(text_config)\n",
    "\n",
    "        # Attention Mechanism\n",
    "        self.attention = AttentionMechanism(text_config.hidden_size, 512)\n",
    "\n",
    "        # Classifier layer\n",
    "        self.classifier = nn.Linear(text_config.hidden_size, 2)\n",
    "\n",
    "        # Dropout\n",
    "        self.dropout = nn.Dropout(p=0.1)\n",
    "\n",
    "    def forward(self, input_ids, attention_mask):\n",
    "        # Text model forward\n",
    "        text_hidden_state = self.text_model(input_ids)\n",
    "\n",
    "        # Apply attention mechanism\n",
    "        context_vector, attention_weights = self.attention(text_hidden_state.unsqueeze(1))\n",
    "\n",
    "        # Apply dropout\n",
    "        context_vector = self.dropout(context_vector)\n",
    "\n",
    "        # Pass through classifier\n",
    "        logits = self.classifier(context_vector[:, -1, :]) # 출력 크기 변경 : [batch_size, seq_length, num_classes]->[batch_size, num_classes]\n",
    "\n",
    "        return logits"
   ]
  },
  {
   "cell_type": "markdown",
   "metadata": {},
   "source": [
    "### 5. 학습용 Trainer 정의"
   ]
  },
  {
   "cell_type": "code",
   "execution_count": 54,
   "metadata": {},
   "outputs": [],
   "source": [
    "class Trainer:\n",
    "    def __init__(self, model, train_dataloader, valid_dataloader, criterion, optimizer, acc_metric, precision_metric, recall_metric, f1_metric, device, num_epochs, wait_for_es):\n",
    "        self.model = model  # model for training\n",
    "        self.train_dataloader = train_dataloader  # training dataloader\n",
    "        self.valid_dataloader = valid_dataloader  # validation dataloader\n",
    "        self.criterion = criterion  # loss function\n",
    "        self.optimizer = optimizer  # optimizer\n",
    "        self.acc_metric = acc_metric  # accuracy metric\n",
    "        self.precision_metric = precision_metric  # precision metric\n",
    "        self.recall_metric = recall_metric  # recall metric\n",
    "        self.f1_metric = f1_metric  # f1 score metric\n",
    "        self.device = device  # device(cuda or cpu)\n",
    "        self.num_epochs = num_epochs  # number of epochs\n",
    "        self.wait_for_es = wait_for_es  # early stopping patience\n",
    "\n",
    "        # 스케줄러 초기화\n",
    "        total_steps = len(train_dataloader) * num_epochs\n",
    "        self.scheduler = get_linear_schedule_with_warmup(self.optimizer, num_warmup_steps=0, num_training_steps=total_steps)\n",
    "\n",
    "    def train(self):\n",
    "        train_loss_history, train_acc_history, train_precision_history, train_recall_history, train_f1_history = [], [], [], [], []\n",
    "        valid_loss_history, valid_acc_history, valid_precision_history, valid_recall_history, valid_f1_history = [], [], [], [], []\n",
    "\n",
    "        best_loss = float('inf')\n",
    "        count = 0\n",
    "        best_acc = 0\n",
    "        start_time = time.time()\n",
    "\n",
    "        for epoch in range(self.num_epochs):\n",
    "            print('-' * 120)\n",
    "            print(f'Epoch {epoch+1}/{self.num_epochs}')\n",
    "            print('-' * 120)\n",
    "\n",
    "            train_loss, train_acc, train_precision, train_recall, train_f1 = self._train_model()\n",
    "            valid_loss, valid_acc, valid_precision, valid_recall, valid_f1 = self._valid_model()\n",
    "\n",
    "            train_loss_history.append(train_loss)\n",
    "            train_acc_history.append(train_acc)\n",
    "            train_precision_history.append(train_precision)\n",
    "            train_recall_history.append(train_recall)\n",
    "            train_f1_history.append(train_f1)\n",
    "\n",
    "            valid_loss_history.append(valid_loss)\n",
    "            valid_acc_history.append(valid_acc)\n",
    "            valid_precision_history.append(valid_precision)\n",
    "            valid_recall_history.append(valid_recall)\n",
    "            valid_f1_history.append(valid_f1)\n",
    "\n",
    "            elapsed_time = time.time() - start_time\n",
    "            print(f'[Train] \\t Loss: {train_loss:.4f} \\t Acc: {train_acc:.4f} \\t Precision: {train_precision:.4f} \\t Recall: {train_recall:.4f} \\t F1: {train_f1:.4f}')\n",
    "            print(f'[Valid] \\t Loss: {valid_loss:.4f} \\t Acc: {valid_acc:.4f} \\t Precision: {valid_precision:.4f} \\t Recall: {valid_recall:.4f} \\t F1: {valid_f1:.4f}')\n",
    "            print(f'▶️ Epoch {epoch+1} complete in {elapsed_time // 60:.0f}m {elapsed_time % 60:.0f}s')\n",
    "\n",
    "            if valid_acc > best_acc:\n",
    "                best_acc = valid_acc\n",
    "                try:\n",
    "                    save_path = f'./YouTube(mixed)_Transformers_ACC_{valid_acc:.4f}.pth'\n",
    "                    torch.save(self.model.state_dict(), save_path)\n",
    "                    print(f'▶️ Model Saved to {save_path}')\n",
    "                except Exception as e:\n",
    "                    print(f'▶️ Model Not Saved: {e}')\n",
    "                    continue\n",
    "\n",
    "            if valid_loss < best_loss:\n",
    "                best_loss = valid_loss\n",
    "                count = 0\n",
    "            else:\n",
    "                count += 1\n",
    "                if count >= self.wait_for_es:\n",
    "                    print(f'▶️▶️▶️ Early Stopping at Epoch {epoch+1} ◀️◀️◀️')\n",
    "                    break\n",
    "\n",
    "        return train_loss_history, train_acc_history, train_precision_history, train_recall_history, train_f1_history, valid_loss_history, valid_acc_history, valid_precision_history, valid_recall_history, valid_f1_history\n",
    "\n",
    "    # Training function\n",
    "    def _train_model(self):\n",
    "        self.model.train()\n",
    "\n",
    "        train_loss = 0\n",
    "        train_acc = 0\n",
    "        train_precision = 0\n",
    "        train_recall = 0\n",
    "        train_f1 = 0\n",
    "\n",
    "        for batch in tqdm(self.train_dataloader, desc='Training'):\n",
    "            input_ids, attention_mask, y = batch\n",
    "            input_ids, attention_mask, y = input_ids.to(self.device), attention_mask.to(self.device), y.to(self.device)\n",
    "\n",
    "            outputs = self.model(input_ids, attention_mask)\n",
    "            #print(f\"outputs shape: {outputs.shape}, y shape: {y.shape}\")\n",
    "            loss = self.criterion(outputs, y)\n",
    "\n",
    "            self.optimizer.zero_grad()\n",
    "            loss.backward()\n",
    "            self.optimizer.step()\n",
    "            self.scheduler.step()  # 스케줄러 업데이트\n",
    "\n",
    "            preds = torch.argmax(outputs, dim=1)\n",
    "            train_loss += loss.item()\n",
    "            train_acc += self.acc_metric(preds, y).item()\n",
    "            train_precision += self.precision_metric(preds, y).item()\n",
    "            train_recall += self.recall_metric(preds, y).item()\n",
    "            train_f1 += self.f1_metric(preds, y).item()\n",
    "\n",
    "        return train_loss / len(self.train_dataloader), train_acc / len(self.train_dataloader), train_precision / len(self.train_dataloader), train_recall / len(self.train_dataloader), train_f1 / len(self.train_dataloader)\n",
    "\n",
    "    # Validating function\n",
    "    def _valid_model(self):\n",
    "        self.model.eval()\n",
    "\n",
    "        valid_loss = 0\n",
    "        valid_acc = 0\n",
    "        valid_precision = 0\n",
    "        valid_recall = 0\n",
    "        valid_f1 = 0\n",
    "\n",
    "        with torch.no_grad():\n",
    "            for batch in tqdm(self.valid_dataloader, desc='Validating'):\n",
    "                input_ids, attention_mask, y = batch\n",
    "                input_ids, attention_mask, y = input_ids.to(self.device), attention_mask.to(self.device), y.to(self.device)\n",
    "\n",
    "                outputs = self.model(input_ids, attention_mask)\n",
    "                loss = self.criterion(outputs, y)\n",
    "\n",
    "                preds = torch.argmax(outputs, dim=1)\n",
    "                valid_loss += loss.item()\n",
    "                valid_acc += self.acc_metric(preds, y).item()\n",
    "                valid_precision += self.precision_metric(preds, y).item()\n",
    "                valid_recall += self.recall_metric(preds, y).item()\n",
    "                valid_f1 += self.f1_metric(preds, y).item()\n",
    "\n",
    "        return valid_loss / len(self.valid_dataloader), valid_acc / len(self.valid_dataloader), valid_precision / len(self.valid_dataloader), valid_recall / len(self.valid_dataloader), valid_f1 / len(self.valid_dataloader)"
   ]
  },
  {
   "cell_type": "markdown",
   "metadata": {},
   "source": [
    "### 6. 학습 진행"
   ]
  },
  {
   "cell_type": "code",
   "execution_count": 55,
   "metadata": {},
   "outputs": [],
   "source": [
    "# 데이터셋 파라미터\n",
    "batch_size = 32\n",
    "num_labels = 2\n",
    "max_length = 128\n",
    "\n",
    "# text 토크나이저 정의\n",
    "text_checkpoint = \"klue/roberta-small\"\n",
    "tokenizer = AutoTokenizer.from_pretrained(text_checkpoint)"
   ]
  },
  {
   "cell_type": "code",
   "execution_count": 56,
   "metadata": {},
   "outputs": [],
   "source": [
    "# 데이터셋 정의\n",
    "train_dataset = TransformersDataset(train_data, tokenizer, max_length)\n",
    "valid_dataset = TransformersDataset(valid_data, tokenizer, max_length)\n",
    "test_dataset = TransformersDataset(test_data, tokenizer, max_length)"
   ]
  },
  {
   "cell_type": "code",
   "execution_count": 57,
   "metadata": {},
   "outputs": [
    {
     "data": {
      "text/plain": [
       "[tensor([[    0,  7024,  2151,  ...,  1513,  2359,     2],\n",
       "         [    0,  4224,  3699,  ...,  4883,   555,     2],\n",
       "         [    0,   752,  3753,  ...,  2047,  2069,     2],\n",
       "         ...,\n",
       "         [    0,  4528,  7186,  ...,  2470,  4103,     2],\n",
       "         [    0,  5891,  2205,  ...,  2633,  2085,     2],\n",
       "         [    0,   752, 22442,  ...,  6233,  7185,     2]]),\n",
       " tensor([[1, 1, 1,  ..., 1, 1, 1],\n",
       "         [1, 1, 1,  ..., 1, 1, 1],\n",
       "         [1, 1, 1,  ..., 1, 1, 1],\n",
       "         ...,\n",
       "         [1, 1, 1,  ..., 1, 1, 1],\n",
       "         [1, 1, 1,  ..., 1, 1, 1],\n",
       "         [1, 1, 1,  ..., 1, 1, 1]]),\n",
       " tensor([0, 0, 0, 0, 0, 0, 0, 1, 0, 0, 1, 0, 1, 0, 0, 0, 1, 1, 0, 1, 0, 0, 0, 0,\n",
       "         1, 0, 0, 0, 0, 0, 0, 0])]"
      ]
     },
     "execution_count": 57,
     "metadata": {},
     "output_type": "execute_result"
    }
   ],
   "source": [
    "# 데이터로더 정의\n",
    "train_dataloader = DataLoader(train_dataset, batch_size=batch_size, shuffle=True)\n",
    "valid_dataloader = DataLoader(valid_dataset, batch_size=batch_size, shuffle=True)\n",
    "test_dataloader = DataLoader(test_dataset, batch_size=batch_size, shuffle=False)\n",
    "\n",
    "next(iter(train_dataloader))"
   ]
  },
  {
   "cell_type": "code",
   "execution_count": 58,
   "metadata": {},
   "outputs": [
    {
     "data": {
      "text/plain": [
       "TransformerModel(\n",
       "  (text_model): TransformerEncoder(\n",
       "    (embeddings): Embeddings(\n",
       "      (token_embeddings): Embedding(32000, 768)\n",
       "      (position_embeddings): Embedding(514, 768)\n",
       "      (layer_norm): LayerNorm((768,), eps=1e-12, elementwise_affine=True)\n",
       "      (dropout): Dropout(p=0.1, inplace=False)\n",
       "    )\n",
       "    (layers): ModuleList(\n",
       "      (0-5): 6 x TransformerEncoderLayer(\n",
       "        (layer_norm_1): LayerNorm((768,), eps=1e-05, elementwise_affine=True)\n",
       "        (layer_norm_2): LayerNorm((768,), eps=1e-05, elementwise_affine=True)\n",
       "        (attention): MultiHeadAttention(\n",
       "          (heads): ModuleList(\n",
       "            (0-11): 12 x AttentionHead(\n",
       "              (q): Linear(in_features=768, out_features=64, bias=True)\n",
       "              (k): Linear(in_features=768, out_features=64, bias=True)\n",
       "              (v): Linear(in_features=768, out_features=64, bias=True)\n",
       "            )\n",
       "          )\n",
       "          (output_linear): Linear(in_features=768, out_features=768, bias=True)\n",
       "        )\n",
       "        (feed_forward): FeedForward(\n",
       "          (linear_1): Linear(in_features=768, out_features=3072, bias=True)\n",
       "          (linear_2): Linear(in_features=3072, out_features=768, bias=True)\n",
       "          (gelu): GELU(approximate='none')\n",
       "          (dropout): Dropout(p=0.1, inplace=False)\n",
       "        )\n",
       "      )\n",
       "    )\n",
       "  )\n",
       "  (attention): AttentionMechanism(\n",
       "    (attention): Linear(in_features=768, out_features=512, bias=True)\n",
       "    (context_vector): Linear(in_features=512, out_features=1, bias=False)\n",
       "  )\n",
       "  (classifier): Linear(in_features=768, out_features=2, bias=True)\n",
       "  (dropout): Dropout(p=0.1, inplace=False)\n",
       ")"
      ]
     },
     "execution_count": 58,
     "metadata": {},
     "output_type": "execute_result"
    }
   ],
   "source": [
    "# Model\n",
    "text_config = AutoConfig.from_pretrained(text_checkpoint)\n",
    "\n",
    "model = TransformerModel(text_config)\n",
    "model.to(device)"
   ]
  },
  {
   "cell_type": "code",
   "execution_count": 59,
   "metadata": {},
   "outputs": [
    {
     "name": "stdout",
     "output_type": "stream",
     "text": [
      "Trainable Params: 67895298 \n",
      "All params: 67895298\n",
      "--------------------------------------------------\n",
      "Trainable(%): 100.0\n"
     ]
    }
   ],
   "source": [
    "print_trainable_parameters(model)"
   ]
  },
  {
   "cell_type": "code",
   "execution_count": 60,
   "metadata": {},
   "outputs": [],
   "source": [
    "# 학습 파라미터\n",
    "num_epochs = 3\n",
    "wait_for_es = 5\n",
    "\n",
    "learning_rate = 2e-5\n",
    "wd_rate = 3e-3\n",
    "eps_rate = 1e-8"
   ]
  },
  {
   "cell_type": "code",
   "execution_count": 61,
   "metadata": {},
   "outputs": [],
   "source": [
    "# 손실함수, 옵티마이저, Metrics\n",
    "criterion = nn.CrossEntropyLoss()\n",
    "optimizer = optim.AdamW(model.parameters(), lr=learning_rate, weight_decay=wd_rate, eps=eps_rate)\n",
    "acc_metric = BinaryAccuracy().to(device)\n",
    "f1_metric = BinaryF1Score().to(device)\n",
    "precision_metric = BinaryPrecision().to(device)\n",
    "recall_metric = BinaryRecall().to(device)"
   ]
  },
  {
   "cell_type": "code",
   "execution_count": 62,
   "metadata": {},
   "outputs": [],
   "source": [
    "# Trainer 정의\n",
    "trainer = Trainer(model,\n",
    "                  train_dataloader,\n",
    "                  valid_dataloader,\n",
    "                  criterion,\n",
    "                  optimizer,\n",
    "                  acc_metric,\n",
    "                  precision_metric,\n",
    "                  recall_metric,\n",
    "                  f1_metric,\n",
    "                  device,\n",
    "                  num_epochs,\n",
    "                  wait_for_es)"
   ]
  },
  {
   "cell_type": "code",
   "execution_count": 63,
   "metadata": {},
   "outputs": [
    {
     "name": "stdout",
     "output_type": "stream",
     "text": [
      "------------------------------------------------------------------------------------------------------------------------------------------------------\n",
      "Epoch 1/3\n",
      "------------------------------------------------------------------------------------------------------------------------------------------------------\n"
     ]
    },
    {
     "name": "stderr",
     "output_type": "stream",
     "text": [
      "Training: 100%|██████████| 194/194 [01:02<00:00,  3.08it/s]\n",
      "Validating: 100%|██████████| 65/65 [00:13<00:00,  4.74it/s]\n"
     ]
    },
    {
     "name": "stdout",
     "output_type": "stream",
     "text": [
      "[Train] \t Loss: 0.5694 \t Acc: 0.7009 \t Precision: 0.6426 \t Recall: 0.5555 \t F1: 0.5484\n",
      "[Valid] \t Loss: 0.5049 \t Acc: 0.7488 \t Precision: 0.6278 \t Recall: 0.8977 \t F1: 0.7316\n",
      "▶️ Epoch 1 complete in 1m 17s\n",
      "▶️ Model Saved to ./YouTube(mixed)_Transformers_ACC_0.7488.pth\n",
      "------------------------------------------------------------------------------------------------------------------------------------------------------\n",
      "Epoch 2/3\n",
      "------------------------------------------------------------------------------------------------------------------------------------------------------\n"
     ]
    },
    {
     "name": "stderr",
     "output_type": "stream",
     "text": [
      "Training: 100%|██████████| 194/194 [01:03<00:00,  3.04it/s]\n",
      "Validating: 100%|██████████| 65/65 [00:13<00:00,  4.65it/s]\n"
     ]
    },
    {
     "name": "stdout",
     "output_type": "stream",
     "text": [
      "[Train] \t Loss: 0.4222 \t Acc: 0.7945 \t Precision: 0.7695 \t Recall: 0.7246 \t F1: 0.7230\n",
      "[Valid] \t Loss: 0.4147 \t Acc: 0.7936 \t Precision: 0.7285 \t Recall: 0.7796 \t F1: 0.7456\n",
      "▶️ Epoch 2 complete in 2m 35s\n",
      "▶️ Model Saved to ./YouTube(mixed)_Transformers_ACC_0.7936.pth\n",
      "------------------------------------------------------------------------------------------------------------------------------------------------------\n",
      "Epoch 3/3\n",
      "------------------------------------------------------------------------------------------------------------------------------------------------------\n"
     ]
    },
    {
     "name": "stderr",
     "output_type": "stream",
     "text": [
      "Training: 100%|██████████| 194/194 [01:03<00:00,  3.04it/s]\n",
      "Validating: 100%|██████████| 65/65 [00:13<00:00,  4.76it/s]\n"
     ]
    },
    {
     "name": "stdout",
     "output_type": "stream",
     "text": [
      "[Train] \t Loss: 0.3709 \t Acc: 0.8206 \t Precision: 0.7846 \t Recall: 0.7696 \t F1: 0.7678\n",
      "[Valid] \t Loss: 0.4089 \t Acc: 0.7945 \t Precision: 0.7266 \t Recall: 0.7812 \t F1: 0.7456\n",
      "▶️ Epoch 3 complete in 3m 53s\n",
      "▶️ Model Saved to ./YouTube(mixed)_Transformers_ACC_0.7945.pth\n"
     ]
    }
   ],
   "source": [
    "# 학습 시작\n",
    "train_loss_history, train_acc_history, train_precision_history, train_recall_history, train_f1_history, valid_loss_history, valid_acc_history, valid_precision_history, valid_recall_history, valid_f1_history = trainer.train()"
   ]
  },
  {
   "cell_type": "code",
   "execution_count": 64,
   "metadata": {},
   "outputs": [],
   "source": [
    "# 학습 과정 시각화 함수\n",
    "def plot_training_history(train_loss_history, train_acc_history, train_precision_history, train_recall_history, train_f1_history,\n",
    "                          valid_loss_history, valid_acc_history, valid_precision_history, valid_recall_history, valid_f1_history):\n",
    "    plt.figure(figsize=(16, 9))\n",
    "\n",
    "    # Loss Plot\n",
    "    ax1 = plt.subplot2grid((2, 4), (0, 0), colspan=4)\n",
    "    ax1.plot(train_loss_history, label='Train Loss')\n",
    "    ax1.plot(valid_loss_history, label='Validation Loss')\n",
    "    ax1.set_title('Training and Validation Loss')\n",
    "    ax1.set_xlabel('Epochs')\n",
    "    ax1.set_ylabel('Loss')\n",
    "    ax1.legend()\n",
    "\n",
    "    # Accuracy Plot\n",
    "    ax2 = plt.subplot2grid((2, 4), (1, 0))\n",
    "    ax2.plot(train_acc_history, label='Train Accuracy')\n",
    "    ax2.plot(valid_acc_history, label='Validation Accuracy')\n",
    "    ax2.set_title('Training and Validation Accuracy')\n",
    "    ax2.set_xlabel('Epochs')\n",
    "    ax2.set_ylabel('Accuracy')\n",
    "    ax2.legend()\n",
    "\n",
    "    # Precision Plot\n",
    "    ax3 = plt.subplot2grid((2, 4), (1, 1))\n",
    "    ax3.plot(train_precision_history, label='Train Precision')\n",
    "    ax3.plot(valid_precision_history, label='Validation Precision')\n",
    "    ax3.set_title('Training and Validation Precision')\n",
    "    ax3.set_xlabel('Epochs')\n",
    "    ax3.set_ylabel('Precision')\n",
    "    ax3.legend()\n",
    "\n",
    "    # Recall Plot\n",
    "    ax4 = plt.subplot2grid((2, 4), (1, 2))\n",
    "    ax4.plot(train_recall_history, label='Train Recall')\n",
    "    ax4.plot(valid_recall_history, label='Validation Recall')\n",
    "    ax4.set_title('Training and Validation Recall')\n",
    "    ax4.set_xlabel('Epochs')\n",
    "    ax4.set_ylabel('Recall')\n",
    "    ax4.legend()\n",
    "\n",
    "    # F1 Plot\n",
    "    ax5 = plt.subplot2grid((2, 4), (1, 3))\n",
    "    ax5.plot(train_f1_history, label='Train F1 Score')\n",
    "    ax5.plot(valid_f1_history, label='Validation F1 Score')\n",
    "    ax5.set_title('Training and Validation F1 Score')\n",
    "    ax5.set_xlabel('Epochs')\n",
    "    ax5.set_ylabel('F1 Score')\n",
    "    ax5.legend()\n",
    "\n",
    "    plt.tight_layout()\n",
    "    plt.show()"
   ]
  },
  {
   "cell_type": "code",
   "execution_count": 65,
   "metadata": {},
   "outputs": [
    {
     "data": {
      "image/png": "[encoded data removed]",
      "text/plain": [
       "<Figure size 1600x900 with 5 Axes>"
      ]
     },
     "metadata": {},
     "output_type": "display_data"
    }
   ],
   "source": [
    "plot_training_history(train_loss_history, train_acc_history, train_precision_history, train_recall_history, train_f1_history, valid_loss_history, valid_acc_history, valid_precision_history, valid_recall_history, valid_f1_history)"
   ]
  },
  {
   "cell_type": "markdown",
   "metadata": {},
   "source": [
    "### 7. 평가"
   ]
  },
  {
   "cell_type": "code",
   "execution_count": 66,
   "metadata": {},
   "outputs": [],
   "source": [
    "# 모델 로드 함수 정의\n",
    "def load_model(model_path, text_config):\n",
    "    model = TransformerModel(text_config)\n",
    "    model.load_state_dict(torch.load(model_path))\n",
    "    model.to(device)\n",
    "    return model\n",
    "\n",
    "# Inference 함수 정의\n",
    "def inference(model, test_dataloader, device):\n",
    "    model.eval()\n",
    "\n",
    "    preds_list = []\n",
    "    true_labels = []\n",
    "\n",
    "    with torch.no_grad():\n",
    "        for batch in tqdm(test_dataloader, desc='Testing'):\n",
    "            input_ids, attention_mask, labels = batch\n",
    "            input_ids, attention_mask, labels = input_ids.to(device), attention_mask.to(device), labels.to(device)\n",
    "\n",
    "            outputs = model(input_ids, attention_mask)\n",
    "            preds = torch.argmax(outputs, dim=1)\n",
    "\n",
    "            preds_list.extend(preds.cpu().numpy())\n",
    "            true_labels.extend(labels.cpu().numpy())\n",
    "\n",
    "    return preds_list, true_labels"
   ]
  },
  {
   "cell_type": "code",
   "execution_count": 67,
   "metadata": {},
   "outputs": [],
   "source": [
    "# 저장된 모델 경로\n",
    "best_model_path = path+'/YouTube(mixed)_Transformers_ACC_0.7945.pth'"
   ]
  },
  {
   "cell_type": "code",
   "execution_count": 68,
   "metadata": {},
   "outputs": [],
   "source": [
    "# 모델 불러오기\n",
    "model = load_model(best_model_path, text_config)"
   ]
  },
  {
   "cell_type": "code",
   "execution_count": 69,
   "metadata": {},
   "outputs": [
    {
     "name": "stderr",
     "output_type": "stream",
     "text": [
      "Testing: 100%|██████████| 65/65 [00:12<00:00,  5.23it/s]\n"
     ]
    }
   ],
   "source": [
    "preds_list, true_labels = inference(model, test_dataloader, device)"
   ]
  },
  {
   "cell_type": "code",
   "execution_count": 70,
   "metadata": {},
   "outputs": [
    {
     "name": "stdout",
     "output_type": "stream",
     "text": [
      "Test Accuracy: 0.8216\n",
      "Test Precision: 0.7636\n",
      "Test Recall: 0.8007\n",
      "Test F1 Score: 0.7817\n",
      "Test Confusion Matrix: \n",
      "[[1036  204]\n",
      " [ 164  659]]\n"
     ]
    }
   ],
   "source": [
    "# 평가 지표 계산\n",
    "test_accuracy = accuracy_score(true_labels, preds_list)\n",
    "test_precision = precision_score(true_labels, preds_list)\n",
    "test_recall = recall_score(true_labels, preds_list)\n",
    "test_f1 = f1_score(true_labels, preds_list)\n",
    "test_cm = confusion_matrix(true_labels, preds_list)\n",
    "\n",
    "print(f'Test Accuracy: {test_accuracy:.4f}')\n",
    "print(f'Test Precision: {test_precision:.4f}')\n",
    "print(f'Test Recall: {test_recall:.4f}')\n",
    "print(f'Test F1 Score: {test_f1:.4f}')\n",
    "print(f'Test Confusion Matrix: \\n{test_cm}')"
   ]
  }
 ],
 "metadata": {
  "kernelspec": {
   "display_name": "PySangCUDA",
   "language": "python",
   "name": "python3"
  },
  "language_info": {
   "codemirror_mode": {
    "name": "ipython",
    "version": 3
   },
   "file_extension": ".py",
   "mimetype": "text/x-python",
   "name": "python",
   "nbconvert_exporter": "python",
   "pygments_lexer": "ipython3",
   "version": "3.8.10"
  }
 },
 "nbformat": 4,
 "nbformat_minor": 2
}
