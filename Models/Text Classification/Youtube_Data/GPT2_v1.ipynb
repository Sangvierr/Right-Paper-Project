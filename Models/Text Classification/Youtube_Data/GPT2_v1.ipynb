{
 "cells": [
  {
   "cell_type": "code",
   "execution_count": 4,
   "metadata": {},
   "outputs": [
    {
     "name": "stdout",
     "output_type": "stream",
     "text": [
      "Tue Jun 18 14:52:14 2024       \n",
      "+---------------------------------------------------------------------------------------+\n",
      "| NVIDIA-SMI 535.171.04             Driver Version: 535.171.04   CUDA Version: 12.2     |\n",
      "|-----------------------------------------+----------------------+----------------------+\n",
      "| GPU  Name                 Persistence-M | Bus-Id        Disp.A | Volatile Uncorr. ECC |\n",
      "| Fan  Temp   Perf          Pwr:Usage/Cap |         Memory-Usage | GPU-Util  Compute M. |\n",
      "|                                         |                      |               MIG M. |\n",
      "|=========================================+======================+======================|\n",
      "|   0  NVIDIA L4                      Off | 00000000:00:03.0 Off |                    0 |\n",
      "| N/A   39C    P8              16W /  72W |    118MiB / 23034MiB |      0%      Default |\n",
      "|                                         |                      |                  N/A |\n",
      "+-----------------------------------------+----------------------+----------------------+\n",
      "                                                                                         \n",
      "+---------------------------------------------------------------------------------------+\n",
      "| Processes:                                                                            |\n",
      "|  GPU   GI   CI        PID   Type   Process name                            GPU Memory |\n",
      "|        ID   ID                                                             Usage      |\n",
      "|=======================================================================================|\n",
      "|    0   N/A  N/A      1051      G   /usr/lib/xorg/Xorg                           95MiB |\n",
      "|    0   N/A  N/A      1165      G   /usr/bin/gnome-shell                          9MiB |\n",
      "+---------------------------------------------------------------------------------------+\n"
     ]
    }
   ],
   "source": [
    "!nvidia-smi"
   ]
  },
  {
   "cell_type": "markdown",
   "metadata": {},
   "source": [
    "### 0. 라이브러리"
   ]
  },
  {
   "cell_type": "code",
   "execution_count": 5,
   "metadata": {},
   "outputs": [],
   "source": [
    "# 라이브러리\n",
    "import warnings\n",
    "warnings.filterwarnings('ignore')\n",
    "\n",
    "import os\n",
    "import time\n",
    "import pickle\n",
    "import random\n",
    "\n",
    "import pandas as pd\n",
    "import numpy as np\n",
    "import matplotlib.pyplot as plt\n",
    "\n",
    "from tqdm import tqdm\n",
    "from sklearn.model_selection import train_test_split\n",
    "from sklearn.metrics import accuracy_score, f1_score, recall_score, precision_score, confusion_matrix\n",
    "\n",
    "import torch\n",
    "import torch.nn as nn\n",
    "import torch.optim as optim\n",
    "from torch.utils.data import Dataset, DataLoader\n",
    "from torchmetrics.classification import BinaryAccuracy, BinaryPrecision, BinaryRecall, BinaryF1Score\n",
    "\n",
    "import transformers\n",
    "from transformers import AutoTokenizer, AutoModel, GPT2ForSequenceClassification, get_linear_schedule_with_warmup\n",
    "\n",
    "from peft import get_peft_model, LoraConfig, TaskType"
   ]
  },
  {
   "cell_type": "code",
   "execution_count": 6,
   "metadata": {},
   "outputs": [
    {
     "name": "stderr",
     "output_type": "stream",
     "text": [
      "2024-06-18 14:52:15.059094: I tensorflow/core/util/port.cc:110] oneDNN custom operations are on. You may see slightly different numerical results due to floating-point round-off errors from different computation orders. To turn them off, set the environment variable `TF_ENABLE_ONEDNN_OPTS=0`.\n",
      "2024-06-18 14:52:15.061846: I tensorflow/tsl/cuda/cudart_stub.cc:28] Could not find cuda drivers on your machine, GPU will not be used.\n",
      "2024-06-18 14:52:15.117707: I tensorflow/core/platform/cpu_feature_guard.cc:182] This TensorFlow binary is optimized to use available CPU instructions in performance-critical operations.\n",
      "To enable the following instructions: AVX2 AVX512F AVX512_VNNI FMA, in other operations, rebuild TensorFlow with the appropriate compiler flags.\n",
      "2024-06-18 14:52:15.823496: W tensorflow/compiler/tf2tensorrt/utils/py_utils.cc:38] TF-TRT Warning: Could not find TensorRT\n"
     ]
    }
   ],
   "source": [
    "# 시드 고정\n",
    "def fixSEED(seed, deterministic=True):\n",
    "    random.seed(seed)\n",
    "    np.random.seed(seed)\n",
    "    torch.manual_seed(seed)\n",
    "    torch.cuda.manual_seed_all(seed)\n",
    "    transformers.set_seed(seed)\n",
    "    if deterministic:\n",
    "        torch.backends.cudnn.deterministic = True\n",
    "        torch.backends.cudnn.benchmark = False\n",
    "\n",
    "SEED = 42\n",
    "fixSEED(seed=SEED)"
   ]
  },
  {
   "cell_type": "code",
   "execution_count": 7,
   "metadata": {},
   "outputs": [
    {
     "name": "stdout",
     "output_type": "stream",
     "text": [
      "Current path /home/leesanghyuk2000/Python_Programs\n"
     ]
    }
   ],
   "source": [
    "# 디렉토리 설정\n",
    "dir = 'Python_Programs'\n",
    "path = '/home/leesanghyuk2000/' + dir\n",
    "os.chdir(path)\n",
    "print('Current path {}'.format(os.getcwd()))"
   ]
  },
  {
   "cell_type": "code",
   "execution_count": 8,
   "metadata": {},
   "outputs": [
    {
     "name": "stdout",
     "output_type": "stream",
     "text": [
      "cuda\n"
     ]
    }
   ],
   "source": [
    "# GPU 사용 여부 확인\n",
    "device = torch.device('cuda' if torch.cuda.is_available() else 'cpu')\n",
    "print(device)"
   ]
  },
  {
   "cell_type": "code",
   "execution_count": null,
   "metadata": {},
   "outputs": [],
   "source": [
    "def checkGPU(empty=False):\n",
    "    if torch.cuda.is_available():\n",
    "        total_mem = torch.cuda.get_device_properties(0).total_memory\n",
    "        current_mem = torch.cuda.memory_allocated(0)\n",
    "        free_mem = total_mem - current_mem\n",
    "        \n",
    "        print(f'남은 GPU 메모리: {free_mem / (1024 ** 3):.2f} GB')\n",
    "        \n",
    "        if empty:\n",
    "            torch.cuda.empty_cache()\n",
    "            after_mem = torch.cuda.memory_allocated(0)\n",
    "            print(f'GPU 캐시에서 메모리 삭제 후 메모리: {after_mem / (1024 ** 3):.2f} GB')\n",
    "    else:\n",
    "        print('CUDA 사용 불가')"
   ]
  },
  {
   "cell_type": "markdown",
   "metadata": {},
   "source": [
    "### 1. 데이터 불러오기"
   ]
  },
  {
   "cell_type": "code",
   "execution_count": 11,
   "metadata": {},
   "outputs": [],
   "source": [
    "# Load data from a pickle file, and create labels\n",
    "def callData(path: str):\n",
    "    with open(path, \"rb\") as file:\n",
    "        data = pickle.load(file)\n",
    "\n",
    "    zero = data[data['label']==0]\n",
    "    non_zero = data[data['label']==1]\n",
    "\n",
    "    print(f'레이블 0 개수 : {len(zero)}')\n",
    "    print(f'레이블 1 개수 : {len(non_zero)}')\n",
    "\n",
    "    return data"
   ]
  },
  {
   "cell_type": "code",
   "execution_count": 12,
   "metadata": {},
   "outputs": [
    {
     "name": "stdout",
     "output_type": "stream",
     "text": [
      "레이블 0 개수 : 990\n",
      "레이블 1 개수 : 992\n"
     ]
    }
   ],
   "source": [
    "aihub_data = callData('AiHub_Sampled(2000).pkl')"
   ]
  },
  {
   "cell_type": "code",
   "execution_count": 13,
   "metadata": {},
   "outputs": [
    {
     "name": "stdout",
     "output_type": "stream",
     "text": [
      "레이블 0 개수 : 5208\n",
      "레이블 1 개수 : 3123\n"
     ]
    }
   ],
   "source": [
    "youtube_data = callData('youtubeData(8331)_with_label.pkl')"
   ]
  },
  {
   "cell_type": "code",
   "execution_count": 14,
   "metadata": {},
   "outputs": [],
   "source": [
    "# concat two data\n",
    "text1 = aihub_data['newsContent'] # 제목 미포함\n",
    "text2 = youtube_data['content'] # 제목 미포함\n",
    "\n",
    "label1 = aihub_data['label']\n",
    "label2 = youtube_data['label']\n",
    "\n",
    "data = pd.DataFrame({\n",
    "    'text': pd.concat([text1, text2], ignore_index=True),\n",
    "    'label': pd.concat([label1, label2], ignore_index=True)\n",
    "})"
   ]
  },
  {
   "cell_type": "code",
   "execution_count": 16,
   "metadata": {},
   "outputs": [
    {
     "data": {
      "text/plain": [
       "label\n",
       "0    6198\n",
       "1    4115\n",
       "Name: count, dtype: int64"
      ]
     },
     "execution_count": 16,
     "metadata": {},
     "output_type": "execute_result"
    }
   ],
   "source": [
    "# 레이블 확인\n",
    "data['label'].value_counts()"
   ]
  },
  {
   "cell_type": "markdown",
   "metadata": {},
   "source": [
    "### 2. Train/Test/Valid"
   ]
  },
  {
   "cell_type": "code",
   "execution_count": 17,
   "metadata": {},
   "outputs": [],
   "source": [
    "# Split into Train/Valid/Test\n",
    "def splitData(data, SEED=42):\n",
    "    train_val_data, test_data = train_test_split(data, test_size=0.2, random_state=SEED, stratify=data['label'])\n",
    "    train_data, valid_data = train_test_split(train_val_data, test_size=0.25, random_state=SEED, stratify=train_val_data['label'])\n",
    "\n",
    "    print('학습용 데이터 개수 : {}개 \\n검증용 데이터 개수 : {}개 \\n평가용 데이터 개수 : {}개'.format(len(train_data), len(valid_data), len(test_data)))\n",
    "    del train_val_data\n",
    "    return train_data, valid_data, test_data"
   ]
  },
  {
   "cell_type": "code",
   "execution_count": 18,
   "metadata": {},
   "outputs": [
    {
     "name": "stdout",
     "output_type": "stream",
     "text": [
      "학습용 데이터 개수 : 6187개 \n",
      "검증용 데이터 개수 : 2063개 \n",
      "평가용 데이터 개수 : 2063개\n"
     ]
    }
   ],
   "source": [
    "train_data, valid_data, test_data = splitData(data)"
   ]
  },
  {
   "cell_type": "markdown",
   "metadata": {},
   "source": [
    "### 3. Dataset 및 Dataloader 정의"
   ]
  },
  {
   "cell_type": "code",
   "execution_count": 19,
   "metadata": {},
   "outputs": [],
   "source": [
    "# 파라미터 개수 확인\n",
    "def print_trainable_parameters(model):\n",
    "    trainable_params = 0\n",
    "    all_param = 0\n",
    "    for _, param in model.named_parameters():\n",
    "        all_param += param.numel()\n",
    "        if param.requires_grad:\n",
    "            trainable_params += param.numel()\n",
    "    print(f\"Trainable Params: {trainable_params} \\nAll params: {all_param}\")\n",
    "    print('-'*50)\n",
    "    print(f\"Trainable(%): {round(100 * trainable_params / all_param, 5)}\")"
   ]
  },
  {
   "cell_type": "code",
   "execution_count": 20,
   "metadata": {},
   "outputs": [],
   "source": [
    "# Mixed Dataset for GPT2 Classification\n",
    "class GPT2Dataset(Dataset):\n",
    "    def __init__(self, data, tokenizer, max_length):\n",
    "        self.data = data\n",
    "        self.tokenizer = tokenizer\n",
    "        self.max_length = max_length\n",
    "    \n",
    "    def __len__(self):\n",
    "        return len(self.data)\n",
    "    \n",
    "    def __getitem__(self, idx):\n",
    "        text = self.data.iloc[idx]['text']\n",
    "        label = self.data.iloc[idx]['label']\n",
    "        \n",
    "        inputs = self.tokenizer(text, return_tensors='pt', padding='max_length', truncation=True, max_length=self.max_length)\n",
    "        \n",
    "        input_ids = inputs['input_ids'].squeeze(0)\n",
    "        attention_mask = inputs['attention_mask'].squeeze(0)\n",
    "\n",
    "        return input_ids, attention_mask, torch.tensor(label, dtype=torch.long) # 정수형"
   ]
  },
  {
   "cell_type": "markdown",
   "metadata": {},
   "source": [
    "### 4. GPT2 Model"
   ]
  },
  {
   "cell_type": "code",
   "execution_count": 34,
   "metadata": {},
   "outputs": [],
   "source": [
    "class BaitingDetectGPT2(nn.Module):\n",
    "    def __init__(self, model_checkpoint, lora_r=16, lora_alpha=1, lora_dropout=0.1, num_labels=2):\n",
    "        super(BaitingDetectGPT2, self).__init__()\n",
    "        self.num_labels = num_labels\n",
    "        \n",
    "        # Pre-trained GPT-2 layer\n",
    "        self.model = GPT2ForSequenceClassification.from_pretrained(model_checkpoint, num_labels=num_labels) # Automodel은 labels 인자가 없다는 에러로 인해 seq clf로 변경\n",
    "        \n",
    "        # LoRA configuration for GPT-2 layer\n",
    "        lora_config = LoraConfig(\n",
    "            task_type=TaskType.SEQ_CLS,\n",
    "            #target_modules=[\"query\", 'key', \"value\"],\n",
    "            r=lora_r,\n",
    "            lora_alpha=lora_alpha,\n",
    "            lora_dropout=lora_dropout\n",
    "        )\n",
    "        self.model = get_peft_model(self.model, lora_config)\n",
    "        \n",
    "        # Dropout\n",
    "        self.dropout = nn.Dropout(0.1)\n",
    "        \n",
    "    def forward(self, input_ids, attention_mask):\n",
    "        output = self.model(input_ids=input_ids, attention_mask=attention_mask).logits\n",
    "        output = self.dropout(output)\n",
    "        \n",
    "        return output"
   ]
  },
  {
   "cell_type": "markdown",
   "metadata": {},
   "source": [
    "### 5. 학습용 Trainer 정의"
   ]
  },
  {
   "cell_type": "code",
   "execution_count": 23,
   "metadata": {},
   "outputs": [],
   "source": [
    "class Trainer:\n",
    "    def __init__(self, model, train_dataloader, valid_dataloader, criterion, optimizer, acc_metric, precision_metric, recall_metric, f1_metric, device, num_epochs, wait_for_es):\n",
    "        self.model = model  # model for training\n",
    "        self.train_dataloader = train_dataloader  # training dataloader\n",
    "        self.valid_dataloader = valid_dataloader  # validation dataloader\n",
    "        self.criterion = criterion  # loss function\n",
    "        self.optimizer = optimizer  # optimizer\n",
    "        self.acc_metric = acc_metric  # accuracy metric\n",
    "        self.precision_metric = precision_metric  # precision metric\n",
    "        self.recall_metric = recall_metric  # recall metric\n",
    "        self.f1_metric = f1_metric  # f1 score metric\n",
    "        self.device = device  # device(cuda or cpu)\n",
    "        self.num_epochs = num_epochs  # number of epochs\n",
    "        self.wait_for_es = wait_for_es  # early stopping patience\n",
    "\n",
    "        # 스케줄러 초기화\n",
    "        total_steps = len(train_dataloader) * num_epochs\n",
    "        self.scheduler = get_linear_schedule_with_warmup(self.optimizer, num_warmup_steps=0, num_training_steps=total_steps)\n",
    "\n",
    "    def train(self):\n",
    "        train_loss_history, train_acc_history, train_precision_history, train_recall_history, train_f1_history = [], [], [], [], []\n",
    "        valid_loss_history, valid_acc_history, valid_precision_history, valid_recall_history, valid_f1_history = [], [], [], [], []\n",
    "\n",
    "        best_loss = float('inf')\n",
    "        count = 0\n",
    "        best_acc = 0\n",
    "        start_time = time.time()\n",
    "\n",
    "        for epoch in range(self.num_epochs):\n",
    "            print('-' * 100)\n",
    "            print(f'Epoch {epoch+1}/{self.num_epochs}')\n",
    "            print('-' * 100)\n",
    "\n",
    "            train_loss, train_acc, train_precision, train_recall, train_f1 = self._train_model()\n",
    "            valid_loss, valid_acc, valid_precision, valid_recall, valid_f1 = self._valid_model()\n",
    "\n",
    "            train_loss_history.append(train_loss)\n",
    "            train_acc_history.append(train_acc)\n",
    "            train_precision_history.append(train_precision)\n",
    "            train_recall_history.append(train_recall)\n",
    "            train_f1_history.append(train_f1)\n",
    "\n",
    "            valid_loss_history.append(valid_loss)\n",
    "            valid_acc_history.append(valid_acc)\n",
    "            valid_precision_history.append(valid_precision)\n",
    "            valid_recall_history.append(valid_recall)\n",
    "            valid_f1_history.append(valid_f1)\n",
    "\n",
    "            elapsed_time = time.time() - start_time\n",
    "            print(f'[Train] \\t Loss: {train_loss:.4f} \\t Acc: {train_acc:.4f} \\t Precision: {train_precision:.4f} \\t Recall: {train_recall:.4f} \\t F1: {train_f1:.4f}')\n",
    "            print(f'[Valid] \\t Loss: {valid_loss:.4f} \\t Acc: {valid_acc:.4f} \\t Precision: {valid_precision:.4f} \\t Recall: {valid_recall:.4f} \\t F1: {valid_f1:.4f}')\n",
    "            print(f'▶️ Epoch {epoch+1} complete in {elapsed_time // 60:.0f}m {elapsed_time % 60:.0f}s')\n",
    "\n",
    "            if valid_acc > best_acc:\n",
    "                best_acc = valid_acc\n",
    "                try:\n",
    "                    save_path = f'./YouTube(mixed)_GPT2_ACC_{valid_acc:.4f}.pth'\n",
    "                    torch.save(self.model.state_dict(), save_path)\n",
    "                    print(f'▶️ Model Saved to {save_path}')\n",
    "                except Exception as e:\n",
    "                    print(f'▶️ Model Not Saved: {e}')\n",
    "                    continue\n",
    "\n",
    "            if valid_loss < best_loss:\n",
    "                best_loss = valid_loss\n",
    "                count = 0\n",
    "            else:\n",
    "                count += 1\n",
    "                if count >= self.wait_for_es:\n",
    "                    print(f'▶️▶️▶️ Early Stopping at Epoch {epoch+1} ◀️◀️◀️')\n",
    "                    break\n",
    "\n",
    "        return train_loss_history, train_acc_history, train_precision_history, train_recall_history, train_f1_history, valid_loss_history, valid_acc_history, valid_precision_history, valid_recall_history, valid_f1_history\n",
    "\n",
    "    # Training function\n",
    "    def _train_model(self):\n",
    "        self.model.train()\n",
    "\n",
    "        train_loss = 0\n",
    "        train_acc = 0\n",
    "        train_precision = 0\n",
    "        train_recall = 0\n",
    "        train_f1 = 0\n",
    "\n",
    "        for batch in tqdm(self.train_dataloader, desc='Training'):\n",
    "            input_ids, attention_mask, y = batch\n",
    "            input_ids, attention_mask, y = input_ids.to(self.device), attention_mask.to(self.device), y.to(self.device)\n",
    "\n",
    "            outputs = self.model(input_ids, attention_mask)\n",
    "            loss = self.criterion(outputs, y)\n",
    "\n",
    "            self.optimizer.zero_grad()\n",
    "            loss.backward()\n",
    "            self.optimizer.step()\n",
    "            self.scheduler.step()  # 스케줄러 업데이트\n",
    "\n",
    "            preds = torch.argmax(outputs, dim=1)\n",
    "            train_loss += loss.item()\n",
    "            train_acc += self.acc_metric(preds, y).item()\n",
    "            train_precision += self.precision_metric(preds, y).item()\n",
    "            train_recall += self.recall_metric(preds, y).item()\n",
    "            train_f1 += self.f1_metric(preds, y).item()\n",
    "\n",
    "        return train_loss / len(self.train_dataloader), train_acc / len(self.train_dataloader), train_precision / len(self.train_dataloader), train_recall / len(self.train_dataloader), train_f1 / len(self.train_dataloader)\n",
    "\n",
    "    # Validating function\n",
    "    def _valid_model(self):\n",
    "        self.model.eval()\n",
    "\n",
    "        valid_loss = 0\n",
    "        valid_acc = 0\n",
    "        valid_precision = 0\n",
    "        valid_recall = 0\n",
    "        valid_f1 = 0\n",
    "\n",
    "        with torch.no_grad():\n",
    "            for batch in tqdm(self.valid_dataloader, desc='Validating'):\n",
    "                input_ids, attention_mask, y = batch\n",
    "                input_ids, attention_mask, y = input_ids.to(self.device), attention_mask.to(self.device), y.to(self.device)\n",
    "\n",
    "                outputs = self.model(input_ids, attention_mask)\n",
    "                loss = self.criterion(outputs, y)\n",
    "\n",
    "                preds = torch.argmax(outputs, dim=1)\n",
    "                valid_loss += loss.item()\n",
    "                valid_acc += self.acc_metric(preds, y).item()\n",
    "                valid_precision += self.precision_metric(preds, y).item()\n",
    "                valid_recall += self.recall_metric(preds, y).item()\n",
    "                valid_f1 += self.f1_metric(preds, y).item()\n",
    "\n",
    "        return valid_loss / len(self.valid_dataloader), valid_acc / len(self.valid_dataloader), valid_precision / len(self.valid_dataloader), valid_recall / len(self.valid_dataloader), valid_f1 / len(self.valid_dataloader)"
   ]
  },
  {
   "cell_type": "markdown",
   "metadata": {},
   "source": [
    "### 6. 학습 진행"
   ]
  },
  {
   "cell_type": "code",
   "execution_count": 24,
   "metadata": {},
   "outputs": [],
   "source": [
    "# 데이터셋 파라미터\n",
    "batch_size = 32\n",
    "num_labels = 2\n",
    "max_length = 64\n",
    "\n",
    "model_checkpoint = 'skt/kogpt2-base-v2'\n",
    "tokenizer = AutoTokenizer.from_pretrained(model_checkpoint,\n",
    "                                          bos_token='</s>', eos_token='</s>', unk_token='<unk>',\n",
    "                                          pad_token='<pad>', mask_token='<mask>')"
   ]
  },
  {
   "cell_type": "code",
   "execution_count": 25,
   "metadata": {},
   "outputs": [],
   "source": [
    "# 데이터셋 정의\n",
    "train_dataset = GPT2Dataset(train_data, tokenizer, max_length)\n",
    "valid_dataset = GPT2Dataset(valid_data, tokenizer, max_length)\n",
    "test_dataset = GPT2Dataset(test_data, tokenizer, max_length)"
   ]
  },
  {
   "cell_type": "code",
   "execution_count": 26,
   "metadata": {},
   "outputs": [
    {
     "data": {
      "text/plain": [
       "[tensor([[44362,  9651,  6872,  ...,  9080,  9723,  7098],\n",
       "         [42915,  8452,  9023,  ..., 27873,  9426,  9518],\n",
       "         [ 9528, 18354, 10135,  ...,  9947,  9065, 10605],\n",
       "         ...,\n",
       "         [ 9141,  8031,  9028,  ...,  9651,  7080,  7162],\n",
       "         [25906,  8702,  7801,  ...,  7714,  8715,  8146],\n",
       "         [ 9490, 18937, 21190,  ...,  9226, 19077,  7416]]),\n",
       " tensor([[1, 1, 1,  ..., 1, 1, 1],\n",
       "         [1, 1, 1,  ..., 1, 1, 1],\n",
       "         [1, 1, 1,  ..., 1, 1, 1],\n",
       "         ...,\n",
       "         [1, 1, 1,  ..., 1, 1, 1],\n",
       "         [1, 1, 1,  ..., 1, 1, 1],\n",
       "         [1, 1, 1,  ..., 1, 1, 1]]),\n",
       " tensor([0, 1, 1, 1, 1, 0, 0, 0, 0, 0, 1, 0, 1, 1, 0, 0, 1, 0, 1, 1, 1, 0, 1, 0,\n",
       "         1, 1, 0, 1, 0, 1, 0, 1])]"
      ]
     },
     "execution_count": 26,
     "metadata": {},
     "output_type": "execute_result"
    }
   ],
   "source": [
    "# 데이터로더 정의\n",
    "train_dataloader = DataLoader(train_dataset, batch_size=batch_size, shuffle=True)\n",
    "valid_dataloader = DataLoader(valid_dataset, batch_size=batch_size, shuffle=True)\n",
    "test_dataloader = DataLoader(test_dataset, batch_size=batch_size, shuffle=False)\n",
    "\n",
    "next(iter(train_dataloader))"
   ]
  },
  {
   "cell_type": "code",
   "execution_count": 35,
   "metadata": {},
   "outputs": [
    {
     "name": "stderr",
     "output_type": "stream",
     "text": [
      "Some weights of GPT2ForSequenceClassification were not initialized from the model checkpoint at skt/kogpt2-base-v2 and are newly initialized: ['score.weight']\n",
      "You should probably TRAIN this model on a down-stream task to be able to use it for predictions and inference.\n"
     ]
    },
    {
     "data": {
      "text/plain": [
       "BaitingDetectGPT2(\n",
       "  (model): PeftModelForSequenceClassification(\n",
       "    (base_model): LoraModel(\n",
       "      (model): GPT2ForSequenceClassification(\n",
       "        (transformer): GPT2Model(\n",
       "          (wte): Embedding(51200, 768)\n",
       "          (wpe): Embedding(1024, 768)\n",
       "          (drop): Dropout(p=0.1, inplace=False)\n",
       "          (h): ModuleList(\n",
       "            (0-11): 12 x GPT2Block(\n",
       "              (ln_1): LayerNorm((768,), eps=1e-05, elementwise_affine=True)\n",
       "              (attn): GPT2Attention(\n",
       "                (c_attn): lora.Linear(\n",
       "                  (base_layer): Conv1D()\n",
       "                  (lora_dropout): ModuleDict(\n",
       "                    (default): Dropout(p=0.1, inplace=False)\n",
       "                  )\n",
       "                  (lora_A): ModuleDict(\n",
       "                    (default): Linear(in_features=768, out_features=16, bias=False)\n",
       "                  )\n",
       "                  (lora_B): ModuleDict(\n",
       "                    (default): Linear(in_features=16, out_features=2304, bias=False)\n",
       "                  )\n",
       "                  (lora_embedding_A): ParameterDict()\n",
       "                  (lora_embedding_B): ParameterDict()\n",
       "                )\n",
       "                (c_proj): Conv1D()\n",
       "                (attn_dropout): Dropout(p=0.1, inplace=False)\n",
       "                (resid_dropout): Dropout(p=0.1, inplace=False)\n",
       "              )\n",
       "              (ln_2): LayerNorm((768,), eps=1e-05, elementwise_affine=True)\n",
       "              (mlp): GPT2MLP(\n",
       "                (c_fc): Conv1D()\n",
       "                (c_proj): Conv1D()\n",
       "                (act): NewGELUActivation()\n",
       "                (dropout): Dropout(p=0.1, inplace=False)\n",
       "              )\n",
       "            )\n",
       "          )\n",
       "          (ln_f): LayerNorm((768,), eps=1e-05, elementwise_affine=True)\n",
       "        )\n",
       "        (score): ModulesToSaveWrapper(\n",
       "          (original_module): Linear(in_features=768, out_features=2, bias=False)\n",
       "          (modules_to_save): ModuleDict(\n",
       "            (default): Linear(in_features=768, out_features=2, bias=False)\n",
       "          )\n",
       "        )\n",
       "      )\n",
       "    )\n",
       "  )\n",
       "  (dropout): Dropout(p=0.1, inplace=False)\n",
       ")"
      ]
     },
     "execution_count": 35,
     "metadata": {},
     "output_type": "execute_result"
    }
   ],
   "source": [
    "# Model\n",
    "model = BaitingDetectGPT2(model_checkpoint)\n",
    "model.to(device)"
   ]
  },
  {
   "cell_type": "code",
   "execution_count": 36,
   "metadata": {},
   "outputs": [
    {
     "name": "stdout",
     "output_type": "stream",
     "text": [
      "Trainable Params: 591360 \n",
      "All params: 125756928\n",
      "--------------------------------------------------\n",
      "Trainable(%): 0.47024\n"
     ]
    }
   ],
   "source": [
    "print_trainable_parameters(model)"
   ]
  },
  {
   "cell_type": "code",
   "execution_count": 41,
   "metadata": {},
   "outputs": [],
   "source": [
    "# 학습 파라미터\n",
    "num_epochs = 10\n",
    "wait_for_es = 5\n",
    "\n",
    "learning_rate = 2e-5\n",
    "wd_rate = 3e-3\n",
    "eps_rate = 1e-8"
   ]
  },
  {
   "cell_type": "code",
   "execution_count": 42,
   "metadata": {},
   "outputs": [],
   "source": [
    "# 손실함수, 옵티마이저, Metrics\n",
    "criterion = nn.CrossEntropyLoss()\n",
    "optimizer = optim.AdamW(model.parameters(), lr=learning_rate, weight_decay=wd_rate, eps=eps_rate)\n",
    "acc_metric = BinaryAccuracy().to(device)\n",
    "f1_metric = BinaryF1Score().to(device)\n",
    "precision_metric = BinaryPrecision().to(device)\n",
    "recall_metric = BinaryRecall().to(device)"
   ]
  },
  {
   "cell_type": "code",
   "execution_count": 43,
   "metadata": {},
   "outputs": [],
   "source": [
    "# Trainer 정의\n",
    "trainer = Trainer(model,\n",
    "                  train_dataloader,\n",
    "                  valid_dataloader,\n",
    "                  criterion,\n",
    "                  optimizer,\n",
    "                  acc_metric,\n",
    "                  precision_metric,\n",
    "                  recall_metric,\n",
    "                  f1_metric,\n",
    "                  device,\n",
    "                  num_epochs,\n",
    "                  wait_for_es)"
   ]
  },
  {
   "cell_type": "code",
   "execution_count": 44,
   "metadata": {},
   "outputs": [
    {
     "name": "stdout",
     "output_type": "stream",
     "text": [
      "----------------------------------------------------------------------------------------------------\n",
      "Epoch 1/10\n",
      "----------------------------------------------------------------------------------------------------\n"
     ]
    },
    {
     "name": "stderr",
     "output_type": "stream",
     "text": [
      "Training: 100%|██████████| 194/194 [00:52<00:00,  3.69it/s]\n",
      "Validating: 100%|██████████| 65/65 [00:13<00:00,  4.88it/s]\n"
     ]
    },
    {
     "name": "stdout",
     "output_type": "stream",
     "text": [
      "[Train] \t Loss: 0.7956 \t Acc: 0.5677 \t Precision: 0.4509 \t Recall: 0.3834 \t F1: 0.4048\n",
      "[Valid] \t Loss: 0.7273 \t Acc: 0.5925 \t Precision: 0.4783 \t Recall: 0.4068 \t F1: 0.4315\n",
      "▶️ Epoch 1 complete in 1m 6s\n",
      "▶️ Model Saved to ./YouTube(mixed)_GPT2_ACC_0.5925.pth\n",
      "----------------------------------------------------------------------------------------------------\n",
      "Epoch 2/10\n",
      "----------------------------------------------------------------------------------------------------\n"
     ]
    },
    {
     "name": "stderr",
     "output_type": "stream",
     "text": [
      "Training: 100%|██████████| 194/194 [00:53<00:00,  3.64it/s]\n",
      "Validating: 100%|██████████| 65/65 [00:13<00:00,  4.85it/s]\n"
     ]
    },
    {
     "name": "stdout",
     "output_type": "stream",
     "text": [
      "[Train] \t Loss: 0.6794 \t Acc: 0.6345 \t Precision: 0.5498 \t Recall: 0.4659 \t F1: 0.4918\n",
      "[Valid] \t Loss: 0.6454 \t Acc: 0.6440 \t Precision: 0.5656 \t Recall: 0.4612 \t F1: 0.4972\n",
      "▶️ Epoch 2 complete in 2m 13s\n",
      "▶️ Model Saved to ./YouTube(mixed)_GPT2_ACC_0.6440.pth\n",
      "----------------------------------------------------------------------------------------------------\n",
      "Epoch 3/10\n",
      "----------------------------------------------------------------------------------------------------\n"
     ]
    },
    {
     "name": "stderr",
     "output_type": "stream",
     "text": [
      "Training: 100%|██████████| 194/194 [00:52<00:00,  3.69it/s]\n",
      "Validating: 100%|██████████| 65/65 [00:13<00:00,  4.73it/s]\n"
     ]
    },
    {
     "name": "stdout",
     "output_type": "stream",
     "text": [
      "[Train] \t Loss: 0.6122 \t Acc: 0.6753 \t Precision: 0.6063 \t Recall: 0.5163 \t F1: 0.5481\n",
      "[Valid] \t Loss: 0.5951 \t Acc: 0.6763 \t Precision: 0.6096 \t Recall: 0.5343 \t F1: 0.5604\n",
      "▶️ Epoch 3 complete in 3m 20s\n",
      "▶️ Model Saved to ./YouTube(mixed)_GPT2_ACC_0.6763.pth\n",
      "----------------------------------------------------------------------------------------------------\n",
      "Epoch 4/10\n",
      "----------------------------------------------------------------------------------------------------\n"
     ]
    },
    {
     "name": "stderr",
     "output_type": "stream",
     "text": [
      "Training: 100%|██████████| 194/194 [00:52<00:00,  3.69it/s]\n",
      "Validating: 100%|██████████| 65/65 [00:13<00:00,  4.76it/s]\n"
     ]
    },
    {
     "name": "stdout",
     "output_type": "stream",
     "text": [
      "[Train] \t Loss: 0.5714 \t Acc: 0.7040 \t Precision: 0.6412 \t Recall: 0.5967 \t F1: 0.6065\n",
      "[Valid] \t Loss: 0.5634 \t Acc: 0.7030 \t Precision: 0.6415 \t Recall: 0.5985 \t F1: 0.6102\n",
      "▶️ Epoch 4 complete in 4m 27s\n",
      "▶️ Model Saved to ./YouTube(mixed)_GPT2_ACC_0.7030.pth\n",
      "----------------------------------------------------------------------------------------------------\n",
      "Epoch 5/10\n",
      "----------------------------------------------------------------------------------------------------\n"
     ]
    },
    {
     "name": "stderr",
     "output_type": "stream",
     "text": [
      "Training: 100%|██████████| 194/194 [00:52<00:00,  3.66it/s]\n",
      "Validating: 100%|██████████| 65/65 [00:13<00:00,  4.83it/s]\n"
     ]
    },
    {
     "name": "stdout",
     "output_type": "stream",
     "text": [
      "[Train] \t Loss: 0.5352 \t Acc: 0.7315 \t Precision: 0.6775 \t Recall: 0.6331 \t F1: 0.6447\n",
      "[Valid] \t Loss: 0.5425 \t Acc: 0.7176 \t Precision: 0.6485 \t Recall: 0.6401 \t F1: 0.6301\n",
      "▶️ Epoch 5 complete in 5m 35s\n",
      "▶️ Model Saved to ./YouTube(mixed)_GPT2_ACC_0.7176.pth\n",
      "----------------------------------------------------------------------------------------------------\n",
      "Epoch 6/10\n",
      "----------------------------------------------------------------------------------------------------\n"
     ]
    },
    {
     "name": "stderr",
     "output_type": "stream",
     "text": [
      "Training: 100%|██████████| 194/194 [00:52<00:00,  3.72it/s]\n",
      "Validating: 100%|██████████| 65/65 [00:13<00:00,  4.93it/s]\n"
     ]
    },
    {
     "name": "stdout",
     "output_type": "stream",
     "text": [
      "[Train] \t Loss: 0.5184 \t Acc: 0.7383 \t Precision: 0.6782 \t Recall: 0.6581 \t F1: 0.6595\n",
      "[Valid] \t Loss: 0.5294 \t Acc: 0.7277 \t Precision: 0.6598 \t Recall: 0.6522 \t F1: 0.6486\n",
      "▶️ Epoch 6 complete in 6m 41s\n",
      "▶️ Model Saved to ./YouTube(mixed)_GPT2_ACC_0.7277.pth\n",
      "----------------------------------------------------------------------------------------------------\n",
      "Epoch 7/10\n",
      "----------------------------------------------------------------------------------------------------\n"
     ]
    },
    {
     "name": "stderr",
     "output_type": "stream",
     "text": [
      "Training: 100%|██████████| 194/194 [00:52<00:00,  3.69it/s]\n",
      "Validating: 100%|██████████| 65/65 [00:13<00:00,  4.81it/s]\n"
     ]
    },
    {
     "name": "stdout",
     "output_type": "stream",
     "text": [
      "[Train] \t Loss: 0.5063 \t Acc: 0.7441 \t Precision: 0.6871 \t Recall: 0.6730 \t F1: 0.6692\n",
      "[Valid] \t Loss: 0.5207 \t Acc: 0.7309 \t Precision: 0.6674 \t Recall: 0.6467 \t F1: 0.6499\n",
      "▶️ Epoch 7 complete in 7m 48s\n",
      "▶️ Model Saved to ./YouTube(mixed)_GPT2_ACC_0.7309.pth\n",
      "----------------------------------------------------------------------------------------------------\n",
      "Epoch 8/10\n",
      "----------------------------------------------------------------------------------------------------\n"
     ]
    },
    {
     "name": "stderr",
     "output_type": "stream",
     "text": [
      "Training: 100%|██████████| 194/194 [00:52<00:00,  3.69it/s]\n",
      "Validating: 100%|██████████| 65/65 [00:12<00:00,  5.06it/s]\n"
     ]
    },
    {
     "name": "stdout",
     "output_type": "stream",
     "text": [
      "[Train] \t Loss: 0.4910 \t Acc: 0.7586 \t Precision: 0.6972 \t Recall: 0.6876 \t F1: 0.6824\n",
      "[Valid] \t Loss: 0.5155 \t Acc: 0.7353 \t Precision: 0.6723 \t Recall: 0.6659 \t F1: 0.6606\n",
      "▶️ Epoch 8 complete in 8m 54s\n",
      "▶️ Model Saved to ./YouTube(mixed)_GPT2_ACC_0.7353.pth\n",
      "----------------------------------------------------------------------------------------------------\n",
      "Epoch 9/10\n",
      "----------------------------------------------------------------------------------------------------\n"
     ]
    },
    {
     "name": "stderr",
     "output_type": "stream",
     "text": [
      "Training: 100%|██████████| 194/194 [00:51<00:00,  3.77it/s]\n",
      "Validating: 100%|██████████| 65/65 [00:12<00:00,  5.06it/s]\n"
     ]
    },
    {
     "name": "stdout",
     "output_type": "stream",
     "text": [
      "[Train] \t Loss: 0.4888 \t Acc: 0.7600 \t Precision: 0.7005 \t Recall: 0.6973 \t F1: 0.6905\n",
      "[Valid] \t Loss: 0.5118 \t Acc: 0.7367 \t Precision: 0.6717 \t Recall: 0.6727 \t F1: 0.6612\n",
      "▶️ Epoch 9 complete in 9m 59s\n",
      "▶️ Model Saved to ./YouTube(mixed)_GPT2_ACC_0.7367.pth\n",
      "----------------------------------------------------------------------------------------------------\n",
      "Epoch 10/10\n",
      "----------------------------------------------------------------------------------------------------\n"
     ]
    },
    {
     "name": "stderr",
     "output_type": "stream",
     "text": [
      "Training: 100%|██████████| 194/194 [00:51<00:00,  3.77it/s]\n",
      "Validating: 100%|██████████| 65/65 [00:12<00:00,  5.03it/s]\n"
     ]
    },
    {
     "name": "stdout",
     "output_type": "stream",
     "text": [
      "[Train] \t Loss: 0.4889 \t Acc: 0.7605 \t Precision: 0.7001 \t Recall: 0.7010 \t F1: 0.6938\n",
      "[Valid] \t Loss: 0.5097 \t Acc: 0.7376 \t Precision: 0.6689 \t Recall: 0.6605 \t F1: 0.6578\n",
      "▶️ Epoch 10 complete in 11m 4s\n",
      "▶️ Model Saved to ./YouTube(mixed)_GPT2_ACC_0.7376.pth\n"
     ]
    }
   ],
   "source": [
    "# 학습 시작\n",
    "train_loss_history, train_acc_history, train_precision_history, train_recall_history, train_f1_history, valid_loss_history, valid_acc_history, valid_precision_history, valid_recall_history, valid_f1_history = trainer.train()"
   ]
  },
  {
   "cell_type": "code",
   "execution_count": 45,
   "metadata": {},
   "outputs": [],
   "source": [
    "# 학습 과정 시각화 함수\n",
    "def plot_training_history(train_loss_history, train_acc_history, train_precision_history, train_recall_history, train_f1_history,\n",
    "                          valid_loss_history, valid_acc_history, valid_precision_history, valid_recall_history, valid_f1_history):\n",
    "    fig = plt.figure(figsize=(16, 9))\n",
    "\n",
    "    # Loss Plot\n",
    "    ax1 = plt.subplot2grid((2, 4), (0, 0), colspan=4)\n",
    "    ax1.plot(train_loss_history, label='Train Loss')\n",
    "    ax1.plot(valid_loss_history, label='Validation Loss')\n",
    "    ax1.set_title('Training and Validation Loss')\n",
    "    ax1.set_xlabel('Epochs')\n",
    "    ax1.set_ylabel('Loss')\n",
    "    ax1.legend()\n",
    "\n",
    "    # Accuracy Plot\n",
    "    ax2 = plt.subplot2grid((2, 4), (1, 0))\n",
    "    ax2.plot(train_acc_history, label='Train Accuracy')\n",
    "    ax2.plot(valid_acc_history, label='Validation Accuracy')\n",
    "    ax2.set_title('Training and Validation Accuracy')\n",
    "    ax2.set_xlabel('Epochs')\n",
    "    ax2.set_ylabel('Accuracy')\n",
    "    ax2.legend()\n",
    "\n",
    "    # Precision Plot\n",
    "    ax3 = plt.subplot2grid((2, 4), (1, 1))\n",
    "    ax3.plot(train_precision_history, label='Train Precision')\n",
    "    ax3.plot(valid_precision_history, label='Validation Precision')\n",
    "    ax3.set_title('Training and Validation Precision')\n",
    "    ax3.set_xlabel('Epochs')\n",
    "    ax3.set_ylabel('Precision')\n",
    "    ax3.legend()\n",
    "\n",
    "    # Recall Plot\n",
    "    ax4 = plt.subplot2grid((2, 4), (1, 2))\n",
    "    ax4.plot(train_recall_history, label='Train Recall')\n",
    "    ax4.plot(valid_recall_history, label='Validation Recall')\n",
    "    ax4.set_title('Training and Validation Recall')\n",
    "    ax4.set_xlabel('Epochs')\n",
    "    ax4.set_ylabel('Recall')\n",
    "    ax4.legend()\n",
    "\n",
    "    # F1 Plot\n",
    "    ax5 = plt.subplot2grid((2, 4), (1, 3))\n",
    "    ax5.plot(train_f1_history, label='Train F1 Score')\n",
    "    ax5.plot(valid_f1_history, label='Validation F1 Score')\n",
    "    ax5.set_title('Training and Validation F1 Score')\n",
    "    ax5.set_xlabel('Epochs')\n",
    "    ax5.set_ylabel('F1 Score')\n",
    "    ax5.legend()\n",
    "\n",
    "    plt.tight_layout()\n",
    "    plt.show()"
   ]
  },
  {
   "cell_type": "code",
   "execution_count": 46,
   "metadata": {},
   "outputs": [
    {
     "data": {
      "image/png": "[encoded data removed]",
      "text/plain": [
       "<Figure size 1600x900 with 5 Axes>"
      ]
     },
     "metadata": {},
     "output_type": "display_data"
    }
   ],
   "source": [
    "plot_training_history(train_loss_history, train_acc_history, train_precision_history, train_recall_history, train_f1_history, valid_loss_history, valid_acc_history, valid_precision_history, valid_recall_history, valid_f1_history)"
   ]
  },
  {
   "cell_type": "markdown",
   "metadata": {},
   "source": [
    "### 7. 평가"
   ]
  },
  {
   "cell_type": "code",
   "execution_count": 47,
   "metadata": {},
   "outputs": [],
   "source": [
    "# 모델 로드 함수 정의\n",
    "def load_model(model_path, model_checkpoint):\n",
    "    model = BaitingDetectGPT2(model_checkpoint)\n",
    "    model.load_state_dict(torch.load(model_path))\n",
    "    model.to(device)\n",
    "    return model\n",
    "\n",
    "# Inference 함수 정의\n",
    "def inference(model, test_dataloader, device):\n",
    "    model.eval()\n",
    "\n",
    "    preds_list = []\n",
    "    true_labels = []\n",
    "\n",
    "    with torch.no_grad():\n",
    "        for batch in tqdm(test_dataloader, desc='Testing'):\n",
    "            input_ids, attention_mask, labels = batch\n",
    "            input_ids, attention_mask, labels = input_ids.to(device), attention_mask.to(device), labels.to(device)\n",
    "\n",
    "            outputs = model(input_ids, attention_mask)\n",
    "            preds = torch.argmax(outputs, dim=1)\n",
    "\n",
    "            preds_list.extend(preds.cpu().numpy())\n",
    "            true_labels.extend(labels.cpu().numpy())\n",
    "\n",
    "    return preds_list, true_labels"
   ]
  },
  {
   "cell_type": "code",
   "execution_count": 50,
   "metadata": {},
   "outputs": [],
   "source": [
    "# 저장된 모델 경로\n",
    "best_model_path = path+'/YouTube(mixed)_GPT2_ACC_0.7376.pth'"
   ]
  },
  {
   "cell_type": "code",
   "execution_count": 51,
   "metadata": {},
   "outputs": [
    {
     "name": "stderr",
     "output_type": "stream",
     "text": [
      "Some weights of GPT2ForSequenceClassification were not initialized from the model checkpoint at skt/kogpt2-base-v2 and are newly initialized: ['score.weight']\n",
      "You should probably TRAIN this model on a down-stream task to be able to use it for predictions and inference.\n"
     ]
    }
   ],
   "source": [
    "# 모델 불러오기\n",
    "model = load_model(best_model_path, model_checkpoint)"
   ]
  },
  {
   "cell_type": "code",
   "execution_count": 52,
   "metadata": {},
   "outputs": [
    {
     "name": "stderr",
     "output_type": "stream",
     "text": [
      "Testing: 100%|██████████| 65/65 [00:11<00:00,  5.43it/s]\n"
     ]
    }
   ],
   "source": [
    "preds_list, true_labels = inference(model, test_dataloader, device)"
   ]
  },
  {
   "cell_type": "code",
   "execution_count": 53,
   "metadata": {},
   "outputs": [
    {
     "name": "stdout",
     "output_type": "stream",
     "text": [
      "Test Accuracy: 0.7693\n",
      "Test Precision: 0.7227\n",
      "Test Recall: 0.6841\n",
      "Test F1 Score: 0.7029\n",
      "Test Confusion Matrix: \n",
      "[[1024  216]\n",
      " [ 260  563]]\n"
     ]
    }
   ],
   "source": [
    "# 평가 지표 계산\n",
    "test_accuracy = accuracy_score(true_labels, preds_list)\n",
    "test_precision = precision_score(true_labels, preds_list)\n",
    "test_recall = recall_score(true_labels, preds_list)\n",
    "test_f1 = f1_score(true_labels, preds_list)\n",
    "test_cm = confusion_matrix(true_labels, preds_list)\n",
    "\n",
    "print(f'Test Accuracy: {test_accuracy:.4f}')\n",
    "print(f'Test Precision: {test_precision:.4f}')\n",
    "print(f'Test Recall: {test_recall:.4f}')\n",
    "print(f'Test F1 Score: {test_f1:.4f}')\n",
    "print(f'Test Confusion Matrix: \\n{test_cm}')"
   ]
  },
  {
   "cell_type": "markdown",
   "metadata": {},
   "source": [
    "### Note"
   ]
  },
  {
   "cell_type": "markdown",
   "metadata": {},
   "source": [
    "- GPT2 기반의 이진분류의 성능은 그다지 좋지 않다. (구조적 한계라고 생각)\n",
    "- 혼동행렬을 확인하면 실제는 0인데 1이라고 예측한 경우(FP)보다 실제는 1인데 0이라고 예측한 경우(FN)가 많다. (반대의 상황은 바람직하지 못함)\n",
    "- RoBERTa에 비해 LoRA scaling factor가 큰데도 Inference 속도가 빠름(👍)\n",
    "- RoBERTa에 비해 LoRA scaling factor가 큰데도 Inference 정확도가 낮음(👎)"
   ]
  },
  {
   "cell_type": "markdown",
   "metadata": {},
   "source": [
    "### 모델 수정 참고"
   ]
  },
  {
   "cell_type": "markdown",
   "metadata": {},
   "source": [
    "- GPT2 이진분류 모델 참고: https://dacon.io/en/codeshare/9142?page&dtype&ptype&fType&category\n",
    "- SKT/KoGPT-2 깃허브 : https://github.com/SKT-AI/KoGPT2\n",
    "- SKT/KoGPT-2 파인튜닝 예시 :  https://github.com/seawavve/newsTopicClassification/blob/main/NewsTopicClassificationwithKoGPT2.ipynb\n",
    "- ```GPT2Model```과 ```GPT2ForSequenceClassification``` 선택 근거 :  [OpenAI GPT2 Official Blog](https://huggingface.co/docs/transformers/model_doc/gpt2#transformers.GPT2Model)\n",
    "- ```forward()``` has no ```labels``` : https://discuss.huggingface.co/t/typeerror-forward-got-an-unexpected-keyword-argument-labels/14377/4"
   ]
  },
  {
   "cell_type": "markdown",
   "metadata": {},
   "source": []
  }
 ],
 "metadata": {
  "kernelspec": {
   "display_name": "PySangCUDA",
   "language": "python",
   "name": "python3"
  },
  "language_info": {
   "codemirror_mode": {
    "name": "ipython",
    "version": 3
   },
   "file_extension": ".py",
   "mimetype": "text/x-python",
   "name": "python",
   "nbconvert_exporter": "python",
   "pygments_lexer": "ipython3",
   "version": "3.8.10"
  }
 },
 "nbformat": 4,
 "nbformat_minor": 2
}
