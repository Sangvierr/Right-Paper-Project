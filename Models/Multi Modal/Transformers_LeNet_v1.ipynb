{
 "cells": [
  {
   "cell_type": "code",
   "execution_count": 1,
   "metadata": {},
   "outputs": [
    {
     "name": "stdout",
     "output_type": "stream",
     "text": [
      "Thu Jun 27 16:15:06 2024       \n",
      "+---------------------------------------------------------------------------------------+\n",
      "| NVIDIA-SMI 535.171.04             Driver Version: 535.171.04   CUDA Version: 12.2     |\n",
      "|-----------------------------------------+----------------------+----------------------+\n",
      "| GPU  Name                 Persistence-M | Bus-Id        Disp.A | Volatile Uncorr. ECC |\n",
      "| Fan  Temp   Perf          Pwr:Usage/Cap |         Memory-Usage | GPU-Util  Compute M. |\n",
      "|                                         |                      |               MIG M. |\n",
      "|=========================================+======================+======================|\n",
      "|   0  NVIDIA L4                      Off | 00000000:00:03.0 Off |                    0 |\n",
      "| N/A   72C    P8              19W /  72W |    118MiB / 23034MiB |      0%      Default |\n",
      "|                                         |                      |                  N/A |\n",
      "+-----------------------------------------+----------------------+----------------------+\n",
      "                                                                                         \n",
      "+---------------------------------------------------------------------------------------+\n",
      "| Processes:                                                                            |\n",
      "|  GPU   GI   CI        PID   Type   Process name                            GPU Memory |\n",
      "|        ID   ID                                                             Usage      |\n",
      "|=======================================================================================|\n",
      "|    0   N/A  N/A      1094      G   /usr/lib/xorg/Xorg                           95MiB |\n",
      "|    0   N/A  N/A      1170      G   /usr/bin/gnome-shell                          9MiB |\n",
      "+---------------------------------------------------------------------------------------+\n"
     ]
    }
   ],
   "source": [
    "!nvidia-smi"
   ]
  },
  {
   "cell_type": "markdown",
   "metadata": {},
   "source": [
    "### 0. 라이브러리"
   ]
  },
  {
   "cell_type": "code",
   "execution_count": 2,
   "metadata": {},
   "outputs": [],
   "source": [
    "import os\n",
    "\n",
    "# OS 충돌 방지\n",
    "os.environ['CUDA_LAUNCH_BLOCKING'] = \"1\"\n",
    "os.environ[\"CUDA_VISIBLE_DEVICES\"] = \"0\"\n",
    "\n",
    "# Matplotlib 커널 종료 방지\n",
    "os.environ['KMP_DUPLICATE_LIB_OK']='True'"
   ]
  },
  {
   "cell_type": "code",
   "execution_count": 3,
   "metadata": {},
   "outputs": [],
   "source": [
    "# 라이브러리\n",
    "import warnings\n",
    "warnings.filterwarnings('ignore')\n",
    "\n",
    "import os\n",
    "import time\n",
    "import pickle\n",
    "import random\n",
    "import zipfile\n",
    "import copy\n",
    "import glob\n",
    "import shutil\n",
    "\n",
    "import pandas as pd\n",
    "import numpy as np\n",
    "import matplotlib.pyplot as plt\n",
    "\n",
    "from math import sqrt\n",
    "from PIL import Image\n",
    "from tqdm import tqdm\n",
    "from sklearn.model_selection import train_test_split\n",
    "from sklearn.metrics import accuracy_score, f1_score, recall_score, precision_score, confusion_matrix\n",
    "\n",
    "import torch\n",
    "import torch.nn as nn\n",
    "import torch.optim as optim\n",
    "import torch.nn.functional as F\n",
    "from torch.utils.data import Dataset, DataLoader\n",
    "from torchmetrics.classification import BinaryAccuracy, BinaryPrecision, BinaryRecall, BinaryF1Score\n",
    "\n",
    "from torchvision import transforms\n",
    "\n",
    "import transformers\n",
    "from transformers import AutoTokenizer, AutoModel, AutoConfig, get_linear_schedule_with_warmup"
   ]
  },
  {
   "cell_type": "code",
   "execution_count": 4,
   "metadata": {},
   "outputs": [],
   "source": [
    "# 시드 고정\n",
    "def fixSEED(seed, deterministic=True):\n",
    "    random.seed(seed)\n",
    "    np.random.seed(seed)\n",
    "    torch.manual_seed(seed)\n",
    "    torch.cuda.manual_seed_all(seed)\n",
    "    if deterministic:\n",
    "        torch.backends.cudnn.deterministic = True\n",
    "        torch.backends.cudnn.benchmark = False\n",
    "\n",
    "seed = 42\n",
    "fixSEED(seed=seed)"
   ]
  },
  {
   "cell_type": "code",
   "execution_count": 5,
   "metadata": {},
   "outputs": [
    {
     "name": "stdout",
     "output_type": "stream",
     "text": [
      "Current path: /home/leesanghyuk2000/Python_Programs\n"
     ]
    }
   ],
   "source": [
    "# 디렉토리 설정\n",
    "dir = 'Python_Programs'\n",
    "path = '/home/leesanghyuk2000/' + dir\n",
    "os.chdir(path)\n",
    "print('Current path: {}'.format(os.getcwd()))"
   ]
  },
  {
   "cell_type": "code",
   "execution_count": 6,
   "metadata": {},
   "outputs": [
    {
     "name": "stdout",
     "output_type": "stream",
     "text": [
      "cuda\n"
     ]
    }
   ],
   "source": [
    "# GPU 사용 여부 확인\n",
    "device = torch.device('cuda' if torch.cuda.is_available() else 'cpu')\n",
    "print(device)"
   ]
  },
  {
   "cell_type": "markdown",
   "metadata": {},
   "source": [
    "### 1. 데이터 불러오기"
   ]
  },
  {
   "cell_type": "code",
   "execution_count": 7,
   "metadata": {},
   "outputs": [],
   "source": [
    "# 데이터 불러오기\n",
    "with open('youtubeData(8331)_with_label.pkl', 'rb') as f:\n",
    "    data = pickle.load(f)"
   ]
  },
  {
   "cell_type": "code",
   "execution_count": 9,
   "metadata": {},
   "outputs": [
    {
     "data": {
      "text/html": [
       "<div>\n",
       "<style scoped>\n",
       "    .dataframe tbody tr th:only-of-type {\n",
       "        vertical-align: middle;\n",
       "    }\n",
       "\n",
       "    .dataframe tbody tr th {\n",
       "        vertical-align: top;\n",
       "    }\n",
       "\n",
       "    .dataframe thead th {\n",
       "        text-align: right;\n",
       "    }\n",
       "</style>\n",
       "<table border=\"1\" class=\"dataframe\">\n",
       "  <thead>\n",
       "    <tr style=\"text-align: right;\">\n",
       "      <th></th>\n",
       "      <th>youtuber</th>\n",
       "      <th>my_label</th>\n",
       "      <th>channel_id</th>\n",
       "      <th>title</th>\n",
       "      <th>video_id</th>\n",
       "      <th>thumbnail</th>\n",
       "      <th>content</th>\n",
       "      <th>saved</th>\n",
       "      <th>label</th>\n",
       "    </tr>\n",
       "  </thead>\n",
       "  <tbody>\n",
       "  </tbody>\n",
       "</table>\n",
       "</div>"
      ],
      "text/plain": [
       "Empty DataFrame\n",
       "Columns: [youtuber, my_label, channel_id, title, video_id, thumbnail, content, saved, label]\n",
       "Index: []"
      ]
     },
     "execution_count": 9,
     "metadata": {},
     "output_type": "execute_result"
    }
   ],
   "source": [
    "# 썸네일 이미지가 없는 데이터 있는지 확인\n",
    "data[data['saved'] == 0]"
   ]
  },
  {
   "cell_type": "code",
   "execution_count": 10,
   "metadata": {},
   "outputs": [
    {
     "name": "stderr",
     "output_type": "stream",
     "text": [
      "Checking thumbnails: 100%|██████████| 8331/8331 [00:00<00:00, 18152.88it/s]\n"
     ]
    }
   ],
   "source": [
    "# 열 생성\n",
    "data['drive_saved'] = 0\n",
    "\n",
    "# 썸네일 파일 경로\n",
    "thumbnail_path = 'Thumbnails/Thumbnails'\n",
    "\n",
    "# 각 video_id에 대해 파일 존재 여부 확인\n",
    "for i in tqdm(data.index, desc=\"Checking thumbnails\"):\n",
    "    video_id = data.at[i, 'video_id']\n",
    "    file_path = os.path.join(thumbnail_path, f\"{video_id}.jpg\")\n",
    "    if os.path.isfile(file_path):\n",
    "        data.at[i, 'drive_saved'] = 1"
   ]
  },
  {
   "cell_type": "code",
   "execution_count": 11,
   "metadata": {},
   "outputs": [
    {
     "data": {
      "text/plain": [
       "drive_saved\n",
       "1    8331\n",
       "Name: count, dtype: int64"
      ]
     },
     "execution_count": 11,
     "metadata": {},
     "output_type": "execute_result"
    }
   ],
   "source": [
    "data['drive_saved'].value_counts()"
   ]
  },
  {
   "cell_type": "code",
   "execution_count": 12,
   "metadata": {},
   "outputs": [
    {
     "data": {
      "text/plain": [
       "label\n",
       "0    5208\n",
       "1    3123\n",
       "Name: count, dtype: int64"
      ]
     },
     "execution_count": 12,
     "metadata": {},
     "output_type": "execute_result"
    }
   ],
   "source": [
    "# 레이블 개수 확인\n",
    "data['label'].value_counts()"
   ]
  },
  {
   "cell_type": "markdown",
   "metadata": {},
   "source": [
    "### 2. Train/Test/Valid"
   ]
  },
  {
   "cell_type": "code",
   "execution_count": 13,
   "metadata": {},
   "outputs": [],
   "source": [
    "# Split into Train/Valid/Test\n",
    "def splitData(data, SEED=42):\n",
    "    train_val_data, test_data = train_test_split(data, test_size=0.2, random_state=SEED, stratify=data['label'])\n",
    "    train_data, valid_data = train_test_split(train_val_data, test_size=0.25, random_state=SEED, stratify = train_val_data['label'])\n",
    "\n",
    "    print('학습용 데이터 개수 : {}개 \\n검증용 데이터 개수 : {}개 \\n평가용 데이터 개수 : {}개'.format(len(train_data), len(valid_data), len(test_data)))\n",
    "    del train_val_data\n",
    "    return train_data, valid_data, test_data"
   ]
  },
  {
   "cell_type": "code",
   "execution_count": 14,
   "metadata": {},
   "outputs": [
    {
     "name": "stdout",
     "output_type": "stream",
     "text": [
      "학습용 데이터 개수 : 4998개 \n",
      "검증용 데이터 개수 : 1666개 \n",
      "평가용 데이터 개수 : 1667개\n"
     ]
    }
   ],
   "source": [
    "train_data, valid_data, test_data = splitData(data)"
   ]
  },
  {
   "cell_type": "markdown",
   "metadata": {},
   "source": [
    "### 3. Dataset 및 DataLoader 정의"
   ]
  },
  {
   "cell_type": "code",
   "execution_count": 15,
   "metadata": {},
   "outputs": [],
   "source": [
    "# 파라미터 개수 확인\n",
    "def print_trainable_parameters(model):\n",
    "    trainable_params = 0\n",
    "    all_param = 0\n",
    "    for _, param in model.named_parameters():\n",
    "        all_param += param.numel()\n",
    "        if param.requires_grad:\n",
    "            trainable_params += param.numel()\n",
    "    print(f\"Trainable Params: {trainable_params} \\nAll params: {all_param}\")\n",
    "    print('-'*50)\n",
    "    print(f\"Trainable(%): {round(100 * trainable_params / all_param, 5)}\")"
   ]
  },
  {
   "cell_type": "code",
   "execution_count": 16,
   "metadata": {},
   "outputs": [],
   "source": [
    "# LeNet+Transformers Dataset\n",
    "class LeNetTransformerDataset(Dataset):\n",
    "    def __init__(self, dataframe, text_tokenizer, max_length, image_path, transform=None):\n",
    "        self.data = dataframe\n",
    "        self.text_tokenizer = text_tokenizer\n",
    "        self.max_length = max_length\n",
    "        self.image_path = image_path\n",
    "        self.transform = transform\n",
    "\n",
    "    def __len__(self):\n",
    "        return len(self.data)\n",
    "\n",
    "    def __getitem__(self, idx):\n",
    "        content = self.data.iloc[idx]['content'] # 내용\n",
    "        video_id = self.data.iloc[idx]['video_id'] # 영상 ID\n",
    "        label = self.data.iloc[idx]['label']\n",
    "\n",
    "        # text 토크나이저\n",
    "        text_inputs = self.text_tokenizer(content, return_tensors='pt', padding='max_length', truncation=True, max_length=self.max_length)\n",
    "        input_ids = text_inputs['input_ids'].squeeze(0)\n",
    "        attention_mask = text_inputs['attention_mask'].squeeze(0)\n",
    "\n",
    "        # image 불러오기 및 전처리\n",
    "        img_path = os.path.join(self.image_path, f\"{video_id}.jpg\")\n",
    "        image = Image.open(img_path).convert('RGB')\n",
    "        if self.transform is not None:\n",
    "            image = self.transform(image)            \n",
    "\n",
    "        return input_ids, attention_mask, image, torch.tensor(label, dtype=torch.long)  # 정수형\n"
   ]
  },
  {
   "cell_type": "markdown",
   "metadata": {},
   "source": [
    "### 4. 모델 정의"
   ]
  },
  {
   "cell_type": "markdown",
   "metadata": {},
   "source": [
    "#### 4-1. LeNet"
   ]
  },
  {
   "cell_type": "code",
   "execution_count": 17,
   "metadata": {},
   "outputs": [],
   "source": [
    "class LeNet(nn.Module):\n",
    "    def __init__(self, output_dim=768):\n",
    "        super(LeNet, self).__init__()\n",
    "        self.cnn1 = nn.Conv2d(in_channels=3, out_channels=16, kernel_size=5, stride=1, padding=0)\n",
    "        self.relu1 = nn.ReLU()\n",
    "        self.maxpool1 = nn.MaxPool2d(kernel_size=2)\n",
    "        self.cnn2 = nn.Conv2d(in_channels=16, out_channels=32, kernel_size=5, stride=1, padding=0)\n",
    "        self.relu2 = nn.ReLU()\n",
    "        self.maxpool2 = nn.MaxPool2d(kernel_size=2)\n",
    "        self.adaptive_pool = nn.AdaptiveAvgPool2d((7, 7)) # 고정된 크기의 출력, Linear를 사용하면 이미지 크기에 따라 바뀜\n",
    "        self.fc1 = nn.Linear(32 * 7 * 7, output_dim) # RoBERTa의 출력크기인 768과 맞춰줌\n",
    "        self.relu3 = nn.ReLU()\n",
    "\n",
    "    def forward(self, x):\n",
    "        out = self.cnn1(x)\n",
    "        out = self.relu1(out)\n",
    "        out = self.maxpool1(out)\n",
    "        out = self.cnn2(out)\n",
    "        out = self.relu2(out)\n",
    "        out = self.maxpool2(out)\n",
    "        out = self.adaptive_pool(out)\n",
    "        out = out.view(out.size(0), -1)  # Flatten\n",
    "        out = self.fc1(out)\n",
    "        out = self.relu3(out)\n",
    "        return out\n"
   ]
  },
  {
   "cell_type": "markdown",
   "metadata": {},
   "source": [
    "#### 4-2. Transformers Encoder\n",
    "- 참고 : https://github.com/rickiepark/nlp-with-transformers/blob/main/03_transformer-anatomy.ipynb"
   ]
  },
  {
   "cell_type": "code",
   "execution_count": 18,
   "metadata": {},
   "outputs": [],
   "source": [
    "# Scaled Dot-Product Attention\n",
    "def scaled_dot_product_attention(query, key, value):\n",
    "    dim_k = query.size(-1)\n",
    "    scores = torch.bmm(query, key.transpose(1, 2)) / sqrt(dim_k)\n",
    "    weights = F.softmax(scores, dim=-1)\n",
    "    return torch.bmm(weights, value)\n",
    "\n",
    "# Attention Head\n",
    "class AttentionHead(nn.Module):\n",
    "    def __init__(self, embed_dim, head_dim):\n",
    "        super().__init__()\n",
    "        self.q = nn.Linear(embed_dim, head_dim)\n",
    "        self.k = nn.Linear(embed_dim, head_dim)\n",
    "        self.v = nn.Linear(embed_dim, head_dim)\n",
    "\n",
    "    def forward(self, hidden_state):\n",
    "        attn_outputs = scaled_dot_product_attention(\n",
    "            self.q(hidden_state), self.k(hidden_state), self.v(hidden_state))\n",
    "        return attn_outputs\n",
    "    \n",
    "# Multi-Head Attention\n",
    "class MultiHeadAttention(nn.Module):\n",
    "    def __init__(self, config):\n",
    "        super().__init__()\n",
    "        embed_dim = config.hidden_size\n",
    "        num_heads = config.num_attention_heads\n",
    "        head_dim = embed_dim // num_heads\n",
    "        self.heads = nn.ModuleList(\n",
    "            [AttentionHead(embed_dim, head_dim) for _ in range(num_heads)]\n",
    "        )\n",
    "        self.output_linear = nn.Linear(embed_dim, embed_dim)\n",
    "\n",
    "    def forward(self, hidden_state):\n",
    "        x = torch.cat([h(hidden_state) for h in self.heads], dim=-1)\n",
    "        x = self.output_linear(x)\n",
    "        return x\n",
    "\n",
    "# Feed Forward Network\n",
    "class FeedForward(nn.Module):\n",
    "    def __init__(self, config):\n",
    "        super().__init__()\n",
    "        self.linear_1 = nn.Linear(config.hidden_size, config.intermediate_size)\n",
    "        self.linear_2 = nn.Linear(config.intermediate_size, config.hidden_size)\n",
    "        self.gelu = nn.GELU()\n",
    "        self.dropout = nn.Dropout(config.hidden_dropout_prob)\n",
    "\n",
    "    def forward(self, x):\n",
    "        x = self.linear_1(x)\n",
    "        x = self.gelu(x)\n",
    "        x = self.linear_2(x)\n",
    "        x = self.dropout(x)\n",
    "        return x\n",
    "    \n",
    "# Embeddings\n",
    "class Embeddings(nn.Module):\n",
    "    def __init__(self, config):\n",
    "        super().__init__()\n",
    "        self.token_embeddings = nn.Embedding(config.vocab_size, config.hidden_size)\n",
    "        self.position_embeddings = nn.Embedding(config.max_position_embeddings, config.hidden_size)\n",
    "        self.layer_norm = nn.LayerNorm(config.hidden_size, eps=1e-12)\n",
    "        self.dropout = nn.Dropout(config.hidden_dropout_prob)\n",
    "\n",
    "    def forward(self, input_ids):\n",
    "        # 입력 시퀀스에 대해 위치 ID를 만듭니다.\n",
    "        seq_length = input_ids.size(1)\n",
    "        position_ids = torch.arange(seq_length, dtype=torch.long, device=input_ids.device).unsqueeze(0)\n",
    "        # 토큰 임베딩과 위치 임베딩을 만듭니다.\n",
    "        token_embeddings = self.token_embeddings(input_ids)\n",
    "        position_embeddings = self.position_embeddings(position_ids)\n",
    "        # 토큰 임베딩과 위치 임베딩을 합칩니다.\n",
    "        embeddings = token_embeddings + position_embeddings\n",
    "        embeddings = self.layer_norm(embeddings)\n",
    "        embeddings = self.dropout(embeddings)\n",
    "        return embeddings\n",
    "\n",
    "# Transformer Encoder Layer\n",
    "class TransformerEncoderLayer(nn.Module):\n",
    "    def __init__(self, config):\n",
    "        super().__init__()\n",
    "        self.layer_norm_1 = nn.LayerNorm(config.hidden_size)\n",
    "        self.layer_norm_2 = nn.LayerNorm(config.hidden_size)\n",
    "        self.attention = MultiHeadAttention(config)\n",
    "        self.feed_forward = FeedForward(config)\n",
    "\n",
    "    def forward(self, x):\n",
    "        # 층 정규화를 적용하고 입력을 쿼리, 키, 값으로 복사합니다.\n",
    "        hidden_state = self.layer_norm_1(x)\n",
    "        # 어텐션에 스킵 연결을 적용합니다.\n",
    "        x = x + self.attention(hidden_state)\n",
    "        # 스킵 연결과 피드 포워드 층을 적용합니다.\n",
    "        x = x + self.feed_forward(self.layer_norm_2(x))\n",
    "        return x\n",
    "    \n",
    "# Transformer Encoder\n",
    "class TransformerEncoder(nn.Module):\n",
    "    def __init__(self, config):\n",
    "        super().__init__()\n",
    "        self.embeddings = Embeddings(config)\n",
    "        self.layers = nn.ModuleList([TransformerEncoderLayer(config)\n",
    "                                     for _ in range(config.num_hidden_layers)])\n",
    "\n",
    "    def forward(self, x):\n",
    "        x = self.embeddings(x)\n",
    "        for layer in self.layers:\n",
    "            x = layer(x)\n",
    "        return x"
   ]
  },
  {
   "cell_type": "markdown",
   "metadata": {},
   "source": [
    "#### 4-3. Attention Mechanism"
   ]
  },
  {
   "cell_type": "code",
   "execution_count": 19,
   "metadata": {},
   "outputs": [],
   "source": [
    "# Attention Mechanism\n",
    "class AttentionMechanism(nn.Module):\n",
    "    def __init__(self, input_dim, hidden_dim):\n",
    "        super(AttentionMechanism, self).__init__()\n",
    "        self.attention = nn.Linear(input_dim, hidden_dim)\n",
    "        self.context_vector = nn.Linear(hidden_dim, 1, bias=False)\n",
    "\n",
    "    def forward(self, features):\n",
    "        # features: (batch_size, seq_len, input_dim)\n",
    "        attention_weights = torch.tanh(self.attention(features))\n",
    "        attention_weights = self.context_vector(attention_weights).squeeze(-1)\n",
    "        attention_weights = F.softmax(attention_weights, dim=1)\n",
    "        context_vector = torch.sum(features * attention_weights.unsqueeze(-1), dim=1)\n",
    "        return context_vector, attention_weights"
   ]
  },
  {
   "cell_type": "markdown",
   "metadata": {},
   "source": [
    "#### 4-4. LeNet + Transformers Model"
   ]
  },
  {
   "cell_type": "code",
   "execution_count": 20,
   "metadata": {},
   "outputs": [],
   "source": [
    "class LeNetTransformerModel(nn.Module):\n",
    "    def __init__(self, text_config, lenet_model):\n",
    "        super(LeNetTransformerModel, self).__init__()\n",
    "\n",
    "        # Use Transformer Encoder for text\n",
    "        self.text_model = TransformerEncoder(text_config)\n",
    "\n",
    "        # Use LeNet for image\n",
    "        self.img_model = lenet_model\n",
    "\n",
    "        # Attention Mechanism\n",
    "        self.attention = AttentionMechanism(text_config.hidden_size + 768, 512)\n",
    "\n",
    "        # Classifier layer\n",
    "        self.classifier = nn.Linear(text_config.hidden_size + 768, 2)\n",
    "\n",
    "        # Dropout\n",
    "        self.dropout = nn.Dropout(p=0.1)\n",
    "\n",
    "    def forward(self, input_ids, attention_mask, images):\n",
    "        # Text model forward\n",
    "        text_hidden_state = self.text_model(input_ids)\n",
    "\n",
    "        # Image model forward\n",
    "        img_hidden_state = self.img_model(images)\n",
    "\n",
    "        # Concat text and image result\n",
    "        concat_hidden_state = torch.cat((text_hidden_state[:, 0, :], img_hidden_state), dim=1)\n",
    "\n",
    "        # Apply attention mechanism\n",
    "        context_vector, attention_weights = self.attention(concat_hidden_state.unsqueeze(1))\n",
    "\n",
    "        # Apply dropout\n",
    "        context_vector = self.dropout(context_vector)\n",
    "\n",
    "        # Pass through classifier\n",
    "        logits = self.classifier(context_vector)\n",
    "\n",
    "        return logits"
   ]
  },
  {
   "cell_type": "markdown",
   "metadata": {},
   "source": [
    "### 5. 학습용 Trainer 정의"
   ]
  },
  {
   "cell_type": "code",
   "execution_count": 21,
   "metadata": {},
   "outputs": [],
   "source": [
    "class Trainer:\n",
    "    def __init__(self, model, train_dataloader, valid_dataloader, criterion, optimizer, acc_metric, precision_metric, recall_metric, f1_metric, device, num_epochs, wait_for_es):\n",
    "        self.model = model  # model for training\n",
    "        self.train_dataloader = train_dataloader  # training dataloader\n",
    "        self.valid_dataloader = valid_dataloader  # validation dataloader\n",
    "        self.criterion = criterion  # loss function\n",
    "        self.optimizer = optimizer  # optimizer\n",
    "        self.acc_metric = acc_metric  # accuracy metric\n",
    "        self.precision_metric = precision_metric  # precision metric\n",
    "        self.recall_metric = recall_metric  # recall metric\n",
    "        self.f1_metric = f1_metric  # f1 score metric\n",
    "        self.device = device  # device(cuda or cpu)\n",
    "        self.num_epochs = num_epochs  # number of epochs\n",
    "        self.wait_for_es = wait_for_es  # early stopping patience\n",
    "        \n",
    "        # 스케줄러 초기화\n",
    "        total_steps = len(train_dataloader) * num_epochs\n",
    "        self.scheduler = get_linear_schedule_with_warmup(self.optimizer, num_warmup_steps=0, num_training_steps=total_steps)\n",
    "\n",
    "    def train(self):\n",
    "        train_loss_history, train_acc_history, train_precision_history, train_recall_history, train_f1_history = [], [], [], [], []\n",
    "        valid_loss_history, valid_acc_history, valid_precision_history, valid_recall_history, valid_f1_history = [], [], [], [], []\n",
    "\n",
    "        best_loss = float('inf')\n",
    "        count = 0\n",
    "        best_acc = 0\n",
    "        start_time = time.time()\n",
    "\n",
    "        for epoch in range(self.num_epochs):\n",
    "            print('-' * 80)\n",
    "            print(f'Epoch {epoch+1}/{self.num_epochs}')\n",
    "            print('-' * 80)\n",
    "\n",
    "            train_loss, train_acc, train_precision, train_recall, train_f1 = self._train_model()\n",
    "            valid_loss, valid_acc, valid_precision, valid_recall, valid_f1 = self._valid_model()\n",
    "\n",
    "            train_loss_history.append(train_loss)\n",
    "            train_acc_history.append(train_acc)\n",
    "            train_precision_history.append(train_precision)\n",
    "            train_recall_history.append(train_recall)\n",
    "            train_f1_history.append(train_f1)\n",
    "\n",
    "            valid_loss_history.append(valid_loss)\n",
    "            valid_acc_history.append(valid_acc)\n",
    "            valid_precision_history.append(valid_precision)\n",
    "            valid_recall_history.append(valid_recall)\n",
    "            valid_f1_history.append(valid_f1)\n",
    "\n",
    "            elapsed_time = time.time() - start_time\n",
    "            print(f'[Train] \\t Loss: {train_loss:.4f} \\t Acc: {train_acc:.4f} \\t Precision: {train_precision:.4f} \\t Recall: {train_recall:.4f} \\t F1: {train_f1:.4f}')\n",
    "            print(f'[Valid] \\t Loss: {valid_loss:.4f} \\t Acc: {valid_acc:.4f} \\t Precision: {valid_precision:.4f} \\t Recall: {valid_recall:.4f} \\t F1: {valid_f1:.4f}')\n",
    "            print(f'(Epoch {epoch+1} complete in {elapsed_time // 60:.0f}m {elapsed_time % 60:.0f}s)')\n",
    "\n",
    "            if valid_acc > best_acc:\n",
    "                best_acc = valid_acc\n",
    "                try:\n",
    "                    save_path = f'./YouTube_Transformers_LeNet_ACC_{valid_acc:.4f}.pth'\n",
    "                    torch.save(self.model.state_dict(), save_path)\n",
    "                    print(f'Model Saved to {save_path}')\n",
    "                except:\n",
    "                    print('Model Not Saved')\n",
    "                    continue\n",
    "\n",
    "            if valid_loss < best_loss:\n",
    "                best_loss = valid_loss\n",
    "                count = 0\n",
    "            else:\n",
    "                count += 1\n",
    "                if count >= self.wait_for_es:\n",
    "                    print(f'Early Stopping at Epoch {epoch+1}')\n",
    "                    break\n",
    "\n",
    "        return train_loss_history, train_acc_history, train_precision_history, train_recall_history, train_f1_history, valid_loss_history, valid_acc_history, valid_precision_history, valid_recall_history, valid_f1_history\n",
    "\n",
    "    # Training function\n",
    "    def _train_model(self):\n",
    "        self.model.train()\n",
    "\n",
    "        train_loss = 0\n",
    "        train_acc = 0\n",
    "        train_precision = 0\n",
    "        train_recall = 0\n",
    "        train_f1 = 0\n",
    "\n",
    "        for batch in tqdm(self.train_dataloader, desc='Training'):\n",
    "            input_ids, attention_mask, images, y = batch\n",
    "            input_ids, attention_mask, images, y = input_ids.to(self.device), attention_mask.to(self.device), images.to(self.device), y.to(self.device)\n",
    "\n",
    "            outputs = self.model(input_ids, attention_mask, images)\n",
    "            loss = self.criterion(outputs, y) # 데이터셋에서 레이블을 long으로 정의함\n",
    "\n",
    "            self.optimizer.zero_grad()\n",
    "            loss.backward()\n",
    "            self.optimizer.step()\n",
    "            self.scheduler.step()  # 스케줄러 업데이트\n",
    "\n",
    "            preds = torch.argmax(outputs, dim=1)\n",
    "            train_loss += loss.item()\n",
    "            train_acc += self.acc_metric(preds, y).item()\n",
    "            train_precision += self.precision_metric(preds, y).item()\n",
    "            train_recall += self.recall_metric(preds, y).item()\n",
    "            train_f1 += self.f1_metric(preds, y).item()\n",
    "\n",
    "        return train_loss / len(self.train_dataloader), train_acc / len(self.train_dataloader), train_precision / len(self.train_dataloader), train_recall / len(self.train_dataloader), train_f1 / len(self.train_dataloader)\n",
    "\n",
    "    # Validating function\n",
    "    def _valid_model(self):\n",
    "        self.model.eval()\n",
    "\n",
    "        valid_loss = 0\n",
    "        valid_acc = 0\n",
    "        valid_precision = 0\n",
    "        valid_recall = 0\n",
    "        valid_f1 = 0\n",
    "\n",
    "        with torch.no_grad():\n",
    "            for batch in tqdm(self.valid_dataloader, desc='Validating'):\n",
    "                input_ids, attention_mask, images, y = batch\n",
    "                input_ids, attention_mask, images, y = input_ids.to(self.device), attention_mask.to(self.device), images.to(self.device), y.to(self.device)\n",
    "\n",
    "                outputs = self.model(input_ids, attention_mask, images)\n",
    "                loss = self.criterion(outputs, y)\n",
    "\n",
    "                preds = torch.argmax(outputs, dim=1)\n",
    "                valid_loss += loss.item()\n",
    "                valid_acc += self.acc_metric(preds, y).item()\n",
    "                valid_precision += self.precision_metric(preds, y).item()\n",
    "                valid_recall += self.recall_metric(preds, y).item()\n",
    "                valid_f1 += self.f1_metric(preds, y).item()\n",
    "\n",
    "        return valid_loss / len(self.valid_dataloader), valid_acc / len(self.valid_dataloader), valid_precision / len(self.valid_dataloader), valid_recall / len(self.valid_dataloader), valid_f1 / len(self.valid_dataloader)\n"
   ]
  },
  {
   "cell_type": "markdown",
   "metadata": {},
   "source": [
    "### 6. 학습 설정"
   ]
  },
  {
   "cell_type": "code",
   "execution_count": 22,
   "metadata": {},
   "outputs": [],
   "source": [
    "# 데이터셋 파라미터\n",
    "batch_size = 32\n",
    "num_labels = 2\n",
    "max_length = 64\n",
    "\n",
    "# text 토크나이저 정의\n",
    "text_checkpoint = \"klue/roberta-small\"\n",
    "tokenizer = AutoTokenizer.from_pretrained(text_checkpoint)\n",
    "\n",
    "# image 경로\n",
    "image_path = 'Thumbnails/Thumbnails'"
   ]
  },
  {
   "cell_type": "code",
   "execution_count": 23,
   "metadata": {},
   "outputs": [],
   "source": [
    "# 이미지 전처리 객체\n",
    "transform = transforms.Compose(\n",
    "    [\n",
    "        transforms.Resize([256, 256]), # 이미지를 크기를 조정\n",
    "        #transforms.RandomCrop([224, 224]), # 이미지를 랜덤하게 자르기\n",
    "        #transforms.RandomResizedCrop(256), # 이미지를 랜덤한 크기로 자르고 크기를 조정\n",
    "        transforms.RandomHorizontalFlip(), # 이미지를 랜덤하게 수평으로 뒤집기\n",
    "        transforms.RandomVerticalFlip(), # 이미지를 랜덤하게 수직으로 뒤집기\n",
    "        #transforms.RandomRotation(45), # 이미지를 랜덤하게 회전\n",
    "        transforms.ToTensor(), # 이미지를 텐서로 변환\n",
    "        #transforms.Grayscale(num_output_channels=1), # 이미지를 흑백으로 변환\n",
    "        #transforms.Normalize((0.5,), (0.5,)), # 이미지를 정규화(ToTensor 다음에 사용)\n",
    "        #transforms.ColorJitter(brightness=0.1, contrast=0.1, saturation=0.1, hue=0.1) # 이미지의 밝기, 대비, 채도, 색상을 무작위로 조정\n",
    "])"
   ]
  },
  {
   "cell_type": "code",
   "execution_count": 24,
   "metadata": {},
   "outputs": [],
   "source": [
    "# 데이터셋 정의\n",
    "train_dataset = LeNetTransformerDataset(train_data, tokenizer, max_length, image_path, transform)\n",
    "valid_dataset = LeNetTransformerDataset(valid_data, tokenizer, max_length, image_path, transform)\n",
    "test_dataset = LeNetTransformerDataset(test_data, tokenizer, max_length, image_path, transform)"
   ]
  },
  {
   "cell_type": "code",
   "execution_count": 25,
   "metadata": {},
   "outputs": [
    {
     "data": {
      "text/plain": [
       "[tensor([[    0, 17240,  2052,  ...,  1415,  4000,     2],\n",
       "         [    0,  4988,  5891,  ...,  2145,  6667,     2],\n",
       "         [    0,  3909,  2016,  ...,  2259,  3706,     2],\n",
       "         ...,\n",
       "         [    0,  5443, 30692,  ...,  2062,  5326,     2],\n",
       "         [    0, 16465,  2747,  ..., 15154,  2219,     2],\n",
       "         [    0,   752,  3851,  ...,  1292,  2052,     2]]),\n",
       " tensor([[1, 1, 1,  ..., 1, 1, 1],\n",
       "         [1, 1, 1,  ..., 1, 1, 1],\n",
       "         [1, 1, 1,  ..., 1, 1, 1],\n",
       "         ...,\n",
       "         [1, 1, 1,  ..., 1, 1, 1],\n",
       "         [1, 1, 1,  ..., 1, 1, 1],\n",
       "         [1, 1, 1,  ..., 1, 1, 1]]),\n",
       " tensor([[[[0.0235, 0.0235, 0.0235,  ..., 0.0549, 0.0549, 0.0549],\n",
       "           [0.0235, 0.0235, 0.0235,  ..., 0.0549, 0.0549, 0.0549],\n",
       "           [0.0235, 0.0235, 0.0235,  ..., 0.0549, 0.0549, 0.0549],\n",
       "           ...,\n",
       "           [0.0235, 0.0235, 0.0235,  ..., 0.0902, 0.0980, 0.1059],\n",
       "           [0.0235, 0.0235, 0.0235,  ..., 0.0941, 0.0824, 0.0745],\n",
       "           [0.0235, 0.0235, 0.0235,  ..., 0.0667, 0.0706, 0.0745]],\n",
       " \n",
       "          [[0.0235, 0.0235, 0.0235,  ..., 0.0588, 0.0588, 0.0588],\n",
       "           [0.0235, 0.0235, 0.0235,  ..., 0.0588, 0.0588, 0.0588],\n",
       "           [0.0235, 0.0235, 0.0235,  ..., 0.0588, 0.0588, 0.0588],\n",
       "           ...,\n",
       "           [0.0235, 0.0235, 0.0235,  ..., 0.1176, 0.1255, 0.1333],\n",
       "           [0.0235, 0.0235, 0.0235,  ..., 0.1216, 0.1098, 0.1020],\n",
       "           [0.0235, 0.0235, 0.0235,  ..., 0.0941, 0.0980, 0.1020]],\n",
       " \n",
       "          [[0.0235, 0.0235, 0.0235,  ..., 0.0392, 0.0392, 0.0392],\n",
       "           [0.0235, 0.0235, 0.0235,  ..., 0.0392, 0.0392, 0.0392],\n",
       "           [0.0235, 0.0235, 0.0235,  ..., 0.0392, 0.0392, 0.0392],\n",
       "           ...,\n",
       "           [0.0235, 0.0235, 0.0235,  ..., 0.1569, 0.1647, 0.1725],\n",
       "           [0.0235, 0.0235, 0.0235,  ..., 0.1608, 0.1490, 0.1412],\n",
       "           [0.0235, 0.0235, 0.0235,  ..., 0.1333, 0.1373, 0.1412]]],\n",
       " \n",
       " \n",
       "         [[[0.0000, 0.0000, 0.0000,  ..., 0.0000, 0.0000, 0.0000],\n",
       "           [0.0000, 0.0000, 0.0000,  ..., 0.0000, 0.0000, 0.0000],\n",
       "           [0.0000, 0.0000, 0.0000,  ..., 0.0000, 0.0000, 0.0000],\n",
       "           ...,\n",
       "           [0.0000, 0.0000, 0.0000,  ..., 0.0000, 0.0000, 0.0000],\n",
       "           [0.0000, 0.0000, 0.0000,  ..., 0.0000, 0.0000, 0.0000],\n",
       "           [0.0000, 0.0000, 0.0000,  ..., 0.0000, 0.0000, 0.0000]],\n",
       " \n",
       "          [[0.0000, 0.0000, 0.0000,  ..., 0.0000, 0.0000, 0.0000],\n",
       "           [0.0000, 0.0000, 0.0000,  ..., 0.0000, 0.0000, 0.0000],\n",
       "           [0.0000, 0.0000, 0.0000,  ..., 0.0000, 0.0000, 0.0000],\n",
       "           ...,\n",
       "           [0.0000, 0.0000, 0.0000,  ..., 0.0000, 0.0000, 0.0000],\n",
       "           [0.0000, 0.0000, 0.0000,  ..., 0.0000, 0.0000, 0.0000],\n",
       "           [0.0000, 0.0000, 0.0000,  ..., 0.0000, 0.0000, 0.0000]],\n",
       " \n",
       "          [[0.0000, 0.0000, 0.0000,  ..., 0.0000, 0.0000, 0.0000],\n",
       "           [0.0000, 0.0000, 0.0000,  ..., 0.0000, 0.0000, 0.0000],\n",
       "           [0.0000, 0.0000, 0.0000,  ..., 0.0000, 0.0000, 0.0000],\n",
       "           ...,\n",
       "           [0.0000, 0.0000, 0.0000,  ..., 0.0000, 0.0000, 0.0000],\n",
       "           [0.0000, 0.0000, 0.0000,  ..., 0.0000, 0.0000, 0.0000],\n",
       "           [0.0000, 0.0000, 0.0000,  ..., 0.0000, 0.0000, 0.0000]]],\n",
       " \n",
       " \n",
       "         [[[0.0000, 0.0000, 0.0000,  ..., 0.0000, 0.0000, 0.0000],\n",
       "           [0.0000, 0.0000, 0.0000,  ..., 0.0000, 0.0000, 0.0000],\n",
       "           [0.0000, 0.0000, 0.0000,  ..., 0.0000, 0.0000, 0.0000],\n",
       "           ...,\n",
       "           [0.0000, 0.0000, 0.0000,  ..., 0.0000, 0.0000, 0.0000],\n",
       "           [0.0000, 0.0000, 0.0000,  ..., 0.0000, 0.0000, 0.0000],\n",
       "           [0.0000, 0.0000, 0.0000,  ..., 0.0000, 0.0000, 0.0000]],\n",
       " \n",
       "          [[0.0000, 0.0000, 0.0000,  ..., 0.0000, 0.0000, 0.0000],\n",
       "           [0.0000, 0.0000, 0.0000,  ..., 0.0000, 0.0000, 0.0000],\n",
       "           [0.0000, 0.0000, 0.0000,  ..., 0.0000, 0.0000, 0.0000],\n",
       "           ...,\n",
       "           [0.0000, 0.0000, 0.0000,  ..., 0.0000, 0.0000, 0.0000],\n",
       "           [0.0000, 0.0000, 0.0000,  ..., 0.0000, 0.0000, 0.0000],\n",
       "           [0.0000, 0.0000, 0.0000,  ..., 0.0000, 0.0000, 0.0000]],\n",
       " \n",
       "          [[0.0000, 0.0000, 0.0000,  ..., 0.0000, 0.0000, 0.0000],\n",
       "           [0.0000, 0.0000, 0.0000,  ..., 0.0000, 0.0000, 0.0000],\n",
       "           [0.0000, 0.0000, 0.0000,  ..., 0.0000, 0.0000, 0.0000],\n",
       "           ...,\n",
       "           [0.0000, 0.0000, 0.0000,  ..., 0.0000, 0.0000, 0.0000],\n",
       "           [0.0000, 0.0000, 0.0000,  ..., 0.0000, 0.0000, 0.0000],\n",
       "           [0.0000, 0.0000, 0.0000,  ..., 0.0000, 0.0000, 0.0000]]],\n",
       " \n",
       " \n",
       "         ...,\n",
       " \n",
       " \n",
       "         [[[0.0000, 0.0000, 0.0000,  ..., 0.0000, 0.0000, 0.0000],\n",
       "           [0.0000, 0.0000, 0.0000,  ..., 0.0000, 0.0000, 0.0000],\n",
       "           [0.0000, 0.0000, 0.0000,  ..., 0.0000, 0.0000, 0.0000],\n",
       "           ...,\n",
       "           [0.0000, 0.0000, 0.0000,  ..., 0.0000, 0.0000, 0.0000],\n",
       "           [0.0000, 0.0000, 0.0000,  ..., 0.0000, 0.0000, 0.0000],\n",
       "           [0.0000, 0.0000, 0.0000,  ..., 0.0000, 0.0000, 0.0000]],\n",
       " \n",
       "          [[0.0000, 0.0000, 0.0000,  ..., 0.0000, 0.0000, 0.0000],\n",
       "           [0.0000, 0.0000, 0.0000,  ..., 0.0000, 0.0000, 0.0000],\n",
       "           [0.0000, 0.0000, 0.0000,  ..., 0.0000, 0.0000, 0.0000],\n",
       "           ...,\n",
       "           [0.0000, 0.0000, 0.0000,  ..., 0.0000, 0.0000, 0.0000],\n",
       "           [0.0000, 0.0000, 0.0000,  ..., 0.0000, 0.0000, 0.0000],\n",
       "           [0.0000, 0.0000, 0.0000,  ..., 0.0000, 0.0000, 0.0000]],\n",
       " \n",
       "          [[0.0000, 0.0000, 0.0000,  ..., 0.0000, 0.0000, 0.0000],\n",
       "           [0.0000, 0.0000, 0.0000,  ..., 0.0000, 0.0000, 0.0000],\n",
       "           [0.0000, 0.0000, 0.0000,  ..., 0.0000, 0.0000, 0.0000],\n",
       "           ...,\n",
       "           [0.0000, 0.0000, 0.0000,  ..., 0.0000, 0.0000, 0.0000],\n",
       "           [0.0000, 0.0000, 0.0000,  ..., 0.0000, 0.0000, 0.0000],\n",
       "           [0.0000, 0.0000, 0.0000,  ..., 0.0000, 0.0000, 0.0000]]],\n",
       " \n",
       " \n",
       "         [[[0.0000, 0.0000, 0.0000,  ..., 0.0000, 0.0000, 0.0000],\n",
       "           [0.0000, 0.0000, 0.0000,  ..., 0.0000, 0.0000, 0.0000],\n",
       "           [0.0000, 0.0000, 0.0000,  ..., 0.0000, 0.0000, 0.0000],\n",
       "           ...,\n",
       "           [0.0000, 0.0000, 0.0000,  ..., 0.0000, 0.0000, 0.0000],\n",
       "           [0.0000, 0.0000, 0.0000,  ..., 0.0000, 0.0000, 0.0000],\n",
       "           [0.0000, 0.0000, 0.0000,  ..., 0.0000, 0.0000, 0.0000]],\n",
       " \n",
       "          [[0.0000, 0.0000, 0.0000,  ..., 0.0000, 0.0000, 0.0000],\n",
       "           [0.0000, 0.0000, 0.0000,  ..., 0.0000, 0.0000, 0.0000],\n",
       "           [0.0000, 0.0000, 0.0000,  ..., 0.0000, 0.0000, 0.0000],\n",
       "           ...,\n",
       "           [0.0000, 0.0000, 0.0000,  ..., 0.0000, 0.0000, 0.0000],\n",
       "           [0.0000, 0.0000, 0.0000,  ..., 0.0000, 0.0000, 0.0000],\n",
       "           [0.0000, 0.0000, 0.0000,  ..., 0.0000, 0.0000, 0.0000]],\n",
       " \n",
       "          [[0.0000, 0.0000, 0.0000,  ..., 0.0000, 0.0000, 0.0000],\n",
       "           [0.0000, 0.0000, 0.0000,  ..., 0.0000, 0.0000, 0.0000],\n",
       "           [0.0000, 0.0000, 0.0000,  ..., 0.0000, 0.0000, 0.0000],\n",
       "           ...,\n",
       "           [0.0000, 0.0000, 0.0000,  ..., 0.0000, 0.0000, 0.0000],\n",
       "           [0.0000, 0.0000, 0.0000,  ..., 0.0000, 0.0000, 0.0000],\n",
       "           [0.0000, 0.0000, 0.0000,  ..., 0.0000, 0.0000, 0.0000]]],\n",
       " \n",
       " \n",
       "         [[[0.0000, 0.0000, 0.0000,  ..., 0.0000, 0.0000, 0.0000],\n",
       "           [0.0000, 0.0000, 0.0000,  ..., 0.0000, 0.0000, 0.0000],\n",
       "           [0.0000, 0.0000, 0.0000,  ..., 0.0000, 0.0000, 0.0000],\n",
       "           ...,\n",
       "           [0.0000, 0.0000, 0.0000,  ..., 0.0000, 0.0000, 0.0000],\n",
       "           [0.0000, 0.0000, 0.0000,  ..., 0.0000, 0.0000, 0.0000],\n",
       "           [0.0000, 0.0000, 0.0000,  ..., 0.0000, 0.0000, 0.0000]],\n",
       " \n",
       "          [[0.0000, 0.0000, 0.0000,  ..., 0.0000, 0.0000, 0.0000],\n",
       "           [0.0000, 0.0000, 0.0000,  ..., 0.0000, 0.0000, 0.0000],\n",
       "           [0.0000, 0.0000, 0.0000,  ..., 0.0000, 0.0000, 0.0000],\n",
       "           ...,\n",
       "           [0.0000, 0.0000, 0.0000,  ..., 0.0000, 0.0000, 0.0000],\n",
       "           [0.0000, 0.0000, 0.0000,  ..., 0.0000, 0.0000, 0.0000],\n",
       "           [0.0000, 0.0000, 0.0000,  ..., 0.0000, 0.0000, 0.0000]],\n",
       " \n",
       "          [[0.0000, 0.0000, 0.0000,  ..., 0.0000, 0.0000, 0.0000],\n",
       "           [0.0000, 0.0000, 0.0000,  ..., 0.0000, 0.0000, 0.0000],\n",
       "           [0.0000, 0.0000, 0.0000,  ..., 0.0000, 0.0000, 0.0000],\n",
       "           ...,\n",
       "           [0.0000, 0.0000, 0.0000,  ..., 0.0000, 0.0000, 0.0000],\n",
       "           [0.0000, 0.0000, 0.0000,  ..., 0.0000, 0.0000, 0.0000],\n",
       "           [0.0000, 0.0000, 0.0000,  ..., 0.0000, 0.0000, 0.0000]]]]),\n",
       " tensor([0, 1, 1, 0, 1, 1, 0, 1, 1, 1, 1, 0, 0, 0, 1, 1, 0, 0, 0, 0, 0, 0, 0, 1,\n",
       "         0, 0, 1, 1, 0, 1, 0, 1])]"
      ]
     },
     "execution_count": 25,
     "metadata": {},
     "output_type": "execute_result"
    }
   ],
   "source": [
    "# 데이터로더 정의\n",
    "train_dataloader = DataLoader(train_dataset, batch_size=batch_size, shuffle=True)\n",
    "valid_dataloader = DataLoader(valid_dataset, batch_size=batch_size, shuffle=True)\n",
    "test_dataloader = DataLoader(test_dataset, batch_size=batch_size, shuffle=False)\n",
    "\n",
    "next(iter(train_dataloader))"
   ]
  },
  {
   "cell_type": "markdown",
   "metadata": {},
   "source": [
    "### 7. 학습 설정"
   ]
  },
  {
   "cell_type": "code",
   "execution_count": 26,
   "metadata": {},
   "outputs": [],
   "source": [
    "# Transformers 설정\n",
    "text_config = AutoConfig.from_pretrained(text_checkpoint)"
   ]
  },
  {
   "cell_type": "code",
   "execution_count": 27,
   "metadata": {},
   "outputs": [
    {
     "data": {
      "text/plain": [
       "LeNet(\n",
       "  (cnn1): Conv2d(3, 16, kernel_size=(5, 5), stride=(1, 1))\n",
       "  (relu1): ReLU()\n",
       "  (maxpool1): MaxPool2d(kernel_size=2, stride=2, padding=0, dilation=1, ceil_mode=False)\n",
       "  (cnn2): Conv2d(16, 32, kernel_size=(5, 5), stride=(1, 1))\n",
       "  (relu2): ReLU()\n",
       "  (maxpool2): MaxPool2d(kernel_size=2, stride=2, padding=0, dilation=1, ceil_mode=False)\n",
       "  (adaptive_pool): AdaptiveAvgPool2d(output_size=(7, 7))\n",
       "  (fc1): Linear(in_features=1568, out_features=768, bias=True)\n",
       "  (relu3): ReLU()\n",
       ")"
      ]
     },
     "execution_count": 27,
     "metadata": {},
     "output_type": "execute_result"
    }
   ],
   "source": [
    "# LeNet 모델 설정\n",
    "lenet_model = LeNet(output_dim=text_config.hidden_size)\n",
    "lenet_model"
   ]
  },
  {
   "cell_type": "code",
   "execution_count": 28,
   "metadata": {},
   "outputs": [
    {
     "data": {
      "text/plain": [
       "LeNetTransformerModel(\n",
       "  (text_model): TransformerEncoder(\n",
       "    (embeddings): Embeddings(\n",
       "      (token_embeddings): Embedding(32000, 768)\n",
       "      (position_embeddings): Embedding(514, 768)\n",
       "      (layer_norm): LayerNorm((768,), eps=1e-12, elementwise_affine=True)\n",
       "      (dropout): Dropout(p=0.1, inplace=False)\n",
       "    )\n",
       "    (layers): ModuleList(\n",
       "      (0-5): 6 x TransformerEncoderLayer(\n",
       "        (layer_norm_1): LayerNorm((768,), eps=1e-05, elementwise_affine=True)\n",
       "        (layer_norm_2): LayerNorm((768,), eps=1e-05, elementwise_affine=True)\n",
       "        (attention): MultiHeadAttention(\n",
       "          (heads): ModuleList(\n",
       "            (0-11): 12 x AttentionHead(\n",
       "              (q): Linear(in_features=768, out_features=64, bias=True)\n",
       "              (k): Linear(in_features=768, out_features=64, bias=True)\n",
       "              (v): Linear(in_features=768, out_features=64, bias=True)\n",
       "            )\n",
       "          )\n",
       "          (output_linear): Linear(in_features=768, out_features=768, bias=True)\n",
       "        )\n",
       "        (feed_forward): FeedForward(\n",
       "          (linear_1): Linear(in_features=768, out_features=3072, bias=True)\n",
       "          (linear_2): Linear(in_features=3072, out_features=768, bias=True)\n",
       "          (gelu): GELU(approximate='none')\n",
       "          (dropout): Dropout(p=0.1, inplace=False)\n",
       "        )\n",
       "      )\n",
       "    )\n",
       "  )\n",
       "  (img_model): LeNet(\n",
       "    (cnn1): Conv2d(3, 16, kernel_size=(5, 5), stride=(1, 1))\n",
       "    (relu1): ReLU()\n",
       "    (maxpool1): MaxPool2d(kernel_size=2, stride=2, padding=0, dilation=1, ceil_mode=False)\n",
       "    (cnn2): Conv2d(16, 32, kernel_size=(5, 5), stride=(1, 1))\n",
       "    (relu2): ReLU()\n",
       "    (maxpool2): MaxPool2d(kernel_size=2, stride=2, padding=0, dilation=1, ceil_mode=False)\n",
       "    (adaptive_pool): AdaptiveAvgPool2d(output_size=(7, 7))\n",
       "    (fc1): Linear(in_features=1568, out_features=768, bias=True)\n",
       "    (relu3): ReLU()\n",
       "  )\n",
       "  (attention): AttentionMechanism(\n",
       "    (attention): Linear(in_features=1536, out_features=512, bias=True)\n",
       "    (context_vector): Linear(in_features=512, out_features=1, bias=False)\n",
       "  )\n",
       "  (classifier): Linear(in_features=1536, out_features=2, bias=True)\n",
       "  (dropout): Dropout(p=0.1, inplace=False)\n",
       ")"
      ]
     },
     "execution_count": 28,
     "metadata": {},
     "output_type": "execute_result"
    }
   ],
   "source": [
    "# Model\n",
    "model = LeNetTransformerModel(text_config, lenet_model)\n",
    "model.to(device)"
   ]
  },
  {
   "cell_type": "code",
   "execution_count": 29,
   "metadata": {},
   "outputs": [
    {
     "name": "stdout",
     "output_type": "stream",
     "text": [
      "Trainable Params: 69509090 \n",
      "All params: 69509090\n",
      "--------------------------------------------------\n",
      "Trainable(%): 100.0\n"
     ]
    }
   ],
   "source": [
    "# LoRA 적용 후 훈련 가능한 파라미터 개수\n",
    "print_trainable_parameters(model)"
   ]
  },
  {
   "cell_type": "code",
   "execution_count": 30,
   "metadata": {},
   "outputs": [],
   "source": [
    "# 손실함수와 옵티마이저, 그리고 Metrics\n",
    "criterion = nn.CrossEntropyLoss()\n",
    "optimizer = optim.AdamW(model.parameters(), lr=3e-5)\n",
    "acc_metric = BinaryAccuracy().to(device)\n",
    "f1_metric = BinaryF1Score().to(device)\n",
    "precision_metric = BinaryPrecision().to(device)\n",
    "recall_metric = BinaryRecall().to(device)"
   ]
  },
  {
   "cell_type": "code",
   "execution_count": 31,
   "metadata": {},
   "outputs": [
    {
     "name": "stdout",
     "output_type": "stream",
     "text": [
      "남은 GPU 메모리: 21.70 GB\n"
     ]
    }
   ],
   "source": [
    "# 학습 시작 전 GPU 메모리 확인\n",
    "def checkGPU(empty=False):\n",
    "    if torch.cuda.is_available():\n",
    "        total_mem = torch.cuda.get_device_properties(0).total_memory\n",
    "        current_mem = torch.cuda.memory_allocated(0)\n",
    "        free_mem = total_mem - current_mem\n",
    "        \n",
    "        print(f'남은 GPU 메모리: {free_mem / (1024 ** 3):.2f} GB')\n",
    "        \n",
    "        if empty:\n",
    "            torch.cuda.empty_cache()\n",
    "            after_mem = torch.cuda.memory_allocated(0)\n",
    "            print(f'GPU 캐시에서 메모리 삭제 후 메모리: {after_mem / (1024 ** 3):.2f} GB')\n",
    "    else:\n",
    "        print('CUDA 사용 불가')\n",
    "\n",
    "checkGPU()"
   ]
  },
  {
   "cell_type": "code",
   "execution_count": 32,
   "metadata": {},
   "outputs": [],
   "source": [
    "# 모델 학습 파라미터\n",
    "num_epochs = 3\n",
    "wait_for_es = 5"
   ]
  },
  {
   "cell_type": "code",
   "execution_count": 33,
   "metadata": {},
   "outputs": [],
   "source": [
    "# Trainer 정의\n",
    "trainer = Trainer(model,\n",
    "                  train_dataloader,\n",
    "                  valid_dataloader,\n",
    "                  criterion,\n",
    "                  optimizer,\n",
    "                  acc_metric,\n",
    "                  precision_metric,\n",
    "                  recall_metric,\n",
    "                  f1_metric,\n",
    "                  device,\n",
    "                  num_epochs,\n",
    "                  wait_for_es)"
   ]
  },
  {
   "cell_type": "code",
   "execution_count": 34,
   "metadata": {},
   "outputs": [
    {
     "name": "stdout",
     "output_type": "stream",
     "text": [
      "--------------------------------------------------------------------------------\n",
      "Epoch 1/3\n",
      "--------------------------------------------------------------------------------\n"
     ]
    },
    {
     "name": "stderr",
     "output_type": "stream",
     "text": [
      "Training: 100%|██████████| 157/157 [01:23<00:00,  1.89it/s]\n",
      "Validating: 100%|██████████| 53/53 [00:19<00:00,  2.78it/s]\n"
     ]
    },
    {
     "name": "stdout",
     "output_type": "stream",
     "text": [
      "[Train] \t Loss: 0.5213 \t Acc: 0.7369 \t Precision: 0.6247 \t Recall: 0.5758 \t F1: 0.5477\n",
      "[Valid] \t Loss: 0.3207 \t Acc: 0.8715 \t Precision: 0.8148 \t Recall: 0.8316 \t F1: 0.8183\n",
      "(Epoch 1 complete in 1m 42s)\n",
      "Model Saved to ./YouTube_Transformers_LeNet_ACC_0.8715.pth\n",
      "--------------------------------------------------------------------------------\n",
      "Epoch 2/3\n",
      "--------------------------------------------------------------------------------\n"
     ]
    },
    {
     "name": "stderr",
     "output_type": "stream",
     "text": [
      "Training: 100%|██████████| 157/157 [01:23<00:00,  1.88it/s]\n",
      "Validating: 100%|██████████| 53/53 [00:19<00:00,  2.77it/s]\n"
     ]
    },
    {
     "name": "stdout",
     "output_type": "stream",
     "text": [
      "[Train] \t Loss: 0.3050 \t Acc: 0.8747 \t Precision: 0.8621 \t Recall: 0.8123 \t F1: 0.8221\n",
      "[Valid] \t Loss: 0.2675 \t Acc: 0.8903 \t Precision: 0.8809 \t Recall: 0.7706 \t F1: 0.8153\n",
      "(Epoch 2 complete in 3m 27s)\n",
      "Model Saved to ./YouTube_Transformers_LeNet_ACC_0.8903.pth\n",
      "--------------------------------------------------------------------------------\n",
      "Epoch 3/3\n",
      "--------------------------------------------------------------------------------\n"
     ]
    },
    {
     "name": "stderr",
     "output_type": "stream",
     "text": [
      "Training: 100%|██████████| 157/157 [01:23<00:00,  1.89it/s]\n",
      "Validating: 100%|██████████| 53/53 [00:19<00:00,  2.71it/s]\n"
     ]
    },
    {
     "name": "stdout",
     "output_type": "stream",
     "text": [
      "[Train] \t Loss: 0.2369 \t Acc: 0.9102 \t Precision: 0.9042 \t Recall: 0.8559 \t F1: 0.8735\n",
      "[Valid] \t Loss: 0.2492 \t Acc: 0.9004 \t Precision: 0.8790 \t Recall: 0.8449 \t F1: 0.8571\n",
      "(Epoch 3 complete in 5m 10s)\n",
      "Model Saved to ./YouTube_Transformers_LeNet_ACC_0.9004.pth\n"
     ]
    }
   ],
   "source": [
    "# 학습 시작\n",
    "train_loss_history, train_acc_history, train_precision_history, train_recall_history, train_f1_history, valid_loss_history, valid_acc_history, valid_precision_history, valid_recall_history, valid_f1_history = trainer.train()"
   ]
  },
  {
   "cell_type": "code",
   "execution_count": 35,
   "metadata": {},
   "outputs": [],
   "source": [
    "# 학습 과정 시각화 함수\n",
    "def plot_training_history(train_loss_history, train_acc_history, train_precision_history, train_recall_history, train_f1_history,\n",
    "                          valid_loss_history, valid_acc_history, valid_precision_history, valid_recall_history, valid_f1_history):\n",
    "    plt.figure(figsize=(16, 9))\n",
    "\n",
    "    # Loss Plot\n",
    "    ax1 = plt.subplot2grid((2, 4), (0, 0), colspan=4)\n",
    "    ax1.plot(train_loss_history, label='Train Loss')\n",
    "    ax1.plot(valid_loss_history, label='Validation Loss')\n",
    "    ax1.set_title('Training and Validation Loss')\n",
    "    ax1.set_xlabel('Epochs')\n",
    "    ax1.set_ylabel('Loss')\n",
    "    ax1.legend()\n",
    "\n",
    "    # Accuracy Plot\n",
    "    ax2 = plt.subplot2grid((2, 4), (1, 0))\n",
    "    ax2.plot(train_acc_history, label='Train Accuracy')\n",
    "    ax2.plot(valid_acc_history, label='Validation Accuracy')\n",
    "    ax2.set_title('Training and Validation Accuracy')\n",
    "    ax2.set_xlabel('Epochs')\n",
    "    ax2.set_ylabel('Accuracy')\n",
    "    ax2.legend()\n",
    "\n",
    "    # Precision Plot\n",
    "    ax3 = plt.subplot2grid((2, 4), (1, 1))\n",
    "    ax3.plot(train_precision_history, label='Train Precision')\n",
    "    ax3.plot(valid_precision_history, label='Validation Precision')\n",
    "    ax3.set_title('Training and Validation Precision')\n",
    "    ax3.set_xlabel('Epochs')\n",
    "    ax3.set_ylabel('Precision')\n",
    "    ax3.legend()\n",
    "\n",
    "    # Recall Plot\n",
    "    ax4 = plt.subplot2grid((2, 4), (1, 2))\n",
    "    ax4.plot(train_recall_history, label='Train Recall')\n",
    "    ax4.plot(valid_recall_history, label='Validation Recall')\n",
    "    ax4.set_title('Training and Validation Recall')\n",
    "    ax4.set_xlabel('Epochs')\n",
    "    ax4.set_ylabel('Recall')\n",
    "    ax4.legend()\n",
    "\n",
    "    # F1 Plot\n",
    "    ax5 = plt.subplot2grid((2, 4), (1, 3))\n",
    "    ax5.plot(train_f1_history, label='Train F1 Score')\n",
    "    ax5.plot(valid_f1_history, label='Validation F1 Score')\n",
    "    ax5.set_title('Training and Validation F1 Score')\n",
    "    ax5.set_xlabel('Epochs')\n",
    "    ax5.set_ylabel('F1 Score')\n",
    "    ax5.legend()\n",
    "\n",
    "    plt.tight_layout()\n",
    "    plt.show()"
   ]
  },
  {
   "cell_type": "code",
   "execution_count": 36,
   "metadata": {},
   "outputs": [
    {
     "data": {
      "image/png": "[encoded data removed]",
      "text/plain": [
       "<Figure size 1600x900 with 5 Axes>"
      ]
     },
     "metadata": {},
     "output_type": "display_data"
    }
   ],
   "source": [
    "plot_training_history(train_loss_history, train_acc_history, train_precision_history, train_recall_history, train_f1_history, valid_loss_history, valid_acc_history, valid_precision_history, valid_recall_history, valid_f1_history)"
   ]
  },
  {
   "cell_type": "markdown",
   "metadata": {},
   "source": [
    "### 8. 평가"
   ]
  },
  {
   "cell_type": "code",
   "execution_count": 40,
   "metadata": {},
   "outputs": [],
   "source": [
    "# 모델 로드 함수 정의\n",
    "def load_model(model_path, text_config, lenet_model):\n",
    "    model = LeNetTransformerModel(text_config, lenet_model)\n",
    "    model.load_state_dict(torch.load(model_path))\n",
    "    model.to(device)\n",
    "    return model\n",
    "\n",
    "# Inference 함수 정의\n",
    "def inference(model, test_dataloader, device):\n",
    "    model.eval()\n",
    "\n",
    "    preds_list = []\n",
    "    true_labels = []\n",
    "\n",
    "    with torch.no_grad():\n",
    "        for batch in tqdm(test_dataloader, desc='Testing'):\n",
    "            input_ids, attention_mask, images, labels = batch\n",
    "            input_ids, attention_mask, images, labels = input_ids.to(device), attention_mask.to(device), images.to(device), labels.to(device)\n",
    "\n",
    "            outputs = model(input_ids, attention_mask, images)\n",
    "            preds = torch.argmax(outputs, dim=1)\n",
    "\n",
    "            preds_list.extend(preds.cpu().numpy())\n",
    "            true_labels.extend(labels.cpu().numpy())\n",
    "\n",
    "    return preds_list, true_labels"
   ]
  },
  {
   "cell_type": "code",
   "execution_count": 41,
   "metadata": {},
   "outputs": [],
   "source": [
    "# 저장된 모델 경로\n",
    "best_model_path = path+'/YouTube_Transformers_LeNet_ACC_0.9004.pth'"
   ]
  },
  {
   "cell_type": "code",
   "execution_count": 42,
   "metadata": {},
   "outputs": [],
   "source": [
    "# 모델 불러오기\n",
    "model = load_model(best_model_path, text_config, lenet_model)"
   ]
  },
  {
   "cell_type": "code",
   "execution_count": 43,
   "metadata": {},
   "outputs": [
    {
     "name": "stderr",
     "output_type": "stream",
     "text": [
      "Testing: 100%|██████████| 53/53 [00:22<00:00,  2.37it/s]\n"
     ]
    }
   ],
   "source": [
    "preds_list, true_labels = inference(model, test_dataloader, device)"
   ]
  },
  {
   "cell_type": "code",
   "execution_count": 44,
   "metadata": {},
   "outputs": [
    {
     "name": "stdout",
     "output_type": "stream",
     "text": [
      "Test Accuracy: 0.9040\n",
      "Test Precision: 0.8793\n",
      "Test Recall: 0.8624\n",
      "Test F1 Score: 0.8708\n",
      "Test Confusion Matrix: \n",
      "[[968  74]\n",
      " [ 86 539]]\n"
     ]
    }
   ],
   "source": [
    "# 평가 지표 계산\n",
    "test_accuracy = accuracy_score(true_labels, preds_list)\n",
    "test_precision = precision_score(true_labels, preds_list)\n",
    "test_recall = recall_score(true_labels, preds_list)\n",
    "test_f1 = f1_score(true_labels, preds_list)\n",
    "test_cm = confusion_matrix(true_labels, preds_list)\n",
    "\n",
    "print(f'Test Accuracy: {test_accuracy:.4f}')\n",
    "print(f'Test Precision: {test_precision:.4f}')\n",
    "print(f'Test Recall: {test_recall:.4f}')\n",
    "print(f'Test F1 Score: {test_f1:.4f}')\n",
    "print(f'Test Confusion Matrix: \\n{test_cm}')"
   ]
  }
 ],
 "metadata": {
  "kernelspec": {
   "display_name": "PySangCUDA",
   "language": "python",
   "name": "python3"
  },
  "language_info": {
   "codemirror_mode": {
    "name": "ipython",
    "version": 3
   },
   "file_extension": ".py",
   "mimetype": "text/x-python",
   "name": "python",
   "nbconvert_exporter": "python",
   "pygments_lexer": "ipython3",
   "version": "3.8.10"
  }
 },
 "nbformat": 4,
 "nbformat_minor": 2
}
