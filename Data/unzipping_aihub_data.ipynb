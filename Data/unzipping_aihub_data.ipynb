{
  "cells": [
    {
      "cell_type": "code",
      "execution_count": 1,
      "metadata": {
        "id": "2FXDreJTAi1w"
      },
      "outputs": [],
      "source": [
        "# 라이브러리\n",
        "import zipfile\n",
        "import os\n",
        "import json\n",
        "import re\n",
        "import ast\n",
        "\n",
        "import matplotlib.pyplot as plt\n",
        "import seaborn as sns\n",
        "\n",
        "import pandas as pd\n",
        "from tqdm.auto import tqdm\n",
        "\n",
        "# matplotlib 커널 설정\n",
        "os.environ['KMP_DUPLICATE_LIB_OK']='True'"
      ]
    },
    {
      "cell_type": "code",
      "execution_count": 2,
      "metadata": {
        "id": "WQdzKOX-Rj-8"
      },
      "outputs": [],
      "source": [
        "def unzip_all(zip_base_path, unzip_base_path):\n",
        "    \"\"\"\n",
        "    지정된 경로에 있는 모든 ZIP 파일을 찾아 압축을 해제하는 함수(압축 해제 되어있다면 넘어감)\n",
        "\n",
        "    Args:\n",
        "    - zip_base_path (str): ZIP 파일들이 있는 기본 경로\n",
        "    - unzip_base_path (str): 압축 해제된 데이터를 저장할 기본 경로\n",
        "    \"\"\"\n",
        "\n",
        "    # zip_base_path 아래에 있는 모든 '.zip' 파일을 찾기\n",
        "    zip_files = [os.path.join(zip_base_path, f) for f in os.listdir(zip_base_path) if f.endswith('.zip')]\n",
        "\n",
        "    # 모든 ZIP 파일을 순회\n",
        "    for zip_path in zip_files:\n",
        "        # ZIP 파일에서 폴더 이름을 추출\n",
        "        folder_name = os.path.basename(zip_path).split('.')[0]\n",
        "        print(f\"Processing: {folder_name}\")\n",
        "\n",
        "        # 압축 해제 폴더 경로를 생성\n",
        "        new_extract_to_path = os.path.join(unzip_base_path, folder_name)\n",
        "\n",
        "        # 새 폴더 생성\n",
        "        if not os.path.exists(new_extract_to_path):\n",
        "            os.makedirs(new_extract_to_path)\n",
        "            print(f\"Created directory: {new_extract_to_path}\")\n",
        "\n",
        "            # ZIP 파일을 열기 및 압축 해제\n",
        "            with zipfile.ZipFile(zip_path, 'r') as zip_ref:\n",
        "            # 파일 목록\n",
        "                file_list = zip_ref.namelist()\n",
        "\n",
        "                # tqdm으로 진행률 표시\n",
        "                for file in tqdm(file_list, desc=f\"Extracting files from {os.path.basename(zip_path)}\"):\n",
        "                    # 전체 파일 경로\n",
        "                    full_file_path = os.path.join(new_extract_to_path, file)\n",
        "\n",
        "                    # 상위 폴더 생성\n",
        "                    os.makedirs(os.path.dirname(full_file_path), exist_ok=True)\n",
        "\n",
        "                    # 압축 해제\n",
        "                    zip_ref.extract(file, new_extract_to_path)\n",
        "            print('')\n",
        "        else:\n",
        "            print(f\"Directory already exists: {new_extract_to_path}\")\n",
        "            print('')\n",
        "            continue"
      ]
    },
    {
      "cell_type": "code",
      "execution_count": 3,
      "metadata": {
        "colab": {
          "base_uri": "https://localhost:8080/",
          "height": 1000,
          "referenced_widgets": [
            "5612054ca5f94859b0c32c6176fdb226",
            "e6f2b27bb9fa4b918da62395317970e0",
            "7d2d5e2270684aa282c8f581c47b6233",
            "e672281db3414d69a415e90f0e25bee6",
            "d4cf693cb73a45f880f0c71051ddd0a1",
            "c8b4a4e386134b8e9463db9b30f530b5",
            "121c33de1b5c428fae52dac523d97c85",
            "b86405fd6a794dc2830cd13f42162734",
            "3fa4c571b52842acafbcf71aa64ed8b2",
            "485883cf25554f7ba99f7d0e48e655cc",
            "6ca86db523e7470db3d3a526c77a8093",
            "f01d91aea58345e0802b838bb9c040e3",
            "24c6ded08c56412fa79831c74f0775b8",
            "ee40e78d973e4d61aae78535307b4e0e",
            "03df4f04d4014da49731666a3250ee85",
            "15ef786034ab41a19e1cccd9b0bd9b1e",
            "00bcaf6ea44c43878750a26a4193bdc2",
            "2e63889d3d14414a81f6727a7583fcbd",
            "9616dcba9cd84fc2a59e0c16be5216eb",
            "e4c18bff81b8479da97c022cd7391d04",
            "f39eaca6e3eb4876ace24b0c40b03be6",
            "bf64cca9b412486196fca3ec36c4f008",
            "ff5d3d5fa669481ebf8fe2d9258c96a5",
            "85770b4f6d3443c1813485901a1a65c8",
            "f1fa7586bec1462991c8d9c61ac53dc5",
            "281d5ca29d9b45d383dbdd0b7d8ec5d8",
            "24890d011a924312b0f34621ce89e833",
            "07ac744aa88d448bb784446838378012",
            "0594552374714959b82a395ea6052c92",
            "c3bd96da56ad4bbe845ef5e63f306a8f",
            "1e7ea00d38c143dba8cafc43ad0ce922",
            "2354d59f9d6740eda4e76c99d0713427",
            "e799c3de27724cfb97ced227dc0ba2e2",
            "c19d2fa6211046969eba4f66497aee6c",
            "a4472a6da4a84c91b214cc7679892b6b",
            "7c35b41469d94cc48772259809eab064",
            "4119a455c5c640f290344888a593573d",
            "c1cff8ad86ae4bb6bf8eed9d9d197fb1",
            "21e78e0cc3c14b55931b5b1cd40e694e",
            "0d45e07dbc924a478a88680d6e7b8f3b",
            "853d3eb2c56a47acbf67df8a32008b55",
            "56b40a9fbda94f39ad47eb1a5f514b86",
            "c4378334e701421bb59bcc6f208f4b8b",
            "e790838293d240db85ff78a9ebf6c9ff",
            "37f1da7ac72645e095af1019bf0f6678",
            "0c051bf311a14fc6860b122decb3dff0",
            "81f9534349674dc7b396d1d0f01e8812",
            "060721577f204da1baf6158ebbc301b2",
            "b8c7222f8dd04511a8e3f65c283a487e",
            "154d258c4a644b178656ec2a60b02cad",
            "98c208494c7b43a7b1c73f4d75e998e6",
            "b6124b9428a6478dac0d7ccd27c80df9",
            "d483c3984819456db561f407557a78dc",
            "29d5f7affab04991bf61a4d0abca88a3",
            "0b359155cd804bc1a89fe599d7189378",
            "86986cf2122d4033b03bacd7a023e663",
            "7a9d5bbbf5ae401c80aab61ea42c1098",
            "2ddea25959b54760aaa54acf19010551",
            "56365d29724a442bb04ede9c5cfd6de6",
            "9c7808f39d30496cab84e1ea75cd249d",
            "9f26ddd5a8a1450599a1bb05f172b866",
            "dc8b1df411a14d5fbcb1ad4f31aadb5a",
            "624e76858fdd4a44a22bd16263044108",
            "3eb084fed8e9437abc8a2898bb394417",
            "cc25c9177ecf42008b32d03c3af26829",
            "aa39a2a6ea8d40e6b1cdd7475febec23",
            "d5dddf8c72f74f55a35c8ae229772b8d",
            "86d5c3fe35df435f846ccd794c72e5e3",
            "529ec6cb5d5d428bac57ab0ff94ddb04",
            "0347f4d8c5e6478bb073c9cb2083fed4",
            "ca2677aa86224b48a7a825d4da0671e4",
            "28b61f464d194ab281486921a18d0a6f",
            "45471fc689a4418882f6a5ba31119e24",
            "2012ef745389428e8ee5168f35dbf836",
            "8573dde8d6f24457a1ad9efd6ebff809",
            "4ed6c1318eaf4da08745ca0187ae5b44",
            "3c790d204c5442e3b2e059d1ac5e2cfe",
            "03b3e43eae964812942cff01dc1d4c0d",
            "e3e14e13049f4182bfac4f93e4e7d8e8",
            "123001441a464b3b9aa15113681ae0c7",
            "07b080633b344f7eb86d26cd616bc5e8",
            "26b39d7e77f940d68c8ed5d3a0a3da6e",
            "e59c94efcc1541c8a75384eaeea72a73",
            "0750d3a4a63c4c51b19cea3aa54273b6",
            "113ca0b4103c48f697e338d3f8e73744",
            "025e59360ea1489fa7c875c283b00348",
            "99d020ec7c6c405e96cf23b90e66538d",
            "e0139c03534243f09ac6b7f19e0cdc7f",
            "b3cec4c907be43c58b1646ae27f5195e",
            "edb465941b924c3199fe643111388fcd",
            "778a3da12d88466aa8c9d6bdcebff026",
            "e07dfa748771421694b7ab109c2287c8",
            "0fdda241c42344ff991699223903beae",
            "3695d4c950d94f0388298913e03da460",
            "f9ba3941fd514cb28f57a23e1f22b9c2",
            "befc7b27eadf4f4fa82237221a769bce",
            "a47da9c3a1a742c282e49443229a79db",
            "cb80a0ecb72a4c41a768b8ef07ca3103",
            "9ef68c5cc8f543619c52e8ab07b23dd3",
            "b9edc0d16f324c0bb76aa331ab6d39e4",
            "ce359c1c982b4d83b5aa6dccebf9bcf1",
            "89ab64f3f08b4ac5ac2963d1cd02f6fb",
            "2552ef29e66e4238ba45aae41b48544f",
            "f9d05d460f3241e2a102e9777baf0054",
            "9f686d0603d94669888fe557e2f8af61",
            "a5246e353fcf435b8d97da49d14bf374",
            "87b6c16ed3034ee699306fa345d864c9",
            "04fe2fcfcb994dae84b45e0f7f10ff95",
            "cb0493f323f34ef4994802042626e4bf",
            "bcfd33d1ed364893b35327bd8703e0e8"
          ]
        },
        "id": "Bg38acbV6Nla",
        "outputId": "b6c68713-4fc0-4b04-abdd-7cfbbec833ae"
      },
      "outputs": [
        {
          "name": "stdout",
          "output_type": "stream",
          "text": [
            "Processing: TS_Part2_Clickbait_Direct_GB\n",
            "Created directory: /Users/leesanghyuk/Python_Programs/Projects/Data/UnzippedData/TS_Part2_Clickbait_Direct_GB\n"
          ]
        },
        {
          "data": {
            "application/vnd.jupyter.widget-view+json": {
              "model_id": "7a16b4daf0d546009e0bb0de35ed1709",
              "version_major": 2,
              "version_minor": 0
            },
            "text/plain": [
              "Extracting files from TS_Part2_Clickbait_Direct_GB.zip:   0%|          | 0/6697 [00:00<?, ?it/s]"
            ]
          },
          "metadata": {},
          "output_type": "display_data"
        },
        {
          "name": "stdout",
          "output_type": "stream",
          "text": [
            "\n",
            "Processing: TS_Part2_NonClickbait_Auto_IS\n",
            "Created directory: /Users/leesanghyuk/Python_Programs/Projects/Data/UnzippedData/TS_Part2_NonClickbait_Auto_IS\n"
          ]
        },
        {
          "data": {
            "application/vnd.jupyter.widget-view+json": {
              "model_id": "7a85980c8c6d41758ca830955a44b51a",
              "version_major": 2,
              "version_minor": 0
            },
            "text/plain": [
              "Extracting files from TS_Part2_NonClickbait_Auto_IS.zip:   0%|          | 0/19900 [00:00<?, ?it/s]"
            ]
          },
          "metadata": {},
          "output_type": "display_data"
        },
        {
          "name": "stdout",
          "output_type": "stream",
          "text": [
            "\n",
            "Processing: TS_Part2_NonClickbait_Auto_EC\n",
            "Created directory: /Users/leesanghyuk/Python_Programs/Projects/Data/UnzippedData/TS_Part2_NonClickbait_Auto_EC\n"
          ]
        },
        {
          "data": {
            "application/vnd.jupyter.widget-view+json": {
              "model_id": "e17efbce9f2648db88f69fbd7472935d",
              "version_major": 2,
              "version_minor": 0
            },
            "text/plain": [
              "Extracting files from TS_Part2_NonClickbait_Auto_EC.zip:   0%|          | 0/20668 [00:00<?, ?it/s]"
            ]
          },
          "metadata": {},
          "output_type": "display_data"
        },
        {
          "name": "stdout",
          "output_type": "stream",
          "text": [
            "\n",
            "Processing: TS_Part2_NonClickbait_Auto_ET\n",
            "Created directory: /Users/leesanghyuk/Python_Programs/Projects/Data/UnzippedData/TS_Part2_NonClickbait_Auto_ET\n"
          ]
        },
        {
          "data": {
            "application/vnd.jupyter.widget-view+json": {
              "model_id": "d5f4544b5c7a42bb93d3c1356170c057",
              "version_major": 2,
              "version_minor": 0
            },
            "text/plain": [
              "Extracting files from TS_Part2_NonClickbait_Auto_ET.zip:   0%|          | 0/17548 [00:00<?, ?it/s]"
            ]
          },
          "metadata": {},
          "output_type": "display_data"
        },
        {
          "name": "stdout",
          "output_type": "stream",
          "text": [
            "\n",
            "Processing: TS_Part2_Clickbait_Direct_PO\n",
            "Created directory: /Users/leesanghyuk/Python_Programs/Projects/Data/UnzippedData/TS_Part2_Clickbait_Direct_PO\n"
          ]
        },
        {
          "data": {
            "application/vnd.jupyter.widget-view+json": {
              "model_id": "48ceea699ba24b6dbabca047c07777dd",
              "version_major": 2,
              "version_minor": 0
            },
            "text/plain": [
              "Extracting files from TS_Part2_Clickbait_Direct_PO.zip:   0%|          | 0/5580 [00:00<?, ?it/s]"
            ]
          },
          "metadata": {},
          "output_type": "display_data"
        },
        {
          "name": "stdout",
          "output_type": "stream",
          "text": [
            "\n",
            "Processing: TS_Part2_NonClickbait_Auto_SO\n",
            "Created directory: /Users/leesanghyuk/Python_Programs/Projects/Data/UnzippedData/TS_Part2_NonClickbait_Auto_SO\n"
          ]
        },
        {
          "data": {
            "application/vnd.jupyter.widget-view+json": {
              "model_id": "99e04d80273b4fff9dc25c4b17d275e3",
              "version_major": 2,
              "version_minor": 0
            },
            "text/plain": [
              "Extracting files from TS_Part2_NonClickbait_Auto_SO.zip:   0%|          | 0/28284 [00:00<?, ?it/s]"
            ]
          },
          "metadata": {},
          "output_type": "display_data"
        },
        {
          "name": "stdout",
          "output_type": "stream",
          "text": [
            "\n",
            "Processing: TS_Part2_Clickbait_Auto_EC\n",
            "Created directory: /Users/leesanghyuk/Python_Programs/Projects/Data/UnzippedData/TS_Part2_Clickbait_Auto_EC\n"
          ]
        },
        {
          "data": {
            "application/vnd.jupyter.widget-view+json": {
              "model_id": "76e79f9cf8d84d3ea295409cf6993ccd",
              "version_major": 2,
              "version_minor": 0
            },
            "text/plain": [
              "Extracting files from TS_Part2_Clickbait_Auto_EC.zip:   0%|          | 0/15271 [00:00<?, ?it/s]"
            ]
          },
          "metadata": {},
          "output_type": "display_data"
        },
        {
          "name": "stdout",
          "output_type": "stream",
          "text": [
            "\n",
            "Processing: TS_Part2_Clickbait_Auto_ET\n",
            "Created directory: /Users/leesanghyuk/Python_Programs/Projects/Data/UnzippedData/TS_Part2_Clickbait_Auto_ET\n"
          ]
        },
        {
          "data": {
            "application/vnd.jupyter.widget-view+json": {
              "model_id": "767a0d63163e4e5a9e320d330c577505",
              "version_major": 2,
              "version_minor": 0
            },
            "text/plain": [
              "Extracting files from TS_Part2_Clickbait_Auto_ET.zip:   0%|          | 0/14098 [00:00<?, ?it/s]"
            ]
          },
          "metadata": {},
          "output_type": "display_data"
        },
        {
          "name": "stdout",
          "output_type": "stream",
          "text": [
            "\n",
            "Processing: TS_Part2_Clickbait_Auto_SO\n",
            "Created directory: /Users/leesanghyuk/Python_Programs/Projects/Data/UnzippedData/TS_Part2_Clickbait_Auto_SO\n"
          ]
        },
        {
          "data": {
            "application/vnd.jupyter.widget-view+json": {
              "model_id": "dfb6f70c0d144ca7b3c9364ed13bf378",
              "version_major": 2,
              "version_minor": 0
            },
            "text/plain": [
              "Extracting files from TS_Part2_Clickbait_Auto_SO.zip:   0%|          | 0/22084 [00:00<?, ?it/s]"
            ]
          },
          "metadata": {},
          "output_type": "display_data"
        },
        {
          "name": "stdout",
          "output_type": "stream",
          "text": [
            "\n",
            "Processing: TS_Part2_Clickbait_Direct_LC\n",
            "Created directory: /Users/leesanghyuk/Python_Programs/Projects/Data/UnzippedData/TS_Part2_Clickbait_Direct_LC\n"
          ]
        },
        {
          "data": {
            "application/vnd.jupyter.widget-view+json": {
              "model_id": "ceba64492be240abb08dd9a3c4e9e9e2",
              "version_major": 2,
              "version_minor": 0
            },
            "text/plain": [
              "Extracting files from TS_Part2_Clickbait_Direct_LC.zip:   0%|          | 0/3756 [00:00<?, ?it/s]"
            ]
          },
          "metadata": {},
          "output_type": "display_data"
        },
        {
          "name": "stdout",
          "output_type": "stream",
          "text": [
            "\n",
            "Processing: TS_Part2_Clickbait_Auto_IS\n",
            "Created directory: /Users/leesanghyuk/Python_Programs/Projects/Data/UnzippedData/TS_Part2_Clickbait_Auto_IS\n"
          ]
        },
        {
          "data": {
            "application/vnd.jupyter.widget-view+json": {
              "model_id": "af0bfeabe0c24c8cb96fdce9e701afe8",
              "version_major": 2,
              "version_minor": 0
            },
            "text/plain": [
              "Extracting files from TS_Part2_Clickbait_Auto_IS.zip:   0%|          | 0/15276 [00:00<?, ?it/s]"
            ]
          },
          "metadata": {},
          "output_type": "display_data"
        },
        {
          "name": "stdout",
          "output_type": "stream",
          "text": [
            "\n",
            "Processing: TS_Part2_Clickbait_Auto_GB\n",
            "Created directory: /Users/leesanghyuk/Python_Programs/Projects/Data/UnzippedData/TS_Part2_Clickbait_Auto_GB\n"
          ]
        },
        {
          "data": {
            "application/vnd.jupyter.widget-view+json": {
              "model_id": "fde65f596a754eca9614a741a47f0afd",
              "version_major": 2,
              "version_minor": 0
            },
            "text/plain": [
              "Extracting files from TS_Part2_Clickbait_Auto_GB.zip:   0%|          | 0/17660 [00:00<?, ?it/s]"
            ]
          },
          "metadata": {},
          "output_type": "display_data"
        },
        {
          "name": "stdout",
          "output_type": "stream",
          "text": [
            "\n",
            "Processing: TS_Part2_NonClickbait_Auto_LC\n",
            "Created directory: /Users/leesanghyuk/Python_Programs/Projects/Data/UnzippedData/TS_Part2_NonClickbait_Auto_LC\n"
          ]
        },
        {
          "data": {
            "application/vnd.jupyter.widget-view+json": {
              "model_id": "f5778178e1e24ae7ad274408318e450a",
              "version_major": 2,
              "version_minor": 0
            },
            "text/plain": [
              "Extracting files from TS_Part2_NonClickbait_Auto_LC.zip:   0%|          | 0/17508 [00:00<?, ?it/s]"
            ]
          },
          "metadata": {},
          "output_type": "display_data"
        },
        {
          "name": "stdout",
          "output_type": "stream",
          "text": [
            "\n",
            "Processing: TS_Part2_Clickbait_Auto_PO\n",
            "Created directory: /Users/leesanghyuk/Python_Programs/Projects/Data/UnzippedData/TS_Part2_Clickbait_Auto_PO\n"
          ]
        },
        {
          "data": {
            "application/vnd.jupyter.widget-view+json": {
              "model_id": "68ea360262c043218ab9c7a76a43795d",
              "version_major": 2,
              "version_minor": 0
            },
            "text/plain": [
              "Extracting files from TS_Part2_Clickbait_Auto_PO.zip:   0%|          | 0/14803 [00:00<?, ?it/s]"
            ]
          },
          "metadata": {},
          "output_type": "display_data"
        },
        {
          "name": "stdout",
          "output_type": "stream",
          "text": [
            "\n",
            "Processing: TS_Part2_Clickbait_Direct_ET\n",
            "Created directory: /Users/leesanghyuk/Python_Programs/Projects/Data/UnzippedData/TS_Part2_Clickbait_Direct_ET\n"
          ]
        },
        {
          "data": {
            "application/vnd.jupyter.widget-view+json": {
              "model_id": "0996ed6c3c014bc9bc05be3374ad877d",
              "version_major": 2,
              "version_minor": 0
            },
            "text/plain": [
              "Extracting files from TS_Part2_Clickbait_Direct_ET.zip:   0%|          | 0/4661 [00:00<?, ?it/s]"
            ]
          },
          "metadata": {},
          "output_type": "display_data"
        },
        {
          "name": "stdout",
          "output_type": "stream",
          "text": [
            "\n",
            "Processing: TS_Part2_Clickbait_Direct_EC\n",
            "Created directory: /Users/leesanghyuk/Python_Programs/Projects/Data/UnzippedData/TS_Part2_Clickbait_Direct_EC\n"
          ]
        },
        {
          "data": {
            "application/vnd.jupyter.widget-view+json": {
              "model_id": "b77191a996b24aa39cbf5ebc0b5d99f4",
              "version_major": 2,
              "version_minor": 0
            },
            "text/plain": [
              "Extracting files from TS_Part2_Clickbait_Direct_EC.zip:   0%|          | 0/5143 [00:00<?, ?it/s]"
            ]
          },
          "metadata": {},
          "output_type": "display_data"
        },
        {
          "name": "stdout",
          "output_type": "stream",
          "text": [
            "\n",
            "Processing: TS_Part2_Clickbait_Direct_SO\n",
            "Created directory: /Users/leesanghyuk/Python_Programs/Projects/Data/UnzippedData/TS_Part2_Clickbait_Direct_SO\n"
          ]
        },
        {
          "data": {
            "application/vnd.jupyter.widget-view+json": {
              "model_id": "de7ded59fc18412eb771f59d21c2f33f",
              "version_major": 2,
              "version_minor": 0
            },
            "text/plain": [
              "Extracting files from TS_Part2_Clickbait_Direct_SO.zip:   0%|          | 0/8764 [00:00<?, ?it/s]"
            ]
          },
          "metadata": {},
          "output_type": "display_data"
        },
        {
          "name": "stdout",
          "output_type": "stream",
          "text": [
            "\n",
            "Processing: TS_Part2_NonClickbait_Auto_PO\n",
            "Created directory: /Users/leesanghyuk/Python_Programs/Projects/Data/UnzippedData/TS_Part2_NonClickbait_Auto_PO\n"
          ]
        },
        {
          "data": {
            "application/vnd.jupyter.widget-view+json": {
              "model_id": "b0d05aa61ad7478b896939979924c5d6",
              "version_major": 2,
              "version_minor": 0
            },
            "text/plain": [
              "Extracting files from TS_Part2_NonClickbait_Auto_PO.zip:   0%|          | 0/20058 [00:00<?, ?it/s]"
            ]
          },
          "metadata": {},
          "output_type": "display_data"
        },
        {
          "name": "stdout",
          "output_type": "stream",
          "text": [
            "\n",
            "Processing: TS_Part2_NonClickbait_Auto_GB\n",
            "Created directory: /Users/leesanghyuk/Python_Programs/Projects/Data/UnzippedData/TS_Part2_NonClickbait_Auto_GB\n"
          ]
        },
        {
          "data": {
            "application/vnd.jupyter.widget-view+json": {
              "model_id": "7698445925594544a238e7f7ce30ec15",
              "version_major": 2,
              "version_minor": 0
            },
            "text/plain": [
              "Extracting files from TS_Part2_NonClickbait_Auto_GB.zip:   0%|          | 0/21381 [00:00<?, ?it/s]"
            ]
          },
          "metadata": {},
          "output_type": "display_data"
        },
        {
          "name": "stdout",
          "output_type": "stream",
          "text": [
            "\n",
            "Processing: TS_Part2_Clickbait_Direct_IS\n",
            "Created directory: /Users/leesanghyuk/Python_Programs/Projects/Data/UnzippedData/TS_Part2_Clickbait_Direct_IS\n"
          ]
        },
        {
          "data": {
            "application/vnd.jupyter.widget-view+json": {
              "model_id": "3cb3abb43a9a4bc68899e1a7615255bb",
              "version_major": 2,
              "version_minor": 0
            },
            "text/plain": [
              "Extracting files from TS_Part2_Clickbait_Direct_IS.zip:   0%|          | 0/5508 [00:00<?, ?it/s]"
            ]
          },
          "metadata": {},
          "output_type": "display_data"
        },
        {
          "name": "stdout",
          "output_type": "stream",
          "text": [
            "\n",
            "Processing: TS_Part2_Clickbait_Auto_LC\n",
            "Created directory: /Users/leesanghyuk/Python_Programs/Projects/Data/UnzippedData/TS_Part2_Clickbait_Auto_LC\n"
          ]
        },
        {
          "data": {
            "application/vnd.jupyter.widget-view+json": {
              "model_id": "387b4787bc964a36b1e0d544fdd1750f",
              "version_major": 2,
              "version_minor": 0
            },
            "text/plain": [
              "Extracting files from TS_Part2_Clickbait_Auto_LC.zip:   0%|          | 0/10627 [00:00<?, ?it/s]"
            ]
          },
          "metadata": {},
          "output_type": "display_data"
        },
        {
          "name": "stdout",
          "output_type": "stream",
          "text": [
            "\n"
          ]
        }
      ],
      "source": [
        "# 압축 파일 경로, 해제 경로 설정\n",
        "zip_base_path = '/Users/leesanghyuk/Python_Programs/Projects/Data/ZippedData'\n",
        "unzip_base_path = '/Users/leesanghyuk/Python_Programs/Projects/Data/UnzippedData'\n",
        "\n",
        "# Part2 데이터 압축해제\n",
        "unzip_all(zip_base_path, unzip_base_path)"
      ]
    },
    {
      "cell_type": "code",
      "execution_count": 6,
      "metadata": {
        "colab": {
          "base_uri": "https://localhost:8080/"
        },
        "id": "ujtUH8z5UumY",
        "outputId": "82ff6a0f-4f0f-49c4-b2ac-3ec9752fce1f"
      },
      "outputs": [
        {
          "data": {
            "text/plain": [
              "{'sourceDataInfo': {'newsID': 'EC_M02_464986',\n",
              "  'newsCategory': '경제',\n",
              "  'newsSubcategory': '산업',\n",
              "  'newsTitle': \"'우린 가맹점에 대한 사회적 책임을 준수합니다'\",\n",
              "  'newsSubTitle': '',\n",
              "  'newsContent': '가맹점에 대한 사회적 책임을 활동을 펴는 가맹점 본부들이 늘어나고 있다.\\n김상조 공정거래위원장이 7월 28일 서울 중구 대한상공회의소에서 열린 \\'프랜차이즈협회와의 간담회\\'에서 협회에 \\\\\"오는 10월 이내에 가맹 본부와 가맹점이 서로 상생할 방법을 찾아달라\\\\\"라고 요구한 데 따른 것이다.\\n스시 프랜차이즈인 스시노백쉐프는 가맹점이 우수한 주방장을 확보하기 쉽지 않다는 현실을 고려해 가맹 본부가 주방장을 키워 보내주는 제도를 벌인다.\\n덕분에 가맹점은 전문 요리사 확보라는 고민을 공짜로 해결하고 고객들도 수준 높은 스시를 먹을 수 있게 됐다.\\n또 스시노백쉐프가 만든 \\'주방장 파견 제도\\' 때문에 보통 사람들도 스시 프랜차이즈를 쉽게 창업할 수 있게 됐다.\\n또 이 회사는 일반적으로 가맹점에 대한 가맹 본부의 요구 사항을 관철하는 역할을 하는 슈퍼바이저 대신 위생과 비용 관리를 담당하는 셰프바이저를 보낸다.\\n호프 프랜차이즈 치어스는 이 회사에 앞서 프랜차이즈 업계 처음으로 \\'주방장 파견 제도\\'를 운용하기 시작했다.\\n가맹점에서 주방장 등 주방 인력이 그만두는 사례가 많은데 이 회사는 가맹 본부가 파트타임 주방 인력풀을 만들어 이에 대비하는 제도도 만들었다.\\n사무용품 프랜차이즈 오피스넥스는 경영난에 휩싸인 강원 강릉 시내 한 가맹점을 가맹 본부가 사들인 후 매출을 다시 정상화해 가맹점 직원에게 인수할 기회를 줬다.\\n직원으로선 인수비가 부담이 클 것이므로 인수 자금을 매월 소액 내도록 했다.\\n서울 관악동작점도 같은 식으로 직원에게 매장을 넘겼다.\\n감자탕 프랜차이즈 남다른감자탕도 2007년부터 일 잘하는 직원에게 3억 원을 지원해 자기의 가게를 열게 하는 \\'희망 가게 제도\\'를 시행하고 있다.\\n피자 프랜차이즈 뽕뜨락피자는 연간 5억~10억원 의 광고비를 전액 가맹 본부가 지급한다.\\n일반적으로 광고비는 가맹 본부와 가맹점이 나눠 낸다.\\n특히 이 회사는 최근 제품의 무게를 늘렸지만 불황으로 가맹점이 힘든 점을 고려해 공급 가격을 올리지 않았다.\\n커피 프랜차이즈 이디야도 지난달 29일 최저임금 인상에 따른 가맹점의 비용 증가를 우려해 재료를 더 싸게 공급한다.\\n이 프랜차이즈는 공급가 인하 차원에서 이달부터 \\'최저가 공개 입찰 제도\\'를 도입한다.\\n세탁 프랜차이즈 크린토피아도 이 회사처럼 광고·홍보비를 모두 가맹 본부가 맡는다.\\n아울러 가맹점의 자금 부족을 고려해 카드 수수료 중 절반을 가맹 본부가 지급한다.\\n삼각김밥 프랜차이즈인 \\'오니기리와 이규동\\'은 2014년부터 가맹 본부 전담팀이 가맹점이 영업하지 않는 시간에 찾아와 몰래 청소해주고 사라지는 \\'우렁각시 클리닝\\' 서비스를 벌인다.\\n이 회사가 최근 만든 칼국수 프랜차이즈 밀겨울에서도 같은 제도가 운용된다.\\n디지털당구장 프랜차이즈 존케이지빌리어즈는 동호인당구대회를 가맹점에서 열고 여기에 들어가는 경품을 가맹 본부가 준비한다.\\n치킨 프랜차이즈 BHC치킨은 창업을 원하는 젊은이들이 사업계획서를 제출하면 평가해 창업에 들어가는 돈을 도와준다.\\n롯데지알에스는 롯데리아와 엔제리너스커피, 크리스피크림도넛 가맹점을 돕는 차원에서 100억 원의 \\'상생 대출 기금\\'을 만들어 가맹점이 1.5%대의 낮은 이자로 운영 자금을 대출할 수 있게 했다.\\n한국프랜차이즈산업협회도 상생 대열에 합류해 오는 14~16일 300여 개 회사가 참가하는 \\'제41회 프랜차이즈산업박람회\\'를 열어 창업 지원과 취업 상담을 벌인다.',\n",
              "  'partNum': 'P2',\n",
              "  'useType': 0,\n",
              "  'processType': 'A',\n",
              "  'processPattern': '99',\n",
              "  'processLevel': '하',\n",
              "  'sentenceCount': 25,\n",
              "  'processSentencenum': 4,\n",
              "  'sentenceInfo': [{'sentenceNo': 1,\n",
              "    'sentenceContent': '가맹점에 대한 사회적 책임을 활동을 펴는 가맹점 본부들이 늘어나고 있다.',\n",
              "    'sentenceSize': 40},\n",
              "   {'sentenceNo': 2,\n",
              "    'sentenceContent': '김상조 공정거래위원장이 7월 28일 서울 중구 대한상공회의소에서 열린 \\'프랜차이즈협회와의 간담회\\'에서 협회에 \\\\\"오는 10월 이내에 가맹 본부와 가맹점이 서로 상생할 방법을 찾아달라\\\\\"라고 요구한 데 따른 것이다.',\n",
              "    'sentenceSize': 119},\n",
              "   {'sentenceNo': 3,\n",
              "    'sentenceContent': '스시 프랜차이즈인 스시노백쉐프는 가맹점이 우수한 주방장을 확보하기 쉽지 않다는 현실을 고려해 가맹 본부가 주방장을 키워 보내주는 제도를 벌인다.',\n",
              "    'sentenceSize': 80},\n",
              "   {'sentenceNo': 4,\n",
              "    'sentenceContent': '덕분에 가맹점은 전문 요리사 확보라는 고민을 공짜로 해결하고 고객들도 수준 높은 스시를 먹을 수 있게 됐다.',\n",
              "    'sentenceSize': 60},\n",
              "   {'sentenceNo': 5,\n",
              "    'sentenceContent': \"또 스시노백쉐프가 만든 '주방장 파견 제도' 때문에 보통 사람들도 스시 프랜차이즈를 쉽게 창업할 수 있게 됐다.\",\n",
              "    'sentenceSize': 62},\n",
              "   {'sentenceNo': 6,\n",
              "    'sentenceContent': '또 이 회사는 일반적으로 가맹점에 대한 가맹 본부의 요구 사항을 관철하는 역할을 하는 슈퍼바이저 대신 위생과 비용 관리를 담당하는 셰프바이저를 보낸다.',\n",
              "    'sentenceSize': 84},\n",
              "   {'sentenceNo': 7,\n",
              "    'sentenceContent': \"호프 프랜차이즈 치어스는 이 회사에 앞서 프랜차이즈 업계 처음으로 '주방장 파견 제도'를 운용하기 시작했다.\",\n",
              "    'sentenceSize': 60},\n",
              "   {'sentenceNo': 8,\n",
              "    'sentenceContent': '가맹점에서 주방장 등 주방 인력이 그만두는 사례가 많은데 이 회사는 가맹 본부가 파트타임 주방 인력풀을 만들어 이에 대비하는 제도도 만들었다.',\n",
              "    'sentenceSize': 79},\n",
              "   {'sentenceNo': 9,\n",
              "    'sentenceContent': '사무용품 프랜차이즈 오피스넥스는 경영난에 휩싸인 강원 강릉 시내 한 가맹점을 가맹 본부가 사들인 후 매출을 다시 정상화해 가맹점 직원에게 인수할 기회를 줬다.',\n",
              "    'sentenceSize': 88},\n",
              "   {'sentenceNo': 10,\n",
              "    'sentenceContent': '직원으로선 인수비가 부담이 클 것이므로 인수 자금을 매월 소액 내도록 했다.',\n",
              "    'sentenceSize': 42},\n",
              "   {'sentenceNo': 11,\n",
              "    'sentenceContent': '서울 관악동작점도 같은 식으로 직원에게 매장을 넘겼다.',\n",
              "    'sentenceSize': 30},\n",
              "   {'sentenceNo': 12,\n",
              "    'sentenceContent': \"감자탕 프랜차이즈 남다른감자탕도 2007년부터 일 잘하는 직원에게 3억 원을 지원해 자기의 가게를 열게 하는 '희망 가게 제도'를 시행하고 있다.\",\n",
              "    'sentenceSize': 81},\n",
              "   {'sentenceNo': 13,\n",
              "    'sentenceContent': '피자 프랜차이즈 뽕뜨락피자는 연간 5억~10억원 의 광고비를 전액 가맹 본부가 지급한다.',\n",
              "    'sentenceSize': 49},\n",
              "   {'sentenceNo': 14,\n",
              "    'sentenceContent': '일반적으로 광고비는 가맹 본부와 가맹점이 나눠 낸다.',\n",
              "    'sentenceSize': 29},\n",
              "   {'sentenceNo': 15,\n",
              "    'sentenceContent': '특히 이 회사는 최근 제품의 무게를 늘렸지만 불황으로 가맹점이 힘든 점을 고려해 공급 가격을 올리지 않았다.',\n",
              "    'sentenceSize': 60},\n",
              "   {'sentenceNo': 16,\n",
              "    'sentenceContent': '커피 프랜차이즈 이디야도 지난달 29일 최저임금 인상에 따른 가맹점의 비용 증가를 우려해 재료를 더 싸게 공급한다.',\n",
              "    'sentenceSize': 64},\n",
              "   {'sentenceNo': 17,\n",
              "    'sentenceContent': \"이 프랜차이즈는 공급가 인하 차원에서 이달부터 '최저가 공개 입찰 제도'를 도입한다.\",\n",
              "    'sentenceSize': 47},\n",
              "   {'sentenceNo': 18,\n",
              "    'sentenceContent': '세탁 프랜차이즈 크린토피아도 이 회사처럼 광고·홍보비를 모두 가맹 본부가 맡는다.',\n",
              "    'sentenceSize': 45},\n",
              "   {'sentenceNo': 19,\n",
              "    'sentenceContent': '아울러 가맹점의 자금 부족을 고려해 카드 수수료 중 절반을 가맹 본부가 지급한다.',\n",
              "    'sentenceSize': 45},\n",
              "   {'sentenceNo': 20,\n",
              "    'sentenceContent': \"삼각김밥 프랜차이즈인 '오니기리와 이규동'은 2014년부터 가맹 본부 전담팀이 가맹점이 영업하지 않는 시간에 찾아와 몰래 청소해주고 사라지는 '우렁각시 클리닝' 서비스를 벌인다.\",\n",
              "    'sentenceSize': 99},\n",
              "   {'sentenceNo': 21,\n",
              "    'sentenceContent': '이 회사가 최근 만든 칼국수 프랜차이즈 밀겨울에서도 같은 제도가 운용된다.',\n",
              "    'sentenceSize': 41},\n",
              "   {'sentenceNo': 22,\n",
              "    'sentenceContent': '디지털당구장 프랜차이즈 존케이지빌리어즈는 동호인당구대회를 가맹점에서 열고 여기에 들어가는 경품을 가맹 본부가 준비한다.',\n",
              "    'sentenceSize': 66},\n",
              "   {'sentenceNo': 23,\n",
              "    'sentenceContent': '치킨 프랜차이즈 BHC치킨은 창업을 원하는 젊은이들이 사업계획서를 제출하면 평가해 창업에 들어가는 돈을 도와준다.',\n",
              "    'sentenceSize': 63},\n",
              "   {'sentenceNo': 24,\n",
              "    'sentenceContent': \"롯데지알에스는 롯데리아와 엔제리너스커피, 크리스피크림도넛 가맹점을 돕는 차원에서 100억 원의 '상생 대출 기금'을 만들어 가맹점이 1.5%대의 낮은 이자로 운영 자금을 대출할 수 있게 했다.\",\n",
              "    'sentenceSize': 107},\n",
              "   {'sentenceNo': 25,\n",
              "    'sentenceContent': \"한국프랜차이즈산업협회도 상생 대열에 합류해 오는 14~16일 300여 개 회사가 참가하는 '제41회 프랜차이즈산업박람회'를 열어 창업 지원과 취업 상담을 벌인다.\",\n",
              "    'sentenceSize': 90}]}}"
            ]
          },
          "execution_count": 6,
          "metadata": {},
          "output_type": "execute_result"
        }
      ],
      "source": [
        "# Clickbait Auto 예시 파일 경로\n",
        "file_path = '/Users/leesanghyuk/Python_Programs/Projects/Data/UnzippedData/TS_Part2_Clickbait_Auto_EC/EC_M02_464986.json'\n",
        "\n",
        "# JSON 데이터\n",
        "with open(file_path, 'r') as file:\n",
        "    data = json.load(file)\n",
        "\n",
        "data"
      ]
    },
    {
      "cell_type": "code",
      "execution_count": 7,
      "metadata": {
        "colab": {
          "base_uri": "https://localhost:8080/"
        },
        "id": "4s_aSEPGWkwH",
        "outputId": "aaef887d-7a35-4a89-da12-589e2a650e1e"
      },
      "outputs": [
        {
          "data": {
            "text/plain": [
              "{'sourceDataInfo': {'newsID': 'EC_M02_617507',\n",
              "  'newsCategory': '경제',\n",
              "  'newsSubcategory': '은행',\n",
              "  'newsTitle': '신협, 포항 지진피해 성금 5,000만 원 및 구호물품 1,500만 원 지원',\n",
              "  'newsSubTitle': '',\n",
              "  'newsContent': '신협사회공헌재단(이사장 문철상)은지난 22일 경북 포항시청을 방문하여 지진 피해 복구를 위한 성금 5,000만 원을 기부했다고 28일 밝혔다.\\n신협중앙회도 쌀, 세면도구 등 약 1,500만 원 상당의 구호 물품을 기부했다.\\n이날 기부 행사에 참석한 문철상 신협사회공헌재단 이사장과 영일만신협 최동섭 이사장, 포항서부신협 배수봉 이사장, 포항신협 이동찬 이사장, 대동신협 정용락 이사장은 지진 피해 현장을 찾아 지역민을 위로하고 조속한 복구를 위한 최선의 지원을 다할 것을 약속했다.\\n신협사회공헌재단은 피해 지역 신협을 중심으로 인근 대피소 등에 임직원 및 조합원으로 구성된 두손모아봉사단을 파견하여 피해 복구를 위한 봉사 활동을 벌이고 구호 물품을 배분했다.\\n아울러피해가 확인된 조합원에게는 원리금 상환 유예, 대출금 만기 연장, 긴급 자금 대출, 이자 감면 등 금융 지원도 펼칠 계획이다.\\n문 이사장은 \\\\\"지진 피해 주민들에게 위로의 마음을 전한다\\\\\"라며 \\\\\"현재까지도 여진의 위험이 계속되고 있는 만큼 주민들의 안전과 조속한 복구를 위해 신협에서 필요한 역할을 다해 나가겠다\\\\\"라고 밝혔다.\\n신협사회공헌재단은 지난해 1월 대구 팔달신시장 화재 지원(1,500만 원)을 시작으로 9월 경북 경주시 지진 피해 지원(5,000만 원), 10월 태풍 차바 피해 지역 지원(8,000만 원), 11월 대구 서문시장 화재 피해 지원(3,000만 원), 올해 1월 여수 수산시장 화재 피해 지원(2,000만 원), 4월 인천 소래포구 어시장 화재 피해 지원(2,000만 원), 8월 대전 중앙시장 화재 피해 지원(1,000만 원), 9월 충북 호우 피해 지원(4,500만 원) 등 각종 재난및 재해로 피해를본 주민의 회복을 위한 구호 활동에 앞장서고 있다.',\n",
              "  'partNum': 'P2',\n",
              "  'useType': 0,\n",
              "  'processType': 'D',\n",
              "  'processPattern': '23',\n",
              "  'processLevel': '중',\n",
              "  'sentenceCount': 7,\n",
              "  'processSentencenum': 3,\n",
              "  'sentenceInfo': [{'sentenceNo': 1,\n",
              "    'sentenceContent': '신협사회공헌재단(이사장 문철상)은지난 22일 경북 포항시청을 방문하여 지진 피해 복구를 위한 성금 5,000만 원을 기부했다고 28일 밝혔다.',\n",
              "    'sentenceSize': 79},\n",
              "   {'sentenceNo': 2,\n",
              "    'sentenceContent': '신협중앙회도 쌀, 세면도구 등 약 1,500만 원 상당의 구호 물품을 기부했다.',\n",
              "    'sentenceSize': 44},\n",
              "   {'sentenceNo': 3,\n",
              "    'sentenceContent': '이날 기부 행사에 참석한 문철상 신협사회공헌재단 이사장과 영일만신협 최동섭 이사장, 포항서부신협 배수봉 이사장, 포항신협 이동찬 이사장, 대동신협 정용락 이사장은 지진 피해 현장을 찾아 지역민을 위로하고 조속한 복구를 위한 최선의 지원을 다할 것을 약속했다.',\n",
              "    'sentenceSize': 144},\n",
              "   {'sentenceNo': 4,\n",
              "    'sentenceContent': '신협사회공헌재단은 피해 지역 신협을 중심으로 인근 대피소 등에 임직원 및 조합원으로 구성된 두손모아봉사단을 파견하여 피해 복구를 위한 봉사 활동을 벌이고 구호 물품을 배분했다.',\n",
              "    'sentenceSize': 98},\n",
              "   {'sentenceNo': 5,\n",
              "    'sentenceContent': '아울러피해가 확인된 조합원에게는 원리금 상환 유예, 대출금 만기 연장, 긴급 자금 대출, 이자 감면 등 금융 지원도 펼칠 계획이다.',\n",
              "    'sentenceSize': 73},\n",
              "   {'sentenceNo': 6,\n",
              "    'sentenceContent': '문 이사장은 \\\\\"지진 피해 주민들에게 위로의 마음을 전한다\\\\\"라며 \\\\\"현재까지도 여진의 위험이 계속되고 있는 만큼 주민들의 안전과 조속한 복구를 위해 신협에서 필요한 역할을 다해 나가겠다\\\\\"라고 밝혔다.',\n",
              "    'sentenceSize': 113},\n",
              "   {'sentenceNo': 7,\n",
              "    'sentenceContent': '신협사회공헌재단은 지난해 1월 대구 팔달신시장 화재 지원(1,500만 원)을 시작으로 9월 경북 경주시 지진 피해 지원(5,000만 원), 10월 태풍 차바 피해 지역 지원(8,000만 원), 11월 대구 서문시장 화재 피해 지원(3,000만 원), 올해 1월 여수 수산시장 화재 피해 지원(2,000만 원), 4월 인천 소래포구 어시장 화재 피해 지원(2,000만 원), 8월 대전 중앙시장 화재 피해 지원(1,000만 원), 9월 충북 호우 피해 지원(4,500만 원) 등 각종 재난및 재해로 피해를본 주민의 회복을 위한 구호 활동에 앞장서고 있다.',\n",
              "    'sentenceSize': 309}]}}"
            ]
          },
          "execution_count": 7,
          "metadata": {},
          "output_type": "execute_result"
        }
      ],
      "source": [
        "# Clickbait Direct 예시 파일 경로\n",
        "file_path = '/Users/leesanghyuk/Python_Programs/Projects/Data/UnzippedData/TS_Part2_Clickbait_Direct_EC/EC_M02_617507.json'\n",
        "\n",
        "# JSON 데이터\n",
        "with open(file_path, 'r') as file:\n",
        "    data = json.load(file)\n",
        "\n",
        "data"
      ]
    },
    {
      "cell_type": "code",
      "execution_count": 8,
      "metadata": {
        "colab": {
          "base_uri": "https://localhost:8080/"
        },
        "id": "EN4qW0nHXdkl",
        "outputId": "9d4aa6e6-47dc-4923-bd04-455fec0bb95e"
      },
      "outputs": [
        {
          "data": {
            "text/plain": [
              "{'sourceDataInfo': {'newsID': 'EC_M02_682675',\n",
              "  'newsCategory': '경제',\n",
              "  'newsSubcategory': '은행',\n",
              "  'newsTitle': '[따뜻한 금융][3] 금융권, 소외계층 지원 본격 나서',\n",
              "  'newsSubTitle': '',\n",
              "  'newsContent': '금융권이 최근 한국임팩트금융을 설립해 본격 활동을 시작한 데 이어 소외계층 지원에 나서고 있다.\\n한국 임팩트금융이 본격 활동을 시작한 데 이어 금융권이 금융소외 계층 지원사업에 속속 나서고 있다.\\n지난 5월 설립추진위를 발족했던 임팩트금융 추진위원회는 최근 유한회사 한국임팩트 금융을 설립하고 공식적인 활동에 나섰다.\\n민간주도로 설립된 한국임팩트 금융은 2000억원대 자금을 조성해 금융소외계층과 사회적 프로젝트에 대출, 투자, 출자 및 기부등의 방식으로 사회발전에 기여하고 재무적 이윤도 창출하겠다는 계획이다.\\n한국임팩트금융 위원장으로 추대된 이헌재 전 경제부총리는 \\\\\"사회적 변화가 빠르고 문제도 다양해져 정부의 톱-다운 방식으로 문제를 해결하는 것이 한계가 있다. 이제 민간이 먼저 창의적이고 효율적인 아이디어를 아래에서 위로 역제안하는 방식으로 새롭게 접근해야 한다.\\\\\"고 도입 배경을 밝힌 바 있다.\\n지난 발족식에서 \\\\\"개인적으로 주택문제에 관심이 있다\\\\\"는 이 위원장의 발언으로 볼 때 한국임팩트금융의 첫 사업은 주거 분야가 될 것으로 추정된다.\\n주거 외에도 한국임팩트금융은 보육, 보건, 환경 등 한국 사회의 핵심 이슈를 해결하는 기업에 지원을 아끼지 않을 것\\\\\"이라고 말했다.\\n그 밖에도, 최종구 금융위원회 위원장은 지난 7일\\'장애인 금융 이용 제약 해소 방안 관련 간담회에서 \\\\\"금융이 소외된 사람들을 포용하고 사회적 책임을 다함으로써 국민의 신뢰를 확보해 나갈 수 있다는 측면에서 금융 회사와 직원들의 추가적인 노력이 필요하다.\\n\\\\\"고 밝히면서 그 움직임이 구체적으로 드러나고 있다.\\n금융권이 문재인정부 출범 이후 강조되어 온 \\'임팩트 금융\\'의 첫 단추로 \\'장애인 금융이용 제약 해소\\'에 동참하는 모습이다.\\n임팩트 금융은 사회적 약자를 포함한 모든 경제 주체가 저축, 지급 결제, 신용, 보험 등 다양한 금융 서비스에 효과적으로 접근할 수 있게 하는 것을 말한다. 2008년 세계 경제 위기 이후 많은 나라에서 주요 관심사이자 경제 의제로 떠오르고 있다.\\n이러한 분위기 속에서 금융권도 사회적 책임을 다하고 포용적 금융을 실천하기 위해 금융 소외 계층을 대상으로 한 금융 지원을 확대하고 있다.\\nKB국민은행은 지난 8월부터 사회적 배려가 필요한 장기 연체 채무자에 대한 금융 지원을 확대 시행하고 있다.\\n국민은행이 추진하는 금융 지원은 연체 기간이 오래 지난 특수 채권에 대한 채무 감면 범위를 확대 시행한 것으로, 대상자는 기초 생활 수급권자, 중증 장애인, 70세 이상 노령자, 34세 이하의 청년 실업자 및 창업 7년 이내 사업 실패자 등이다.\\n특히 대상자 중 연대 보증으로 어려움을 겪는 사람들에 대해서는 최대 95%까지 감면 범위를 확대해 재기의 발판을 마련할 수 있도록 했다.\\n국민은행은 상환 의지가 있음에도 실업, 불의의 사고 등으로 경제력을 상실해 채무 상환에 어려움을 겪고 있는 금융 소외 계층이 채무 상환과 함께 금융 울타리로 복귀할 수 있도록 적극적으로 지원할 예정이다.\\n우리은행은 \\'더 큰 금융\\'을 내세웠다.\\n이를 위해 포용적, 생산적, 신뢰의금융 등 3개의 실무팀을 구성해 중금리 대출 확대, 취약계층 지원, 서민 자산 형성에 이바지하는 포용적 금융을 실천하겠다고 선언했다.\\n우리은행은 서민 금융 거점 점포를 4개에서 33개로 확대하고, 서민 금융 지원 강화, 장애인 상품 가입 차별 및 은행 이용 제약의 해소를 적극적으로 추진할 계획이다.\\n장애인, 노령자들을 위한 맞춤 서비스를 통해 편의성을 높이는 곳도 있다.\\n신한은행은 지난 6월 시니어 고객 상담 창구를 \\'노인과 장애인을 위한 마음맞춤 창구\\'로 바꾸고 화상 시스템으로 모든 영업점에 대해 교육을 시행했다.\\n또한 수화 상담 서비스를 운영하고 거점 영업점에 장애인 전용 전화기를 배치하는 등 장애인 고객들의 금융 접근성을 높이기 위해 노력하고 있다.\\n임팩트 투자 열풍, 어떤 임팩트를? 임팩트 금융 활성화를 위한 국내 사회의 움직임 금융권, 소외계층 지원 본격 나서 우리은행, 서민금융지원 강화로 `더 큰 금융` 실천 산은, 사회적가치 확산 기업에 특별 금리로 5000억 원 대출 농민에 의한, 농민을 위한 네덜란드 라보뱅크 은행은 태생적으로 사회적일 수 있다 \\' 트리오도스 은행\\'',\n",
              "  'partNum': 'P2',\n",
              "  'useType': 1,\n",
              "  'processType': 'A',\n",
              "  'processPattern': '00',\n",
              "  'processLevel': '하',\n",
              "  'sentenceCount': 23,\n",
              "  'processSentencenum': 0,\n",
              "  'sentenceInfo': [{'sentenceNo': 1,\n",
              "    'sentenceContent': '금융권이 최근 한국임팩트금융을 설립해 본격 활동을 시작한 데 이어 소외계층 지원에 나서고 있다.',\n",
              "    'sentenceSize': 53},\n",
              "   {'sentenceNo': 2,\n",
              "    'sentenceContent': '한국 임팩트금융이 본격 활동을 시작한 데 이어 금융권이 금융소외 계층 지원사업에 속속 나서고 있다.',\n",
              "    'sentenceSize': 55},\n",
              "   {'sentenceNo': 3,\n",
              "    'sentenceContent': '지난 5월 설립추진위를 발족했던 임팩트금융 추진위원회는 최근 유한회사 한국임팩트 금융을 설립하고 공식적인 활동에 나섰다.',\n",
              "    'sentenceSize': 67},\n",
              "   {'sentenceNo': 4,\n",
              "    'sentenceContent': '민간주도로 설립된 한국임팩트 금융은 2000억원대 자금을 조성해 금융소외계층과 사회적 프로젝트에 대출, 투자, 출자 및 기부등의 방식으로 사회발전에 기여하고 재무적 이윤도 창출하겠다는 계획이다.',\n",
              "    'sentenceSize': 108},\n",
              "   {'sentenceNo': 5,\n",
              "    'sentenceContent': '한국임팩트금융 위원장으로 추대된 이헌재 전 경제부총리는 \\\\\"사회적 변화가 빠르고 문제도 다양해져 정부의 톱-다운 방식으로 문제를 해결하는 것이 한계가 있다. 이제 민간이 먼저 창의적이고 효율적인 아이디어를 아래에서 위로 역제안하는 방식으로 새롭게 접근해야 한다.\\\\\"고 도입 배경을 밝힌 바 있다.',\n",
              "    'sentenceSize': 165},\n",
              "   {'sentenceNo': 6,\n",
              "    'sentenceContent': '지난 발족식에서 \\\\\"개인적으로 주택문제에 관심이 있다\\\\\"는 이 위원장의 발언으로 볼 때 한국임팩트금융의 첫 사업은 주거 분야가 될 것으로 추정된다.',\n",
              "    'sentenceSize': 82},\n",
              "   {'sentenceNo': 7,\n",
              "    'sentenceContent': '주거 외에도 한국임팩트금융은 보육, 보건, 환경 등 한국 사회의 핵심 이슈를 해결하는 기업에 지원을 아끼지 않을 것\\\\\"이라고 말했다.',\n",
              "    'sentenceSize': 74},\n",
              "   {'sentenceNo': 8,\n",
              "    'sentenceContent': '그 밖에도, 최종구 금융위원회 위원장은 지난 7일\\'장애인 금융 이용 제약 해소 방안 관련 간담회에서 \\\\\"금융이 소외된 사람들을 포용하고 사회적 책임을 다함으로써 국민의 신뢰를 확보해 나갈 수 있다는 측면에서 금융 회사와 직원들의 추가적인 노력이 필요하다.',\n",
              "    'sentenceSize': 142},\n",
              "   {'sentenceNo': 9,\n",
              "    'sentenceContent': '\\\\\"고 밝히면서 그 움직임이 구체적으로 드러나고 있다.',\n",
              "    'sentenceSize': 30},\n",
              "   {'sentenceNo': 10,\n",
              "    'sentenceContent': \"금융권이 문재인정부 출범 이후 강조되어 온 '임팩트 금융'의 첫 단추로 '장애인 금융이용 제약 해소'에 동참하는 모습이다.\",\n",
              "    'sentenceSize': 68},\n",
              "   {'sentenceNo': 11,\n",
              "    'sentenceContent': '임팩트 금융은 사회적 약자를 포함한 모든 경제 주체가 저축, 지급 결제, 신용, 보험 등 다양한 금융 서비스에 효과적으로 접근할 수 있게 하는 것을 말한다. 2008년 세계 경제 위기 이후 많은 나라에서 주요 관심사이자 경제 의제로 떠오르고 있다.',\n",
              "    'sentenceSize': 138},\n",
              "   {'sentenceNo': 12,\n",
              "    'sentenceContent': '이러한 분위기 속에서 금융권도 사회적 책임을 다하고 포용적 금융을 실천하기 위해 금융 소외 계층을 대상으로 한 금융 지원을 확대하고 있다.',\n",
              "    'sentenceSize': 77},\n",
              "   {'sentenceNo': 13,\n",
              "    'sentenceContent': 'KB국민은행은 지난 8월부터 사회적 배려가 필요한 장기 연체 채무자에 대한 금융 지원을 확대 시행하고 있다.',\n",
              "    'sentenceSize': 60},\n",
              "   {'sentenceNo': 14,\n",
              "    'sentenceContent': '국민은행이 추진하는 금융 지원은 연체 기간이 오래 지난 특수 채권에 대한 채무 감면 범위를 확대 시행한 것으로, 대상자는 기초 생활 수급권자, 중증 장애인, 70세 이상 노령자, 34세 이하의 청년 실업자 및 창업 7년 이내 사업 실패자 등이다.',\n",
              "    'sentenceSize': 137},\n",
              "   {'sentenceNo': 15,\n",
              "    'sentenceContent': '특히 대상자 중 연대 보증으로 어려움을 겪는 사람들에 대해서는 최대 95%까지 감면 범위를 확대해 재기의 발판을 마련할 수 있도록 했다.',\n",
              "    'sentenceSize': 76},\n",
              "   {'sentenceNo': 16,\n",
              "    'sentenceContent': '국민은행은 상환 의지가 있음에도 실업, 불의의 사고 등으로 경제력을 상실해 채무 상환에 어려움을 겪고 있는 금융 소외 계층이 채무 상환과 함께 금융 울타리로 복귀할 수 있도록 적극적으로 지원할 예정이다.',\n",
              "    'sentenceSize': 113},\n",
              "   {'sentenceNo': 17,\n",
              "    'sentenceContent': \"우리은행은 '더 큰 금융'을 내세웠다.\",\n",
              "    'sentenceSize': 21},\n",
              "   {'sentenceNo': 18,\n",
              "    'sentenceContent': '이를 위해 포용적, 생산적, 신뢰의금융 등 3개의 실무팀을 구성해 중금리 대출 확대, 취약계층 지원, 서민 자산 형성에 이바지하는 포용적 금융을 실천하겠다고 선언했다.',\n",
              "    'sentenceSize': 93},\n",
              "   {'sentenceNo': 19,\n",
              "    'sentenceContent': '우리은행은 서민 금융 거점 점포를 4개에서 33개로 확대하고, 서민 금융 지원 강화, 장애인 상품 가입 차별 및 은행 이용 제약의 해소를 적극적으로 추진할 계획이다.',\n",
              "    'sentenceSize': 92},\n",
              "   {'sentenceNo': 20,\n",
              "    'sentenceContent': '장애인, 노령자들을 위한 맞춤 서비스를 통해 편의성을 높이는 곳도 있다.',\n",
              "    'sentenceSize': 40},\n",
              "   {'sentenceNo': 21,\n",
              "    'sentenceContent': \"신한은행은 지난 6월 시니어 고객 상담 창구를 '노인과 장애인을 위한 마음맞춤 창구'로 바꾸고 화상 시스템으로 모든 영업점에 대해 교육을 시행했다.\",\n",
              "    'sentenceSize': 82},\n",
              "   {'sentenceNo': 22,\n",
              "    'sentenceContent': '또한 수화 상담 서비스를 운영하고 거점 영업점에 장애인 전용 전화기를 배치하는 등 장애인 고객들의 금융 접근성을 높이기 위해 노력하고 있다.',\n",
              "    'sentenceSize': 78},\n",
              "   {'sentenceNo': 23,\n",
              "    'sentenceContent': \"임팩트 투자 열풍, 어떤 임팩트를? 임팩트 금융 활성화를 위한 국내 사회의 움직임 금융권, 소외계층 지원 본격 나서 우리은행, 서민금융지원 강화로 `더 큰 금융` 실천 산은, 사회적가치 확산 기업에 특별 금리로 5000억 원 대출 농민에 의한, 농민을 위한 네덜란드 라보뱅크 은행은 태생적으로 사회적일 수 있다 ' 트리오도스 은행'\",\n",
              "    'sentenceSize': 185}]}}"
            ]
          },
          "execution_count": 8,
          "metadata": {},
          "output_type": "execute_result"
        }
      ],
      "source": [
        "# NonClickbait Auto 예시 파일 경로\n",
        "file_path = '/Users/leesanghyuk/Python_Programs/Projects/Data/UnzippedData/TS_Part2_NonClickbait_Auto_EC/EC_M02_682675.json'\n",
        "\n",
        "# JSON 데이터\n",
        "with open(file_path, 'r') as file:\n",
        "    data = json.load(file)\n",
        "\n",
        "data"
      ]
    },
    {
      "cell_type": "code",
      "execution_count": 35,
      "metadata": {
        "id": "7auVgbMFYBPV"
      },
      "outputs": [],
      "source": [
        "def create_dataset(file_path):\n",
        "    try:\n",
        "        #print(f\"Processing file: {file_path}\")\n",
        "        with open(file_path, 'r') as file:\n",
        "            data = json.load(file)\n",
        "\n",
        "        sourceDataInfo = data['sourceDataInfo']\n",
        "        \n",
        "        # 뉴스 본문 문장 단위 저장\n",
        "        sentences = []\n",
        "        for sentence_info in data['sourceDataInfo']['sentenceInfo']:\n",
        "            sentences.append(sentence_info['sentenceContent'])\n",
        "\n",
        "        dataset_dict = {\n",
        "            'partNum': sourceDataInfo['partNum'], # Part 번호 (P1: 본문과 제목의 불일치, P2: 본문 내 도메인 불일치)\n",
        "            'newsID': sourceDataInfo['newsID'], # 뉴스 ID\n",
        "            'newsCategory': sourceDataInfo['newsCategory'], # 뉴스 카테고리\n",
        "            'newsSubcategory': sourceDataInfo['newsSubcategory'], # 뉴스 하위 카테고리\n",
        "            'newsContent': sourceDataInfo['newsContent'], # 뉴스 본문\n",
        "            'processLevel': sourceDataInfo['processLevel'], # 가공 난이도\n",
        "            'processPattern': sourceDataInfo['processPattern'], # 가공 패턴\n",
        "            'contentList' : sentences, # 뉴스 본문 문장 리스트\n",
        "            'sentenceCount' : sourceDataInfo['sentenceCount'], # 전체 문장 수\n",
        "            'processSentencenum': sourceDataInfo['processSentencenum'], # 가공된 문장 위치\n",
        "            'useType': sourceDataInfo['useType'] # 낚시성 여부(0: 낚시성, 1: 비낚시성)\n",
        "        }\n",
        "\n",
        "        return dataset_dict\n",
        "\n",
        "    except Exception as e:\n",
        "        print(f\"Failed to process {file_path}: {str(e)}\")\n",
        "        return None"
      ]
    },
    {
      "cell_type": "code",
      "execution_count": 36,
      "metadata": {
        "colab": {
          "base_uri": "https://localhost:8080/",
          "height": 133
        },
        "id": "OF1ueAzia89V",
        "outputId": "a9501058-25ff-4190-d8ba-647c3fecdd85"
      },
      "outputs": [
        {
          "data": {
            "text/html": [
              "<div>\n",
              "<style scoped>\n",
              "    .dataframe tbody tr th:only-of-type {\n",
              "        vertical-align: middle;\n",
              "    }\n",
              "\n",
              "    .dataframe tbody tr th {\n",
              "        vertical-align: top;\n",
              "    }\n",
              "\n",
              "    .dataframe thead th {\n",
              "        text-align: right;\n",
              "    }\n",
              "</style>\n",
              "<table border=\"1\" class=\"dataframe\">\n",
              "  <thead>\n",
              "    <tr style=\"text-align: right;\">\n",
              "      <th></th>\n",
              "      <th>partNum</th>\n",
              "      <th>newsID</th>\n",
              "      <th>newsCategory</th>\n",
              "      <th>newsSubcategory</th>\n",
              "      <th>newsContent</th>\n",
              "      <th>processLevel</th>\n",
              "      <th>processPattern</th>\n",
              "      <th>contentList</th>\n",
              "      <th>sentenceCount</th>\n",
              "      <th>processSentencenum</th>\n",
              "      <th>useType</th>\n",
              "    </tr>\n",
              "  </thead>\n",
              "  <tbody>\n",
              "    <tr>\n",
              "      <th>0</th>\n",
              "      <td>P2</td>\n",
              "      <td>EC_M02_682675</td>\n",
              "      <td>경제</td>\n",
              "      <td>은행</td>\n",
              "      <td>금융권이 최근 한국임팩트금융을 설립해 본격 활동을 시작한 데 이어 소외계층 지원에 ...</td>\n",
              "      <td>하</td>\n",
              "      <td>00</td>\n",
              "      <td>[금융권이 최근 한국임팩트금융을 설립해 본격 활동을 시작한 데 이어 소외계층 지원에...</td>\n",
              "      <td>23</td>\n",
              "      <td>0</td>\n",
              "      <td>1</td>\n",
              "    </tr>\n",
              "  </tbody>\n",
              "</table>\n",
              "</div>"
            ],
            "text/plain": [
              "  partNum         newsID newsCategory newsSubcategory  \\\n",
              "0      P2  EC_M02_682675           경제              은행   \n",
              "\n",
              "                                         newsContent processLevel  \\\n",
              "0  금융권이 최근 한국임팩트금융을 설립해 본격 활동을 시작한 데 이어 소외계층 지원에 ...            하   \n",
              "\n",
              "  processPattern                                        contentList  \\\n",
              "0             00  [금융권이 최근 한국임팩트금융을 설립해 본격 활동을 시작한 데 이어 소외계층 지원에...   \n",
              "\n",
              "   sentenceCount  processSentencenum  useType  \n",
              "0             23                   0        1  "
            ]
          },
          "execution_count": 36,
          "metadata": {},
          "output_type": "execute_result"
        }
      ],
      "source": [
        "# NonClickbait Auto 예시 파일 경로\n",
        "file_path = '/Users/leesanghyuk/Python_Programs/Projects/Data/UnzippedData/TS_Part2_NonClickbait_Auto_EC/EC_M02_682675.json'\n",
        "\n",
        "# 데이터셋 생성\n",
        "dataset_dict = create_dataset(file_path)\n",
        "\n",
        "# 딕셔너리를 DataFrame으로\n",
        "ex_data = pd.DataFrame([dataset_dict])\n",
        "\n",
        "# 확인\n",
        "ex_data"
      ]
    },
    {
      "cell_type": "code",
      "execution_count": 37,
      "metadata": {
        "colab": {
          "base_uri": "https://localhost:8080/",
          "height": 133
        },
        "id": "vNLSxwdpqO-O",
        "outputId": "119fe0c0-dcd4-4f4f-fc27-ae2885979e5b"
      },
      "outputs": [
        {
          "data": {
            "text/html": [
              "<div>\n",
              "<style scoped>\n",
              "    .dataframe tbody tr th:only-of-type {\n",
              "        vertical-align: middle;\n",
              "    }\n",
              "\n",
              "    .dataframe tbody tr th {\n",
              "        vertical-align: top;\n",
              "    }\n",
              "\n",
              "    .dataframe thead th {\n",
              "        text-align: right;\n",
              "    }\n",
              "</style>\n",
              "<table border=\"1\" class=\"dataframe\">\n",
              "  <thead>\n",
              "    <tr style=\"text-align: right;\">\n",
              "      <th></th>\n",
              "      <th>partNum</th>\n",
              "      <th>newsID</th>\n",
              "      <th>newsCategory</th>\n",
              "      <th>newsSubcategory</th>\n",
              "      <th>newsContent</th>\n",
              "      <th>processLevel</th>\n",
              "      <th>processPattern</th>\n",
              "      <th>contentList</th>\n",
              "      <th>sentenceCount</th>\n",
              "      <th>processSentencenum</th>\n",
              "      <th>useType</th>\n",
              "    </tr>\n",
              "  </thead>\n",
              "  <tbody>\n",
              "    <tr>\n",
              "      <th>0</th>\n",
              "      <td>P2</td>\n",
              "      <td>EC_M02_464986</td>\n",
              "      <td>경제</td>\n",
              "      <td>산업</td>\n",
              "      <td>가맹점에 대한 사회적 책임을 활동을 펴는 가맹점 본부들이 늘어나고 있다.\\n김상조 ...</td>\n",
              "      <td>하</td>\n",
              "      <td>99</td>\n",
              "      <td>[가맹점에 대한 사회적 책임을 활동을 펴는 가맹점 본부들이 늘어나고 있다., 김상조...</td>\n",
              "      <td>25</td>\n",
              "      <td>4</td>\n",
              "      <td>0</td>\n",
              "    </tr>\n",
              "  </tbody>\n",
              "</table>\n",
              "</div>"
            ],
            "text/plain": [
              "  partNum         newsID newsCategory newsSubcategory  \\\n",
              "0      P2  EC_M02_464986           경제              산업   \n",
              "\n",
              "                                         newsContent processLevel  \\\n",
              "0  가맹점에 대한 사회적 책임을 활동을 펴는 가맹점 본부들이 늘어나고 있다.\\n김상조 ...            하   \n",
              "\n",
              "  processPattern                                        contentList  \\\n",
              "0             99  [가맹점에 대한 사회적 책임을 활동을 펴는 가맹점 본부들이 늘어나고 있다., 김상조...   \n",
              "\n",
              "   sentenceCount  processSentencenum  useType  \n",
              "0             25                   4        0  "
            ]
          },
          "execution_count": 37,
          "metadata": {},
          "output_type": "execute_result"
        }
      ],
      "source": [
        "# Clickbait Auto 예시 파일 경로\n",
        "file_path = '/Users/leesanghyuk/Python_Programs/Projects/Data/UnzippedData/TS_Part2_Clickbait_Auto_EC/EC_M02_464986.json'\n",
        "\n",
        "# 데이터셋 생성\n",
        "dataset_dict = create_dataset(file_path)\n",
        "\n",
        "# 딕셔너리를 DataFrame으로\n",
        "data = pd.DataFrame([dataset_dict])\n",
        "\n",
        "# 확인\n",
        "data"
      ]
    },
    {
      "cell_type": "code",
      "execution_count": 38,
      "metadata": {
        "id": "vverI0PMiiyp"
      },
      "outputs": [],
      "source": [
        "# JSON 파일들을 DataFrame으로 변환\n",
        "def process_json_files_to_dataframe(base_path, target_path):\n",
        "    if not os.path.exists(target_path):\n",
        "        os.makedirs(target_path)\n",
        "    print(f\"Created target directory: {target_path}\")\n",
        "\n",
        "    for folder in os.listdir(base_path):\n",
        "        folder_path = os.path.join(base_path, folder)\n",
        "\n",
        "        if os.path.isdir(folder_path):\n",
        "            print(f\"Processing folder: {folder}\")\n",
        "            data_rows = []\n",
        "            json_files = [f for f in os.listdir(folder_path) if f.endswith('.json')]\n",
        "            json_files.sort()\n",
        "\n",
        "            for file in tqdm(json_files, desc=f\"Processing JSON files in {folder}\"):\n",
        "                json_path = os.path.join(folder_path, file)\n",
        "                dataset_dict = create_dataset(json_path)\n",
        "                if dataset_dict:\n",
        "                    data_rows.append(dataset_dict)\n",
        "\n",
        "            df = pd.DataFrame(data_rows)\n",
        "            target_folder_path = os.path.join(target_path, folder)\n",
        "            if not os.path.exists(target_folder_path):\n",
        "                os.makedirs(target_folder_path)\n",
        "            print(f\"Created directory: {target_folder_path}\")\n",
        "\n",
        "            df.to_csv(os.path.join(target_folder_path, f\"{folder}.csv\"), index=False)\n",
        "            print(f\"Data for {folder} written to {os.path.join(target_folder_path, f'{folder}.csv')}\")"
      ]
    },
    {
      "cell_type": "code",
      "execution_count": 39,
      "metadata": {
        "id": "7aO4rytjjoIV"
      },
      "outputs": [],
      "source": [
        "# JSON 경로와 CSV 저장 경로 설정\n",
        "base_path = '/Users/leesanghyuk/Python_Programs/Projects/Data/UnzippedData'\n",
        "target_path = '/Users/leesanghyuk/Python_Programs/Projects/Data/EachCSV'"
      ]
    },
    {
      "cell_type": "code",
      "execution_count": 40,
      "metadata": {
        "id": "VTaa7VxEjqwP"
      },
      "outputs": [
        {
          "name": "stdout",
          "output_type": "stream",
          "text": [
            "Created target directory: /Users/leesanghyuk/Python_Programs/Projects/Data/EachCSV\n",
            "Processing folder: TS_Part2_Clickbait_Auto_LC\n"
          ]
        },
        {
          "data": {
            "application/vnd.jupyter.widget-view+json": {
              "model_id": "9e9c2daa6d394ac8b3ff695c8420857d",
              "version_major": 2,
              "version_minor": 0
            },
            "text/plain": [
              "Processing JSON files in TS_Part2_Clickbait_Auto_LC:   0%|          | 0/10627 [00:00<?, ?it/s]"
            ]
          },
          "metadata": {},
          "output_type": "display_data"
        },
        {
          "name": "stdout",
          "output_type": "stream",
          "text": [
            "Created directory: /Users/leesanghyuk/Python_Programs/Projects/Data/EachCSV/TS_Part2_Clickbait_Auto_LC\n",
            "Data for TS_Part2_Clickbait_Auto_LC written to /Users/leesanghyuk/Python_Programs/Projects/Data/EachCSV/TS_Part2_Clickbait_Auto_LC/TS_Part2_Clickbait_Auto_LC.csv\n",
            "Processing folder: TS_Part2_Clickbait_Auto_EC\n"
          ]
        },
        {
          "data": {
            "application/vnd.jupyter.widget-view+json": {
              "model_id": "38469fefb95545978de5fdb34feeb62e",
              "version_major": 2,
              "version_minor": 0
            },
            "text/plain": [
              "Processing JSON files in TS_Part2_Clickbait_Auto_EC:   0%|          | 0/15271 [00:00<?, ?it/s]"
            ]
          },
          "metadata": {},
          "output_type": "display_data"
        },
        {
          "name": "stdout",
          "output_type": "stream",
          "text": [
            "Created directory: /Users/leesanghyuk/Python_Programs/Projects/Data/EachCSV/TS_Part2_Clickbait_Auto_EC\n",
            "Data for TS_Part2_Clickbait_Auto_EC written to /Users/leesanghyuk/Python_Programs/Projects/Data/EachCSV/TS_Part2_Clickbait_Auto_EC/TS_Part2_Clickbait_Auto_EC.csv\n",
            "Processing folder: TS_Part2_Clickbait_Auto_IS\n"
          ]
        },
        {
          "data": {
            "application/vnd.jupyter.widget-view+json": {
              "model_id": "25877d662e0c41d6b2cc18fbe55f7a70",
              "version_major": 2,
              "version_minor": 0
            },
            "text/plain": [
              "Processing JSON files in TS_Part2_Clickbait_Auto_IS:   0%|          | 0/15276 [00:00<?, ?it/s]"
            ]
          },
          "metadata": {},
          "output_type": "display_data"
        },
        {
          "name": "stdout",
          "output_type": "stream",
          "text": [
            "Created directory: /Users/leesanghyuk/Python_Programs/Projects/Data/EachCSV/TS_Part2_Clickbait_Auto_IS\n",
            "Data for TS_Part2_Clickbait_Auto_IS written to /Users/leesanghyuk/Python_Programs/Projects/Data/EachCSV/TS_Part2_Clickbait_Auto_IS/TS_Part2_Clickbait_Auto_IS.csv\n",
            "Processing folder: TS_Part2_NonClickbait_Auto_ET\n"
          ]
        },
        {
          "data": {
            "application/vnd.jupyter.widget-view+json": {
              "model_id": "9e6bd4c1b61545fba8efcd768fde9888",
              "version_major": 2,
              "version_minor": 0
            },
            "text/plain": [
              "Processing JSON files in TS_Part2_NonClickbait_Auto_ET:   0%|          | 0/17548 [00:00<?, ?it/s]"
            ]
          },
          "metadata": {},
          "output_type": "display_data"
        },
        {
          "name": "stdout",
          "output_type": "stream",
          "text": [
            "Created directory: /Users/leesanghyuk/Python_Programs/Projects/Data/EachCSV/TS_Part2_NonClickbait_Auto_ET\n",
            "Data for TS_Part2_NonClickbait_Auto_ET written to /Users/leesanghyuk/Python_Programs/Projects/Data/EachCSV/TS_Part2_NonClickbait_Auto_ET/TS_Part2_NonClickbait_Auto_ET.csv\n",
            "Processing folder: TS_Part2_NonClickbait_Auto_GB\n"
          ]
        },
        {
          "data": {
            "application/vnd.jupyter.widget-view+json": {
              "model_id": "2700cfc1a286428cbdace338a4e06369",
              "version_major": 2,
              "version_minor": 0
            },
            "text/plain": [
              "Processing JSON files in TS_Part2_NonClickbait_Auto_GB:   0%|          | 0/21381 [00:00<?, ?it/s]"
            ]
          },
          "metadata": {},
          "output_type": "display_data"
        },
        {
          "name": "stdout",
          "output_type": "stream",
          "text": [
            "Created directory: /Users/leesanghyuk/Python_Programs/Projects/Data/EachCSV/TS_Part2_NonClickbait_Auto_GB\n",
            "Data for TS_Part2_NonClickbait_Auto_GB written to /Users/leesanghyuk/Python_Programs/Projects/Data/EachCSV/TS_Part2_NonClickbait_Auto_GB/TS_Part2_NonClickbait_Auto_GB.csv\n",
            "Processing folder: TS_Part2_Clickbait_Direct_IS\n"
          ]
        },
        {
          "data": {
            "application/vnd.jupyter.widget-view+json": {
              "model_id": "dab644d2d55542b592f79bb5225df381",
              "version_major": 2,
              "version_minor": 0
            },
            "text/plain": [
              "Processing JSON files in TS_Part2_Clickbait_Direct_IS:   0%|          | 0/5508 [00:00<?, ?it/s]"
            ]
          },
          "metadata": {},
          "output_type": "display_data"
        },
        {
          "name": "stdout",
          "output_type": "stream",
          "text": [
            "Created directory: /Users/leesanghyuk/Python_Programs/Projects/Data/EachCSV/TS_Part2_Clickbait_Direct_IS\n",
            "Data for TS_Part2_Clickbait_Direct_IS written to /Users/leesanghyuk/Python_Programs/Projects/Data/EachCSV/TS_Part2_Clickbait_Direct_IS/TS_Part2_Clickbait_Direct_IS.csv\n",
            "Processing folder: TS_Part2_Clickbait_Direct_EC\n"
          ]
        },
        {
          "data": {
            "application/vnd.jupyter.widget-view+json": {
              "model_id": "fa1e30d5691549329e948aa3526fa25e",
              "version_major": 2,
              "version_minor": 0
            },
            "text/plain": [
              "Processing JSON files in TS_Part2_Clickbait_Direct_EC:   0%|          | 0/5143 [00:00<?, ?it/s]"
            ]
          },
          "metadata": {},
          "output_type": "display_data"
        },
        {
          "name": "stdout",
          "output_type": "stream",
          "text": [
            "Created directory: /Users/leesanghyuk/Python_Programs/Projects/Data/EachCSV/TS_Part2_Clickbait_Direct_EC\n",
            "Data for TS_Part2_Clickbait_Direct_EC written to /Users/leesanghyuk/Python_Programs/Projects/Data/EachCSV/TS_Part2_Clickbait_Direct_EC/TS_Part2_Clickbait_Direct_EC.csv\n",
            "Processing folder: TS_Part2_NonClickbait_Auto_SO\n"
          ]
        },
        {
          "data": {
            "application/vnd.jupyter.widget-view+json": {
              "model_id": "b582cf87435b41689e8af66b4edfa1a9",
              "version_major": 2,
              "version_minor": 0
            },
            "text/plain": [
              "Processing JSON files in TS_Part2_NonClickbait_Auto_SO:   0%|          | 0/28284 [00:00<?, ?it/s]"
            ]
          },
          "metadata": {},
          "output_type": "display_data"
        },
        {
          "name": "stdout",
          "output_type": "stream",
          "text": [
            "Created directory: /Users/leesanghyuk/Python_Programs/Projects/Data/EachCSV/TS_Part2_NonClickbait_Auto_SO\n",
            "Data for TS_Part2_NonClickbait_Auto_SO written to /Users/leesanghyuk/Python_Programs/Projects/Data/EachCSV/TS_Part2_NonClickbait_Auto_SO/TS_Part2_NonClickbait_Auto_SO.csv\n",
            "Processing folder: TS_Part2_Clickbait_Direct_LC\n"
          ]
        },
        {
          "data": {
            "application/vnd.jupyter.widget-view+json": {
              "model_id": "ebdcaffc76bb498581c6d931f40ece4e",
              "version_major": 2,
              "version_minor": 0
            },
            "text/plain": [
              "Processing JSON files in TS_Part2_Clickbait_Direct_LC:   0%|          | 0/3756 [00:00<?, ?it/s]"
            ]
          },
          "metadata": {},
          "output_type": "display_data"
        },
        {
          "name": "stdout",
          "output_type": "stream",
          "text": [
            "Created directory: /Users/leesanghyuk/Python_Programs/Projects/Data/EachCSV/TS_Part2_Clickbait_Direct_LC\n",
            "Data for TS_Part2_Clickbait_Direct_LC written to /Users/leesanghyuk/Python_Programs/Projects/Data/EachCSV/TS_Part2_Clickbait_Direct_LC/TS_Part2_Clickbait_Direct_LC.csv\n",
            "Processing folder: TS_Part2_NonClickbait_Auto_PO\n"
          ]
        },
        {
          "data": {
            "application/vnd.jupyter.widget-view+json": {
              "model_id": "495e6547cbce4f7c924b1e06cfad8af2",
              "version_major": 2,
              "version_minor": 0
            },
            "text/plain": [
              "Processing JSON files in TS_Part2_NonClickbait_Auto_PO:   0%|          | 0/20058 [00:00<?, ?it/s]"
            ]
          },
          "metadata": {},
          "output_type": "display_data"
        },
        {
          "name": "stdout",
          "output_type": "stream",
          "text": [
            "Created directory: /Users/leesanghyuk/Python_Programs/Projects/Data/EachCSV/TS_Part2_NonClickbait_Auto_PO\n",
            "Data for TS_Part2_NonClickbait_Auto_PO written to /Users/leesanghyuk/Python_Programs/Projects/Data/EachCSV/TS_Part2_NonClickbait_Auto_PO/TS_Part2_NonClickbait_Auto_PO.csv\n",
            "Processing folder: TS_Part2_Clickbait_Auto_ET\n"
          ]
        },
        {
          "data": {
            "application/vnd.jupyter.widget-view+json": {
              "model_id": "637d71ea977a434381ed828a85909eab",
              "version_major": 2,
              "version_minor": 0
            },
            "text/plain": [
              "Processing JSON files in TS_Part2_Clickbait_Auto_ET:   0%|          | 0/14098 [00:00<?, ?it/s]"
            ]
          },
          "metadata": {},
          "output_type": "display_data"
        },
        {
          "name": "stdout",
          "output_type": "stream",
          "text": [
            "Created directory: /Users/leesanghyuk/Python_Programs/Projects/Data/EachCSV/TS_Part2_Clickbait_Auto_ET\n",
            "Data for TS_Part2_Clickbait_Auto_ET written to /Users/leesanghyuk/Python_Programs/Projects/Data/EachCSV/TS_Part2_Clickbait_Auto_ET/TS_Part2_Clickbait_Auto_ET.csv\n",
            "Processing folder: TS_Part2_Clickbait_Direct_GB\n"
          ]
        },
        {
          "data": {
            "application/vnd.jupyter.widget-view+json": {
              "model_id": "5f1999514fe24132bea138092b771f1c",
              "version_major": 2,
              "version_minor": 0
            },
            "text/plain": [
              "Processing JSON files in TS_Part2_Clickbait_Direct_GB:   0%|          | 0/6697 [00:00<?, ?it/s]"
            ]
          },
          "metadata": {},
          "output_type": "display_data"
        },
        {
          "name": "stdout",
          "output_type": "stream",
          "text": [
            "Created directory: /Users/leesanghyuk/Python_Programs/Projects/Data/EachCSV/TS_Part2_Clickbait_Direct_GB\n",
            "Data for TS_Part2_Clickbait_Direct_GB written to /Users/leesanghyuk/Python_Programs/Projects/Data/EachCSV/TS_Part2_Clickbait_Direct_GB/TS_Part2_Clickbait_Direct_GB.csv\n",
            "Processing folder: TS_Part2_NonClickbait_Auto_LC\n"
          ]
        },
        {
          "data": {
            "application/vnd.jupyter.widget-view+json": {
              "model_id": "e55e530d3828496a8cd37192937907a7",
              "version_major": 2,
              "version_minor": 0
            },
            "text/plain": [
              "Processing JSON files in TS_Part2_NonClickbait_Auto_LC:   0%|          | 0/17508 [00:00<?, ?it/s]"
            ]
          },
          "metadata": {},
          "output_type": "display_data"
        },
        {
          "name": "stdout",
          "output_type": "stream",
          "text": [
            "Created directory: /Users/leesanghyuk/Python_Programs/Projects/Data/EachCSV/TS_Part2_NonClickbait_Auto_LC\n",
            "Data for TS_Part2_NonClickbait_Auto_LC written to /Users/leesanghyuk/Python_Programs/Projects/Data/EachCSV/TS_Part2_NonClickbait_Auto_LC/TS_Part2_NonClickbait_Auto_LC.csv\n",
            "Processing folder: TS_Part2_Clickbait_Direct_PO\n"
          ]
        },
        {
          "data": {
            "application/vnd.jupyter.widget-view+json": {
              "model_id": "fa1370c4613d4b16b90c1fa614445674",
              "version_major": 2,
              "version_minor": 0
            },
            "text/plain": [
              "Processing JSON files in TS_Part2_Clickbait_Direct_PO:   0%|          | 0/5580 [00:00<?, ?it/s]"
            ]
          },
          "metadata": {},
          "output_type": "display_data"
        },
        {
          "name": "stdout",
          "output_type": "stream",
          "text": [
            "Created directory: /Users/leesanghyuk/Python_Programs/Projects/Data/EachCSV/TS_Part2_Clickbait_Direct_PO\n",
            "Data for TS_Part2_Clickbait_Direct_PO written to /Users/leesanghyuk/Python_Programs/Projects/Data/EachCSV/TS_Part2_Clickbait_Direct_PO/TS_Part2_Clickbait_Direct_PO.csv\n",
            "Processing folder: TS_Part2_NonClickbait_Auto_IS\n"
          ]
        },
        {
          "data": {
            "application/vnd.jupyter.widget-view+json": {
              "model_id": "0ad48439e52c410182536a8f510781bd",
              "version_major": 2,
              "version_minor": 0
            },
            "text/plain": [
              "Processing JSON files in TS_Part2_NonClickbait_Auto_IS:   0%|          | 0/19900 [00:00<?, ?it/s]"
            ]
          },
          "metadata": {},
          "output_type": "display_data"
        },
        {
          "name": "stdout",
          "output_type": "stream",
          "text": [
            "Created directory: /Users/leesanghyuk/Python_Programs/Projects/Data/EachCSV/TS_Part2_NonClickbait_Auto_IS\n",
            "Data for TS_Part2_NonClickbait_Auto_IS written to /Users/leesanghyuk/Python_Programs/Projects/Data/EachCSV/TS_Part2_NonClickbait_Auto_IS/TS_Part2_NonClickbait_Auto_IS.csv\n",
            "Processing folder: TS_Part2_NonClickbait_Auto_EC\n"
          ]
        },
        {
          "data": {
            "application/vnd.jupyter.widget-view+json": {
              "model_id": "646d71d16f5e4b43beafd3c9635bb21a",
              "version_major": 2,
              "version_minor": 0
            },
            "text/plain": [
              "Processing JSON files in TS_Part2_NonClickbait_Auto_EC:   0%|          | 0/20668 [00:00<?, ?it/s]"
            ]
          },
          "metadata": {},
          "output_type": "display_data"
        },
        {
          "name": "stdout",
          "output_type": "stream",
          "text": [
            "Created directory: /Users/leesanghyuk/Python_Programs/Projects/Data/EachCSV/TS_Part2_NonClickbait_Auto_EC\n",
            "Data for TS_Part2_NonClickbait_Auto_EC written to /Users/leesanghyuk/Python_Programs/Projects/Data/EachCSV/TS_Part2_NonClickbait_Auto_EC/TS_Part2_NonClickbait_Auto_EC.csv\n",
            "Processing folder: TS_Part2_Clickbait_Direct_SO\n"
          ]
        },
        {
          "data": {
            "application/vnd.jupyter.widget-view+json": {
              "model_id": "24cfba40b0a44bad8b2986162531080d",
              "version_major": 2,
              "version_minor": 0
            },
            "text/plain": [
              "Processing JSON files in TS_Part2_Clickbait_Direct_SO:   0%|          | 0/8764 [00:00<?, ?it/s]"
            ]
          },
          "metadata": {},
          "output_type": "display_data"
        },
        {
          "name": "stdout",
          "output_type": "stream",
          "text": [
            "Created directory: /Users/leesanghyuk/Python_Programs/Projects/Data/EachCSV/TS_Part2_Clickbait_Direct_SO\n",
            "Data for TS_Part2_Clickbait_Direct_SO written to /Users/leesanghyuk/Python_Programs/Projects/Data/EachCSV/TS_Part2_Clickbait_Direct_SO/TS_Part2_Clickbait_Direct_SO.csv\n",
            "Processing folder: TS_Part2_Clickbait_Auto_SO\n"
          ]
        },
        {
          "data": {
            "application/vnd.jupyter.widget-view+json": {
              "model_id": "953f251b810d440b9f557feb5fb2bba4",
              "version_major": 2,
              "version_minor": 0
            },
            "text/plain": [
              "Processing JSON files in TS_Part2_Clickbait_Auto_SO:   0%|          | 0/22084 [00:00<?, ?it/s]"
            ]
          },
          "metadata": {},
          "output_type": "display_data"
        },
        {
          "name": "stdout",
          "output_type": "stream",
          "text": [
            "Created directory: /Users/leesanghyuk/Python_Programs/Projects/Data/EachCSV/TS_Part2_Clickbait_Auto_SO\n",
            "Data for TS_Part2_Clickbait_Auto_SO written to /Users/leesanghyuk/Python_Programs/Projects/Data/EachCSV/TS_Part2_Clickbait_Auto_SO/TS_Part2_Clickbait_Auto_SO.csv\n",
            "Processing folder: TS_Part2_Clickbait_Auto_PO\n"
          ]
        },
        {
          "data": {
            "application/vnd.jupyter.widget-view+json": {
              "model_id": "3a47c484a6314a69af5eba41e547787e",
              "version_major": 2,
              "version_minor": 0
            },
            "text/plain": [
              "Processing JSON files in TS_Part2_Clickbait_Auto_PO:   0%|          | 0/14803 [00:00<?, ?it/s]"
            ]
          },
          "metadata": {},
          "output_type": "display_data"
        },
        {
          "name": "stdout",
          "output_type": "stream",
          "text": [
            "Created directory: /Users/leesanghyuk/Python_Programs/Projects/Data/EachCSV/TS_Part2_Clickbait_Auto_PO\n",
            "Data for TS_Part2_Clickbait_Auto_PO written to /Users/leesanghyuk/Python_Programs/Projects/Data/EachCSV/TS_Part2_Clickbait_Auto_PO/TS_Part2_Clickbait_Auto_PO.csv\n",
            "Processing folder: TS_Part2_Clickbait_Auto_GB\n"
          ]
        },
        {
          "data": {
            "application/vnd.jupyter.widget-view+json": {
              "model_id": "e38a633d58244511b716f3187b73c42f",
              "version_major": 2,
              "version_minor": 0
            },
            "text/plain": [
              "Processing JSON files in TS_Part2_Clickbait_Auto_GB:   0%|          | 0/17660 [00:00<?, ?it/s]"
            ]
          },
          "metadata": {},
          "output_type": "display_data"
        },
        {
          "name": "stdout",
          "output_type": "stream",
          "text": [
            "Created directory: /Users/leesanghyuk/Python_Programs/Projects/Data/EachCSV/TS_Part2_Clickbait_Auto_GB\n",
            "Data for TS_Part2_Clickbait_Auto_GB written to /Users/leesanghyuk/Python_Programs/Projects/Data/EachCSV/TS_Part2_Clickbait_Auto_GB/TS_Part2_Clickbait_Auto_GB.csv\n",
            "Processing folder: TS_Part2_Clickbait_Direct_ET\n"
          ]
        },
        {
          "data": {
            "application/vnd.jupyter.widget-view+json": {
              "model_id": "5229eba1dc14480baebd9d23feb97186",
              "version_major": 2,
              "version_minor": 0
            },
            "text/plain": [
              "Processing JSON files in TS_Part2_Clickbait_Direct_ET:   0%|          | 0/4661 [00:00<?, ?it/s]"
            ]
          },
          "metadata": {},
          "output_type": "display_data"
        },
        {
          "name": "stdout",
          "output_type": "stream",
          "text": [
            "Created directory: /Users/leesanghyuk/Python_Programs/Projects/Data/EachCSV/TS_Part2_Clickbait_Direct_ET\n",
            "Data for TS_Part2_Clickbait_Direct_ET written to /Users/leesanghyuk/Python_Programs/Projects/Data/EachCSV/TS_Part2_Clickbait_Direct_ET/TS_Part2_Clickbait_Direct_ET.csv\n"
          ]
        }
      ],
      "source": [
        "# JSON 파일을 DataFrame으로 변환\n",
        "process_json_files_to_dataframe(base_path, target_path)"
      ]
    },
    {
      "cell_type": "code",
      "execution_count": 41,
      "metadata": {
        "id": "VA8QB0k4pIL5"
      },
      "outputs": [],
      "source": [
        "# 완성한 데이터셋 확인\n",
        "clickbait_auto_ec = pd.read_csv('/Users/leesanghyuk/Python_Programs/Projects/Data/EachCSV/TS_Part2_Clickbait_Auto_EC/TS_Part2_Clickbait_Auto_EC.csv', encoding = 'utf-8-sig')"
      ]
    },
    {
      "cell_type": "code",
      "execution_count": 42,
      "metadata": {
        "colab": {
          "base_uri": "https://localhost:8080/",
          "height": 944
        },
        "id": "DHanWWiIpSz-",
        "outputId": "c8e6ab8c-8d89-4076-f074-d7c58ff25656"
      },
      "outputs": [
        {
          "data": {
            "text/html": [
              "<div>\n",
              "<style scoped>\n",
              "    .dataframe tbody tr th:only-of-type {\n",
              "        vertical-align: middle;\n",
              "    }\n",
              "\n",
              "    .dataframe tbody tr th {\n",
              "        vertical-align: top;\n",
              "    }\n",
              "\n",
              "    .dataframe thead th {\n",
              "        text-align: right;\n",
              "    }\n",
              "</style>\n",
              "<table border=\"1\" class=\"dataframe\">\n",
              "  <thead>\n",
              "    <tr style=\"text-align: right;\">\n",
              "      <th></th>\n",
              "      <th>partNum</th>\n",
              "      <th>newsID</th>\n",
              "      <th>newsCategory</th>\n",
              "      <th>newsSubcategory</th>\n",
              "      <th>newsContent</th>\n",
              "      <th>processLevel</th>\n",
              "      <th>processPattern</th>\n",
              "      <th>contentList</th>\n",
              "      <th>sentenceCount</th>\n",
              "      <th>processSentencenum</th>\n",
              "      <th>useType</th>\n",
              "    </tr>\n",
              "  </thead>\n",
              "  <tbody>\n",
              "    <tr>\n",
              "      <th>0</th>\n",
              "      <td>P2</td>\n",
              "      <td>EC_M02_464986</td>\n",
              "      <td>경제</td>\n",
              "      <td>산업</td>\n",
              "      <td>가맹점에 대한 사회적 책임을 활동을 펴는 가맹점 본부들이 늘어나고 있다.\\n김상조 ...</td>\n",
              "      <td>하</td>\n",
              "      <td>99</td>\n",
              "      <td>['가맹점에 대한 사회적 책임을 활동을 펴는 가맹점 본부들이 늘어나고 있다.', '...</td>\n",
              "      <td>25</td>\n",
              "      <td>4</td>\n",
              "      <td>0</td>\n",
              "    </tr>\n",
              "    <tr>\n",
              "      <th>1</th>\n",
              "      <td>P2</td>\n",
              "      <td>EC_M02_464987</td>\n",
              "      <td>경제</td>\n",
              "      <td>일반</td>\n",
              "      <td>\\\"최흥식 금융감독원장이 지난 11일 취임식 인터뷰에서 기업 공시 항목에 '기업의 ...</td>\n",
              "      <td>하</td>\n",
              "      <td>99</td>\n",
              "      <td>['\\\\\"최흥식 금융감독원장이 지난 11일 취임식 인터뷰에서 기업 공시 항목에 \\'...</td>\n",
              "      <td>14</td>\n",
              "      <td>1</td>\n",
              "      <td>0</td>\n",
              "    </tr>\n",
              "    <tr>\n",
              "      <th>2</th>\n",
              "      <td>P2</td>\n",
              "      <td>EC_M02_464988</td>\n",
              "      <td>경제</td>\n",
              "      <td>산업</td>\n",
              "      <td>정부는 왜 사회적 경제에 매달리나?\\n그 답은 간단하다.\\n바로 일자리 때문이다.\\...</td>\n",
              "      <td>하</td>\n",
              "      <td>99</td>\n",
              "      <td>['정부는 왜 사회적 경제에 매달리나?', '그 답은 간단하다.', '바로 일자리 ...</td>\n",
              "      <td>10</td>\n",
              "      <td>3</td>\n",
              "      <td>0</td>\n",
              "    </tr>\n",
              "    <tr>\n",
              "      <th>3</th>\n",
              "      <td>P2</td>\n",
              "      <td>EC_M02_464989</td>\n",
              "      <td>경제</td>\n",
              "      <td>은행</td>\n",
              "      <td>국민연금공단, 사립학교교직원연금공단 등 공적 연기금이 사회책임투자(SRI)에 관심을...</td>\n",
              "      <td>하</td>\n",
              "      <td>99</td>\n",
              "      <td>['국민연금공단, 사립학교교직원연금공단 등 공적 연기금이 사회책임투자(SRI)에 관...</td>\n",
              "      <td>31</td>\n",
              "      <td>2</td>\n",
              "      <td>0</td>\n",
              "    </tr>\n",
              "    <tr>\n",
              "      <th>4</th>\n",
              "      <td>P2</td>\n",
              "      <td>EC_M02_464990</td>\n",
              "      <td>경제</td>\n",
              "      <td>산업</td>\n",
              "      <td>e스포츠의 '장애인 배제 시대'는 끝났다.\\n장애인이 e스포츠를 마음껏 즐길 수 있...</td>\n",
              "      <td>하</td>\n",
              "      <td>99</td>\n",
              "      <td>[\"e스포츠의 '장애인 배제 시대'는 끝났다.\", '장애인이 e스포츠를 마음껏 즐길...</td>\n",
              "      <td>24</td>\n",
              "      <td>7</td>\n",
              "      <td>0</td>\n",
              "    </tr>\n",
              "    <tr>\n",
              "      <th>...</th>\n",
              "      <td>...</td>\n",
              "      <td>...</td>\n",
              "      <td>...</td>\n",
              "      <td>...</td>\n",
              "      <td>...</td>\n",
              "      <td>...</td>\n",
              "      <td>...</td>\n",
              "      <td>...</td>\n",
              "      <td>...</td>\n",
              "      <td>...</td>\n",
              "      <td>...</td>\n",
              "    </tr>\n",
              "    <tr>\n",
              "      <th>15266</th>\n",
              "      <td>P2</td>\n",
              "      <td>EC_M05_486237</td>\n",
              "      <td>경제</td>\n",
              "      <td>중기밴처</td>\n",
              "      <td>MZ세대(밀레니얼+Z세대)를 중심으로 이른바 '갓생'이 새로운 문화로 자리 잡으면서...</td>\n",
              "      <td>하</td>\n",
              "      <td>99</td>\n",
              "      <td>[\"MZ세대(밀레니얼+Z세대)를 중심으로 이른바 '갓생'이 새로운 문화로 자리 잡으...</td>\n",
              "      <td>8</td>\n",
              "      <td>2</td>\n",
              "      <td>0</td>\n",
              "    </tr>\n",
              "    <tr>\n",
              "      <th>15267</th>\n",
              "      <td>P2</td>\n",
              "      <td>EC_M05_486238</td>\n",
              "      <td>경제</td>\n",
              "      <td>유통</td>\n",
              "      <td>신세계사이먼, 23일 '제주신화월드 랜딩컨벤션센터'서 채용박람회 개최입점 브랜드, ...</td>\n",
              "      <td>하</td>\n",
              "      <td>99</td>\n",
              "      <td>[\"신세계사이먼, 23일 '제주신화월드 랜딩컨벤션센터'서 채용박람회 개최입점 브랜드...</td>\n",
              "      <td>18</td>\n",
              "      <td>3</td>\n",
              "      <td>0</td>\n",
              "    </tr>\n",
              "    <tr>\n",
              "      <th>15268</th>\n",
              "      <td>P2</td>\n",
              "      <td>EC_M05_486239</td>\n",
              "      <td>경제</td>\n",
              "      <td>자동차</td>\n",
              "      <td>메르세데스-벤츠 코리아가 소형 전기 SUV(스포츠유틸리티차량) '더 뉴 EQA(Th...</td>\n",
              "      <td>하</td>\n",
              "      <td>99</td>\n",
              "      <td>[\"메르세데스-벤츠 코리아가 소형 전기 SUV(스포츠유틸리티차량) '더 뉴 EQA(...</td>\n",
              "      <td>9</td>\n",
              "      <td>2</td>\n",
              "      <td>0</td>\n",
              "    </tr>\n",
              "    <tr>\n",
              "      <th>15269</th>\n",
              "      <td>P2</td>\n",
              "      <td>EC_M05_486243</td>\n",
              "      <td>경제</td>\n",
              "      <td>금융</td>\n",
              "      <td>카카오손해보험의 보험업 예비인가로 빅테크(대형 정보통신기업)의 첫 보험업 진출에 청...</td>\n",
              "      <td>하</td>\n",
              "      <td>99</td>\n",
              "      <td>['카카오손해보험의 보험업 예비인가로 빅테크(대형 정보통신기업)의 첫 보험업 진출에...</td>\n",
              "      <td>20</td>\n",
              "      <td>5</td>\n",
              "      <td>0</td>\n",
              "    </tr>\n",
              "    <tr>\n",
              "      <th>15270</th>\n",
              "      <td>P2</td>\n",
              "      <td>EC_M05_486245</td>\n",
              "      <td>경제</td>\n",
              "      <td>유통</td>\n",
              "      <td>9일 오후 서울 중구 A면세점에 코로나19로 한산한 분위기와 대조적으로 북적이는 매...</td>\n",
              "      <td>하</td>\n",
              "      <td>99</td>\n",
              "      <td>['9일 오후 서울 중구 A면세점에 코로나19로 한산한 분위기와 대조적으로 북적이는...</td>\n",
              "      <td>26</td>\n",
              "      <td>2</td>\n",
              "      <td>0</td>\n",
              "    </tr>\n",
              "  </tbody>\n",
              "</table>\n",
              "<p>15271 rows × 11 columns</p>\n",
              "</div>"
            ],
            "text/plain": [
              "      partNum         newsID newsCategory newsSubcategory  \\\n",
              "0          P2  EC_M02_464986           경제              산업   \n",
              "1          P2  EC_M02_464987           경제              일반   \n",
              "2          P2  EC_M02_464988           경제              산업   \n",
              "3          P2  EC_M02_464989           경제              은행   \n",
              "4          P2  EC_M02_464990           경제              산업   \n",
              "...       ...            ...          ...             ...   \n",
              "15266      P2  EC_M05_486237           경제            중기밴처   \n",
              "15267      P2  EC_M05_486238           경제              유통   \n",
              "15268      P2  EC_M05_486239           경제             자동차   \n",
              "15269      P2  EC_M05_486243           경제              금융   \n",
              "15270      P2  EC_M05_486245           경제              유통   \n",
              "\n",
              "                                             newsContent processLevel  \\\n",
              "0      가맹점에 대한 사회적 책임을 활동을 펴는 가맹점 본부들이 늘어나고 있다.\\n김상조 ...            하   \n",
              "1      \\\"최흥식 금융감독원장이 지난 11일 취임식 인터뷰에서 기업 공시 항목에 '기업의 ...            하   \n",
              "2      정부는 왜 사회적 경제에 매달리나?\\n그 답은 간단하다.\\n바로 일자리 때문이다.\\...            하   \n",
              "3      국민연금공단, 사립학교교직원연금공단 등 공적 연기금이 사회책임투자(SRI)에 관심을...            하   \n",
              "4      e스포츠의 '장애인 배제 시대'는 끝났다.\\n장애인이 e스포츠를 마음껏 즐길 수 있...            하   \n",
              "...                                                  ...          ...   \n",
              "15266  MZ세대(밀레니얼+Z세대)를 중심으로 이른바 '갓생'이 새로운 문화로 자리 잡으면서...            하   \n",
              "15267  신세계사이먼, 23일 '제주신화월드 랜딩컨벤션센터'서 채용박람회 개최입점 브랜드, ...            하   \n",
              "15268  메르세데스-벤츠 코리아가 소형 전기 SUV(스포츠유틸리티차량) '더 뉴 EQA(Th...            하   \n",
              "15269  카카오손해보험의 보험업 예비인가로 빅테크(대형 정보통신기업)의 첫 보험업 진출에 청...            하   \n",
              "15270  9일 오후 서울 중구 A면세점에 코로나19로 한산한 분위기와 대조적으로 북적이는 매...            하   \n",
              "\n",
              "       processPattern                                        contentList  \\\n",
              "0                  99  ['가맹점에 대한 사회적 책임을 활동을 펴는 가맹점 본부들이 늘어나고 있다.', '...   \n",
              "1                  99  ['\\\\\"최흥식 금융감독원장이 지난 11일 취임식 인터뷰에서 기업 공시 항목에 \\'...   \n",
              "2                  99  ['정부는 왜 사회적 경제에 매달리나?', '그 답은 간단하다.', '바로 일자리 ...   \n",
              "3                  99  ['국민연금공단, 사립학교교직원연금공단 등 공적 연기금이 사회책임투자(SRI)에 관...   \n",
              "4                  99  [\"e스포츠의 '장애인 배제 시대'는 끝났다.\", '장애인이 e스포츠를 마음껏 즐길...   \n",
              "...               ...                                                ...   \n",
              "15266              99  [\"MZ세대(밀레니얼+Z세대)를 중심으로 이른바 '갓생'이 새로운 문화로 자리 잡으...   \n",
              "15267              99  [\"신세계사이먼, 23일 '제주신화월드 랜딩컨벤션센터'서 채용박람회 개최입점 브랜드...   \n",
              "15268              99  [\"메르세데스-벤츠 코리아가 소형 전기 SUV(스포츠유틸리티차량) '더 뉴 EQA(...   \n",
              "15269              99  ['카카오손해보험의 보험업 예비인가로 빅테크(대형 정보통신기업)의 첫 보험업 진출에...   \n",
              "15270              99  ['9일 오후 서울 중구 A면세점에 코로나19로 한산한 분위기와 대조적으로 북적이는...   \n",
              "\n",
              "       sentenceCount  processSentencenum  useType  \n",
              "0                 25                   4        0  \n",
              "1                 14                   1        0  \n",
              "2                 10                   3        0  \n",
              "3                 31                   2        0  \n",
              "4                 24                   7        0  \n",
              "...              ...                 ...      ...  \n",
              "15266              8                   2        0  \n",
              "15267             18                   3        0  \n",
              "15268              9                   2        0  \n",
              "15269             20                   5        0  \n",
              "15270             26                   2        0  \n",
              "\n",
              "[15271 rows x 11 columns]"
            ]
          },
          "execution_count": 42,
          "metadata": {},
          "output_type": "execute_result"
        }
      ],
      "source": [
        "clickbait_auto_ec"
      ]
    },
    {
      "cell_type": "code",
      "execution_count": 43,
      "metadata": {
        "id": "5vkjq2SdppRs"
      },
      "outputs": [],
      "source": [
        "nonclickbait_auto_ec = pd.read_csv('/Users/leesanghyuk/Python_Programs/Projects/Data/EachCSV/TS_Part2_NonClickbait_Auto_EC/TS_Part2_NonClickbait_Auto_EC.csv', encoding = 'utf-8-sig')"
      ]
    },
    {
      "cell_type": "code",
      "execution_count": 44,
      "metadata": {
        "colab": {
          "base_uri": "https://localhost:8080/",
          "height": 1000
        },
        "id": "pQ1vkcTBp6Xw",
        "outputId": "fa6d193a-0fb0-4dd2-f636-86dfcba20668"
      },
      "outputs": [
        {
          "data": {
            "text/html": [
              "<div>\n",
              "<style scoped>\n",
              "    .dataframe tbody tr th:only-of-type {\n",
              "        vertical-align: middle;\n",
              "    }\n",
              "\n",
              "    .dataframe tbody tr th {\n",
              "        vertical-align: top;\n",
              "    }\n",
              "\n",
              "    .dataframe thead th {\n",
              "        text-align: right;\n",
              "    }\n",
              "</style>\n",
              "<table border=\"1\" class=\"dataframe\">\n",
              "  <thead>\n",
              "    <tr style=\"text-align: right;\">\n",
              "      <th></th>\n",
              "      <th>partNum</th>\n",
              "      <th>newsID</th>\n",
              "      <th>newsCategory</th>\n",
              "      <th>newsSubcategory</th>\n",
              "      <th>newsContent</th>\n",
              "      <th>processLevel</th>\n",
              "      <th>processPattern</th>\n",
              "      <th>contentList</th>\n",
              "      <th>sentenceCount</th>\n",
              "      <th>processSentencenum</th>\n",
              "      <th>useType</th>\n",
              "    </tr>\n",
              "  </thead>\n",
              "  <tbody>\n",
              "    <tr>\n",
              "      <th>0</th>\n",
              "      <td>P2</td>\n",
              "      <td>EC_M02_682675</td>\n",
              "      <td>경제</td>\n",
              "      <td>은행</td>\n",
              "      <td>금융권이 최근 한국임팩트금융을 설립해 본격 활동을 시작한 데 이어 소외계층 지원에 ...</td>\n",
              "      <td>하</td>\n",
              "      <td>0</td>\n",
              "      <td>['금융권이 최근 한국임팩트금융을 설립해 본격 활동을 시작한 데 이어 소외계층 지원...</td>\n",
              "      <td>23</td>\n",
              "      <td>0</td>\n",
              "      <td>1</td>\n",
              "    </tr>\n",
              "    <tr>\n",
              "      <th>1</th>\n",
              "      <td>P2</td>\n",
              "      <td>EC_M02_682679</td>\n",
              "      <td>경제</td>\n",
              "      <td>은행</td>\n",
              "      <td>'열린 마음으로 미래를 내다보고 인재를 중시하자' 미래에셋의 경영 이념이다.\\n창업...</td>\n",
              "      <td>하</td>\n",
              "      <td>0</td>\n",
              "      <td>[\"'열린 마음으로 미래를 내다보고 인재를 중시하자' 미래에셋의 경영 이념이다.\",...</td>\n",
              "      <td>19</td>\n",
              "      <td>0</td>\n",
              "      <td>1</td>\n",
              "    </tr>\n",
              "    <tr>\n",
              "      <th>2</th>\n",
              "      <td>P2</td>\n",
              "      <td>EC_M02_682680</td>\n",
              "      <td>경제</td>\n",
              "      <td>은행</td>\n",
              "      <td>포용적 금융(Financial Inclusion)이란 저소득층, 소상공인, 농민, ...</td>\n",
              "      <td>하</td>\n",
              "      <td>0</td>\n",
              "      <td>['포용적 금융(Financial Inclusion)이란 저소득층, 소상공인, 농민...</td>\n",
              "      <td>27</td>\n",
              "      <td>0</td>\n",
              "      <td>1</td>\n",
              "    </tr>\n",
              "    <tr>\n",
              "      <th>3</th>\n",
              "      <td>P2</td>\n",
              "      <td>EC_M02_682681</td>\n",
              "      <td>경제</td>\n",
              "      <td>일반</td>\n",
              "      <td>전 세계 기업들이 해킹으로 몸살을 앓고 있는 가운데 28일 SK커뮤니케이션즈(네이트...</td>\n",
              "      <td>하</td>\n",
              "      <td>0</td>\n",
              "      <td>['전 세계 기업들이 해킹으로 몸살을 앓고 있는 가운데 28일 SK커뮤니케이션즈(네...</td>\n",
              "      <td>14</td>\n",
              "      <td>0</td>\n",
              "      <td>1</td>\n",
              "    </tr>\n",
              "    <tr>\n",
              "      <th>4</th>\n",
              "      <td>P2</td>\n",
              "      <td>EC_M02_682682</td>\n",
              "      <td>경제</td>\n",
              "      <td>산업</td>\n",
              "      <td>연세대 지속가능발전포럼의 세션이 7일 연세대학교 백양누리홀에서 열렸다.\\n이날 열린...</td>\n",
              "      <td>하</td>\n",
              "      <td>0</td>\n",
              "      <td>['연세대 지속가능발전포럼의 세션이 7일 연세대학교 백양누리홀에서 열렸다.', \"이...</td>\n",
              "      <td>21</td>\n",
              "      <td>0</td>\n",
              "      <td>1</td>\n",
              "    </tr>\n",
              "    <tr>\n",
              "      <th>...</th>\n",
              "      <td>...</td>\n",
              "      <td>...</td>\n",
              "      <td>...</td>\n",
              "      <td>...</td>\n",
              "      <td>...</td>\n",
              "      <td>...</td>\n",
              "      <td>...</td>\n",
              "      <td>...</td>\n",
              "      <td>...</td>\n",
              "      <td>...</td>\n",
              "      <td>...</td>\n",
              "    </tr>\n",
              "    <tr>\n",
              "      <th>20663</th>\n",
              "      <td>P2</td>\n",
              "      <td>EC_M05_717068</td>\n",
              "      <td>경제</td>\n",
              "      <td>금융</td>\n",
              "      <td>네이버파이낸셜의 스마트스토어 사업자 대출이 출시 6개월 만에 누적 약정액 500억원...</td>\n",
              "      <td>하</td>\n",
              "      <td>0</td>\n",
              "      <td>['네이버파이낸셜의 스마트스토어 사업자 대출이 출시 6개월 만에 누적 약정액 500...</td>\n",
              "      <td>12</td>\n",
              "      <td>0</td>\n",
              "      <td>1</td>\n",
              "    </tr>\n",
              "    <tr>\n",
              "      <th>20664</th>\n",
              "      <td>P2</td>\n",
              "      <td>EC_M05_717069</td>\n",
              "      <td>경제</td>\n",
              "      <td>기업CEO</td>\n",
              "      <td>신세계의 리빙&amp;라이프스타일 브랜드 까사미아가 기존 사용하던 가구를 까사미아로 교체 ...</td>\n",
              "      <td>하</td>\n",
              "      <td>0</td>\n",
              "      <td>[\"신세계의 리빙&amp;라이프스타일 브랜드 까사미아가 기존 사용하던 가구를 까사미아로 교...</td>\n",
              "      <td>14</td>\n",
              "      <td>0</td>\n",
              "      <td>1</td>\n",
              "    </tr>\n",
              "    <tr>\n",
              "      <th>20665</th>\n",
              "      <td>P2</td>\n",
              "      <td>EC_M05_717072</td>\n",
              "      <td>경제</td>\n",
              "      <td>금융</td>\n",
              "      <td>KB손해보험이 보험사 가운데 데이터 사업에 적극적으로 뛰어들며 선도 이미지를 구축하...</td>\n",
              "      <td>하</td>\n",
              "      <td>0</td>\n",
              "      <td>['KB손해보험이 보험사 가운데 데이터 사업에 적극적으로 뛰어들며 선도 이미지를 구...</td>\n",
              "      <td>14</td>\n",
              "      <td>0</td>\n",
              "      <td>1</td>\n",
              "    </tr>\n",
              "    <tr>\n",
              "      <th>20666</th>\n",
              "      <td>P2</td>\n",
              "      <td>EC_M05_717074</td>\n",
              "      <td>경제</td>\n",
              "      <td>유통</td>\n",
              "      <td>대상라이프사이언스의 ’뉴케어 액티브 골든밸런스’가 지난 5월 기준 누적 판매량 10...</td>\n",
              "      <td>하</td>\n",
              "      <td>0</td>\n",
              "      <td>['대상라이프사이언스의 ’뉴케어 액티브 골든밸런스’가 지난 5월 기준 누적 판매량 ...</td>\n",
              "      <td>7</td>\n",
              "      <td>0</td>\n",
              "      <td>1</td>\n",
              "    </tr>\n",
              "    <tr>\n",
              "      <th>20667</th>\n",
              "      <td>P2</td>\n",
              "      <td>EC_M05_717076</td>\n",
              "      <td>경제</td>\n",
              "      <td>유통</td>\n",
              "      <td>CJ온스타일은 10일 친환경 도자기 소재로 내구성이 좋으면서 자연 친화적인 디자인 ...</td>\n",
              "      <td>하</td>\n",
              "      <td>0</td>\n",
              "      <td>['CJ온스타일은 10일 친환경 도자기 소재로 내구성이 좋으면서 자연 친화적인 디자...</td>\n",
              "      <td>11</td>\n",
              "      <td>0</td>\n",
              "      <td>1</td>\n",
              "    </tr>\n",
              "  </tbody>\n",
              "</table>\n",
              "<p>20668 rows × 11 columns</p>\n",
              "</div>"
            ],
            "text/plain": [
              "      partNum         newsID newsCategory newsSubcategory  \\\n",
              "0          P2  EC_M02_682675           경제              은행   \n",
              "1          P2  EC_M02_682679           경제              은행   \n",
              "2          P2  EC_M02_682680           경제              은행   \n",
              "3          P2  EC_M02_682681           경제              일반   \n",
              "4          P2  EC_M02_682682           경제              산업   \n",
              "...       ...            ...          ...             ...   \n",
              "20663      P2  EC_M05_717068           경제              금융   \n",
              "20664      P2  EC_M05_717069           경제           기업CEO   \n",
              "20665      P2  EC_M05_717072           경제              금융   \n",
              "20666      P2  EC_M05_717074           경제              유통   \n",
              "20667      P2  EC_M05_717076           경제              유통   \n",
              "\n",
              "                                             newsContent processLevel  \\\n",
              "0      금융권이 최근 한국임팩트금융을 설립해 본격 활동을 시작한 데 이어 소외계층 지원에 ...            하   \n",
              "1      '열린 마음으로 미래를 내다보고 인재를 중시하자' 미래에셋의 경영 이념이다.\\n창업...            하   \n",
              "2      포용적 금융(Financial Inclusion)이란 저소득층, 소상공인, 농민, ...            하   \n",
              "3      전 세계 기업들이 해킹으로 몸살을 앓고 있는 가운데 28일 SK커뮤니케이션즈(네이트...            하   \n",
              "4      연세대 지속가능발전포럼의 세션이 7일 연세대학교 백양누리홀에서 열렸다.\\n이날 열린...            하   \n",
              "...                                                  ...          ...   \n",
              "20663  네이버파이낸셜의 스마트스토어 사업자 대출이 출시 6개월 만에 누적 약정액 500억원...            하   \n",
              "20664  신세계의 리빙&라이프스타일 브랜드 까사미아가 기존 사용하던 가구를 까사미아로 교체 ...            하   \n",
              "20665  KB손해보험이 보험사 가운데 데이터 사업에 적극적으로 뛰어들며 선도 이미지를 구축하...            하   \n",
              "20666  대상라이프사이언스의 ’뉴케어 액티브 골든밸런스’가 지난 5월 기준 누적 판매량 10...            하   \n",
              "20667  CJ온스타일은 10일 친환경 도자기 소재로 내구성이 좋으면서 자연 친화적인 디자인 ...            하   \n",
              "\n",
              "       processPattern                                        contentList  \\\n",
              "0                   0  ['금융권이 최근 한국임팩트금융을 설립해 본격 활동을 시작한 데 이어 소외계층 지원...   \n",
              "1                   0  [\"'열린 마음으로 미래를 내다보고 인재를 중시하자' 미래에셋의 경영 이념이다.\",...   \n",
              "2                   0  ['포용적 금융(Financial Inclusion)이란 저소득층, 소상공인, 농민...   \n",
              "3                   0  ['전 세계 기업들이 해킹으로 몸살을 앓고 있는 가운데 28일 SK커뮤니케이션즈(네...   \n",
              "4                   0  ['연세대 지속가능발전포럼의 세션이 7일 연세대학교 백양누리홀에서 열렸다.', \"이...   \n",
              "...               ...                                                ...   \n",
              "20663               0  ['네이버파이낸셜의 스마트스토어 사업자 대출이 출시 6개월 만에 누적 약정액 500...   \n",
              "20664               0  [\"신세계의 리빙&라이프스타일 브랜드 까사미아가 기존 사용하던 가구를 까사미아로 교...   \n",
              "20665               0  ['KB손해보험이 보험사 가운데 데이터 사업에 적극적으로 뛰어들며 선도 이미지를 구...   \n",
              "20666               0  ['대상라이프사이언스의 ’뉴케어 액티브 골든밸런스’가 지난 5월 기준 누적 판매량 ...   \n",
              "20667               0  ['CJ온스타일은 10일 친환경 도자기 소재로 내구성이 좋으면서 자연 친화적인 디자...   \n",
              "\n",
              "       sentenceCount  processSentencenum  useType  \n",
              "0                 23                   0        1  \n",
              "1                 19                   0        1  \n",
              "2                 27                   0        1  \n",
              "3                 14                   0        1  \n",
              "4                 21                   0        1  \n",
              "...              ...                 ...      ...  \n",
              "20663             12                   0        1  \n",
              "20664             14                   0        1  \n",
              "20665             14                   0        1  \n",
              "20666              7                   0        1  \n",
              "20667             11                   0        1  \n",
              "\n",
              "[20668 rows x 11 columns]"
            ]
          },
          "execution_count": 44,
          "metadata": {},
          "output_type": "execute_result"
        }
      ],
      "source": [
        "nonclickbait_auto_ec"
      ]
    },
    {
      "cell_type": "code",
      "execution_count": 45,
      "metadata": {},
      "outputs": [],
      "source": [
        "def concatenate_csv_from_folders(base_path, save_path):\n",
        "    \"\"\"\n",
        "    주어진 경로에서 모든 하위 폴더에 있는 CSV 파일을 찾아 하나의 데이터프레임으로 합칩니다.\n",
        "\n",
        "    Args:\n",
        "    - base_path (str): CSV 파일들이 포함된 최상위 디렉토리의 경로.\n",
        "\n",
        "    Returns:\n",
        "    - pd.DataFrame: 모든 CSV 파일이 합쳐진 데이터프레임.\n",
        "    \"\"\"\n",
        "    all_data = []\n",
        "\n",
        "    # base_path 아래의 모든 디렉토리를 순회\n",
        "    for folder_name in os.listdir(base_path):\n",
        "        folder_path = os.path.join(base_path, folder_name)\n",
        "        \n",
        "        # 폴더 내의 모든 파일을 순회\n",
        "        if os.path.isdir(folder_path):\n",
        "            for file_name in os.listdir(folder_path):\n",
        "                if file_name.endswith('.csv'):\n",
        "                    file_path = os.path.join(folder_path, file_name)\n",
        "                    \n",
        "                    # CSV 파일을 DataFrame으로 읽어들임\n",
        "                    df = pd.read_csv(file_path)\n",
        "                    \n",
        "                    # DataFrame을 리스트에 추가\n",
        "                    all_data.append(df)\n",
        "\n",
        "    # 모든 데이터를 하나의 DataFrame으로 합침\n",
        "    concatenated_data = pd.concat(all_data, ignore_index=True)\n",
        "    concatenated_data.to_csv(save_path, index=False, encoding='utf-8-sig')\n",
        "\n",
        "    return concatenated_data"
      ]
    },
    {
      "cell_type": "code",
      "execution_count": 69,
      "metadata": {},
      "outputs": [
        {
          "data": {
            "text/html": [
              "<div>\n",
              "<style scoped>\n",
              "    .dataframe tbody tr th:only-of-type {\n",
              "        vertical-align: middle;\n",
              "    }\n",
              "\n",
              "    .dataframe tbody tr th {\n",
              "        vertical-align: top;\n",
              "    }\n",
              "\n",
              "    .dataframe thead th {\n",
              "        text-align: right;\n",
              "    }\n",
              "</style>\n",
              "<table border=\"1\" class=\"dataframe\">\n",
              "  <thead>\n",
              "    <tr style=\"text-align: right;\">\n",
              "      <th></th>\n",
              "      <th>partNum</th>\n",
              "      <th>newsID</th>\n",
              "      <th>newsCategory</th>\n",
              "      <th>newsSubcategory</th>\n",
              "      <th>newsContent</th>\n",
              "      <th>processLevel</th>\n",
              "      <th>processPattern</th>\n",
              "      <th>contentList</th>\n",
              "      <th>sentenceCount</th>\n",
              "      <th>processSentencenum</th>\n",
              "      <th>useType</th>\n",
              "    </tr>\n",
              "  </thead>\n",
              "  <tbody>\n",
              "    <tr>\n",
              "      <th>0</th>\n",
              "      <td>P2</td>\n",
              "      <td>LC_M02_551626</td>\n",
              "      <td>생활&amp;문화</td>\n",
              "      <td>NaN</td>\n",
              "      <td>손목시계는 이제 시간을 알려주는 도구 이상의 의미를 갖고 있다.\\n어떤 이에게는 신...</td>\n",
              "      <td>하</td>\n",
              "      <td>99</td>\n",
              "      <td>['손목시계는 이제 시간을 알려주는 도구 이상의 의미를 갖고 있다.', '어떤 이에...</td>\n",
              "      <td>20</td>\n",
              "      <td>3</td>\n",
              "      <td>0</td>\n",
              "    </tr>\n",
              "    <tr>\n",
              "      <th>1</th>\n",
              "      <td>P2</td>\n",
              "      <td>LC_M02_551627</td>\n",
              "      <td>생활&amp;문화</td>\n",
              "      <td>NaN</td>\n",
              "      <td>Ruth Noguerón와 Amanda Stevens는 WRI에서 환경 영향(env...</td>\n",
              "      <td>하</td>\n",
              "      <td>99</td>\n",
              "      <td>['Ruth Noguerón와 Amanda Stevens는 WRI에서 환경 영향(e...</td>\n",
              "      <td>16</td>\n",
              "      <td>3</td>\n",
              "      <td>0</td>\n",
              "    </tr>\n",
              "    <tr>\n",
              "      <th>2</th>\n",
              "      <td>P2</td>\n",
              "      <td>LC_M02_551629</td>\n",
              "      <td>생활&amp;문화</td>\n",
              "      <td>NaN</td>\n",
              "      <td>요즘 대부분 소비자들은 식료품을 살 때마다 포장 겉면의 영양정보 표기(nutriti...</td>\n",
              "      <td>하</td>\n",
              "      <td>99</td>\n",
              "      <td>['요즘 대부분 소비자들은 식료품을 살 때마다 포장 겉면의 영양정보 표기(nutri...</td>\n",
              "      <td>27</td>\n",
              "      <td>3</td>\n",
              "      <td>0</td>\n",
              "    </tr>\n",
              "    <tr>\n",
              "      <th>3</th>\n",
              "      <td>P2</td>\n",
              "      <td>LC_M02_551631</td>\n",
              "      <td>생활&amp;문화</td>\n",
              "      <td>NaN</td>\n",
              "      <td>생리대를사지못하는저소득층소녀들이깔창이나휴지등을생리대로쓰는사연이널리알려져많은사람이가슴...</td>\n",
              "      <td>하</td>\n",
              "      <td>99</td>\n",
              "      <td>['생리대를사지못하는저소득층소녀들이깔창이나휴지등을생리대로쓰는사연이널리알려져많은사람이...</td>\n",
              "      <td>17</td>\n",
              "      <td>4</td>\n",
              "      <td>0</td>\n",
              "    </tr>\n",
              "    <tr>\n",
              "      <th>4</th>\n",
              "      <td>P2</td>\n",
              "      <td>LC_M02_551632</td>\n",
              "      <td>생활&amp;문화</td>\n",
              "      <td>NaN</td>\n",
              "      <td>자원봉사는 일반적으로 '기업의 사회적 책임'(CSR)의 주요 구성 요소이다.\\n직원...</td>\n",
              "      <td>하</td>\n",
              "      <td>99</td>\n",
              "      <td>[\"자원봉사는 일반적으로 '기업의 사회적 책임'(CSR)의 주요 구성 요소이다.\",...</td>\n",
              "      <td>16</td>\n",
              "      <td>2</td>\n",
              "      <td>0</td>\n",
              "    </tr>\n",
              "    <tr>\n",
              "      <th>...</th>\n",
              "      <td>...</td>\n",
              "      <td>...</td>\n",
              "      <td>...</td>\n",
              "      <td>...</td>\n",
              "      <td>...</td>\n",
              "      <td>...</td>\n",
              "      <td>...</td>\n",
              "      <td>...</td>\n",
              "      <td>...</td>\n",
              "      <td>...</td>\n",
              "      <td>...</td>\n",
              "    </tr>\n",
              "    <tr>\n",
              "      <th>295270</th>\n",
              "      <td>P2</td>\n",
              "      <td>ET_M13_633839</td>\n",
              "      <td>연예</td>\n",
              "      <td>음악</td>\n",
              "      <td>프로듀서 겸 아티스트 지코(ZICO)가 유쾌한 괴짜로 변신했다.\\n소속사 KOZ 엔...</td>\n",
              "      <td>중</td>\n",
              "      <td>21</td>\n",
              "      <td>['프로듀서 겸 아티스트 지코(ZICO)가 유쾌한 괴짜로 변신했다.', '소속사 K...</td>\n",
              "      <td>10</td>\n",
              "      <td>4</td>\n",
              "      <td>0</td>\n",
              "    </tr>\n",
              "    <tr>\n",
              "      <th>295271</th>\n",
              "      <td>P2</td>\n",
              "      <td>ET_M13_633840</td>\n",
              "      <td>연예</td>\n",
              "      <td>연예일반</td>\n",
              "      <td>김연아가 과거 팬 미팅에서 한 결혼 관련 발언이 재조명되고 있다.\\n지난 25일 김...</td>\n",
              "      <td>중</td>\n",
              "      <td>21</td>\n",
              "      <td>['김연아가 과거 팬 미팅에서 한 결혼 관련 발언이 재조명되고 있다.', '지난 2...</td>\n",
              "      <td>17</td>\n",
              "      <td>3</td>\n",
              "      <td>0</td>\n",
              "    </tr>\n",
              "    <tr>\n",
              "      <th>295272</th>\n",
              "      <td>P2</td>\n",
              "      <td>ET_M13_633842</td>\n",
              "      <td>연예</td>\n",
              "      <td>방송</td>\n",
              "      <td>코미디언 장도연이 다시 한번 연애 프로그램 MC로 활약한다. 26일 오후 2시 온라...</td>\n",
              "      <td>중</td>\n",
              "      <td>21</td>\n",
              "      <td>['코미디언 장도연이 다시 한번 연애 프로그램 MC로 활약한다. 26일 오후 2시 ...</td>\n",
              "      <td>10</td>\n",
              "      <td>4</td>\n",
              "      <td>0</td>\n",
              "    </tr>\n",
              "    <tr>\n",
              "      <th>295273</th>\n",
              "      <td>P2</td>\n",
              "      <td>ET_M13_633843</td>\n",
              "      <td>연예</td>\n",
              "      <td>음악</td>\n",
              "      <td>걸그룹 NiziU(니쥬)가 세 번째 싱글 앨범으로 오리콘 주간 차트 정상을 차지했다...</td>\n",
              "      <td>중</td>\n",
              "      <td>21</td>\n",
              "      <td>['걸그룹 NiziU(니쥬)가 세 번째 싱글 앨범으로 오리콘 주간 차트 정상을 차지...</td>\n",
              "      <td>8</td>\n",
              "      <td>3</td>\n",
              "      <td>0</td>\n",
              "    </tr>\n",
              "    <tr>\n",
              "      <th>295274</th>\n",
              "      <td>P2</td>\n",
              "      <td>ET_M13_633844</td>\n",
              "      <td>연예</td>\n",
              "      <td>음악</td>\n",
              "      <td>그룹 에스파(aespa)가 빌보드 차트에서 존재감을 드러내고 있다.\\n27일 소속사...</td>\n",
              "      <td>중</td>\n",
              "      <td>21</td>\n",
              "      <td>['그룹 에스파(aespa)가 빌보드 차트에서 존재감을 드러내고 있다.', '27일...</td>\n",
              "      <td>9</td>\n",
              "      <td>2</td>\n",
              "      <td>0</td>\n",
              "    </tr>\n",
              "  </tbody>\n",
              "</table>\n",
              "<p>295275 rows × 11 columns</p>\n",
              "</div>"
            ],
            "text/plain": [
              "       partNum         newsID newsCategory newsSubcategory  \\\n",
              "0           P2  LC_M02_551626        생활&문화             NaN   \n",
              "1           P2  LC_M02_551627        생활&문화             NaN   \n",
              "2           P2  LC_M02_551629        생활&문화             NaN   \n",
              "3           P2  LC_M02_551631        생활&문화             NaN   \n",
              "4           P2  LC_M02_551632        생활&문화             NaN   \n",
              "...        ...            ...          ...             ...   \n",
              "295270      P2  ET_M13_633839           연예              음악   \n",
              "295271      P2  ET_M13_633840           연예            연예일반   \n",
              "295272      P2  ET_M13_633842           연예              방송   \n",
              "295273      P2  ET_M13_633843           연예              음악   \n",
              "295274      P2  ET_M13_633844           연예              음악   \n",
              "\n",
              "                                              newsContent processLevel  \\\n",
              "0       손목시계는 이제 시간을 알려주는 도구 이상의 의미를 갖고 있다.\\n어떤 이에게는 신...            하   \n",
              "1       Ruth Noguerón와 Amanda Stevens는 WRI에서 환경 영향(env...            하   \n",
              "2       요즘 대부분 소비자들은 식료품을 살 때마다 포장 겉면의 영양정보 표기(nutriti...            하   \n",
              "3       생리대를사지못하는저소득층소녀들이깔창이나휴지등을생리대로쓰는사연이널리알려져많은사람이가슴...            하   \n",
              "4       자원봉사는 일반적으로 '기업의 사회적 책임'(CSR)의 주요 구성 요소이다.\\n직원...            하   \n",
              "...                                                   ...          ...   \n",
              "295270  프로듀서 겸 아티스트 지코(ZICO)가 유쾌한 괴짜로 변신했다.\\n소속사 KOZ 엔...            중   \n",
              "295271  김연아가 과거 팬 미팅에서 한 결혼 관련 발언이 재조명되고 있다.\\n지난 25일 김...            중   \n",
              "295272  코미디언 장도연이 다시 한번 연애 프로그램 MC로 활약한다. 26일 오후 2시 온라...            중   \n",
              "295273  걸그룹 NiziU(니쥬)가 세 번째 싱글 앨범으로 오리콘 주간 차트 정상을 차지했다...            중   \n",
              "295274  그룹 에스파(aespa)가 빌보드 차트에서 존재감을 드러내고 있다.\\n27일 소속사...            중   \n",
              "\n",
              "        processPattern                                        contentList  \\\n",
              "0                   99  ['손목시계는 이제 시간을 알려주는 도구 이상의 의미를 갖고 있다.', '어떤 이에...   \n",
              "1                   99  ['Ruth Noguerón와 Amanda Stevens는 WRI에서 환경 영향(e...   \n",
              "2                   99  ['요즘 대부분 소비자들은 식료품을 살 때마다 포장 겉면의 영양정보 표기(nutri...   \n",
              "3                   99  ['생리대를사지못하는저소득층소녀들이깔창이나휴지등을생리대로쓰는사연이널리알려져많은사람이...   \n",
              "4                   99  [\"자원봉사는 일반적으로 '기업의 사회적 책임'(CSR)의 주요 구성 요소이다.\",...   \n",
              "...                ...                                                ...   \n",
              "295270              21  ['프로듀서 겸 아티스트 지코(ZICO)가 유쾌한 괴짜로 변신했다.', '소속사 K...   \n",
              "295271              21  ['김연아가 과거 팬 미팅에서 한 결혼 관련 발언이 재조명되고 있다.', '지난 2...   \n",
              "295272              21  ['코미디언 장도연이 다시 한번 연애 프로그램 MC로 활약한다. 26일 오후 2시 ...   \n",
              "295273              21  ['걸그룹 NiziU(니쥬)가 세 번째 싱글 앨범으로 오리콘 주간 차트 정상을 차지...   \n",
              "295274              21  ['그룹 에스파(aespa)가 빌보드 차트에서 존재감을 드러내고 있다.', '27일...   \n",
              "\n",
              "        sentenceCount  processSentencenum  useType  \n",
              "0                  20                   3        0  \n",
              "1                  16                   3        0  \n",
              "2                  27                   3        0  \n",
              "3                  17                   4        0  \n",
              "4                  16                   2        0  \n",
              "...               ...                 ...      ...  \n",
              "295270             10                   4        0  \n",
              "295271             17                   3        0  \n",
              "295272             10                   4        0  \n",
              "295273              8                   3        0  \n",
              "295274              9                   2        0  \n",
              "\n",
              "[295275 rows x 11 columns]"
            ]
          },
          "execution_count": 69,
          "metadata": {},
          "output_type": "execute_result"
        }
      ],
      "source": [
        "# CSV 파일이 있는 최상위 폴더, 저장할 폴더 경로 설정\n",
        "base_path = '/Users/leesanghyuk/Python_Programs/Projects/Data/EachCSV'\n",
        "save_path = '/Users/leesanghyuk/Python_Programs/Projects/Data/TotalCSV/total_data.csv'\n",
        "\n",
        "# 모든 CSV 파일을 하나로 합침\n",
        "result = concatenate_csv_from_folders(base_path, save_path)\n",
        "\n",
        "# 확인\n",
        "result"
      ]
    },
    {
      "cell_type": "code",
      "execution_count": 70,
      "metadata": {},
      "outputs": [
        {
          "data": {
            "text/plain": [
              "<matplotlib.legend.Legend at 0x15a199a30>"
            ]
          },
          "execution_count": 70,
          "metadata": {},
          "output_type": "execute_result"
        },
        {
          "data": {
            "image/png": "[encoded data removed]",
            "text/plain": [
              "<Figure size 900x600 with 1 Axes>"
            ]
          },
          "metadata": {},
          "output_type": "display_data"
        }
      ],
      "source": [
        "plt.figure(figsize=(9, 6))\n",
        "\n",
        "# Count the values in the 'useType' column\n",
        "value_counts = result['useType'].value_counts()\n",
        "\n",
        "# Create a pie chart\n",
        "plt.pie(value_counts, labels=['Clickbait', 'Non-Clickbait'], autopct='%1.1f%%')\n",
        "\n",
        "# Add a legend\n",
        "plt.legend()"
      ]
    },
    {
      "cell_type": "code",
      "execution_count": 21,
      "metadata": {},
      "outputs": [],
      "source": [
        "# 전처리 적용 전 데이터 불러오기\n",
        "result = pd.read_csv('/Users/leesanghyuk/Python_Programs/Projects/Data/TotalCSV/total_data.csv', encoding = 'utf-8-sig')"
      ]
    },
    {
      "cell_type": "code",
      "execution_count": 22,
      "metadata": {},
      "outputs": [],
      "source": [
        "# 전처리 적용을 위해 데이터 복사\n",
        "total_csv = result.copy()"
      ]
    },
    {
      "cell_type": "code",
      "execution_count": 23,
      "metadata": {},
      "outputs": [],
      "source": [
        "# 데이터 전처리\n",
        "def cleaning_text(text):\n",
        "    text = re.sub(r'http\\S+|www\\S+|https\\S+', '', text, flags=re.MULTILINE)  # URL 제거\n",
        "    text = re.sub(r'[☞▶◆#⊙※△▽▼□■◇◎☎○]', '', text, flags=re.UNICODE)  # 특수문자 제거\n",
        "    text = re.sub(r'\\(.*?\\)|\\{.*?\\}|\\[.*?\\]', '', text)  # 모든 괄호와 그 안의 내용 제거\n",
        "    text = re.sub(r'[가-힣]{2,4}\\s기자', '', text)  # 기자 이름 제거\n",
        "    text = re.sub(r'[^\\w\\s.]', '', text)  # 기호(\\, ', \") 제거, 마침표(.)는 제외\n",
        "    text = re.sub(r'\\[사진제공=[^\\]]*\\]|사진제공', '', text)  # [사진제공=~~] 제거\n",
        "    text = re.sub(r'참고\\s?자료', '', text)  # '참고 자료' 또는 '참고자료' 제거\n",
        "    \n",
        "    text = re.sub(r'\\s+', ' ', text).strip()  # 중복 공백 제거\n",
        "\n",
        "    return text"
      ]
    },
    {
      "cell_type": "code",
      "execution_count": 24,
      "metadata": {},
      "outputs": [],
      "source": [
        "# 문자열 다시 리스트화\n",
        "total_csv['contentList'] = total_csv['contentList'].apply(ast.literal_eval)"
      ]
    },
    {
      "cell_type": "code",
      "execution_count": 25,
      "metadata": {},
      "outputs": [],
      "source": [
        "# 본문에 전처리 함수 적용\n",
        "total_csv['newsContent'] = total_csv['newsContent'].apply(cleaning_text)"
      ]
    },
    {
      "cell_type": "code",
      "execution_count": 26,
      "metadata": {},
      "outputs": [],
      "source": [
        "# 리스트화된 문장에 전처리 함수 적용\n",
        "total_csv['contentList'] = total_csv['contentList'].apply(lambda x: [cleaning_text(sentence) for sentence in x])"
      ]
    },
    {
      "cell_type": "code",
      "execution_count": 35,
      "metadata": {},
      "outputs": [],
      "source": [
        "# 완료 파일 확인\n",
        "def check_samples(before, after):\n",
        "    # 원본 데이터프레임에서 랜덤하게 10개 샘플 추출\n",
        "    random_sample = before.sample(n=10, random_state=1)\n",
        "    \n",
        "    # 하나씩 변경 확인을 위해 출력\n",
        "    for idx, row in random_sample.iterrows():\n",
        "        print('-'*50)\n",
        "        print(f\"Sample {idx}\")\n",
        "        print('\\n🔶 뉴스 본문 전처리 전')\n",
        "        print(row['newsContent'])\n",
        "        print('\\n🔷 뉴스 본문 전처리 후')\n",
        "        print(after.loc[idx, 'newsContent'])\n",
        "        \n",
        "        print('\\n🔶 뉴스 본문 리스트화 전처리 전')\n",
        "        print(row['contentList'])\n",
        "        print('\\n🔷 뉴스 본문 리스트화 전처리 후')\n",
        "        print(after.loc[idx, 'contentList'])\n",
        "        print('')"
      ]
    },
    {
      "cell_type": "code",
      "execution_count": 36,
      "metadata": {},
      "outputs": [
        {
          "name": "stdout",
          "output_type": "stream",
          "text": [
            "--------------------------------------------------\n",
            "Sample 227466\n",
            "\n",
            "🔶 뉴스 본문 전처리 전\n",
            "한국토지주택공사(LH) 땅 투기 논란의 책임을 지고 지난 16일 사퇴한 변창흠 국토교통부 장관이 퇴임사에서 2·4 대책 후속 법안 처리 등을 차질 없이 추진해 줄 것을 주문했다.\n",
            "변 장관은 이날 정부세종청사에서 연 비공개 퇴임식에서 “국토교통 분야 전반에 걸쳐 새로운 정책이 실현되는 모습을 보고 싶었는데 퇴임하게 돼 너무나 안타깝다”고 아쉬움을 토로했다.\n",
            "그는 LH 사태에 대해 “최근 드러난 공공부문 종사자의 부동산 투기는 공공의 존재 의의를 근본에서부터 흔드는 중차대한 문제였다”며 “국민께 실망을 안겨드린 점에 대해 주무 부처의 수장으로서 무한한 책임을 느끼고 물러가지만, 국민의 신뢰를 회복하지 않으면 그 어떤 훌륭한 정책도 성공할 수 없다는 점을 다시 한 번 강조하고 싶다”고 말했다.\n",
            "이어 “국민의 소명을 받아 실행을 책임지는 공직자는 누구보다도 공명정대하고 솔선수범해야 하며, 특히 공직을 통해 얻은 정보나 지식을 사익을 위해 활용하지 않아야 한다는 점을 다시 확인하게 됐다”고 밝혔다.\n",
            "변 장관은 “정부의 역할은 때에 따라 커질 수도 작아질 수도 있고 정책의 무게중심도 조금씩 달라질 수도 있겠지만, 공공 부문과 공직자에 대한 신뢰는 그 어떤 경우에도 무너져서는 안 될 것”이라고 당부하며 국토부 직원들에게 “대책의 후속 법안이 조속히 처리되고 시장 안정화 흐름이 이어질 수 있도록 해 달라”고 말했다.\n",
            "그러면서 2·4 대책을 “인구와 산업구조의 변화에 발맞춰 도시공간 구조를 개편하고 적재적소에 필요한 주택을 공급하고자 한 방안”이라고 설명하며 “공공과 민간, 중앙과 지역이 힘을 모아 시대적 과제에 진정으로 부응하고자 했던 노력의 결실”이라고 강조했다.\n",
            "그는 “대책 발표 이후 지자체와 민간업체, 주민의 호응으로 사업 제안이 이어지고 있고, 최근 주택 시장은 공급 기대 확산과 매수심리 진정으로 점차 안정세를 회복하고 있다”며 “주거 안정과 주거선택권이 보장될 수 있도록 전세와 월세나 자가 이외에도 공공 자가주택과 같은 다양한 점유 형태를 적극적으로 제도화하고 현실화시켜달라”고 힘줘 말했다.\n",
            "마지막으로 변 장관은 “지난 4개월간 국토부에서의 경험은 제게 평생 잊지 못할 자부심이며 자랑일 것”이라며 퇴임사를 마쳤다.\n",
            "\n",
            "🔷 뉴스 본문 전처리 후\n",
            "한국토지주택공사 땅 투기 논란의 책임을 지고 지난 16일 사퇴한 변창흠 국토교통부 장관이 퇴임사에서 24 대책 후속 법안 처리 등을 차질 없이 추진해 줄 것을 주문했다. 변 장관은 이날 정부세종청사에서 연 비공개 퇴임식에서 국토교통 분야 전반에 걸쳐 새로운 정책이 실현되는 모습을 보고 싶었는데 퇴임하게 돼 너무나 안타깝다고 아쉬움을 토로했다. 그는 LH 사태에 대해 최근 드러난 공공부문 종사자의 부동산 투기는 공공의 존재 의의를 근본에서부터 흔드는 중차대한 문제였다며 국민께 실망을 안겨드린 점에 대해 주무 부처의 수장으로서 무한한 책임을 느끼고 물러가지만 국민의 신뢰를 회복하지 않으면 그 어떤 훌륭한 정책도 성공할 수 없다는 점을 다시 한 번 강조하고 싶다고 말했다. 이어 국민의 소명을 받아 실행을 책임지는 공직자는 누구보다도 공명정대하고 솔선수범해야 하며 특히 공직을 통해 얻은 정보나 지식을 사익을 위해 활용하지 않아야 한다는 점을 다시 확인하게 됐다고 밝혔다. 변 장관은 정부의 역할은 때에 따라 커질 수도 작아질 수도 있고 정책의 무게중심도 조금씩 달라질 수도 있겠지만 공공 부문과 공직자에 대한 신뢰는 그 어떤 경우에도 무너져서는 안 될 것이라고 당부하며 국토부 직원들에게 대책의 후속 법안이 조속히 처리되고 시장 안정화 흐름이 이어질 수 있도록 해 달라고 말했다. 그러면서 24 대책을 인구와 산업구조의 변화에 발맞춰 도시공간 구조를 개편하고 적재적소에 필요한 주택을 공급하고자 한 방안이라고 설명하며 공공과 민간 중앙과 지역이 힘을 모아 시대적 과제에 진정으로 부응하고자 했던 노력의 결실이라고 강조했다. 그는 대책 발표 이후 지자체와 민간업체 주민의 호응으로 사업 제안이 이어지고 있고 최근 주택 시장은 공급 기대 확산과 매수심리 진정으로 점차 안정세를 회복하고 있다며 주거 안정과 주거선택권이 보장될 수 있도록 전세와 월세나 자가 이외에도 공공 자가주택과 같은 다양한 점유 형태를 적극적으로 제도화하고 현실화시켜달라고 힘줘 말했다. 마지막으로 변 장관은 지난 4개월간 국토부에서의 경험은 제게 평생 잊지 못할 자부심이며 자랑일 것이라며 퇴임사를 마쳤다.\n",
            "\n",
            "🔶 뉴스 본문 리스트화 전처리 전\n",
            "['한국토지주택공사(LH) 땅 투기 논란의 책임을 지고 지난 16일 사퇴한 변창흠 국토교통부 장관이 퇴임사에서 2·4 대책 후속 법안 처리 등을 차질 없이 추진해 줄 것을 주문했다.', '변 장관은 이날 정부세종청사에서 연 비공개 퇴임식에서 “국토교통 분야 전반에 걸쳐 새로운 정책이 실현되는 모습을 보고 싶었는데 퇴임하게 돼 너무나 안타깝다”고 아쉬움을 토로했다.', '그는 LH 사태에 대해 “최근 드러난 공공부문 종사자의 부동산 투기는 공공의 존재 의의를 근본에서부터 흔드는 중차대한 문제였다”며 “국민께 실망을 안겨드린 점에 대해 주무 부처의 수장으로서 무한한 책임을 느끼고 물러가지만, 국민의 신뢰를 회복하지 않으면 그 어떤 훌륭한 정책도 성공할 수 없다는 점을 다시 한 번 강조하고 싶다”고 말했다.', '이어 “국민의 소명을 받아 실행을 책임지는 공직자는 누구보다도 공명정대하고 솔선수범해야 하며, 특히 공직을 통해 얻은 정보나 지식을 사익을 위해 활용하지 않아야 한다는 점을 다시 확인하게 됐다”고 밝혔다.', '변 장관은 “정부의 역할은 때에 따라 커질 수도 작아질 수도 있고 정책의 무게중심도 조금씩 달라질 수도 있겠지만, 공공 부문과 공직자에 대한 신뢰는 그 어떤 경우에도 무너져서는 안 될 것”이라고 당부하며 국토부 직원들에게 “대책의 후속 법안이 조속히 처리되고 시장 안정화 흐름이 이어질 수 있도록 해 달라”고 말했다.', '그러면서 2·4 대책을 “인구와 산업구조의 변화에 발맞춰 도시공간 구조를 개편하고 적재적소에 필요한 주택을 공급하고자 한 방안”이라고 설명하며 “공공과 민간, 중앙과 지역이 힘을 모아 시대적 과제에 진정으로 부응하고자 했던 노력의 결실”이라고 강조했다.', '그는 “대책 발표 이후 지자체와 민간업체, 주민의 호응으로 사업 제안이 이어지고 있고, 최근 주택 시장은 공급 기대 확산과 매수심리 진정으로 점차 안정세를 회복하고 있다”며 “주거 안정과 주거선택권이 보장될 수 있도록 전세와 월세나 자가 이외에도 공공 자가주택과 같은 다양한 점유 형태를 적극적으로 제도화하고 현실화시켜달라”고 힘줘 말했다.', '마지막으로 변 장관은 “지난 4개월간 국토부에서의 경험은 제게 평생 잊지 못할 자부심이며 자랑일 것”이라며 퇴임사를 마쳤다.']\n",
            "\n",
            "🔷 뉴스 본문 리스트화 전처리 후\n",
            "['한국토지주택공사 땅 투기 논란의 책임을 지고 지난 16일 사퇴한 변창흠 국토교통부 장관이 퇴임사에서 24 대책 후속 법안 처리 등을 차질 없이 추진해 줄 것을 주문했다.', '변 장관은 이날 정부세종청사에서 연 비공개 퇴임식에서 국토교통 분야 전반에 걸쳐 새로운 정책이 실현되는 모습을 보고 싶었는데 퇴임하게 돼 너무나 안타깝다고 아쉬움을 토로했다.', '그는 LH 사태에 대해 최근 드러난 공공부문 종사자의 부동산 투기는 공공의 존재 의의를 근본에서부터 흔드는 중차대한 문제였다며 국민께 실망을 안겨드린 점에 대해 주무 부처의 수장으로서 무한한 책임을 느끼고 물러가지만 국민의 신뢰를 회복하지 않으면 그 어떤 훌륭한 정책도 성공할 수 없다는 점을 다시 한 번 강조하고 싶다고 말했다.', '이어 국민의 소명을 받아 실행을 책임지는 공직자는 누구보다도 공명정대하고 솔선수범해야 하며 특히 공직을 통해 얻은 정보나 지식을 사익을 위해 활용하지 않아야 한다는 점을 다시 확인하게 됐다고 밝혔다.', '변 장관은 정부의 역할은 때에 따라 커질 수도 작아질 수도 있고 정책의 무게중심도 조금씩 달라질 수도 있겠지만 공공 부문과 공직자에 대한 신뢰는 그 어떤 경우에도 무너져서는 안 될 것이라고 당부하며 국토부 직원들에게 대책의 후속 법안이 조속히 처리되고 시장 안정화 흐름이 이어질 수 있도록 해 달라고 말했다.', '그러면서 24 대책을 인구와 산업구조의 변화에 발맞춰 도시공간 구조를 개편하고 적재적소에 필요한 주택을 공급하고자 한 방안이라고 설명하며 공공과 민간 중앙과 지역이 힘을 모아 시대적 과제에 진정으로 부응하고자 했던 노력의 결실이라고 강조했다.', '그는 대책 발표 이후 지자체와 민간업체 주민의 호응으로 사업 제안이 이어지고 있고 최근 주택 시장은 공급 기대 확산과 매수심리 진정으로 점차 안정세를 회복하고 있다며 주거 안정과 주거선택권이 보장될 수 있도록 전세와 월세나 자가 이외에도 공공 자가주택과 같은 다양한 점유 형태를 적극적으로 제도화하고 현실화시켜달라고 힘줘 말했다.', '마지막으로 변 장관은 지난 4개월간 국토부에서의 경험은 제게 평생 잊지 못할 자부심이며 자랑일 것이라며 퇴임사를 마쳤다.']\n",
            "\n",
            "--------------------------------------------------\n",
            "Sample 1559\n",
            "\n",
            "🔶 뉴스 본문 전처리 전\n",
            "메르스 사태로 인한 제약계의 직접 피해액이 2700억원에 달하는 것으로 추산된다.\n",
            "한국제약협회는 지난 14일 제3차 이사회에서 메르스 사태로 인한 제약계 추산 피해액을 보고했다.\n",
            "제약협회에 따르면 직접 피해액은 5월 1200억원, 6월 1500억원에 달한다.\n",
            "이는 당초 제약협회가 추정한 한 달 피해액인 2500억원보다는 적은 수치. 평균 매출감소율 역시 10%로, 당초 예상 매출감소율인 20%보다는 적었다.\n",
            "그러나 공장재고 유지·관리비용 등 간접 피해를 계산에 포함할 경우 전체 피해금액은 수천억원에 달할 거라는 분석이다.\n",
            "여기에 병원의 대금결제 지연으로 인한 이자비용, 생동성시험 연기로 인한 비용 등이 간접피해 내용에 포함된다.\n",
            "이에 따라 제약협회는 제약사에 대한 지원방안으로 세금감면을 정부에 요청키로 했다.\n",
            "내년 3월 시행 예정인 시장형 실거래가제의 유예도 함께 건의하기로 했다.\n",
            "제약계 입장에서 메르스로 인한 피해와 함께 시장형 실거래가제까지 시행될 경우 이중고에 부딪힐 수 있다는 우려에서다.\n",
            "\n",
            "🔷 뉴스 본문 전처리 후\n",
            "메르스 사태로 인한 제약계의 직접 피해액이 2700억원에 달하는 것으로 추산된다. 한국제약협회는 지난 14일 제3차 이사회에서 메르스 사태로 인한 제약계 추산 피해액을 보고했다. 제약협회에 따르면 직접 피해액은 5월 1200억원 6월 1500억원에 달한다. 이는 당초 제약협회가 추정한 한 달 피해액인 2500억원보다는 적은 수치. 평균 매출감소율 역시 10로 당초 예상 매출감소율인 20보다는 적었다. 그러나 공장재고 유지관리비용 등 간접 피해를 계산에 포함할 경우 전체 피해금액은 수천억원에 달할 거라는 분석이다. 여기에 병원의 대금결제 지연으로 인한 이자비용 생동성시험 연기로 인한 비용 등이 간접피해 내용에 포함된다. 이에 따라 제약협회는 제약사에 대한 지원방안으로 세금감면을 정부에 요청키로 했다. 내년 3월 시행 예정인 시장형 실거래가제의 유예도 함께 건의하기로 했다. 제약계 입장에서 메르스로 인한 피해와 함께 시장형 실거래가제까지 시행될 경우 이중고에 부딪힐 수 있다는 우려에서다.\n",
            "\n",
            "🔶 뉴스 본문 리스트화 전처리 전\n",
            "['메르스 사태로 인한 제약계의 직접 피해액이 2700억원에 달하는 것으로 추산된다.', '한국제약협회는 지난 14일 제3차 이사회에서 메르스 사태로 인한 제약계 추산 피해액을 보고했다.', '제약협회에 따르면 직접 피해액은 5월 1200억원, 6월 1500억원에 달한다.', '이는 당초 제약협회가 추정한 한 달 피해액인 2500억원보다는 적은 수치. 평균 매출감소율 역시 10%로, 당초 예상 매출감소율인 20%보다는 적었다.', '그러나 공장재고 유지·관리비용 등 간접 피해를 계산에 포함할 경우 전체 피해금액은 수천억원에 달할 거라는 분석이다.', '여기에 병원의 대금결제 지연으로 인한 이자비용, 생동성시험 연기로 인한 비용 등이 간접피해 내용에 포함된다.', '이에 따라 제약협회는 제약사에 대한 지원방안으로 세금감면을 정부에 요청키로 했다.', '내년 3월 시행 예정인 시장형 실거래가제의 유예도 함께 건의하기로 했다.', '제약계 입장에서 메르스로 인한 피해와 함께 시장형 실거래가제까지 시행될 경우 이중고에 부딪힐 수 있다는 우려에서다.']\n",
            "\n",
            "🔷 뉴스 본문 리스트화 전처리 후\n",
            "['메르스 사태로 인한 제약계의 직접 피해액이 2700억원에 달하는 것으로 추산된다.', '한국제약협회는 지난 14일 제3차 이사회에서 메르스 사태로 인한 제약계 추산 피해액을 보고했다.', '제약협회에 따르면 직접 피해액은 5월 1200억원 6월 1500억원에 달한다.', '이는 당초 제약협회가 추정한 한 달 피해액인 2500억원보다는 적은 수치. 평균 매출감소율 역시 10로 당초 예상 매출감소율인 20보다는 적었다.', '그러나 공장재고 유지관리비용 등 간접 피해를 계산에 포함할 경우 전체 피해금액은 수천억원에 달할 거라는 분석이다.', '여기에 병원의 대금결제 지연으로 인한 이자비용 생동성시험 연기로 인한 비용 등이 간접피해 내용에 포함된다.', '이에 따라 제약협회는 제약사에 대한 지원방안으로 세금감면을 정부에 요청키로 했다.', '내년 3월 시행 예정인 시장형 실거래가제의 유예도 함께 건의하기로 했다.', '제약계 입장에서 메르스로 인한 피해와 함께 시장형 실거래가제까지 시행될 경우 이중고에 부딪힐 수 있다는 우려에서다.']\n",
            "\n",
            "--------------------------------------------------\n",
            "Sample 28871\n",
            "\n",
            "🔶 뉴스 본문 전처리 전\n",
            "외주제작사들이 직접 간접광고 영업을 할 수 있게 됐다.\n",
            "과거 방송사업자들이 독식해온 간접광고 시장에서 공정한 경쟁을 펼칠 수 있는 기반이 마련된 것. 방송통신위원회는 이 같은 내용을 담은 방송법 일부개정안을 27일 공포하고, 6개월이 경과한 7월 28일부터 개정 법안이 시행된다고 밝혔다.\n",
            "간접광고란 방송 프로그램 안에 상품·상표·회사나 서비스 명칭 및 로고를 노출시키는 형태의 광고를 말한다.\n",
            "이번 개정안은 방송법상 외주제작사의 정의를 신설, 이들 기업이 방송사를 거치지 않고 간접광고를 유치할 수 있도록 했다.\n",
            "기존에는 방송사업자들이 미디어렙(광고판매대행사)에 위탁해 간접광고를 판매했다면, 개정안 시행 이후에는 외주제작사들이 직접 미디어렙과 접촉해 광고영업을 할 수 있다.\n",
            "방통위는 이를 통해 외주제작사의 창의적인 광고집행과 방송콘텐츠 제작재원 확충이 가능할 것으로 기대하고 있다.\n",
            "이에 따라 제작에 드는 비용 가운데 상당 부분을 간접광고를 통해 충당할 수 있다.\n",
            "하지만 이번 개정안이 잘못 활용되면 외주제작사가 무분별한 간접광고를 유치함으로써 시청자들이 과다한 간접광고에 노출될 수 있다.\n",
            "이에 방통위는 외주제작사가 간접광고를 유치하기 이전에 방송사와 방송법령, 심의규정 및 방송사 자체심의기준 위반 여부에 관해 합의를 거치도록 하는 안전장치를 마련했다.\n",
            "외주제작사를 지원하기 위한 추가적인 제도도 마련됐다.\n",
            "이번 개정안은 외주제작사를 방송분쟁조정위원회에 조정을 신청할 수 있는 사업자로 포함시켰다.\n",
            "이로 인해 외주제작사들은 제작비 미지급, 수익 배분 등 분쟁에서 소송을 거치지 않고도 방송분쟁조정위를 통해 더욱 쉽게 권리 구제를 받게 됐다.\n",
            "최성준 방송통신위원장은 \\\"이번 개정안은 2011년 정부안이 발의된 후 이해관계자 간 첨예한 대립을 조율, 4년 만에 성과를 거둔 것\\\"이라며 \\\"외주제작사의 성장기반을 마련하고, 방송사업자와 외주제작사의 공정경쟁 환경을 조성하게 됐다\\\"고 설명했다.\n",
            "한편 이번 개정안은 주요 스포츠 행사에 대한 보편적 시청권 보장을 위한 규정도 강화했다.\n",
            "기존 시행령에 포괄위임한 내용을 상위법인 방송법 개정으로 명문화한 것. 이에 따르면 주요 스포츠 중계방송권자는 △일정비율 이상의 가구가 시청할 수 있는 방송수단 확보 △실시간 방송 서비스 △중계방송권 판매·구매 거부·지연 금지 △뉴스보도용 자료화면 제공 등을 의무적으로 이행해야 한다.\n",
            "아울러 △광고주의 방송 프로그램 부당 개입 방지 △반복·상습적 심의규정 위반 사업자에 대한 제재 강화 등을 담은 규정도 이번 개정안에 함께 담겼다.\n",
            "\n",
            "🔷 뉴스 본문 전처리 후\n",
            "외주제작사들이 직접 간접광고 영업을 할 수 있게 됐다. 과거 방송사업자들이 독식해온 간접광고 시장에서 공정한 경쟁을 펼칠 수 있는 기반이 마련된 것. 방송통신위원회는 이 같은 내용을 담은 방송법 일부개정안을 27일 공포하고 6개월이 경과한 7월 28일부터 개정 법안이 시행된다고 밝혔다. 간접광고란 방송 프로그램 안에 상품상표회사나 서비스 명칭 및 로고를 노출시키는 형태의 광고를 말한다. 이번 개정안은 방송법상 외주제작사의 정의를 신설 이들 기업이 방송사를 거치지 않고 간접광고를 유치할 수 있도록 했다. 기존에는 방송사업자들이 미디어렙에 위탁해 간접광고를 판매했다면 개정안 시행 이후에는 외주제작사들이 직접 미디어렙과 접촉해 광고영업을 할 수 있다. 방통위는 이를 통해 외주제작사의 창의적인 광고집행과 방송콘텐츠 제작재원 확충이 가능할 것으로 기대하고 있다. 이에 따라 제작에 드는 비용 가운데 상당 부분을 간접광고를 통해 충당할 수 있다. 하지만 이번 개정안이 잘못 활용되면 외주제작사가 무분별한 간접광고를 유치함으로써 시청자들이 과다한 간접광고에 노출될 수 있다. 이에 방통위는 외주제작사가 간접광고를 유치하기 이전에 방송사와 방송법령 심의규정 및 방송사 자체심의기준 위반 여부에 관해 합의를 거치도록 하는 안전장치를 마련했다. 외주제작사를 지원하기 위한 추가적인 제도도 마련됐다. 이번 개정안은 외주제작사를 방송분쟁조정위원회에 조정을 신청할 수 있는 사업자로 포함시켰다. 이로 인해 외주제작사들은 제작비 미지급 수익 배분 등 분쟁에서 소송을 거치지 않고도 방송분쟁조정위를 통해 더욱 쉽게 권리 구제를 받게 됐다. 최성준 방송통신위원장은 이번 개정안은 2011년 정부안이 발의된 후 이해관계자 간 첨예한 대립을 조율 4년 만에 성과를 거둔 것이라며 외주제작사의 성장기반을 마련하고 방송사업자와 외주제작사의 공정경쟁 환경을 조성하게 됐다고 설명했다. 한편 이번 개정안은 주요 스포츠 행사에 대한 보편적 시청권 보장을 위한 규정도 강화했다. 기존 시행령에 포괄위임한 내용을 상위법인 방송법 개정으로 명문화한 것. 이에 따르면 주요 스포츠 중계방송권자는 일정비율 이상의 가구가 시청할 수 있는 방송수단 확보 실시간 방송 서비스 중계방송권 판매구매 거부지연 금지 뉴스보도용 자료화면 제공 등을 의무적으로 이행해야 한다. 아울러 광고주의 방송 프로그램 부당 개입 방지 반복상습적 심의규정 위반 사업자에 대한 제재 강화 등을 담은 규정도 이번 개정안에 함께 담겼다.\n",
            "\n",
            "🔶 뉴스 본문 리스트화 전처리 전\n",
            "['외주제작사들이 직접 간접광고 영업을 할 수 있게 됐다.', '과거 방송사업자들이 독식해온 간접광고 시장에서 공정한 경쟁을 펼칠 수 있는 기반이 마련된 것. 방송통신위원회는 이 같은 내용을 담은 방송법 일부개정안을 27일 공포하고, 6개월이 경과한 7월 28일부터 개정 법안이 시행된다고 밝혔다.', '간접광고란 방송 프로그램 안에 상품·상표·회사나 서비스 명칭 및 로고를 노출시키는 형태의 광고를 말한다.', '이번 개정안은 방송법상 외주제작사의 정의를 신설, 이들 기업이 방송사를 거치지 않고 간접광고를 유치할 수 있도록 했다.', '기존에는 방송사업자들이 미디어렙(광고판매대행사)에 위탁해 간접광고를 판매했다면, 개정안 시행 이후에는 외주제작사들이 직접 미디어렙과 접촉해 광고영업을 할 수 있다.', '방통위는 이를 통해 외주제작사의 창의적인 광고집행과 방송콘텐츠 제작재원 확충이 가능할 것으로 기대하고 있다.', '이에 따라 제작에 드는 비용 가운데 상당 부분을 간접광고를 통해 충당할 수 있다.', '하지만 이번 개정안이 잘못 활용되면 외주제작사가 무분별한 간접광고를 유치함으로써 시청자들이 과다한 간접광고에 노출될 수 있다.', '이에 방통위는 외주제작사가 간접광고를 유치하기 이전에 방송사와 방송법령, 심의규정 및 방송사 자체심의기준 위반 여부에 관해 합의를 거치도록 하는 안전장치를 마련했다.', '외주제작사를 지원하기 위한 추가적인 제도도 마련됐다.', '이번 개정안은 외주제작사를 방송분쟁조정위원회에 조정을 신청할 수 있는 사업자로 포함시켰다.', '이로 인해 외주제작사들은 제작비 미지급, 수익 배분 등 분쟁에서 소송을 거치지 않고도 방송분쟁조정위를 통해 더욱 쉽게 권리 구제를 받게 됐다.', '최성준 방송통신위원장은 \\\\\"이번 개정안은 2011년 정부안이 발의된 후 이해관계자 간 첨예한 대립을 조율, 4년 만에 성과를 거둔 것\\\\\"이라며 \\\\\"외주제작사의 성장기반을 마련하고, 방송사업자와 외주제작사의 공정경쟁 환경을 조성하게 됐다\\\\\"고 설명했다.', '한편 이번 개정안은 주요 스포츠 행사에 대한 보편적 시청권 보장을 위한 규정도 강화했다.', '기존 시행령에 포괄위임한 내용을 상위법인 방송법 개정으로 명문화한 것. 이에 따르면 주요 스포츠 중계방송권자는 △일정비율 이상의 가구가 시청할 수 있는 방송수단 확보 △실시간 방송 서비스 △중계방송권 판매·구매 거부·지연 금지 △뉴스보도용 자료화면 제공 등을 의무적으로 이행해야 한다.', '아울러 △광고주의 방송 프로그램 부당 개입 방지 △반복·상습적 심의규정 위반 사업자에 대한 제재 강화 등을 담은 규정도 이번 개정안에 함께 담겼다.']\n",
            "\n",
            "🔷 뉴스 본문 리스트화 전처리 후\n",
            "['외주제작사들이 직접 간접광고 영업을 할 수 있게 됐다.', '과거 방송사업자들이 독식해온 간접광고 시장에서 공정한 경쟁을 펼칠 수 있는 기반이 마련된 것. 방송통신위원회는 이 같은 내용을 담은 방송법 일부개정안을 27일 공포하고 6개월이 경과한 7월 28일부터 개정 법안이 시행된다고 밝혔다.', '간접광고란 방송 프로그램 안에 상품상표회사나 서비스 명칭 및 로고를 노출시키는 형태의 광고를 말한다.', '이번 개정안은 방송법상 외주제작사의 정의를 신설 이들 기업이 방송사를 거치지 않고 간접광고를 유치할 수 있도록 했다.', '기존에는 방송사업자들이 미디어렙에 위탁해 간접광고를 판매했다면 개정안 시행 이후에는 외주제작사들이 직접 미디어렙과 접촉해 광고영업을 할 수 있다.', '방통위는 이를 통해 외주제작사의 창의적인 광고집행과 방송콘텐츠 제작재원 확충이 가능할 것으로 기대하고 있다.', '이에 따라 제작에 드는 비용 가운데 상당 부분을 간접광고를 통해 충당할 수 있다.', '하지만 이번 개정안이 잘못 활용되면 외주제작사가 무분별한 간접광고를 유치함으로써 시청자들이 과다한 간접광고에 노출될 수 있다.', '이에 방통위는 외주제작사가 간접광고를 유치하기 이전에 방송사와 방송법령 심의규정 및 방송사 자체심의기준 위반 여부에 관해 합의를 거치도록 하는 안전장치를 마련했다.', '외주제작사를 지원하기 위한 추가적인 제도도 마련됐다.', '이번 개정안은 외주제작사를 방송분쟁조정위원회에 조정을 신청할 수 있는 사업자로 포함시켰다.', '이로 인해 외주제작사들은 제작비 미지급 수익 배분 등 분쟁에서 소송을 거치지 않고도 방송분쟁조정위를 통해 더욱 쉽게 권리 구제를 받게 됐다.', '최성준 방송통신위원장은 이번 개정안은 2011년 정부안이 발의된 후 이해관계자 간 첨예한 대립을 조율 4년 만에 성과를 거둔 것이라며 외주제작사의 성장기반을 마련하고 방송사업자와 외주제작사의 공정경쟁 환경을 조성하게 됐다고 설명했다.', '한편 이번 개정안은 주요 스포츠 행사에 대한 보편적 시청권 보장을 위한 규정도 강화했다.', '기존 시행령에 포괄위임한 내용을 상위법인 방송법 개정으로 명문화한 것. 이에 따르면 주요 스포츠 중계방송권자는 일정비율 이상의 가구가 시청할 수 있는 방송수단 확보 실시간 방송 서비스 중계방송권 판매구매 거부지연 금지 뉴스보도용 자료화면 제공 등을 의무적으로 이행해야 한다.', '아울러 광고주의 방송 프로그램 부당 개입 방지 반복상습적 심의규정 위반 사업자에 대한 제재 강화 등을 담은 규정도 이번 개정안에 함께 담겼다.']\n",
            "\n",
            "--------------------------------------------------\n",
            "Sample 46001\n",
            "\n",
            "🔶 뉴스 본문 전처리 전\n",
            "강용석 아들의 과거 발언이 화제다.\n",
            "지난해 3월 JTBC 예능프로그램 ‘유자식 상팔자’에 출연한 강용석과 강용석 아들은 ‘배우자의 주식·사업·외도’를 주제로 토론을 나눴다.\n",
            "이날 방송에서 강용석의 둘째 아들 인준군은 “재산탕진, 고부갈등은 다 이해할 수 있어도 배우자의 바람은 참을 수 없다”라며 “바람을 피우다 걸리면 가만두지 않을 것”이라고 말했다.\n",
            "이어 “바람 피우다 걸리면 아작을 내버릴 것”이라며 “엄마가 항상 아빠에게 하는 말이다”라고 덧붙였다.\n",
            "한편 강용석 변호사와 불륜 스캔들로 구설수에 오른 도도맘 김미나 씨는 지난달 26일 여성중앙을 통해 강용석과의 불륜 스캔들에 대해 털어놨다.\n",
            "김 씨는 “이 자리에 나오기 직전까지 고민이 많았다”면서도 “하지만 사람들은 내가 숨어있다고 생각하고, 숨어있다는 표현 자체가 불륜을 인정하는 것 같아 아니라는 말을 꼭 하고 싶었다”고 말문을 열었다.\n",
            "그는 강용석에 대해 “나 역시 그를 호감있는 술친구로 생각한다”면서 “이성적인 호감이 아니라 비즈니스 파트너로서의 호감”이라고 설명했다.\n",
            "\n",
            "🔷 뉴스 본문 전처리 후\n",
            "강용석 아들의 과거 발언이 화제다. 지난해 3월 JTBC 예능프로그램 유자식 상팔자에 출연한 강용석과 강용석 아들은 배우자의 주식사업외도를 주제로 토론을 나눴다. 이날 방송에서 강용석의 둘째 아들 인준군은 재산탕진 고부갈등은 다 이해할 수 있어도 배우자의 바람은 참을 수 없다라며 바람을 피우다 걸리면 가만두지 않을 것이라고 말했다. 이어 바람 피우다 걸리면 아작을 내버릴 것이라며 엄마가 항상 아빠에게 하는 말이다라고 덧붙였다. 한편 강용석 변호사와 불륜 스캔들로 구설수에 오른 도도맘 김미나 씨는 지난달 26일 여성중앙을 통해 강용석과의 불륜 스캔들에 대해 털어놨다. 김 씨는 이 자리에 나오기 직전까지 고민이 많았다면서도 하지만 사람들은 내가 숨어있다고 생각하고 숨어있다는 표현 자체가 불륜을 인정하는 것 같아 아니라는 말을 꼭 하고 싶었다고 말문을 열었다. 그는 강용석에 대해 나 역시 그를 호감있는 술친구로 생각한다면서 이성적인 호감이 아니라 비즈니스 파트너로서의 호감이라고 설명했다.\n",
            "\n",
            "🔶 뉴스 본문 리스트화 전처리 전\n",
            "['강용석 아들의 과거 발언이 화제다.', '지난해 3월 JTBC 예능프로그램 ‘유자식 상팔자’에 출연한 강용석과 강용석 아들은 ‘배우자의 주식·사업·외도’를 주제로 토론을 나눴다.', '이날 방송에서 강용석의 둘째 아들 인준군은 “재산탕진, 고부갈등은 다 이해할 수 있어도 배우자의 바람은 참을 수 없다”라며 “바람을 피우다 걸리면 가만두지 않을 것”이라고 말했다.', '이어 “바람 피우다 걸리면 아작을 내버릴 것”이라며 “엄마가 항상 아빠에게 하는 말이다”라고 덧붙였다.', '한편 강용석 변호사와 불륜 스캔들로 구설수에 오른 도도맘 김미나 씨는 지난달 26일 여성중앙을 통해 강용석과의 불륜 스캔들에 대해 털어놨다.', '김 씨는 “이 자리에 나오기 직전까지 고민이 많았다”면서도 “하지만 사람들은 내가 숨어있다고 생각하고, 숨어있다는 표현 자체가 불륜을 인정하는 것 같아 아니라는 말을 꼭 하고 싶었다”고 말문을 열었다.', '그는 강용석에 대해 “나 역시 그를 호감있는 술친구로 생각한다”면서 “이성적인 호감이 아니라 비즈니스 파트너로서의 호감”이라고 설명했다.']\n",
            "\n",
            "🔷 뉴스 본문 리스트화 전처리 후\n",
            "['강용석 아들의 과거 발언이 화제다.', '지난해 3월 JTBC 예능프로그램 유자식 상팔자에 출연한 강용석과 강용석 아들은 배우자의 주식사업외도를 주제로 토론을 나눴다.', '이날 방송에서 강용석의 둘째 아들 인준군은 재산탕진 고부갈등은 다 이해할 수 있어도 배우자의 바람은 참을 수 없다라며 바람을 피우다 걸리면 가만두지 않을 것이라고 말했다.', '이어 바람 피우다 걸리면 아작을 내버릴 것이라며 엄마가 항상 아빠에게 하는 말이다라고 덧붙였다.', '한편 강용석 변호사와 불륜 스캔들로 구설수에 오른 도도맘 김미나 씨는 지난달 26일 여성중앙을 통해 강용석과의 불륜 스캔들에 대해 털어놨다.', '김 씨는 이 자리에 나오기 직전까지 고민이 많았다면서도 하지만 사람들은 내가 숨어있다고 생각하고 숨어있다는 표현 자체가 불륜을 인정하는 것 같아 아니라는 말을 꼭 하고 싶었다고 말문을 열었다.', '그는 강용석에 대해 나 역시 그를 호감있는 술친구로 생각한다면서 이성적인 호감이 아니라 비즈니스 파트너로서의 호감이라고 설명했다.']\n",
            "\n",
            "--------------------------------------------------\n",
            "Sample 52487\n",
            "\n",
            "🔶 뉴스 본문 전처리 전\n",
            "‘놀면 뭐하니?’ 유재석이 누나들을 위해 지갑을 연다. 4월 2일 방송되는 MBC 예능 ‘놀면 뭐하니?’(연출 박창훈 김진용 한승훈 왕종석 신현빈/작가 최혜정)에서는 51살 막내 유재석과 ‘코미디계 전설의 누나들’ 이경실, 박미선, 조혜련이 함께하는 ‘누나랑 나’ 특집이 계속된다.\n",
            "이런 가운데 공개된 사진 속 유재석은 식사 후 누나들과 백화점 쇼핑을 하며 시간을 보내고 있다.\n",
            "옷에서 눈을 떼지 못하는 귀여운 누나들과, 흐뭇하게 바라보는 유재석의 모습이 훈훈함을 자아낸다.\n",
            "이날 유재석은 “집으로 가기 전에 봄 옷 한 벌 사드릴게요”라고 말해 누나들을 설레게 했다.\n",
            "박미선에게 옷을 사주기로 약속하고 지키지 못한 게 마음에 걸렸던 것. 유재석은 이번 기회에 지갑을 통 크게 열었다고 한다.\n",
            "누나들은 “재석아 여기서부터 저기까지 사줘”라고 너스레를 떨며, 로맨스 드라마 여주인공에 빙의한 멘트로 웃음을 자아냈다.\n",
            "이에 응한 유재석은 비싼 가격에 기함을 하는 누나들에게 “가격 보지 말고 마음에 드는 거 사”라고 말했고, 박미선은 “그러다가 거짓꼴을 못 면한다”라며 등짝 스매싱을 날렸다.\n",
            "옥신각신하는 이들의 쇼핑 결말이 궁금해진다.\n",
            "누나들을 위해 지갑을 연 막내 유재석의 멋짐 폭발 ‘플렉스 타임’은 4월 2일 토요일 저녁 6시 25분 방송되는 MBC ‘놀면 뭐하니?’에서 확인할 수 있다.\n",
            "\n",
            "🔷 뉴스 본문 전처리 후\n",
            "놀면 뭐하니 유재석이 누나들을 위해 지갑을 연다. 4월 2일 방송되는 MBC 예능 놀면 뭐하니에서는 51살 막내 유재석과 코미디계 전설의 누나들 이경실 박미선 조혜련이 함께하는 누나랑 나 특집이 계속된다. 이런 가운데 공개된 사진 속 유재석은 식사 후 누나들과 백화점 쇼핑을 하며 시간을 보내고 있다. 옷에서 눈을 떼지 못하는 귀여운 누나들과 흐뭇하게 바라보는 유재석의 모습이 훈훈함을 자아낸다. 이날 유재석은 집으로 가기 전에 봄 옷 한 벌 사드릴게요라고 말해 누나들을 설레게 했다. 박미선에게 옷을 사주기로 약속하고 지키지 못한 게 마음에 걸렸던 것. 유재석은 이번 기회에 지갑을 통 크게 열었다고 한다. 누나들은 재석아 여기서부터 저기까지 사줘라고 너스레를 떨며 로맨스 드라마 여주인공에 빙의한 멘트로 웃음을 자아냈다. 이에 응한 유재석은 비싼 가격에 기함을 하는 누나들에게 가격 보지 말고 마음에 드는 거 사라고 말했고 박미선은 그러다가 거짓꼴을 못 면한다라며 등짝 스매싱을 날렸다. 옥신각신하는 이들의 쇼핑 결말이 궁금해진다. 누나들을 위해 지갑을 연 막내 유재석의 멋짐 폭발 플렉스 타임은 4월 2일 토요일 저녁 6시 25분 방송되는 MBC 놀면 뭐하니에서 확인할 수 있다.\n",
            "\n",
            "🔶 뉴스 본문 리스트화 전처리 전\n",
            "['‘놀면 뭐하니?’ 유재석이 누나들을 위해 지갑을 연다. 4월 2일 방송되는 MBC 예능 ‘놀면 뭐하니?’(연출 박창훈 김진용 한승훈 왕종석 신현빈/작가 최혜정)에서는 51살 막내 유재석과 ‘코미디계 전설의 누나들’ 이경실, 박미선, 조혜련이 함께하는 ‘누나랑 나’ 특집이 계속된다.', '이런 가운데 공개된 사진 속 유재석은 식사 후 누나들과 백화점 쇼핑을 하며 시간을 보내고 있다.', '옷에서 눈을 떼지 못하는 귀여운 누나들과, 흐뭇하게 바라보는 유재석의 모습이 훈훈함을 자아낸다.', '이날 유재석은 “집으로 가기 전에 봄 옷 한 벌 사드릴게요”라고 말해 누나들을 설레게 했다.', '박미선에게 옷을 사주기로 약속하고 지키지 못한 게 마음에 걸렸던 것. 유재석은 이번 기회에 지갑을 통 크게 열었다고 한다.', '누나들은 “재석아 여기서부터 저기까지 사줘”라고 너스레를 떨며, 로맨스 드라마 여주인공에 빙의한 멘트로 웃음을 자아냈다.', '이에 응한 유재석은 비싼 가격에 기함을 하는 누나들에게 “가격 보지 말고 마음에 드는 거 사”라고 말했고, 박미선은 “그러다가 거짓꼴을 못 면한다”라며 등짝 스매싱을 날렸다.', '옥신각신하는 이들의 쇼핑 결말이 궁금해진다.', '누나들을 위해 지갑을 연 막내 유재석의 멋짐 폭발 ‘플렉스 타임’은 4월 2일 토요일 저녁 6시 25분 방송되는 MBC ‘놀면 뭐하니?’에서 확인할 수 있다.']\n",
            "\n",
            "🔷 뉴스 본문 리스트화 전처리 후\n",
            "['놀면 뭐하니 유재석이 누나들을 위해 지갑을 연다. 4월 2일 방송되는 MBC 예능 놀면 뭐하니에서는 51살 막내 유재석과 코미디계 전설의 누나들 이경실 박미선 조혜련이 함께하는 누나랑 나 특집이 계속된다.', '이런 가운데 공개된 사진 속 유재석은 식사 후 누나들과 백화점 쇼핑을 하며 시간을 보내고 있다.', '옷에서 눈을 떼지 못하는 귀여운 누나들과 흐뭇하게 바라보는 유재석의 모습이 훈훈함을 자아낸다.', '이날 유재석은 집으로 가기 전에 봄 옷 한 벌 사드릴게요라고 말해 누나들을 설레게 했다.', '박미선에게 옷을 사주기로 약속하고 지키지 못한 게 마음에 걸렸던 것. 유재석은 이번 기회에 지갑을 통 크게 열었다고 한다.', '누나들은 재석아 여기서부터 저기까지 사줘라고 너스레를 떨며 로맨스 드라마 여주인공에 빙의한 멘트로 웃음을 자아냈다.', '이에 응한 유재석은 비싼 가격에 기함을 하는 누나들에게 가격 보지 말고 마음에 드는 거 사라고 말했고 박미선은 그러다가 거짓꼴을 못 면한다라며 등짝 스매싱을 날렸다.', '옥신각신하는 이들의 쇼핑 결말이 궁금해진다.', '누나들을 위해 지갑을 연 막내 유재석의 멋짐 폭발 플렉스 타임은 4월 2일 토요일 저녁 6시 25분 방송되는 MBC 놀면 뭐하니에서 확인할 수 있다.']\n",
            "\n",
            "--------------------------------------------------\n",
            "Sample 270711\n",
            "\n",
            "🔶 뉴스 본문 전처리 전\n",
            "윤석열 대통령 당선인은 4일 “청와대를 조속한 시일 내 국민께 개방해야 한다”며 집무실 용산 이전에 대한 의지를 다시 한 번 내비쳤다.\n",
            "윤 당선인은 이날 국민의힘 의원들과 서울 모처에서 오찬을 하며 이같이 전한 것으로 알려졌다.\n",
            "이날 오찬에 참석한 의원에 따르면 윤 당선인은 다가오는 6.1 지방선거를 두고 안정적인 국정운영과 직결된 선거인만큼 좋은 후보들이 나와야 한다고 강조했다.\n",
            "이 자리에서 윤 당선인은 “중앙정부와 지방정부가 유기적으로 일할 수 있게 당선될 수 있도록 좋은 분들 많이 모셨으면 좋겠다”고 밝혔다.\n",
            "앞서 윤석열 당선인은 5월 10일 취임 즉시 청와대를 국민께 돌려드린다고 약속을 한 바 있다.\n",
            "현재 대통령 집무실을 용산으로 이전하기 위해 윤 당선인 측과 청와대 간 실무협의가 이어지고 있다.\n",
            "김은혜 대통령 당선인 대변인은 지난달 31일 “규제가 풀어짐과 동시에 청와대를 찾고 싶은 분들은 경복궁에서 시작해서 북악산 등산로, 현대사에 역사 묻어있는 청와대 본관, 상춘재와 녹지원까지 국민의 것이 국민에게 돌아갈 것”이라고 강조했다.\n",
            "한편 정부는 4일 오후 대통령 용산 집무실 이전 예산 관련 “안보와 관련된 위기관리시스템 등에 대해서는 실무적인 추가 검토와 확인이 필요하다는 데 의견이 모아졌다”며 추가 검토가 필요하다고 밝혔다.\n",
            "\n",
            "🔷 뉴스 본문 전처리 후\n",
            "윤석열 대통령 당선인은 4일 청와대를 조속한 시일 내 국민께 개방해야 한다며 집무실 용산 이전에 대한 의지를 다시 한 번 내비쳤다. 윤 당선인은 이날 국민의힘 의원들과 서울 모처에서 오찬을 하며 이같이 전한 것으로 알려졌다. 이날 오찬에 참석한 의원에 따르면 윤 당선인은 다가오는 6.1 지방선거를 두고 안정적인 국정운영과 직결된 선거인만큼 좋은 후보들이 나와야 한다고 강조했다. 이 자리에서 윤 당선인은 중앙정부와 지방정부가 유기적으로 일할 수 있게 당선될 수 있도록 좋은 분들 많이 모셨으면 좋겠다고 밝혔다. 앞서 윤석열 당선인은 5월 10일 취임 즉시 청와대를 국민께 돌려드린다고 약속을 한 바 있다. 현재 대통령 집무실을 용산으로 이전하기 위해 윤 당선인 측과 청와대 간 실무협의가 이어지고 있다. 김은혜 대통령 당선인 대변인은 지난달 31일 규제가 풀어짐과 동시에 청와대를 찾고 싶은 분들은 경복궁에서 시작해서 북악산 등산로 현대사에 역사 묻어있는 청와대 본관 상춘재와 녹지원까지 국민의 것이 국민에게 돌아갈 것이라고 강조했다. 한편 정부는 4일 오후 대통령 용산 집무실 이전 예산 관련 안보와 관련된 위기관리시스템 등에 대해서는 실무적인 추가 검토와 확인이 필요하다는 데 의견이 모아졌다며 추가 검토가 필요하다고 밝혔다.\n",
            "\n",
            "🔶 뉴스 본문 리스트화 전처리 전\n",
            "['윤석열 대통령 당선인은 4일 “청와대를 조속한 시일 내 국민께 개방해야 한다”며 집무실 용산 이전에 대한 의지를 다시 한 번 내비쳤다.', '윤 당선인은 이날 국민의힘 의원들과 서울 모처에서 오찬을 하며 이같이 전한 것으로 알려졌다.', '이날 오찬에 참석한 의원에 따르면 윤 당선인은 다가오는 6.1 지방선거를 두고 안정적인 국정운영과 직결된 선거인만큼 좋은 후보들이 나와야 한다고 강조했다.', '이 자리에서 윤 당선인은 “중앙정부와 지방정부가 유기적으로 일할 수 있게 당선될 수 있도록 좋은 분들 많이 모셨으면 좋겠다”고 밝혔다.', '앞서 윤석열 당선인은 5월 10일 취임 즉시 청와대를 국민께 돌려드린다고 약속을 한 바 있다.', '현재 대통령 집무실을 용산으로 이전하기 위해 윤 당선인 측과 청와대 간 실무협의가 이어지고 있다.', '김은혜 대통령 당선인 대변인은 지난달 31일 “규제가 풀어짐과 동시에 청와대를 찾고 싶은 분들은 경복궁에서 시작해서 북악산 등산로, 현대사에 역사 묻어있는 청와대 본관, 상춘재와 녹지원까지 국민의 것이 국민에게 돌아갈 것”이라고 강조했다.', '한편 정부는 4일 오후 대통령 용산 집무실 이전 예산 관련 “안보와 관련된 위기관리시스템 등에 대해서는 실무적인 추가 검토와 확인이 필요하다는 데 의견이 모아졌다”며 추가 검토가 필요하다고 밝혔다.']\n",
            "\n",
            "🔷 뉴스 본문 리스트화 전처리 후\n",
            "['윤석열 대통령 당선인은 4일 청와대를 조속한 시일 내 국민께 개방해야 한다며 집무실 용산 이전에 대한 의지를 다시 한 번 내비쳤다.', '윤 당선인은 이날 국민의힘 의원들과 서울 모처에서 오찬을 하며 이같이 전한 것으로 알려졌다.', '이날 오찬에 참석한 의원에 따르면 윤 당선인은 다가오는 6.1 지방선거를 두고 안정적인 국정운영과 직결된 선거인만큼 좋은 후보들이 나와야 한다고 강조했다.', '이 자리에서 윤 당선인은 중앙정부와 지방정부가 유기적으로 일할 수 있게 당선될 수 있도록 좋은 분들 많이 모셨으면 좋겠다고 밝혔다.', '앞서 윤석열 당선인은 5월 10일 취임 즉시 청와대를 국민께 돌려드린다고 약속을 한 바 있다.', '현재 대통령 집무실을 용산으로 이전하기 위해 윤 당선인 측과 청와대 간 실무협의가 이어지고 있다.', '김은혜 대통령 당선인 대변인은 지난달 31일 규제가 풀어짐과 동시에 청와대를 찾고 싶은 분들은 경복궁에서 시작해서 북악산 등산로 현대사에 역사 묻어있는 청와대 본관 상춘재와 녹지원까지 국민의 것이 국민에게 돌아갈 것이라고 강조했다.', '한편 정부는 4일 오후 대통령 용산 집무실 이전 예산 관련 안보와 관련된 위기관리시스템 등에 대해서는 실무적인 추가 검토와 확인이 필요하다는 데 의견이 모아졌다며 추가 검토가 필요하다고 밝혔다.']\n",
            "\n",
            "--------------------------------------------------\n",
            "Sample 2521\n",
            "\n",
            "🔶 뉴스 본문 전처리 전\n",
            "여름 보양식 ‘삼계탕’ 언제부터 먹었나 한국인의 밥상(한국방송1 저녁 7시30분) ‘삼계탕’ 편. 한국 사람들은 여름이면 삼계탕을 즐겨 먹는다.\n",
            "삼이 귀하고 닭이 귀하던 시절에도 먹었다고 한다.\n",
            "언제부터 여름에 삼계탕을 먹었을까.\n",
            "문헌에는 삼계탕이라는 이름은 없고, 조선시대에 ‘백숙’이라는 단어가 처음 생겼다고 한다.\n",
            "제작진은 경북 영주에 사는 김영희씨를 비롯해 오래전부터 특별한 날이면 삼계탕을 먹었다는 이들을 만나 삼계탕의 유래를 추측한다.\n",
            "닭에다 일곱 가지 약재를 넣어 만든 ‘칠향계’는 김영희씨 집안 대대로 내려오던 음식이라고 말한다.\n",
            "상금 1억원 ‘다이어트 워’ 시즌 5 다이어트 워 시즌 5(스토리온 밤 12시) 다이어트 리얼리티 프로그램으로, 시즌 5 첫 방송이다.\n",
            "경쟁률 250 대 1을 뚫은 남녀 12명이 상금 1억원을 걸고 목표 체중까지 살을 뺀다.\n",
            "첫회에서는 참가자들의 눈물겨운 사연을 공개한다.\n",
            "또 도전자들은 체력 테스트와 건강검진을 받는다. ‘하이원리조트오픈’ 남자 대회로 변신 2011 더 채리티 하이원리조트오픈 1라운드(에스비에스 오후 2시10분) ‘더 채리티 하이원리조트오픈’은 지난 3년 동안 여자 선수들만 출전하는 골프대회였는데 올해부터는 남자 선수들만 나온다.\n",
            "배상문, 김대현, 강경남, 홍순상 등 국내 정상급 남자 골프선수들이 출전하고 오스트레일리아의 앙드레 스톨스, 일본의 마사야 도미다, 중국의 알렉스 우 아션 등이 나온다.\n",
            "총상금은 10억원, 우승자 상금은 2억원이다.\n",
            "에스비에스는 1라운드와 최종라운드(10일 오후 2시10분)를, 케이블채널 에스비에스 골프는 8일과 9일 치러지는 라운드를 생중계한다. ‘띵똥’ 출연 ‘최고의 사랑’ 패러디 무한걸스 시즌 3(엠비시에브리원 밤 12시10분) 드라마 을 패러디한다.\n",
            "공효진이 연기한 구애정은 개그우먼 송은이가, 차승원이 연기한 독고진은 개그맨 한민관이 맡는다.\n",
            "두 사람은 의 명장면인 ‘충전 키스’를 연출한다.\n",
            "차에 앉아 있던 독고진이 차창 밖으로 얼굴을 내밀고 “충전”이라고 말하며 구애정과 입맞추는 내용이다.\n",
            "에서 구애정 조카 ‘띵똥’으로 나온 아역배우 양한열이 특별 출연한다.\n",
            "송중기·수지 진행 ‘20대의 시상식’ 제5회 트웬티스 초이스(엠넷 오후 6시) ‘2011년 화제의 인물’ 등을 뽑는 시상식. 탤런트 송중기와 걸그룹 미쓰에이의 수지가 진행한다.\n",
            "서울 광진구 워커힐 야외수영장에서 3시간 동안 생방송을 한다.\n",
            "슈퍼주니어 김희철과 트랙스의 정모가 결성한 그룹 엠앤디(M＆D)와, 가수 김현중, 걸그룹 에프엑스 등이 출연한다.\n",
            "탤런트 김정태, 이종격투기 선수 추성훈, 가수 정엽 등이 시상자로 나온다.\n",
            "\n",
            "🔷 뉴스 본문 전처리 후\n",
            "여름 보양식 삼계탕 언제부터 먹었나 한국인의 밥상 삼계탕 편. 한국 사람들은 여름이면 삼계탕을 즐겨 먹는다. 삼이 귀하고 닭이 귀하던 시절에도 먹었다고 한다. 언제부터 여름에 삼계탕을 먹었을까. 문헌에는 삼계탕이라는 이름은 없고 조선시대에 백숙이라는 단어가 처음 생겼다고 한다. 제작진은 경북 영주에 사는 김영희씨를 비롯해 오래전부터 특별한 날이면 삼계탕을 먹었다는 이들을 만나 삼계탕의 유래를 추측한다. 닭에다 일곱 가지 약재를 넣어 만든 칠향계는 김영희씨 집안 대대로 내려오던 음식이라고 말한다. 상금 1억원 다이어트 워 시즌 5 다이어트 워 시즌 5 다이어트 리얼리티 프로그램으로 시즌 5 첫 방송이다. 경쟁률 250 대 1을 뚫은 남녀 12명이 상금 1억원을 걸고 목표 체중까지 살을 뺀다. 첫회에서는 참가자들의 눈물겨운 사연을 공개한다. 또 도전자들은 체력 테스트와 건강검진을 받는다. 하이원리조트오픈 남자 대회로 변신 2011 더 채리티 하이원리조트오픈 1라운드 더 채리티 하이원리조트오픈은 지난 3년 동안 여자 선수들만 출전하는 골프대회였는데 올해부터는 남자 선수들만 나온다. 배상문 김대현 강경남 홍순상 등 국내 정상급 남자 골프선수들이 출전하고 오스트레일리아의 앙드레 스톨스 일본의 마사야 도미다 중국의 알렉스 우 아션 등이 나온다. 총상금은 10억원 우승자 상금은 2억원이다. 에스비에스는 1라운드와 최종라운드를 케이블채널 에스비에스 골프는 8일과 9일 치러지는 라운드를 생중계한다. 띵똥 출연 최고의 사랑 패러디 무한걸스 시즌 3 드라마 을 패러디한다. 공효진이 연기한 구애정은 개그우먼 송은이가 차승원이 연기한 독고진은 개그맨 한민관이 맡는다. 두 사람은 의 명장면인 충전 키스를 연출한다. 차에 앉아 있던 독고진이 차창 밖으로 얼굴을 내밀고 충전이라고 말하며 구애정과 입맞추는 내용이다. 에서 구애정 조카 띵똥으로 나온 아역배우 양한열이 특별 출연한다. 송중기수지 진행 20대의 시상식 제5회 트웬티스 초이스 2011년 화제의 인물 등을 뽑는 시상식. 탤런트 송중기와 걸그룹 미쓰에이의 수지가 진행한다. 서울 광진구 워커힐 야외수영장에서 3시간 동안 생방송을 한다. 슈퍼주니어 김희철과 트랙스의 정모가 결성한 그룹 엠앤디와 가수 김현중 걸그룹 에프엑스 등이 출연한다. 탤런트 김정태 이종격투기 선수 추성훈 가수 정엽 등이 시상자로 나온다.\n",
            "\n",
            "🔶 뉴스 본문 리스트화 전처리 전\n",
            "['여름 보양식 ‘삼계탕’ 언제부터 먹었나 한국인의 밥상(한국방송1 저녁 7시30분) ‘삼계탕’ 편. 한국 사람들은 여름이면 삼계탕을 즐겨 먹는다.', '삼이 귀하고 닭이 귀하던 시절에도 먹었다고 한다.', '언제부터 여름에 삼계탕을 먹었을까.', '문헌에는 삼계탕이라는 이름은 없고, 조선시대에 ‘백숙’이라는 단어가 처음 생겼다고 한다.', '제작진은 경북 영주에 사는 김영희씨를 비롯해 오래전부터 특별한 날이면 삼계탕을 먹었다는 이들을 만나 삼계탕의 유래를 추측한다.', '닭에다 일곱 가지 약재를 넣어 만든 ‘칠향계’는 김영희씨 집안 대대로 내려오던 음식이라고 말한다.', '상금 1억원 ‘다이어트 워’ 시즌 5 다이어트 워 시즌 5(스토리온 밤 12시) 다이어트 리얼리티 프로그램으로, 시즌 5 첫 방송이다.', '경쟁률 250 대 1을 뚫은 남녀 12명이 상금 1억원을 걸고 목표 체중까지 살을 뺀다.', '첫회에서는 참가자들의 눈물겨운 사연을 공개한다.', '또 도전자들은 체력 테스트와 건강검진을 받는다. ‘하이원리조트오픈’ 남자 대회로 변신 2011 더 채리티 하이원리조트오픈 1라운드(에스비에스 오후 2시10분) ‘더 채리티 하이원리조트오픈’은 지난 3년 동안 여자 선수들만 출전하는 골프대회였는데 올해부터는 남자 선수들만 나온다.', '배상문, 김대현, 강경남, 홍순상 등 국내 정상급 남자 골프선수들이 출전하고 오스트레일리아의 앙드레 스톨스, 일본의 마사야 도미다, 중국의 알렉스 우 아션 등이 나온다.', '총상금은 10억원, 우승자 상금은 2억원이다.', '에스비에스는 1라운드와 최종라운드(10일 오후 2시10분)를, 케이블채널 에스비에스 골프는 8일과 9일 치러지는 라운드를 생중계한다. ‘띵똥’ 출연 ‘최고의 사랑’ 패러디 무한걸스 시즌 3(엠비시에브리원 밤 12시10분) 드라마 을 패러디한다.', '공효진이 연기한 구애정은 개그우먼 송은이가, 차승원이 연기한 독고진은 개그맨 한민관이 맡는다.', '두 사람은 의 명장면인 ‘충전 키스’를 연출한다.', '차에 앉아 있던 독고진이 차창 밖으로 얼굴을 내밀고 “충전”이라고 말하며 구애정과 입맞추는 내용이다.', '에서 구애정 조카 ‘띵똥’으로 나온 아역배우 양한열이 특별 출연한다.', '송중기·수지 진행 ‘20대의 시상식’ 제5회 트웬티스 초이스(엠넷 오후 6시) ‘2011년 화제의 인물’ 등을 뽑는 시상식. 탤런트 송중기와 걸그룹 미쓰에이의 수지가 진행한다.', '서울 광진구 워커힐 야외수영장에서 3시간 동안 생방송을 한다.', '슈퍼주니어 김희철과 트랙스의 정모가 결성한 그룹 엠앤디(M＆D)와, 가수 김현중, 걸그룹 에프엑스 등이 출연한다.', '탤런트 김정태, 이종격투기 선수 추성훈, 가수 정엽 등이 시상자로 나온다.']\n",
            "\n",
            "🔷 뉴스 본문 리스트화 전처리 후\n",
            "['여름 보양식 삼계탕 언제부터 먹었나 한국인의 밥상 삼계탕 편. 한국 사람들은 여름이면 삼계탕을 즐겨 먹는다.', '삼이 귀하고 닭이 귀하던 시절에도 먹었다고 한다.', '언제부터 여름에 삼계탕을 먹었을까.', '문헌에는 삼계탕이라는 이름은 없고 조선시대에 백숙이라는 단어가 처음 생겼다고 한다.', '제작진은 경북 영주에 사는 김영희씨를 비롯해 오래전부터 특별한 날이면 삼계탕을 먹었다는 이들을 만나 삼계탕의 유래를 추측한다.', '닭에다 일곱 가지 약재를 넣어 만든 칠향계는 김영희씨 집안 대대로 내려오던 음식이라고 말한다.', '상금 1억원 다이어트 워 시즌 5 다이어트 워 시즌 5 다이어트 리얼리티 프로그램으로 시즌 5 첫 방송이다.', '경쟁률 250 대 1을 뚫은 남녀 12명이 상금 1억원을 걸고 목표 체중까지 살을 뺀다.', '첫회에서는 참가자들의 눈물겨운 사연을 공개한다.', '또 도전자들은 체력 테스트와 건강검진을 받는다. 하이원리조트오픈 남자 대회로 변신 2011 더 채리티 하이원리조트오픈 1라운드 더 채리티 하이원리조트오픈은 지난 3년 동안 여자 선수들만 출전하는 골프대회였는데 올해부터는 남자 선수들만 나온다.', '배상문 김대현 강경남 홍순상 등 국내 정상급 남자 골프선수들이 출전하고 오스트레일리아의 앙드레 스톨스 일본의 마사야 도미다 중국의 알렉스 우 아션 등이 나온다.', '총상금은 10억원 우승자 상금은 2억원이다.', '에스비에스는 1라운드와 최종라운드를 케이블채널 에스비에스 골프는 8일과 9일 치러지는 라운드를 생중계한다. 띵똥 출연 최고의 사랑 패러디 무한걸스 시즌 3 드라마 을 패러디한다.', '공효진이 연기한 구애정은 개그우먼 송은이가 차승원이 연기한 독고진은 개그맨 한민관이 맡는다.', '두 사람은 의 명장면인 충전 키스를 연출한다.', '차에 앉아 있던 독고진이 차창 밖으로 얼굴을 내밀고 충전이라고 말하며 구애정과 입맞추는 내용이다.', '에서 구애정 조카 띵똥으로 나온 아역배우 양한열이 특별 출연한다.', '송중기수지 진행 20대의 시상식 제5회 트웬티스 초이스 2011년 화제의 인물 등을 뽑는 시상식. 탤런트 송중기와 걸그룹 미쓰에이의 수지가 진행한다.', '서울 광진구 워커힐 야외수영장에서 3시간 동안 생방송을 한다.', '슈퍼주니어 김희철과 트랙스의 정모가 결성한 그룹 엠앤디와 가수 김현중 걸그룹 에프엑스 등이 출연한다.', '탤런트 김정태 이종격투기 선수 추성훈 가수 정엽 등이 시상자로 나온다.']\n",
            "\n",
            "--------------------------------------------------\n",
            "Sample 138040\n",
            "\n",
            "🔶 뉴스 본문 전처리 전\n",
            "정의당 심상정 대선 후보는 24일 “촛불혁명으로 탄생한 문재인정부의 개혁은 시간이 지나면서 계속 후퇴해 지금은 흔적도 찾아보기 어려워졌다”면서 정권교체론에 힘을 실었다.\n",
            "심 후보는 자신이 유일한 진보·개혁 후보라고 강조했다.\n",
            "심 후보는 이날 오전 국회에서 전국공공운수사회서비스노동조합 정책 협약식에서 “문재인정부의 개혁 좌초는 국민들이 탄핵한 국민의힘을 다시 부활시키고, 보수적이고 수구적인 정권교체의 명분을 줬다”면서 이같이 밝혔다.\n",
            "심 후보는 “국민의힘은 물론이고 더불어민주당의 이재명 후보까지 성장제일주의, 규제 완화와 감세, 시장으로 기울면서 역사적 퇴행이 예고되고 있다”면서 “개혁과 진보의 자리에는 4명의 후보 중 저 심상정 혼자 남았다”고 강조했다.\n",
            "심 후보는 공공서비스의 국가책임과 공공성 강화 등을 중심으로 한 정책 제안을 내놨다.\n",
            "심 후보는 연일 노동계 표심을 공략하는 행보를 이어나가고 있다.\n",
            "이날 도 전국철도노조와 공공운수노조, 보건의료산업노조와 잇따라 정책 협약식을 가졌다.\n",
            "이날 오후에는 서울 구로구 구로디지털단지를 찾아 ‘전태일 유세단’과 함께 집중 유세를 벌였다.\n",
            "그는 이 자리에서 배달 노동자로부터 선물받은 붕어빵 모형 모자를 쓰고 시민들에 인사를 건넸다.\n",
            "\n",
            "🔷 뉴스 본문 전처리 후\n",
            "정의당 심상정 대선 후보는 24일 촛불혁명으로 탄생한 문재인정부의 개혁은 시간이 지나면서 계속 후퇴해 지금은 흔적도 찾아보기 어려워졌다면서 정권교체론에 힘을 실었다. 심 후보는 자신이 유일한 진보개혁 후보라고 강조했다. 심 후보는 이날 오전 국회에서 전국공공운수사회서비스노동조합 정책 협약식에서 문재인정부의 개혁 좌초는 국민들이 탄핵한 국민의힘을 다시 부활시키고 보수적이고 수구적인 정권교체의 명분을 줬다면서 이같이 밝혔다. 심 후보는 국민의힘은 물론이고 더불어민주당의 이재명 후보까지 성장제일주의 규제 완화와 감세 시장으로 기울면서 역사적 퇴행이 예고되고 있다면서 개혁과 진보의 자리에는 4명의 후보 중 저 심상정 혼자 남았다고 강조했다. 심 후보는 공공서비스의 국가책임과 공공성 강화 등을 중심으로 한 정책 제안을 내놨다. 심 후보는 연일 노동계 표심을 공략하는 행보를 이어나가고 있다. 이날 도 전국철도노조와 공공운수노조 보건의료산업노조와 잇따라 정책 협약식을 가졌다. 이날 오후에는 서울 구로구 구로디지털단지를 찾아 전태일 유세단과 함께 집중 유세를 벌였다. 그는 이 자리에서 배달 노동자로부터 선물받은 붕어빵 모형 모자를 쓰고 시민들에 인사를 건넸다.\n",
            "\n",
            "🔶 뉴스 본문 리스트화 전처리 전\n",
            "['정의당 심상정 대선 후보는 24일 “촛불혁명으로 탄생한 문재인정부의 개혁은 시간이 지나면서 계속 후퇴해 지금은 흔적도 찾아보기 어려워졌다”면서 정권교체론에 힘을 실었다.', '심 후보는 자신이 유일한 진보·개혁 후보라고 강조했다.', '심 후보는 이날 오전 국회에서 전국공공운수사회서비스노동조합 정책 협약식에서 “문재인정부의 개혁 좌초는 국민들이 탄핵한 국민의힘을 다시 부활시키고, 보수적이고 수구적인 정권교체의 명분을 줬다”면서 이같이 밝혔다.', '심 후보는 “국민의힘은 물론이고 더불어민주당의 이재명 후보까지 성장제일주의, 규제 완화와 감세, 시장으로 기울면서 역사적 퇴행이 예고되고 있다”면서 “개혁과 진보의 자리에는 4명의 후보 중 저 심상정 혼자 남았다”고 강조했다.', '심 후보는 공공서비스의 국가책임과 공공성 강화 등을 중심으로 한 정책 제안을 내놨다.', '심 후보는 연일 노동계 표심을 공략하는 행보를 이어나가고 있다.', '이날 도 전국철도노조와 공공운수노조, 보건의료산업노조와 잇따라 정책 협약식을 가졌다.', '이날 오후에는 서울 구로구 구로디지털단지를 찾아 ‘전태일 유세단’과 함께 집중 유세를 벌였다.', '그는 이 자리에서 배달 노동자로부터 선물받은 붕어빵 모형 모자를 쓰고 시민들에 인사를 건넸다.']\n",
            "\n",
            "🔷 뉴스 본문 리스트화 전처리 후\n",
            "['정의당 심상정 대선 후보는 24일 촛불혁명으로 탄생한 문재인정부의 개혁은 시간이 지나면서 계속 후퇴해 지금은 흔적도 찾아보기 어려워졌다면서 정권교체론에 힘을 실었다.', '심 후보는 자신이 유일한 진보개혁 후보라고 강조했다.', '심 후보는 이날 오전 국회에서 전국공공운수사회서비스노동조합 정책 협약식에서 문재인정부의 개혁 좌초는 국민들이 탄핵한 국민의힘을 다시 부활시키고 보수적이고 수구적인 정권교체의 명분을 줬다면서 이같이 밝혔다.', '심 후보는 국민의힘은 물론이고 더불어민주당의 이재명 후보까지 성장제일주의 규제 완화와 감세 시장으로 기울면서 역사적 퇴행이 예고되고 있다면서 개혁과 진보의 자리에는 4명의 후보 중 저 심상정 혼자 남았다고 강조했다.', '심 후보는 공공서비스의 국가책임과 공공성 강화 등을 중심으로 한 정책 제안을 내놨다.', '심 후보는 연일 노동계 표심을 공략하는 행보를 이어나가고 있다.', '이날 도 전국철도노조와 공공운수노조 보건의료산업노조와 잇따라 정책 협약식을 가졌다.', '이날 오후에는 서울 구로구 구로디지털단지를 찾아 전태일 유세단과 함께 집중 유세를 벌였다.', '그는 이 자리에서 배달 노동자로부터 선물받은 붕어빵 모형 모자를 쓰고 시민들에 인사를 건넸다.']\n",
            "\n",
            "--------------------------------------------------\n",
            "Sample 141045\n",
            "\n",
            "🔶 뉴스 본문 전처리 전\n",
            "더불어민주당은 22일 국민의힘 윤석열 대선 후보가 부산저축은행 불법대출 의혹 사건 수사 당시 봐주기 수사를 했다는 언론 보도를 근거 삼아 집중 공세를 펼쳤다.\n",
            "민주당 선거대책위원회 강병원 수석대변인은 이날 서울 여의도 당사에서 “부산저축은행 대출비리 수사 당시 윤석열 주임검사가 대장동 개발의 대출 브로커 조우형씨에 대해 봐주기 수사를 했다는 정황이 검찰 진술을 통해 드러났다”고 밝혔다.\n",
            "강 수석은 전날 JTBC 보도를 근거로 “커피 한 잔 마시고 1805억 대출비리 혐의를 덮어줌으로써 썩은 내 진동하는 화천대유 비리의 시작을 열어준 것”이라고 윤 후보를 직격했다.\n",
            "그는 “조우형씨는 부산저축은행 박연호 전 회장의 사촌 처남으로, 대장동 개발 초기 부산저축은행 등으로부터 대출금 1805억원을 끌어들여 개발 사업의 종잣돈을 만들어준 자”라고 덧붙였다.\n",
            "율사 출신 송평수 대변인은 “윤 후보가 2011년 부산저축은행 부실대출 수사 당시 봐주기 의혹을 받는 대장동 불법 대출금 1155억원이 대장동 사업의 종잣돈이 된 것은 많은 증거로 드러났다”고 말했다.\n",
            "송 대변인은 “정영학, 남욱 일당은 이 종잣돈을 근거로 김만배를 끌어들였다”며 “김만배는 박영수 특검을 통해 대장동 대출 건을 윤석열 주임검사의 수사 대상에서 빼준 의혹이 있다”고 했다.\n",
            "또 “윤 후보는 대장동 대출 주범인 대출 브로커 조우형에게 믹스커피 타 주면서 조사하고도 입건조차 하지 않았다”고 질타했다.\n",
            "JTBC는 전날 보도에서 대장동 의혹 핵심 인물인 남욱 변호사가 지난해 11월 검찰에 진술한 발언을 보도했다.\n",
            "보도에 따르면, 남 변호사는 2011년 검찰 조사에 앞서 김만배·조우형씨와 대법원 주차장에서 만났다.\n",
            "김씨는 조씨한테 “오늘은 (조사실에) 올라가면 커피 한 잔 마시고 오면 된다”고 말했다.\n",
            "이와 관련, 민주당은 화천대유 관계자들이 부산저축은행 불법대출로 대장동 사업 초기자금을 마련했다고 보고 있다.\n",
            "당시 대검찰청 중앙수사부에서 이 사건 수사를 맡았던 인사는 지금의 윤석열 후보였다.\n",
            "이 때문에 여권은 윤 후보의 봐주기 수사가 대장동 사건의 발단이 됐다는 취지 주장을 펴고 있다.\n",
            "한편 불법대출 의혹 관련자들의 변호는 서울고검장 출신 박영수 전 특별검사가 맡았던 것으로 드러났다.\n",
            "박 전 특검의 딸은 화천대유에 근무하며 11억원을 수령한 의혹을 받고 있다.\n",
            "박 전 특검 측은 ‘정상적 대출’이라고 주장한다.\n",
            "국민의힘 출신 곽상도 전 의원은 아들이 화천대유에서 퇴직금 명목으로 50억원을 수령한 정황이 공개됐다.\n",
            "곽 전 의원은 현재 구속 수감 중이다.\n",
            "그 역시 검사 출신이다.\n",
            "\n",
            "🔷 뉴스 본문 전처리 후\n",
            "더불어민주당은 22일 국민의힘 윤석열 대선 후보가 부산저축은행 불법대출 의혹 사건 수사 당시 봐주기 수사를 했다는 언론 보도를 근거 삼아 집중 공세를 펼쳤다. 민주당 선거대책위원회 강병원 수석대변인은 이날 서울 여의도 당사에서 부산저축은행 대출비리 수사 당시 윤석열 주임검사가 대장동 개발의 대출 브로커 조우형씨에 대해 봐주기 수사를 했다는 정황이 검찰 진술을 통해 드러났다고 밝혔다. 강 수석은 전날 JTBC 보도를 근거로 커피 한 잔 마시고 1805억 대출비리 혐의를 덮어줌으로써 썩은 내 진동하는 화천대유 비리의 시작을 열어준 것이라고 윤 후보를 직격했다. 그는 조우형씨는 부산저축은행 박연호 전 회장의 사촌 처남으로 대장동 개발 초기 부산저축은행 등으로부터 대출금 1805억원을 끌어들여 개발 사업의 종잣돈을 만들어준 자라고 덧붙였다. 율사 출신 송평수 대변인은 윤 후보가 2011년 부산저축은행 부실대출 수사 당시 봐주기 의혹을 받는 대장동 불법 대출금 1155억원이 대장동 사업의 종잣돈이 된 것은 많은 증거로 드러났다고 말했다. 송 대변인은 정영학 남욱 일당은 이 종잣돈을 근거로 김만배를 끌어들였다며 김만배는 박영수 특검을 통해 대장동 대출 건을 윤석열 주임검사의 수사 대상에서 빼준 의혹이 있다고 했다. 또 윤 후보는 대장동 대출 주범인 대출 브로커 조우형에게 믹스커피 타 주면서 조사하고도 입건조차 하지 않았다고 질타했다. JTBC는 전날 보도에서 대장동 의혹 핵심 인물인 남욱 변호사가 지난해 11월 검찰에 진술한 발언을 보도했다. 보도에 따르면 남 변호사는 2011년 검찰 조사에 앞서 김만배조우형씨와 대법원 주차장에서 만났다. 김씨는 조씨한테 오늘은 올라가면 커피 한 잔 마시고 오면 된다고 말했다. 이와 관련 민주당은 화천대유 관계자들이 부산저축은행 불법대출로 대장동 사업 초기자금을 마련했다고 보고 있다. 당시 대검찰청 중앙수사부에서 이 사건 수사를 맡았던 인사는 지금의 윤석열 후보였다. 이 때문에 여권은 윤 후보의 봐주기 수사가 대장동 사건의 발단이 됐다는 취지 주장을 펴고 있다. 한편 불법대출 의혹 관련자들의 변호는 서울고검장 출신 박영수 전 특별검사가 맡았던 것으로 드러났다. 박 전 특검의 딸은 화천대유에 근무하며 11억원을 수령한 의혹을 받고 있다. 박 전 특검 측은 정상적 대출이라고 주장한다. 국민의힘 출신 곽상도 전 의원은 아들이 화천대유에서 퇴직금 명목으로 50억원을 수령한 정황이 공개됐다. 곽 전 의원은 현재 구속 수감 중이다. 그 역시 검사 출신이다.\n",
            "\n",
            "🔶 뉴스 본문 리스트화 전처리 전\n",
            "['더불어민주당은 22일 국민의힘 윤석열 대선 후보가 부산저축은행 불법대출 의혹 사건 수사 당시 봐주기 수사를 했다는 언론 보도를 근거 삼아 집중 공세를 펼쳤다.', '민주당 선거대책위원회 강병원 수석대변인은 이날 서울 여의도 당사에서 “부산저축은행 대출비리 수사 당시 윤석열 주임검사가 대장동 개발의 대출 브로커 조우형씨에 대해 봐주기 수사를 했다는 정황이 검찰 진술을 통해 드러났다”고 밝혔다.', '강 수석은 전날 JTBC 보도를 근거로 “커피 한 잔 마시고 1805억 대출비리 혐의를 덮어줌으로써 썩은 내 진동하는 화천대유 비리의 시작을 열어준 것”이라고 윤 후보를 직격했다.', '그는 “조우형씨는 부산저축은행 박연호 전 회장의 사촌 처남으로, 대장동 개발 초기 부산저축은행 등으로부터 대출금 1805억원을 끌어들여 개발 사업의 종잣돈을 만들어준 자”라고 덧붙였다.', '율사 출신 송평수 대변인은 “윤 후보가 2011년 부산저축은행 부실대출 수사 당시 봐주기 의혹을 받는 대장동 불법 대출금 1155억원이 대장동 사업의 종잣돈이 된 것은 많은 증거로 드러났다”고 말했다.', '송 대변인은 “정영학, 남욱 일당은 이 종잣돈을 근거로 김만배를 끌어들였다”며 “김만배는 박영수 특검을 통해 대장동 대출 건을 윤석열 주임검사의 수사 대상에서 빼준 의혹이 있다”고 했다.', '또 “윤 후보는 대장동 대출 주범인 대출 브로커 조우형에게 믹스커피 타 주면서 조사하고도 입건조차 하지 않았다”고 질타했다.', 'JTBC는 전날 보도에서 대장동 의혹 핵심 인물인 남욱 변호사가 지난해 11월 검찰에 진술한 발언을 보도했다.', '보도에 따르면, 남 변호사는 2011년 검찰 조사에 앞서 김만배·조우형씨와 대법원 주차장에서 만났다.', '김씨는 조씨한테 “오늘은 (조사실에) 올라가면 커피 한 잔 마시고 오면 된다”고 말했다.', '이와 관련, 민주당은 화천대유 관계자들이 부산저축은행 불법대출로 대장동 사업 초기자금을 마련했다고 보고 있다.', '당시 대검찰청 중앙수사부에서 이 사건 수사를 맡았던 인사는 지금의 윤석열 후보였다.', '이 때문에 여권은 윤 후보의 봐주기 수사가 대장동 사건의 발단이 됐다는 취지 주장을 펴고 있다.', '한편 불법대출 의혹 관련자들의 변호는 서울고검장 출신 박영수 전 특별검사가 맡았던 것으로 드러났다.', '박 전 특검의 딸은 화천대유에 근무하며 11억원을 수령한 의혹을 받고 있다.', '박 전 특검 측은 ‘정상적 대출’이라고 주장한다.', '국민의힘 출신 곽상도 전 의원은 아들이 화천대유에서 퇴직금 명목으로 50억원을 수령한 정황이 공개됐다.', '곽 전 의원은 현재 구속 수감 중이다.', '그 역시 검사 출신이다.']\n",
            "\n",
            "🔷 뉴스 본문 리스트화 전처리 후\n",
            "['더불어민주당은 22일 국민의힘 윤석열 대선 후보가 부산저축은행 불법대출 의혹 사건 수사 당시 봐주기 수사를 했다는 언론 보도를 근거 삼아 집중 공세를 펼쳤다.', '민주당 선거대책위원회 강병원 수석대변인은 이날 서울 여의도 당사에서 부산저축은행 대출비리 수사 당시 윤석열 주임검사가 대장동 개발의 대출 브로커 조우형씨에 대해 봐주기 수사를 했다는 정황이 검찰 진술을 통해 드러났다고 밝혔다.', '강 수석은 전날 JTBC 보도를 근거로 커피 한 잔 마시고 1805억 대출비리 혐의를 덮어줌으로써 썩은 내 진동하는 화천대유 비리의 시작을 열어준 것이라고 윤 후보를 직격했다.', '그는 조우형씨는 부산저축은행 박연호 전 회장의 사촌 처남으로 대장동 개발 초기 부산저축은행 등으로부터 대출금 1805억원을 끌어들여 개발 사업의 종잣돈을 만들어준 자라고 덧붙였다.', '율사 출신 송평수 대변인은 윤 후보가 2011년 부산저축은행 부실대출 수사 당시 봐주기 의혹을 받는 대장동 불법 대출금 1155억원이 대장동 사업의 종잣돈이 된 것은 많은 증거로 드러났다고 말했다.', '송 대변인은 정영학 남욱 일당은 이 종잣돈을 근거로 김만배를 끌어들였다며 김만배는 박영수 특검을 통해 대장동 대출 건을 윤석열 주임검사의 수사 대상에서 빼준 의혹이 있다고 했다.', '또 윤 후보는 대장동 대출 주범인 대출 브로커 조우형에게 믹스커피 타 주면서 조사하고도 입건조차 하지 않았다고 질타했다.', 'JTBC는 전날 보도에서 대장동 의혹 핵심 인물인 남욱 변호사가 지난해 11월 검찰에 진술한 발언을 보도했다.', '보도에 따르면 남 변호사는 2011년 검찰 조사에 앞서 김만배조우형씨와 대법원 주차장에서 만났다.', '김씨는 조씨한테 오늘은 올라가면 커피 한 잔 마시고 오면 된다고 말했다.', '이와 관련 민주당은 화천대유 관계자들이 부산저축은행 불법대출로 대장동 사업 초기자금을 마련했다고 보고 있다.', '당시 대검찰청 중앙수사부에서 이 사건 수사를 맡았던 인사는 지금의 윤석열 후보였다.', '이 때문에 여권은 윤 후보의 봐주기 수사가 대장동 사건의 발단이 됐다는 취지 주장을 펴고 있다.', '한편 불법대출 의혹 관련자들의 변호는 서울고검장 출신 박영수 전 특별검사가 맡았던 것으로 드러났다.', '박 전 특검의 딸은 화천대유에 근무하며 11억원을 수령한 의혹을 받고 있다.', '박 전 특검 측은 정상적 대출이라고 주장한다.', '국민의힘 출신 곽상도 전 의원은 아들이 화천대유에서 퇴직금 명목으로 50억원을 수령한 정황이 공개됐다.', '곽 전 의원은 현재 구속 수감 중이다.', '그 역시 검사 출신이다.']\n",
            "\n",
            "--------------------------------------------------\n",
            "Sample 131549\n",
            "\n",
            "🔶 뉴스 본문 전처리 전\n",
            "여야가 민영 미디어렙(Media Representative·방송광고판매대행사) 관련법 제정을 앞두고 있는 가운데, 최시중 방송통신위원장이 '1공영 다민영' 체제로의 개편을 시사하는 발언을 했다.\n",
            "정부·여당이 이같은 체제로 일방 개편할 경우 지상파 TV로의 광고 쏠림 현상에 대해 종교·지역방송을 포함해 상당수 언론사들이 반발이 있을 전망이다.\n",
            "최시중 방송통신위원장은 지난 7일 서울 여의도 국회에서 열린 방송통신위원회 국정감사에서 김창수 자유선진당 의원이 '1공영 1민영체제로 가는 것이 바람직하지 않느냐'는 질문에 \\\"1공영 1민영은 헌재에서 판결한 정신에 알맞지 않은 것 같은 생각이 든다. 앞으로 활성화될 WTO 협정에도 다소 문제가 있다\\\"고 밝혔다.\n",
            "최시중 위원장은 \\\"위원회에서 공식적인 협의를 한 바 없다\\\"고 일축했지만 \\\"국회 문방위에서 광고 제도에 대한 심의를 시작하면 방통위도 지체 없이 견해를 전달할 것\\\"이라고 밝혀 이르면 10월 중 정부의 입장이 명확히 드러날 전망이다.\n",
            "그러나 정부가 현재의 '1공영 1민영' 체제 대신 '1공영 다민영' 체제 입장을 밝힐 경우 파문이 커질 전망이다.\n",
            "김창수 의원은 \\\"1공영 KOBACO(한국방송광고공사) 체제에서 민영 미디어렙 도입되면서 광고시장이 다변화되고 기존의 시스템이 완전히 바뀌고 그에 따라서 지역방송이나 종교·특수방송 운영에도 심각한 운영미치는 게 예상되고 있다\\\"고 지적했다.\n",
            "이경재 한나라당 의원은 \\\"기존의 지상파는 (광고가)13%에서 많게는 70%까지 증가될 것\\\"이지만 \\\"나머지 지역 방송이나 케이블·중소방송은 20~30% 줄어든다는 통계가 있다\\\"고 설명했다.\n",
            "이 의원은 \\\"방송사가 광고 대행사 미디어렙을 직·간접적으로 소유할 경우 더 (광고시장이)불균형화 된다\\\"며 \\\"미디어법보다도 엄청난 지각 변동을 일으킬 것\\\"이라고 경고했다.\n",
            "박원식 불교방송 보도국장(종교방송협의회 간사)도 \\\"지역 민방과 종교 방송사들은 민영 미디어렙의 도입으로 인해 방송광고의 공영체제가 붕괴될 경우, 존폐의 기로에 서게 된다\\\"며 \\\"특히 종교 방송의 경우 방송 수입의 80~90%가 줄어드는 마당에 생존할 수 있는 길은 없다\\\"고 지적했다.\n",
            "박원식 보도국장은 \\\"1공영 다민영 체제로 방송광고 시장이 재편되고 민영 미디어렙이 방송광고 시장의 주도권을 잡자마자 각 방송사들은 광고 유치에 유리한 선정적이고 폭력적인 프로그램 제작에 혈안이 될 것\\\"이라고 주장하기도 했다.\n",
            "\n",
            "🔷 뉴스 본문 전처리 후\n",
            "여야가 민영 미디어렙 관련법 제정을 앞두고 있는 가운데 최시중 방송통신위원장이 1공영 다민영 체제로의 개편을 시사하는 발언을 했다. 정부여당이 이같은 체제로 일방 개편할 경우 지상파 TV로의 광고 쏠림 현상에 대해 종교지역방송을 포함해 상당수 언론사들이 반발이 있을 전망이다. 최시중 방송통신위원장은 지난 7일 서울 여의도 국회에서 열린 방송통신위원회 국정감사에서 김창수 자유선진당 의원이 1공영 1민영체제로 가는 것이 바람직하지 않느냐는 질문에 1공영 1민영은 헌재에서 판결한 정신에 알맞지 않은 것 같은 생각이 든다. 앞으로 활성화될 WTO 협정에도 다소 문제가 있다고 밝혔다. 최시중 위원장은 위원회에서 공식적인 협의를 한 바 없다고 일축했지만 국회 문방위에서 광고 제도에 대한 심의를 시작하면 방통위도 지체 없이 견해를 전달할 것이라고 밝혀 이르면 10월 중 정부의 입장이 명확히 드러날 전망이다. 그러나 정부가 현재의 1공영 1민영 체제 대신 1공영 다민영 체제 입장을 밝힐 경우 파문이 커질 전망이다. 김창수 의원은 1공영 KOBACO 체제에서 민영 미디어렙 도입되면서 광고시장이 다변화되고 기존의 시스템이 완전히 바뀌고 그에 따라서 지역방송이나 종교특수방송 운영에도 심각한 운영미치는 게 예상되고 있다고 지적했다. 이경재 한나라당 의원은 기존의 지상파는 13에서 많게는 70까지 증가될 것이지만 나머지 지역 방송이나 케이블중소방송은 2030 줄어든다는 통계가 있다고 설명했다. 이 의원은 방송사가 광고 대행사 미디어렙을 직간접적으로 소유할 경우 더 불균형화 된다며 미디어법보다도 엄청난 지각 변동을 일으킬 것이라고 경고했다. 박원식 불교방송 보도국장도 지역 민방과 종교 방송사들은 민영 미디어렙의 도입으로 인해 방송광고의 공영체제가 붕괴될 경우 존폐의 기로에 서게 된다며 특히 종교 방송의 경우 방송 수입의 8090가 줄어드는 마당에 생존할 수 있는 길은 없다고 지적했다. 박원식 보도국장은 1공영 다민영 체제로 방송광고 시장이 재편되고 민영 미디어렙이 방송광고 시장의 주도권을 잡자마자 각 방송사들은 광고 유치에 유리한 선정적이고 폭력적인 프로그램 제작에 혈안이 될 것이라고 주장하기도 했다.\n",
            "\n",
            "🔶 뉴스 본문 리스트화 전처리 전\n",
            "[\"여야가 민영 미디어렙(Media Representative·방송광고판매대행사) 관련법 제정을 앞두고 있는 가운데, 최시중 방송통신위원장이 '1공영 다민영' 체제로의 개편을 시사하는 발언을 했다.\", '정부·여당이 이같은 체제로 일방 개편할 경우 지상파 TV로의 광고 쏠림 현상에 대해 종교·지역방송을 포함해 상당수 언론사들이 반발이 있을 전망이다.', '최시중 방송통신위원장은 지난 7일 서울 여의도 국회에서 열린 방송통신위원회 국정감사에서 김창수 자유선진당 의원이 \\'1공영 1민영체제로 가는 것이 바람직하지 않느냐\\'는 질문에 \\\\\"1공영 1민영은 헌재에서 판결한 정신에 알맞지 않은 것 같은 생각이 든다. 앞으로 활성화될 WTO 협정에도 다소 문제가 있다\\\\\"고 밝혔다.', '최시중 위원장은 \\\\\"위원회에서 공식적인 협의를 한 바 없다\\\\\"고 일축했지만 \\\\\"국회 문방위에서 광고 제도에 대한 심의를 시작하면 방통위도 지체 없이 견해를 전달할 것\\\\\"이라고 밝혀 이르면 10월 중 정부의 입장이 명확히 드러날 전망이다.', \"그러나 정부가 현재의 '1공영 1민영' 체제 대신 '1공영 다민영' 체제 입장을 밝힐 경우 파문이 커질 전망이다.\", '김창수 의원은 \\\\\"1공영 KOBACO(한국방송광고공사) 체제에서 민영 미디어렙 도입되면서 광고시장이 다변화되고 기존의 시스템이 완전히 바뀌고 그에 따라서 지역방송이나 종교·특수방송 운영에도 심각한 운영미치는 게 예상되고 있다\\\\\"고 지적했다.', '이경재 한나라당 의원은 \\\\\"기존의 지상파는 (광고가)13%에서 많게는 70%까지 증가될 것\\\\\"이지만 \\\\\"나머지 지역 방송이나 케이블·중소방송은 20~30% 줄어든다는 통계가 있다\\\\\"고 설명했다.', '이 의원은 \\\\\"방송사가 광고 대행사 미디어렙을 직·간접적으로 소유할 경우 더 (광고시장이)불균형화 된다\\\\\"며 \\\\\"미디어법보다도 엄청난 지각 변동을 일으킬 것\\\\\"이라고 경고했다.', '박원식 불교방송 보도국장(종교방송협의회 간사)도 \\\\\"지역 민방과 종교 방송사들은 민영 미디어렙의 도입으로 인해 방송광고의 공영체제가 붕괴될 경우, 존폐의 기로에 서게 된다\\\\\"며 \\\\\"특히 종교 방송의 경우 방송 수입의 80~90%가 줄어드는 마당에 생존할 수 있는 길은 없다\\\\\"고 지적했다.', '박원식 보도국장은 \\\\\"1공영 다민영 체제로 방송광고 시장이 재편되고 민영 미디어렙이 방송광고 시장의 주도권을 잡자마자 각 방송사들은 광고 유치에 유리한 선정적이고 폭력적인 프로그램 제작에 혈안이 될 것\\\\\"이라고 주장하기도 했다.']\n",
            "\n",
            "🔷 뉴스 본문 리스트화 전처리 후\n",
            "['여야가 민영 미디어렙 관련법 제정을 앞두고 있는 가운데 최시중 방송통신위원장이 1공영 다민영 체제로의 개편을 시사하는 발언을 했다.', '정부여당이 이같은 체제로 일방 개편할 경우 지상파 TV로의 광고 쏠림 현상에 대해 종교지역방송을 포함해 상당수 언론사들이 반발이 있을 전망이다.', '최시중 방송통신위원장은 지난 7일 서울 여의도 국회에서 열린 방송통신위원회 국정감사에서 김창수 자유선진당 의원이 1공영 1민영체제로 가는 것이 바람직하지 않느냐는 질문에 1공영 1민영은 헌재에서 판결한 정신에 알맞지 않은 것 같은 생각이 든다. 앞으로 활성화될 WTO 협정에도 다소 문제가 있다고 밝혔다.', '최시중 위원장은 위원회에서 공식적인 협의를 한 바 없다고 일축했지만 국회 문방위에서 광고 제도에 대한 심의를 시작하면 방통위도 지체 없이 견해를 전달할 것이라고 밝혀 이르면 10월 중 정부의 입장이 명확히 드러날 전망이다.', '그러나 정부가 현재의 1공영 1민영 체제 대신 1공영 다민영 체제 입장을 밝힐 경우 파문이 커질 전망이다.', '김창수 의원은 1공영 KOBACO 체제에서 민영 미디어렙 도입되면서 광고시장이 다변화되고 기존의 시스템이 완전히 바뀌고 그에 따라서 지역방송이나 종교특수방송 운영에도 심각한 운영미치는 게 예상되고 있다고 지적했다.', '이경재 한나라당 의원은 기존의 지상파는 13에서 많게는 70까지 증가될 것이지만 나머지 지역 방송이나 케이블중소방송은 2030 줄어든다는 통계가 있다고 설명했다.', '이 의원은 방송사가 광고 대행사 미디어렙을 직간접적으로 소유할 경우 더 불균형화 된다며 미디어법보다도 엄청난 지각 변동을 일으킬 것이라고 경고했다.', '박원식 불교방송 보도국장도 지역 민방과 종교 방송사들은 민영 미디어렙의 도입으로 인해 방송광고의 공영체제가 붕괴될 경우 존폐의 기로에 서게 된다며 특히 종교 방송의 경우 방송 수입의 8090가 줄어드는 마당에 생존할 수 있는 길은 없다고 지적했다.', '박원식 보도국장은 1공영 다민영 체제로 방송광고 시장이 재편되고 민영 미디어렙이 방송광고 시장의 주도권을 잡자마자 각 방송사들은 광고 유치에 유리한 선정적이고 폭력적인 프로그램 제작에 혈안이 될 것이라고 주장하기도 했다.']\n",
            "\n"
          ]
        }
      ],
      "source": [
        "check_samples(result, total_csv)"
      ]
    },
    {
      "cell_type": "markdown",
      "metadata": {},
      "source": [
        "전처리를 위해 단어 개수와 문장 개수 확인"
      ]
    },
    {
      "cell_type": "code",
      "execution_count": 29,
      "metadata": {},
      "outputs": [
        {
          "data": {
            "image/png": "[encoded data removed]",
            "text/plain": [
              "<Figure size 1000x600 with 1 Axes>"
            ]
          },
          "metadata": {},
          "output_type": "display_data"
        }
      ],
      "source": [
        "# 분포 시각화\n",
        "plt.figure(figsize=(10, 6))\n",
        "\n",
        "# 히스토그램\n",
        "sns.histplot(total_csv['sentenceCount'], bins=30, kde=True, stat='density')\n",
        "sns.kdeplot(total_csv['sentenceCount'], linewidth=2)\n",
        "\n",
        "plt.title('SentenceNum Distribution')\n",
        "plt.xlabel('SentenceNum')\n",
        "plt.ylabel('Density')\n",
        "plt.show()"
      ]
    },
    {
      "cell_type": "markdown",
      "metadata": {},
      "source": [
        "문장 개수가 10 이하인 경우가 가장 많지만 너무 짧으면 안 좋기 때문에 문장 개수가 6개 이하인 경우는 삭제"
      ]
    },
    {
      "cell_type": "code",
      "execution_count": 40,
      "metadata": {},
      "outputs": [],
      "source": [
        "# sentenceCount 6개 이하인 경우 삭제\n",
        "total_csv2 = total_csv[total_csv['sentenceCount'] > 6]"
      ]
    },
    {
      "cell_type": "code",
      "execution_count": 41,
      "metadata": {},
      "outputs": [
        {
          "data": {
            "text/plain": [
              "(270179, 11)"
            ]
          },
          "execution_count": 41,
          "metadata": {},
          "output_type": "execute_result"
        }
      ],
      "source": [
        "total_csv2.shape"
      ]
    },
    {
      "cell_type": "markdown",
      "metadata": {},
      "source": [
        "약 2만개의 데이터 삭제"
      ]
    },
    {
      "cell_type": "code",
      "execution_count": 43,
      "metadata": {},
      "outputs": [],
      "source": [
        "# 단어 개수 세기(토큰화 개수를 확인하기에는 무리가 있어서, 띄어쓰기 기준으로 단어 개수 확인)\n",
        "def count_words(text):\n",
        "    words = text.split()\n",
        "    return len(words)"
      ]
    },
    {
      "cell_type": "code",
      "execution_count": 44,
      "metadata": {},
      "outputs": [
        {
          "name": "stderr",
          "output_type": "stream",
          "text": [
            "/var/folders/_2/0y9p0cnd0_75wgb8xjd2yhfw0000gn/T/ipykernel_2034/2398109805.py:1: SettingWithCopyWarning: \n",
            "A value is trying to be set on a copy of a slice from a DataFrame.\n",
            "Try using .loc[row_indexer,col_indexer] = value instead\n",
            "\n",
            "See the caveats in the documentation: https://pandas.pydata.org/pandas-docs/stable/user_guide/indexing.html#returning-a-view-versus-a-copy\n",
            "  total_csv2['wordCount'] = total_csv2['newsContent'].apply(count_words)\n"
          ]
        }
      ],
      "source": [
        "# 단어 개수 세기\n",
        "total_csv2['wordCount'] = total_csv2['newsContent'].apply(count_words)"
      ]
    },
    {
      "cell_type": "code",
      "execution_count": 47,
      "metadata": {},
      "outputs": [
        {
          "data": {
            "image/png": "[encoded data removed]",
            "text/plain": [
              "<Figure size 1000x600 with 1 Axes>"
            ]
          },
          "metadata": {},
          "output_type": "display_data"
        }
      ],
      "source": [
        "# 분포 시각화\n",
        "plt.figure(figsize=(10, 6))\n",
        "\n",
        "# 히스토그램\n",
        "sns.histplot(total_csv2['wordCount'], bins=30, kde=True, stat='density')\n",
        "sns.kdeplot(total_csv2['wordCount'], linewidth=2)\n",
        "\n",
        "plt.title('wordCount Distribution')\n",
        "plt.xlabel('wordCount')\n",
        "plt.ylabel('Density')\n",
        "plt.show()"
      ]
    },
    {
      "cell_type": "code",
      "execution_count": 52,
      "metadata": {},
      "outputs": [
        {
          "data": {
            "text/plain": [
              "count    270179.000000\n",
              "mean        236.368818\n",
              "std         113.740955\n",
              "min          10.000000\n",
              "25%         157.000000\n",
              "50%         209.000000\n",
              "75%         283.000000\n",
              "max        1315.000000\n",
              "Name: wordCount, dtype: float64"
            ]
          },
          "execution_count": 52,
          "metadata": {},
          "output_type": "execute_result"
        }
      ],
      "source": [
        "total_csv2['wordCount'].describe()"
      ]
    },
    {
      "cell_type": "markdown",
      "metadata": {},
      "source": [
        "대부분 단어 개수가 200개이다. 100개 이하인 경우가 있다면 삭제해야겠다."
      ]
    },
    {
      "cell_type": "code",
      "execution_count": 55,
      "metadata": {},
      "outputs": [],
      "source": [
        "# wordCount 100개 이하인 경우 삭제\n",
        "total_csv3 = total_csv2[total_csv2['wordCount'] > 100]"
      ]
    },
    {
      "cell_type": "code",
      "execution_count": 56,
      "metadata": {},
      "outputs": [
        {
          "data": {
            "text/plain": [
              "(262318, 12)"
            ]
          },
          "execution_count": 56,
          "metadata": {},
          "output_type": "execute_result"
        }
      ],
      "source": [
        "total_csv3.shape"
      ]
    },
    {
      "cell_type": "markdown",
      "metadata": {},
      "source": [
        "약 7000개의 데이터 삭제"
      ]
    },
    {
      "cell_type": "code",
      "execution_count": 57,
      "metadata": {},
      "outputs": [],
      "source": [
        "# 전처리 완료 파일 저장\n",
        "total_csv3.to_csv('/Users/leesanghyuk/Python_Programs/Projects/Data/TotalCSV_Processed/totalData.csv', index=False, encoding='utf-8-sig')\n",
        "total_csv3.to_pickle('/Users/leesanghyuk/Python_Programs/Projects/Data/TotalCSV_Processed/totalData.pkl')"
      ]
    }
  ],
  "metadata": {
    "colab": {
      "provenance": []
    },
    "kernelspec": {
      "display_name": "Python 3",
      "name": "python3"
    },
    "language_info": {
      "codemirror_mode": {
        "name": "ipython",
        "version": 3
      },
      "file_extension": ".py",
      "mimetype": "text/x-python",
      "name": "python",
      "nbconvert_exporter": "python",
      "pygments_lexer": "ipython3",
      "version": "3.12.1"
    },
    "widgets": {
      "application/vnd.jupyter.widget-state+json": {
        "00bcaf6ea44c43878750a26a4193bdc2": {
          "model_module": "@jupyter-widgets/base",
          "model_module_version": "1.2.0",
          "model_name": "LayoutModel",
          "state": {
            "_model_module": "@jupyter-widgets/base",
            "_model_module_version": "1.2.0",
            "_model_name": "LayoutModel",
            "_view_count": null,
            "_view_module": "@jupyter-widgets/base",
            "_view_module_version": "1.2.0",
            "_view_name": "LayoutView",
            "align_content": null,
            "align_items": null,
            "align_self": null,
            "border": null,
            "bottom": null,
            "display": null,
            "flex": null,
            "flex_flow": null,
            "grid_area": null,
            "grid_auto_columns": null,
            "grid_auto_flow": null,
            "grid_auto_rows": null,
            "grid_column": null,
            "grid_gap": null,
            "grid_row": null,
            "grid_template_areas": null,
            "grid_template_columns": null,
            "grid_template_rows": null,
            "height": null,
            "justify_content": null,
            "justify_items": null,
            "left": null,
            "margin": null,
            "max_height": null,
            "max_width": null,
            "min_height": null,
            "min_width": null,
            "object_fit": null,
            "object_position": null,
            "order": null,
            "overflow": null,
            "overflow_x": null,
            "overflow_y": null,
            "padding": null,
            "right": null,
            "top": null,
            "visibility": null,
            "width": null
          }
        },
        "025e59360ea1489fa7c875c283b00348": {
          "model_module": "@jupyter-widgets/controls",
          "model_module_version": "1.5.0",
          "model_name": "ProgressStyleModel",
          "state": {
            "_model_module": "@jupyter-widgets/controls",
            "_model_module_version": "1.5.0",
            "_model_name": "ProgressStyleModel",
            "_view_count": null,
            "_view_module": "@jupyter-widgets/base",
            "_view_module_version": "1.2.0",
            "_view_name": "StyleView",
            "bar_color": null,
            "description_width": ""
          }
        },
        "0347f4d8c5e6478bb073c9cb2083fed4": {
          "model_module": "@jupyter-widgets/controls",
          "model_module_version": "1.5.0",
          "model_name": "HTMLModel",
          "state": {
            "_dom_classes": [],
            "_model_module": "@jupyter-widgets/controls",
            "_model_module_version": "1.5.0",
            "_model_name": "HTMLModel",
            "_view_count": null,
            "_view_module": "@jupyter-widgets/controls",
            "_view_module_version": "1.5.0",
            "_view_name": "HTMLView",
            "description": "",
            "description_tooltip": null,
            "layout": "IPY_MODEL_4ed6c1318eaf4da08745ca0187ae5b44",
            "placeholder": "​",
            "style": "IPY_MODEL_3c790d204c5442e3b2e059d1ac5e2cfe",
            "value": " 17508/17508 [04:07&lt;00:00, 58.82it/s]"
          }
        },
        "03b3e43eae964812942cff01dc1d4c0d": {
          "model_module": "@jupyter-widgets/controls",
          "model_module_version": "1.5.0",
          "model_name": "HBoxModel",
          "state": {
            "_dom_classes": [],
            "_model_module": "@jupyter-widgets/controls",
            "_model_module_version": "1.5.0",
            "_model_name": "HBoxModel",
            "_view_count": null,
            "_view_module": "@jupyter-widgets/controls",
            "_view_module_version": "1.5.0",
            "_view_name": "HBoxView",
            "box_style": "",
            "children": [
              "IPY_MODEL_e3e14e13049f4182bfac4f93e4e7d8e8",
              "IPY_MODEL_123001441a464b3b9aa15113681ae0c7",
              "IPY_MODEL_07b080633b344f7eb86d26cd616bc5e8"
            ],
            "layout": "IPY_MODEL_26b39d7e77f940d68c8ed5d3a0a3da6e"
          }
        },
        "03df4f04d4014da49731666a3250ee85": {
          "model_module": "@jupyter-widgets/controls",
          "model_module_version": "1.5.0",
          "model_name": "HTMLModel",
          "state": {
            "_dom_classes": [],
            "_model_module": "@jupyter-widgets/controls",
            "_model_module_version": "1.5.0",
            "_model_name": "HTMLModel",
            "_view_count": null,
            "_view_module": "@jupyter-widgets/controls",
            "_view_module_version": "1.5.0",
            "_view_name": "HTMLView",
            "description": "",
            "description_tooltip": null,
            "layout": "IPY_MODEL_f39eaca6e3eb4876ace24b0c40b03be6",
            "placeholder": "​",
            "style": "IPY_MODEL_bf64cca9b412486196fca3ec36c4f008",
            "value": " 14803/14803 [03:29&lt;00:00, 59.77it/s]"
          }
        },
        "04fe2fcfcb994dae84b45e0f7f10ff95": {
          "model_module": "@jupyter-widgets/controls",
          "model_module_version": "1.5.0",
          "model_name": "ProgressStyleModel",
          "state": {
            "_model_module": "@jupyter-widgets/controls",
            "_model_module_version": "1.5.0",
            "_model_name": "ProgressStyleModel",
            "_view_count": null,
            "_view_module": "@jupyter-widgets/base",
            "_view_module_version": "1.2.0",
            "_view_name": "StyleView",
            "bar_color": null,
            "description_width": ""
          }
        },
        "0594552374714959b82a395ea6052c92": {
          "model_module": "@jupyter-widgets/controls",
          "model_module_version": "1.5.0",
          "model_name": "DescriptionStyleModel",
          "state": {
            "_model_module": "@jupyter-widgets/controls",
            "_model_module_version": "1.5.0",
            "_model_name": "DescriptionStyleModel",
            "_view_count": null,
            "_view_module": "@jupyter-widgets/base",
            "_view_module_version": "1.2.0",
            "_view_name": "StyleView",
            "description_width": ""
          }
        },
        "060721577f204da1baf6158ebbc301b2": {
          "model_module": "@jupyter-widgets/controls",
          "model_module_version": "1.5.0",
          "model_name": "HTMLModel",
          "state": {
            "_dom_classes": [],
            "_model_module": "@jupyter-widgets/controls",
            "_model_module_version": "1.5.0",
            "_model_name": "HTMLModel",
            "_view_count": null,
            "_view_module": "@jupyter-widgets/controls",
            "_view_module_version": "1.5.0",
            "_view_name": "HTMLView",
            "description": "",
            "description_tooltip": null,
            "layout": "IPY_MODEL_29d5f7affab04991bf61a4d0abca88a3",
            "placeholder": "​",
            "style": "IPY_MODEL_0b359155cd804bc1a89fe599d7189378",
            "value": " 19900/19900 [04:45&lt;00:00, 53.79it/s]"
          }
        },
        "0750d3a4a63c4c51b19cea3aa54273b6": {
          "model_module": "@jupyter-widgets/controls",
          "model_module_version": "1.5.0",
          "model_name": "DescriptionStyleModel",
          "state": {
            "_model_module": "@jupyter-widgets/controls",
            "_model_module_version": "1.5.0",
            "_model_name": "DescriptionStyleModel",
            "_view_count": null,
            "_view_module": "@jupyter-widgets/base",
            "_view_module_version": "1.2.0",
            "_view_name": "StyleView",
            "description_width": ""
          }
        },
        "07ac744aa88d448bb784446838378012": {
          "model_module": "@jupyter-widgets/base",
          "model_module_version": "1.2.0",
          "model_name": "LayoutModel",
          "state": {
            "_model_module": "@jupyter-widgets/base",
            "_model_module_version": "1.2.0",
            "_model_name": "LayoutModel",
            "_view_count": null,
            "_view_module": "@jupyter-widgets/base",
            "_view_module_version": "1.2.0",
            "_view_name": "LayoutView",
            "align_content": null,
            "align_items": null,
            "align_self": null,
            "border": null,
            "bottom": null,
            "display": null,
            "flex": null,
            "flex_flow": null,
            "grid_area": null,
            "grid_auto_columns": null,
            "grid_auto_flow": null,
            "grid_auto_rows": null,
            "grid_column": null,
            "grid_gap": null,
            "grid_row": null,
            "grid_template_areas": null,
            "grid_template_columns": null,
            "grid_template_rows": null,
            "height": null,
            "justify_content": null,
            "justify_items": null,
            "left": null,
            "margin": null,
            "max_height": null,
            "max_width": null,
            "min_height": null,
            "min_width": null,
            "object_fit": null,
            "object_position": null,
            "order": null,
            "overflow": null,
            "overflow_x": null,
            "overflow_y": null,
            "padding": null,
            "right": null,
            "top": null,
            "visibility": null,
            "width": null
          }
        },
        "07b080633b344f7eb86d26cd616bc5e8": {
          "model_module": "@jupyter-widgets/controls",
          "model_module_version": "1.5.0",
          "model_name": "HTMLModel",
          "state": {
            "_dom_classes": [],
            "_model_module": "@jupyter-widgets/controls",
            "_model_module_version": "1.5.0",
            "_model_name": "HTMLModel",
            "_view_count": null,
            "_view_module": "@jupyter-widgets/controls",
            "_view_module_version": "1.5.0",
            "_view_name": "HTMLView",
            "description": "",
            "description_tooltip": null,
            "layout": "IPY_MODEL_99d020ec7c6c405e96cf23b90e66538d",
            "placeholder": "​",
            "style": "IPY_MODEL_e0139c03534243f09ac6b7f19e0cdc7f",
            "value": " 20668/20668 [05:53&lt;00:00, 10.22it/s]"
          }
        },
        "0b359155cd804bc1a89fe599d7189378": {
          "model_module": "@jupyter-widgets/controls",
          "model_module_version": "1.5.0",
          "model_name": "DescriptionStyleModel",
          "state": {
            "_model_module": "@jupyter-widgets/controls",
            "_model_module_version": "1.5.0",
            "_model_name": "DescriptionStyleModel",
            "_view_count": null,
            "_view_module": "@jupyter-widgets/base",
            "_view_module_version": "1.2.0",
            "_view_name": "StyleView",
            "description_width": ""
          }
        },
        "0c051bf311a14fc6860b122decb3dff0": {
          "model_module": "@jupyter-widgets/controls",
          "model_module_version": "1.5.0",
          "model_name": "HTMLModel",
          "state": {
            "_dom_classes": [],
            "_model_module": "@jupyter-widgets/controls",
            "_model_module_version": "1.5.0",
            "_model_name": "HTMLModel",
            "_view_count": null,
            "_view_module": "@jupyter-widgets/controls",
            "_view_module_version": "1.5.0",
            "_view_name": "HTMLView",
            "description": "",
            "description_tooltip": null,
            "layout": "IPY_MODEL_154d258c4a644b178656ec2a60b02cad",
            "placeholder": "​",
            "style": "IPY_MODEL_98c208494c7b43a7b1c73f4d75e998e6",
            "value": "Extracting files from TS_Part2_NonClickbait_Auto_IS.zip: 100%"
          }
        },
        "0d45e07dbc924a478a88680d6e7b8f3b": {
          "model_module": "@jupyter-widgets/controls",
          "model_module_version": "1.5.0",
          "model_name": "DescriptionStyleModel",
          "state": {
            "_model_module": "@jupyter-widgets/controls",
            "_model_module_version": "1.5.0",
            "_model_name": "DescriptionStyleModel",
            "_view_count": null,
            "_view_module": "@jupyter-widgets/base",
            "_view_module_version": "1.2.0",
            "_view_name": "StyleView",
            "description_width": ""
          }
        },
        "0fdda241c42344ff991699223903beae": {
          "model_module": "@jupyter-widgets/base",
          "model_module_version": "1.2.0",
          "model_name": "LayoutModel",
          "state": {
            "_model_module": "@jupyter-widgets/base",
            "_model_module_version": "1.2.0",
            "_model_name": "LayoutModel",
            "_view_count": null,
            "_view_module": "@jupyter-widgets/base",
            "_view_module_version": "1.2.0",
            "_view_name": "LayoutView",
            "align_content": null,
            "align_items": null,
            "align_self": null,
            "border": null,
            "bottom": null,
            "display": null,
            "flex": null,
            "flex_flow": null,
            "grid_area": null,
            "grid_auto_columns": null,
            "grid_auto_flow": null,
            "grid_auto_rows": null,
            "grid_column": null,
            "grid_gap": null,
            "grid_row": null,
            "grid_template_areas": null,
            "grid_template_columns": null,
            "grid_template_rows": null,
            "height": null,
            "justify_content": null,
            "justify_items": null,
            "left": null,
            "margin": null,
            "max_height": null,
            "max_width": null,
            "min_height": null,
            "min_width": null,
            "object_fit": null,
            "object_position": null,
            "order": null,
            "overflow": null,
            "overflow_x": null,
            "overflow_y": null,
            "padding": null,
            "right": null,
            "top": null,
            "visibility": null,
            "width": null
          }
        },
        "113ca0b4103c48f697e338d3f8e73744": {
          "model_module": "@jupyter-widgets/base",
          "model_module_version": "1.2.0",
          "model_name": "LayoutModel",
          "state": {
            "_model_module": "@jupyter-widgets/base",
            "_model_module_version": "1.2.0",
            "_model_name": "LayoutModel",
            "_view_count": null,
            "_view_module": "@jupyter-widgets/base",
            "_view_module_version": "1.2.0",
            "_view_name": "LayoutView",
            "align_content": null,
            "align_items": null,
            "align_self": null,
            "border": null,
            "bottom": null,
            "display": null,
            "flex": null,
            "flex_flow": null,
            "grid_area": null,
            "grid_auto_columns": null,
            "grid_auto_flow": null,
            "grid_auto_rows": null,
            "grid_column": null,
            "grid_gap": null,
            "grid_row": null,
            "grid_template_areas": null,
            "grid_template_columns": null,
            "grid_template_rows": null,
            "height": null,
            "justify_content": null,
            "justify_items": null,
            "left": null,
            "margin": null,
            "max_height": null,
            "max_width": null,
            "min_height": null,
            "min_width": null,
            "object_fit": null,
            "object_position": null,
            "order": null,
            "overflow": null,
            "overflow_x": null,
            "overflow_y": null,
            "padding": null,
            "right": null,
            "top": null,
            "visibility": null,
            "width": null
          }
        },
        "121c33de1b5c428fae52dac523d97c85": {
          "model_module": "@jupyter-widgets/controls",
          "model_module_version": "1.5.0",
          "model_name": "DescriptionStyleModel",
          "state": {
            "_model_module": "@jupyter-widgets/controls",
            "_model_module_version": "1.5.0",
            "_model_name": "DescriptionStyleModel",
            "_view_count": null,
            "_view_module": "@jupyter-widgets/base",
            "_view_module_version": "1.2.0",
            "_view_name": "StyleView",
            "description_width": ""
          }
        },
        "123001441a464b3b9aa15113681ae0c7": {
          "model_module": "@jupyter-widgets/controls",
          "model_module_version": "1.5.0",
          "model_name": "FloatProgressModel",
          "state": {
            "_dom_classes": [],
            "_model_module": "@jupyter-widgets/controls",
            "_model_module_version": "1.5.0",
            "_model_name": "FloatProgressModel",
            "_view_count": null,
            "_view_module": "@jupyter-widgets/controls",
            "_view_module_version": "1.5.0",
            "_view_name": "ProgressView",
            "bar_style": "success",
            "description": "",
            "description_tooltip": null,
            "layout": "IPY_MODEL_113ca0b4103c48f697e338d3f8e73744",
            "max": 20668,
            "min": 0,
            "orientation": "horizontal",
            "style": "IPY_MODEL_025e59360ea1489fa7c875c283b00348",
            "value": 20668
          }
        },
        "154d258c4a644b178656ec2a60b02cad": {
          "model_module": "@jupyter-widgets/base",
          "model_module_version": "1.2.0",
          "model_name": "LayoutModel",
          "state": {
            "_model_module": "@jupyter-widgets/base",
            "_model_module_version": "1.2.0",
            "_model_name": "LayoutModel",
            "_view_count": null,
            "_view_module": "@jupyter-widgets/base",
            "_view_module_version": "1.2.0",
            "_view_name": "LayoutView",
            "align_content": null,
            "align_items": null,
            "align_self": null,
            "border": null,
            "bottom": null,
            "display": null,
            "flex": null,
            "flex_flow": null,
            "grid_area": null,
            "grid_auto_columns": null,
            "grid_auto_flow": null,
            "grid_auto_rows": null,
            "grid_column": null,
            "grid_gap": null,
            "grid_row": null,
            "grid_template_areas": null,
            "grid_template_columns": null,
            "grid_template_rows": null,
            "height": null,
            "justify_content": null,
            "justify_items": null,
            "left": null,
            "margin": null,
            "max_height": null,
            "max_width": null,
            "min_height": null,
            "min_width": null,
            "object_fit": null,
            "object_position": null,
            "order": null,
            "overflow": null,
            "overflow_x": null,
            "overflow_y": null,
            "padding": null,
            "right": null,
            "top": null,
            "visibility": null,
            "width": null
          }
        },
        "15ef786034ab41a19e1cccd9b0bd9b1e": {
          "model_module": "@jupyter-widgets/base",
          "model_module_version": "1.2.0",
          "model_name": "LayoutModel",
          "state": {
            "_model_module": "@jupyter-widgets/base",
            "_model_module_version": "1.2.0",
            "_model_name": "LayoutModel",
            "_view_count": null,
            "_view_module": "@jupyter-widgets/base",
            "_view_module_version": "1.2.0",
            "_view_name": "LayoutView",
            "align_content": null,
            "align_items": null,
            "align_self": null,
            "border": null,
            "bottom": null,
            "display": null,
            "flex": null,
            "flex_flow": null,
            "grid_area": null,
            "grid_auto_columns": null,
            "grid_auto_flow": null,
            "grid_auto_rows": null,
            "grid_column": null,
            "grid_gap": null,
            "grid_row": null,
            "grid_template_areas": null,
            "grid_template_columns": null,
            "grid_template_rows": null,
            "height": null,
            "justify_content": null,
            "justify_items": null,
            "left": null,
            "margin": null,
            "max_height": null,
            "max_width": null,
            "min_height": null,
            "min_width": null,
            "object_fit": null,
            "object_position": null,
            "order": null,
            "overflow": null,
            "overflow_x": null,
            "overflow_y": null,
            "padding": null,
            "right": null,
            "top": null,
            "visibility": null,
            "width": null
          }
        },
        "1e7ea00d38c143dba8cafc43ad0ce922": {
          "model_module": "@jupyter-widgets/controls",
          "model_module_version": "1.5.0",
          "model_name": "ProgressStyleModel",
          "state": {
            "_model_module": "@jupyter-widgets/controls",
            "_model_module_version": "1.5.0",
            "_model_name": "ProgressStyleModel",
            "_view_count": null,
            "_view_module": "@jupyter-widgets/base",
            "_view_module_version": "1.2.0",
            "_view_name": "StyleView",
            "bar_color": null,
            "description_width": ""
          }
        },
        "2012ef745389428e8ee5168f35dbf836": {
          "model_module": "@jupyter-widgets/base",
          "model_module_version": "1.2.0",
          "model_name": "LayoutModel",
          "state": {
            "_model_module": "@jupyter-widgets/base",
            "_model_module_version": "1.2.0",
            "_model_name": "LayoutModel",
            "_view_count": null,
            "_view_module": "@jupyter-widgets/base",
            "_view_module_version": "1.2.0",
            "_view_name": "LayoutView",
            "align_content": null,
            "align_items": null,
            "align_self": null,
            "border": null,
            "bottom": null,
            "display": null,
            "flex": null,
            "flex_flow": null,
            "grid_area": null,
            "grid_auto_columns": null,
            "grid_auto_flow": null,
            "grid_auto_rows": null,
            "grid_column": null,
            "grid_gap": null,
            "grid_row": null,
            "grid_template_areas": null,
            "grid_template_columns": null,
            "grid_template_rows": null,
            "height": null,
            "justify_content": null,
            "justify_items": null,
            "left": null,
            "margin": null,
            "max_height": null,
            "max_width": null,
            "min_height": null,
            "min_width": null,
            "object_fit": null,
            "object_position": null,
            "order": null,
            "overflow": null,
            "overflow_x": null,
            "overflow_y": null,
            "padding": null,
            "right": null,
            "top": null,
            "visibility": null,
            "width": null
          }
        },
        "21e78e0cc3c14b55931b5b1cd40e694e": {
          "model_module": "@jupyter-widgets/base",
          "model_module_version": "1.2.0",
          "model_name": "LayoutModel",
          "state": {
            "_model_module": "@jupyter-widgets/base",
            "_model_module_version": "1.2.0",
            "_model_name": "LayoutModel",
            "_view_count": null,
            "_view_module": "@jupyter-widgets/base",
            "_view_module_version": "1.2.0",
            "_view_name": "LayoutView",
            "align_content": null,
            "align_items": null,
            "align_self": null,
            "border": null,
            "bottom": null,
            "display": null,
            "flex": null,
            "flex_flow": null,
            "grid_area": null,
            "grid_auto_columns": null,
            "grid_auto_flow": null,
            "grid_auto_rows": null,
            "grid_column": null,
            "grid_gap": null,
            "grid_row": null,
            "grid_template_areas": null,
            "grid_template_columns": null,
            "grid_template_rows": null,
            "height": null,
            "justify_content": null,
            "justify_items": null,
            "left": null,
            "margin": null,
            "max_height": null,
            "max_width": null,
            "min_height": null,
            "min_width": null,
            "object_fit": null,
            "object_position": null,
            "order": null,
            "overflow": null,
            "overflow_x": null,
            "overflow_y": null,
            "padding": null,
            "right": null,
            "top": null,
            "visibility": null,
            "width": null
          }
        },
        "2354d59f9d6740eda4e76c99d0713427": {
          "model_module": "@jupyter-widgets/base",
          "model_module_version": "1.2.0",
          "model_name": "LayoutModel",
          "state": {
            "_model_module": "@jupyter-widgets/base",
            "_model_module_version": "1.2.0",
            "_model_name": "LayoutModel",
            "_view_count": null,
            "_view_module": "@jupyter-widgets/base",
            "_view_module_version": "1.2.0",
            "_view_name": "LayoutView",
            "align_content": null,
            "align_items": null,
            "align_self": null,
            "border": null,
            "bottom": null,
            "display": null,
            "flex": null,
            "flex_flow": null,
            "grid_area": null,
            "grid_auto_columns": null,
            "grid_auto_flow": null,
            "grid_auto_rows": null,
            "grid_column": null,
            "grid_gap": null,
            "grid_row": null,
            "grid_template_areas": null,
            "grid_template_columns": null,
            "grid_template_rows": null,
            "height": null,
            "justify_content": null,
            "justify_items": null,
            "left": null,
            "margin": null,
            "max_height": null,
            "max_width": null,
            "min_height": null,
            "min_width": null,
            "object_fit": null,
            "object_position": null,
            "order": null,
            "overflow": null,
            "overflow_x": null,
            "overflow_y": null,
            "padding": null,
            "right": null,
            "top": null,
            "visibility": null,
            "width": null
          }
        },
        "24890d011a924312b0f34621ce89e833": {
          "model_module": "@jupyter-widgets/base",
          "model_module_version": "1.2.0",
          "model_name": "LayoutModel",
          "state": {
            "_model_module": "@jupyter-widgets/base",
            "_model_module_version": "1.2.0",
            "_model_name": "LayoutModel",
            "_view_count": null,
            "_view_module": "@jupyter-widgets/base",
            "_view_module_version": "1.2.0",
            "_view_name": "LayoutView",
            "align_content": null,
            "align_items": null,
            "align_self": null,
            "border": null,
            "bottom": null,
            "display": null,
            "flex": null,
            "flex_flow": null,
            "grid_area": null,
            "grid_auto_columns": null,
            "grid_auto_flow": null,
            "grid_auto_rows": null,
            "grid_column": null,
            "grid_gap": null,
            "grid_row": null,
            "grid_template_areas": null,
            "grid_template_columns": null,
            "grid_template_rows": null,
            "height": null,
            "justify_content": null,
            "justify_items": null,
            "left": null,
            "margin": null,
            "max_height": null,
            "max_width": null,
            "min_height": null,
            "min_width": null,
            "object_fit": null,
            "object_position": null,
            "order": null,
            "overflow": null,
            "overflow_x": null,
            "overflow_y": null,
            "padding": null,
            "right": null,
            "top": null,
            "visibility": null,
            "width": null
          }
        },
        "24c6ded08c56412fa79831c74f0775b8": {
          "model_module": "@jupyter-widgets/controls",
          "model_module_version": "1.5.0",
          "model_name": "HTMLModel",
          "state": {
            "_dom_classes": [],
            "_model_module": "@jupyter-widgets/controls",
            "_model_module_version": "1.5.0",
            "_model_name": "HTMLModel",
            "_view_count": null,
            "_view_module": "@jupyter-widgets/controls",
            "_view_module_version": "1.5.0",
            "_view_name": "HTMLView",
            "description": "",
            "description_tooltip": null,
            "layout": "IPY_MODEL_00bcaf6ea44c43878750a26a4193bdc2",
            "placeholder": "​",
            "style": "IPY_MODEL_2e63889d3d14414a81f6727a7583fcbd",
            "value": "Extracting files from TS_Part2_Clickbait_Auto_PO.zip: 100%"
          }
        },
        "2552ef29e66e4238ba45aae41b48544f": {
          "model_module": "@jupyter-widgets/controls",
          "model_module_version": "1.5.0",
          "model_name": "HTMLModel",
          "state": {
            "_dom_classes": [],
            "_model_module": "@jupyter-widgets/controls",
            "_model_module_version": "1.5.0",
            "_model_name": "HTMLModel",
            "_view_count": null,
            "_view_module": "@jupyter-widgets/controls",
            "_view_module_version": "1.5.0",
            "_view_name": "HTMLView",
            "description": "",
            "description_tooltip": null,
            "layout": "IPY_MODEL_cb0493f323f34ef4994802042626e4bf",
            "placeholder": "​",
            "style": "IPY_MODEL_bcfd33d1ed364893b35327bd8703e0e8",
            "value": " 28284/28284 [07:39&lt;00:00, 53.75it/s]"
          }
        },
        "26b39d7e77f940d68c8ed5d3a0a3da6e": {
          "model_module": "@jupyter-widgets/base",
          "model_module_version": "1.2.0",
          "model_name": "LayoutModel",
          "state": {
            "_model_module": "@jupyter-widgets/base",
            "_model_module_version": "1.2.0",
            "_model_name": "LayoutModel",
            "_view_count": null,
            "_view_module": "@jupyter-widgets/base",
            "_view_module_version": "1.2.0",
            "_view_name": "LayoutView",
            "align_content": null,
            "align_items": null,
            "align_self": null,
            "border": null,
            "bottom": null,
            "display": null,
            "flex": null,
            "flex_flow": null,
            "grid_area": null,
            "grid_auto_columns": null,
            "grid_auto_flow": null,
            "grid_auto_rows": null,
            "grid_column": null,
            "grid_gap": null,
            "grid_row": null,
            "grid_template_areas": null,
            "grid_template_columns": null,
            "grid_template_rows": null,
            "height": null,
            "justify_content": null,
            "justify_items": null,
            "left": null,
            "margin": null,
            "max_height": null,
            "max_width": null,
            "min_height": null,
            "min_width": null,
            "object_fit": null,
            "object_position": null,
            "order": null,
            "overflow": null,
            "overflow_x": null,
            "overflow_y": null,
            "padding": null,
            "right": null,
            "top": null,
            "visibility": null,
            "width": null
          }
        },
        "281d5ca29d9b45d383dbdd0b7d8ec5d8": {
          "model_module": "@jupyter-widgets/controls",
          "model_module_version": "1.5.0",
          "model_name": "HTMLModel",
          "state": {
            "_dom_classes": [],
            "_model_module": "@jupyter-widgets/controls",
            "_model_module_version": "1.5.0",
            "_model_name": "HTMLModel",
            "_view_count": null,
            "_view_module": "@jupyter-widgets/controls",
            "_view_module_version": "1.5.0",
            "_view_name": "HTMLView",
            "description": "",
            "description_tooltip": null,
            "layout": "IPY_MODEL_2354d59f9d6740eda4e76c99d0713427",
            "placeholder": "​",
            "style": "IPY_MODEL_e799c3de27724cfb97ced227dc0ba2e2",
            "value": " 22084/22084 [05:24&lt;00:00, 59.94it/s]"
          }
        },
        "28b61f464d194ab281486921a18d0a6f": {
          "model_module": "@jupyter-widgets/base",
          "model_module_version": "1.2.0",
          "model_name": "LayoutModel",
          "state": {
            "_model_module": "@jupyter-widgets/base",
            "_model_module_version": "1.2.0",
            "_model_name": "LayoutModel",
            "_view_count": null,
            "_view_module": "@jupyter-widgets/base",
            "_view_module_version": "1.2.0",
            "_view_name": "LayoutView",
            "align_content": null,
            "align_items": null,
            "align_self": null,
            "border": null,
            "bottom": null,
            "display": null,
            "flex": null,
            "flex_flow": null,
            "grid_area": null,
            "grid_auto_columns": null,
            "grid_auto_flow": null,
            "grid_auto_rows": null,
            "grid_column": null,
            "grid_gap": null,
            "grid_row": null,
            "grid_template_areas": null,
            "grid_template_columns": null,
            "grid_template_rows": null,
            "height": null,
            "justify_content": null,
            "justify_items": null,
            "left": null,
            "margin": null,
            "max_height": null,
            "max_width": null,
            "min_height": null,
            "min_width": null,
            "object_fit": null,
            "object_position": null,
            "order": null,
            "overflow": null,
            "overflow_x": null,
            "overflow_y": null,
            "padding": null,
            "right": null,
            "top": null,
            "visibility": null,
            "width": null
          }
        },
        "29d5f7affab04991bf61a4d0abca88a3": {
          "model_module": "@jupyter-widgets/base",
          "model_module_version": "1.2.0",
          "model_name": "LayoutModel",
          "state": {
            "_model_module": "@jupyter-widgets/base",
            "_model_module_version": "1.2.0",
            "_model_name": "LayoutModel",
            "_view_count": null,
            "_view_module": "@jupyter-widgets/base",
            "_view_module_version": "1.2.0",
            "_view_name": "LayoutView",
            "align_content": null,
            "align_items": null,
            "align_self": null,
            "border": null,
            "bottom": null,
            "display": null,
            "flex": null,
            "flex_flow": null,
            "grid_area": null,
            "grid_auto_columns": null,
            "grid_auto_flow": null,
            "grid_auto_rows": null,
            "grid_column": null,
            "grid_gap": null,
            "grid_row": null,
            "grid_template_areas": null,
            "grid_template_columns": null,
            "grid_template_rows": null,
            "height": null,
            "justify_content": null,
            "justify_items": null,
            "left": null,
            "margin": null,
            "max_height": null,
            "max_width": null,
            "min_height": null,
            "min_width": null,
            "object_fit": null,
            "object_position": null,
            "order": null,
            "overflow": null,
            "overflow_x": null,
            "overflow_y": null,
            "padding": null,
            "right": null,
            "top": null,
            "visibility": null,
            "width": null
          }
        },
        "2ddea25959b54760aaa54acf19010551": {
          "model_module": "@jupyter-widgets/controls",
          "model_module_version": "1.5.0",
          "model_name": "FloatProgressModel",
          "state": {
            "_dom_classes": [],
            "_model_module": "@jupyter-widgets/controls",
            "_model_module_version": "1.5.0",
            "_model_name": "FloatProgressModel",
            "_view_count": null,
            "_view_module": "@jupyter-widgets/controls",
            "_view_module_version": "1.5.0",
            "_view_name": "ProgressView",
            "bar_style": "success",
            "description": "",
            "description_tooltip": null,
            "layout": "IPY_MODEL_624e76858fdd4a44a22bd16263044108",
            "max": 21381,
            "min": 0,
            "orientation": "horizontal",
            "style": "IPY_MODEL_3eb084fed8e9437abc8a2898bb394417",
            "value": 21381
          }
        },
        "2e63889d3d14414a81f6727a7583fcbd": {
          "model_module": "@jupyter-widgets/controls",
          "model_module_version": "1.5.0",
          "model_name": "DescriptionStyleModel",
          "state": {
            "_model_module": "@jupyter-widgets/controls",
            "_model_module_version": "1.5.0",
            "_model_name": "DescriptionStyleModel",
            "_view_count": null,
            "_view_module": "@jupyter-widgets/base",
            "_view_module_version": "1.2.0",
            "_view_name": "StyleView",
            "description_width": ""
          }
        },
        "3695d4c950d94f0388298913e03da460": {
          "model_module": "@jupyter-widgets/base",
          "model_module_version": "1.2.0",
          "model_name": "LayoutModel",
          "state": {
            "_model_module": "@jupyter-widgets/base",
            "_model_module_version": "1.2.0",
            "_model_name": "LayoutModel",
            "_view_count": null,
            "_view_module": "@jupyter-widgets/base",
            "_view_module_version": "1.2.0",
            "_view_name": "LayoutView",
            "align_content": null,
            "align_items": null,
            "align_self": null,
            "border": null,
            "bottom": null,
            "display": null,
            "flex": null,
            "flex_flow": null,
            "grid_area": null,
            "grid_auto_columns": null,
            "grid_auto_flow": null,
            "grid_auto_rows": null,
            "grid_column": null,
            "grid_gap": null,
            "grid_row": null,
            "grid_template_areas": null,
            "grid_template_columns": null,
            "grid_template_rows": null,
            "height": null,
            "justify_content": null,
            "justify_items": null,
            "left": null,
            "margin": null,
            "max_height": null,
            "max_width": null,
            "min_height": null,
            "min_width": null,
            "object_fit": null,
            "object_position": null,
            "order": null,
            "overflow": null,
            "overflow_x": null,
            "overflow_y": null,
            "padding": null,
            "right": null,
            "top": null,
            "visibility": null,
            "width": null
          }
        },
        "37f1da7ac72645e095af1019bf0f6678": {
          "model_module": "@jupyter-widgets/controls",
          "model_module_version": "1.5.0",
          "model_name": "HBoxModel",
          "state": {
            "_dom_classes": [],
            "_model_module": "@jupyter-widgets/controls",
            "_model_module_version": "1.5.0",
            "_model_name": "HBoxModel",
            "_view_count": null,
            "_view_module": "@jupyter-widgets/controls",
            "_view_module_version": "1.5.0",
            "_view_name": "HBoxView",
            "box_style": "",
            "children": [
              "IPY_MODEL_0c051bf311a14fc6860b122decb3dff0",
              "IPY_MODEL_81f9534349674dc7b396d1d0f01e8812",
              "IPY_MODEL_060721577f204da1baf6158ebbc301b2"
            ],
            "layout": "IPY_MODEL_b8c7222f8dd04511a8e3f65c283a487e"
          }
        },
        "3c790d204c5442e3b2e059d1ac5e2cfe": {
          "model_module": "@jupyter-widgets/controls",
          "model_module_version": "1.5.0",
          "model_name": "DescriptionStyleModel",
          "state": {
            "_model_module": "@jupyter-widgets/controls",
            "_model_module_version": "1.5.0",
            "_model_name": "DescriptionStyleModel",
            "_view_count": null,
            "_view_module": "@jupyter-widgets/base",
            "_view_module_version": "1.2.0",
            "_view_name": "StyleView",
            "description_width": ""
          }
        },
        "3eb084fed8e9437abc8a2898bb394417": {
          "model_module": "@jupyter-widgets/controls",
          "model_module_version": "1.5.0",
          "model_name": "ProgressStyleModel",
          "state": {
            "_model_module": "@jupyter-widgets/controls",
            "_model_module_version": "1.5.0",
            "_model_name": "ProgressStyleModel",
            "_view_count": null,
            "_view_module": "@jupyter-widgets/base",
            "_view_module_version": "1.2.0",
            "_view_name": "StyleView",
            "bar_color": null,
            "description_width": ""
          }
        },
        "3fa4c571b52842acafbcf71aa64ed8b2": {
          "model_module": "@jupyter-widgets/controls",
          "model_module_version": "1.5.0",
          "model_name": "ProgressStyleModel",
          "state": {
            "_model_module": "@jupyter-widgets/controls",
            "_model_module_version": "1.5.0",
            "_model_name": "ProgressStyleModel",
            "_view_count": null,
            "_view_module": "@jupyter-widgets/base",
            "_view_module_version": "1.2.0",
            "_view_name": "StyleView",
            "bar_color": null,
            "description_width": ""
          }
        },
        "4119a455c5c640f290344888a593573d": {
          "model_module": "@jupyter-widgets/controls",
          "model_module_version": "1.5.0",
          "model_name": "HTMLModel",
          "state": {
            "_dom_classes": [],
            "_model_module": "@jupyter-widgets/controls",
            "_model_module_version": "1.5.0",
            "_model_name": "HTMLModel",
            "_view_count": null,
            "_view_module": "@jupyter-widgets/controls",
            "_view_module_version": "1.5.0",
            "_view_name": "HTMLView",
            "description": "",
            "description_tooltip": null,
            "layout": "IPY_MODEL_c4378334e701421bb59bcc6f208f4b8b",
            "placeholder": "​",
            "style": "IPY_MODEL_e790838293d240db85ff78a9ebf6c9ff",
            "value": " 17660/17660 [04:12&lt;00:00, 65.43it/s]"
          }
        },
        "45471fc689a4418882f6a5ba31119e24": {
          "model_module": "@jupyter-widgets/controls",
          "model_module_version": "1.5.0",
          "model_name": "DescriptionStyleModel",
          "state": {
            "_model_module": "@jupyter-widgets/controls",
            "_model_module_version": "1.5.0",
            "_model_name": "DescriptionStyleModel",
            "_view_count": null,
            "_view_module": "@jupyter-widgets/base",
            "_view_module_version": "1.2.0",
            "_view_name": "StyleView",
            "description_width": ""
          }
        },
        "485883cf25554f7ba99f7d0e48e655cc": {
          "model_module": "@jupyter-widgets/base",
          "model_module_version": "1.2.0",
          "model_name": "LayoutModel",
          "state": {
            "_model_module": "@jupyter-widgets/base",
            "_model_module_version": "1.2.0",
            "_model_name": "LayoutModel",
            "_view_count": null,
            "_view_module": "@jupyter-widgets/base",
            "_view_module_version": "1.2.0",
            "_view_name": "LayoutView",
            "align_content": null,
            "align_items": null,
            "align_self": null,
            "border": null,
            "bottom": null,
            "display": null,
            "flex": null,
            "flex_flow": null,
            "grid_area": null,
            "grid_auto_columns": null,
            "grid_auto_flow": null,
            "grid_auto_rows": null,
            "grid_column": null,
            "grid_gap": null,
            "grid_row": null,
            "grid_template_areas": null,
            "grid_template_columns": null,
            "grid_template_rows": null,
            "height": null,
            "justify_content": null,
            "justify_items": null,
            "left": null,
            "margin": null,
            "max_height": null,
            "max_width": null,
            "min_height": null,
            "min_width": null,
            "object_fit": null,
            "object_position": null,
            "order": null,
            "overflow": null,
            "overflow_x": null,
            "overflow_y": null,
            "padding": null,
            "right": null,
            "top": null,
            "visibility": null,
            "width": null
          }
        },
        "4ed6c1318eaf4da08745ca0187ae5b44": {
          "model_module": "@jupyter-widgets/base",
          "model_module_version": "1.2.0",
          "model_name": "LayoutModel",
          "state": {
            "_model_module": "@jupyter-widgets/base",
            "_model_module_version": "1.2.0",
            "_model_name": "LayoutModel",
            "_view_count": null,
            "_view_module": "@jupyter-widgets/base",
            "_view_module_version": "1.2.0",
            "_view_name": "LayoutView",
            "align_content": null,
            "align_items": null,
            "align_self": null,
            "border": null,
            "bottom": null,
            "display": null,
            "flex": null,
            "flex_flow": null,
            "grid_area": null,
            "grid_auto_columns": null,
            "grid_auto_flow": null,
            "grid_auto_rows": null,
            "grid_column": null,
            "grid_gap": null,
            "grid_row": null,
            "grid_template_areas": null,
            "grid_template_columns": null,
            "grid_template_rows": null,
            "height": null,
            "justify_content": null,
            "justify_items": null,
            "left": null,
            "margin": null,
            "max_height": null,
            "max_width": null,
            "min_height": null,
            "min_width": null,
            "object_fit": null,
            "object_position": null,
            "order": null,
            "overflow": null,
            "overflow_x": null,
            "overflow_y": null,
            "padding": null,
            "right": null,
            "top": null,
            "visibility": null,
            "width": null
          }
        },
        "529ec6cb5d5d428bac57ab0ff94ddb04": {
          "model_module": "@jupyter-widgets/controls",
          "model_module_version": "1.5.0",
          "model_name": "FloatProgressModel",
          "state": {
            "_dom_classes": [],
            "_model_module": "@jupyter-widgets/controls",
            "_model_module_version": "1.5.0",
            "_model_name": "FloatProgressModel",
            "_view_count": null,
            "_view_module": "@jupyter-widgets/controls",
            "_view_module_version": "1.5.0",
            "_view_name": "ProgressView",
            "bar_style": "success",
            "description": "",
            "description_tooltip": null,
            "layout": "IPY_MODEL_2012ef745389428e8ee5168f35dbf836",
            "max": 17508,
            "min": 0,
            "orientation": "horizontal",
            "style": "IPY_MODEL_8573dde8d6f24457a1ad9efd6ebff809",
            "value": 17508
          }
        },
        "5612054ca5f94859b0c32c6176fdb226": {
          "model_module": "@jupyter-widgets/controls",
          "model_module_version": "1.5.0",
          "model_name": "HBoxModel",
          "state": {
            "_dom_classes": [],
            "_model_module": "@jupyter-widgets/controls",
            "_model_module_version": "1.5.0",
            "_model_name": "HBoxModel",
            "_view_count": null,
            "_view_module": "@jupyter-widgets/controls",
            "_view_module_version": "1.5.0",
            "_view_name": "HBoxView",
            "box_style": "",
            "children": [
              "IPY_MODEL_e6f2b27bb9fa4b918da62395317970e0",
              "IPY_MODEL_7d2d5e2270684aa282c8f581c47b6233",
              "IPY_MODEL_e672281db3414d69a415e90f0e25bee6"
            ],
            "layout": "IPY_MODEL_d4cf693cb73a45f880f0c71051ddd0a1"
          }
        },
        "56365d29724a442bb04ede9c5cfd6de6": {
          "model_module": "@jupyter-widgets/controls",
          "model_module_version": "1.5.0",
          "model_name": "HTMLModel",
          "state": {
            "_dom_classes": [],
            "_model_module": "@jupyter-widgets/controls",
            "_model_module_version": "1.5.0",
            "_model_name": "HTMLModel",
            "_view_count": null,
            "_view_module": "@jupyter-widgets/controls",
            "_view_module_version": "1.5.0",
            "_view_name": "HTMLView",
            "description": "",
            "description_tooltip": null,
            "layout": "IPY_MODEL_cc25c9177ecf42008b32d03c3af26829",
            "placeholder": "​",
            "style": "IPY_MODEL_aa39a2a6ea8d40e6b1cdd7475febec23",
            "value": " 21381/21381 [05:21&lt;00:00, 51.46it/s]"
          }
        },
        "56b40a9fbda94f39ad47eb1a5f514b86": {
          "model_module": "@jupyter-widgets/controls",
          "model_module_version": "1.5.0",
          "model_name": "ProgressStyleModel",
          "state": {
            "_model_module": "@jupyter-widgets/controls",
            "_model_module_version": "1.5.0",
            "_model_name": "ProgressStyleModel",
            "_view_count": null,
            "_view_module": "@jupyter-widgets/base",
            "_view_module_version": "1.2.0",
            "_view_name": "StyleView",
            "bar_color": null,
            "description_width": ""
          }
        },
        "624e76858fdd4a44a22bd16263044108": {
          "model_module": "@jupyter-widgets/base",
          "model_module_version": "1.2.0",
          "model_name": "LayoutModel",
          "state": {
            "_model_module": "@jupyter-widgets/base",
            "_model_module_version": "1.2.0",
            "_model_name": "LayoutModel",
            "_view_count": null,
            "_view_module": "@jupyter-widgets/base",
            "_view_module_version": "1.2.0",
            "_view_name": "LayoutView",
            "align_content": null,
            "align_items": null,
            "align_self": null,
            "border": null,
            "bottom": null,
            "display": null,
            "flex": null,
            "flex_flow": null,
            "grid_area": null,
            "grid_auto_columns": null,
            "grid_auto_flow": null,
            "grid_auto_rows": null,
            "grid_column": null,
            "grid_gap": null,
            "grid_row": null,
            "grid_template_areas": null,
            "grid_template_columns": null,
            "grid_template_rows": null,
            "height": null,
            "justify_content": null,
            "justify_items": null,
            "left": null,
            "margin": null,
            "max_height": null,
            "max_width": null,
            "min_height": null,
            "min_width": null,
            "object_fit": null,
            "object_position": null,
            "order": null,
            "overflow": null,
            "overflow_x": null,
            "overflow_y": null,
            "padding": null,
            "right": null,
            "top": null,
            "visibility": null,
            "width": null
          }
        },
        "6ca86db523e7470db3d3a526c77a8093": {
          "model_module": "@jupyter-widgets/controls",
          "model_module_version": "1.5.0",
          "model_name": "DescriptionStyleModel",
          "state": {
            "_model_module": "@jupyter-widgets/controls",
            "_model_module_version": "1.5.0",
            "_model_name": "DescriptionStyleModel",
            "_view_count": null,
            "_view_module": "@jupyter-widgets/base",
            "_view_module_version": "1.2.0",
            "_view_name": "StyleView",
            "description_width": ""
          }
        },
        "778a3da12d88466aa8c9d6bdcebff026": {
          "model_module": "@jupyter-widgets/controls",
          "model_module_version": "1.5.0",
          "model_name": "FloatProgressModel",
          "state": {
            "_dom_classes": [],
            "_model_module": "@jupyter-widgets/controls",
            "_model_module_version": "1.5.0",
            "_model_name": "FloatProgressModel",
            "_view_count": null,
            "_view_module": "@jupyter-widgets/controls",
            "_view_module_version": "1.5.0",
            "_view_name": "ProgressView",
            "bar_style": "success",
            "description": "",
            "description_tooltip": null,
            "layout": "IPY_MODEL_befc7b27eadf4f4fa82237221a769bce",
            "max": 20058,
            "min": 0,
            "orientation": "horizontal",
            "style": "IPY_MODEL_a47da9c3a1a742c282e49443229a79db",
            "value": 20058
          }
        },
        "7a9d5bbbf5ae401c80aab61ea42c1098": {
          "model_module": "@jupyter-widgets/controls",
          "model_module_version": "1.5.0",
          "model_name": "HTMLModel",
          "state": {
            "_dom_classes": [],
            "_model_module": "@jupyter-widgets/controls",
            "_model_module_version": "1.5.0",
            "_model_name": "HTMLModel",
            "_view_count": null,
            "_view_module": "@jupyter-widgets/controls",
            "_view_module_version": "1.5.0",
            "_view_name": "HTMLView",
            "description": "",
            "description_tooltip": null,
            "layout": "IPY_MODEL_9f26ddd5a8a1450599a1bb05f172b866",
            "placeholder": "​",
            "style": "IPY_MODEL_dc8b1df411a14d5fbcb1ad4f31aadb5a",
            "value": "Extracting files from TS_Part2_NonClickbait_Auto_GB.zip: 100%"
          }
        },
        "7c35b41469d94cc48772259809eab064": {
          "model_module": "@jupyter-widgets/controls",
          "model_module_version": "1.5.0",
          "model_name": "FloatProgressModel",
          "state": {
            "_dom_classes": [],
            "_model_module": "@jupyter-widgets/controls",
            "_model_module_version": "1.5.0",
            "_model_name": "FloatProgressModel",
            "_view_count": null,
            "_view_module": "@jupyter-widgets/controls",
            "_view_module_version": "1.5.0",
            "_view_name": "ProgressView",
            "bar_style": "success",
            "description": "",
            "description_tooltip": null,
            "layout": "IPY_MODEL_853d3eb2c56a47acbf67df8a32008b55",
            "max": 17660,
            "min": 0,
            "orientation": "horizontal",
            "style": "IPY_MODEL_56b40a9fbda94f39ad47eb1a5f514b86",
            "value": 17660
          }
        },
        "7d2d5e2270684aa282c8f581c47b6233": {
          "model_module": "@jupyter-widgets/controls",
          "model_module_version": "1.5.0",
          "model_name": "FloatProgressModel",
          "state": {
            "_dom_classes": [],
            "_model_module": "@jupyter-widgets/controls",
            "_model_module_version": "1.5.0",
            "_model_name": "FloatProgressModel",
            "_view_count": null,
            "_view_module": "@jupyter-widgets/controls",
            "_view_module_version": "1.5.0",
            "_view_name": "ProgressView",
            "bar_style": "success",
            "description": "",
            "description_tooltip": null,
            "layout": "IPY_MODEL_b86405fd6a794dc2830cd13f42162734",
            "max": 15276,
            "min": 0,
            "orientation": "horizontal",
            "style": "IPY_MODEL_3fa4c571b52842acafbcf71aa64ed8b2",
            "value": 15276
          }
        },
        "81f9534349674dc7b396d1d0f01e8812": {
          "model_module": "@jupyter-widgets/controls",
          "model_module_version": "1.5.0",
          "model_name": "FloatProgressModel",
          "state": {
            "_dom_classes": [],
            "_model_module": "@jupyter-widgets/controls",
            "_model_module_version": "1.5.0",
            "_model_name": "FloatProgressModel",
            "_view_count": null,
            "_view_module": "@jupyter-widgets/controls",
            "_view_module_version": "1.5.0",
            "_view_name": "ProgressView",
            "bar_style": "success",
            "description": "",
            "description_tooltip": null,
            "layout": "IPY_MODEL_b6124b9428a6478dac0d7ccd27c80df9",
            "max": 19900,
            "min": 0,
            "orientation": "horizontal",
            "style": "IPY_MODEL_d483c3984819456db561f407557a78dc",
            "value": 19900
          }
        },
        "853d3eb2c56a47acbf67df8a32008b55": {
          "model_module": "@jupyter-widgets/base",
          "model_module_version": "1.2.0",
          "model_name": "LayoutModel",
          "state": {
            "_model_module": "@jupyter-widgets/base",
            "_model_module_version": "1.2.0",
            "_model_name": "LayoutModel",
            "_view_count": null,
            "_view_module": "@jupyter-widgets/base",
            "_view_module_version": "1.2.0",
            "_view_name": "LayoutView",
            "align_content": null,
            "align_items": null,
            "align_self": null,
            "border": null,
            "bottom": null,
            "display": null,
            "flex": null,
            "flex_flow": null,
            "grid_area": null,
            "grid_auto_columns": null,
            "grid_auto_flow": null,
            "grid_auto_rows": null,
            "grid_column": null,
            "grid_gap": null,
            "grid_row": null,
            "grid_template_areas": null,
            "grid_template_columns": null,
            "grid_template_rows": null,
            "height": null,
            "justify_content": null,
            "justify_items": null,
            "left": null,
            "margin": null,
            "max_height": null,
            "max_width": null,
            "min_height": null,
            "min_width": null,
            "object_fit": null,
            "object_position": null,
            "order": null,
            "overflow": null,
            "overflow_x": null,
            "overflow_y": null,
            "padding": null,
            "right": null,
            "top": null,
            "visibility": null,
            "width": null
          }
        },
        "8573dde8d6f24457a1ad9efd6ebff809": {
          "model_module": "@jupyter-widgets/controls",
          "model_module_version": "1.5.0",
          "model_name": "ProgressStyleModel",
          "state": {
            "_model_module": "@jupyter-widgets/controls",
            "_model_module_version": "1.5.0",
            "_model_name": "ProgressStyleModel",
            "_view_count": null,
            "_view_module": "@jupyter-widgets/base",
            "_view_module_version": "1.2.0",
            "_view_name": "StyleView",
            "bar_color": null,
            "description_width": ""
          }
        },
        "85770b4f6d3443c1813485901a1a65c8": {
          "model_module": "@jupyter-widgets/controls",
          "model_module_version": "1.5.0",
          "model_name": "HTMLModel",
          "state": {
            "_dom_classes": [],
            "_model_module": "@jupyter-widgets/controls",
            "_model_module_version": "1.5.0",
            "_model_name": "HTMLModel",
            "_view_count": null,
            "_view_module": "@jupyter-widgets/controls",
            "_view_module_version": "1.5.0",
            "_view_name": "HTMLView",
            "description": "",
            "description_tooltip": null,
            "layout": "IPY_MODEL_07ac744aa88d448bb784446838378012",
            "placeholder": "​",
            "style": "IPY_MODEL_0594552374714959b82a395ea6052c92",
            "value": "Extracting files from TS_Part2_Clickbait_Auto_SO.zip: 100%"
          }
        },
        "86986cf2122d4033b03bacd7a023e663": {
          "model_module": "@jupyter-widgets/controls",
          "model_module_version": "1.5.0",
          "model_name": "HBoxModel",
          "state": {
            "_dom_classes": [],
            "_model_module": "@jupyter-widgets/controls",
            "_model_module_version": "1.5.0",
            "_model_name": "HBoxModel",
            "_view_count": null,
            "_view_module": "@jupyter-widgets/controls",
            "_view_module_version": "1.5.0",
            "_view_name": "HBoxView",
            "box_style": "",
            "children": [
              "IPY_MODEL_7a9d5bbbf5ae401c80aab61ea42c1098",
              "IPY_MODEL_2ddea25959b54760aaa54acf19010551",
              "IPY_MODEL_56365d29724a442bb04ede9c5cfd6de6"
            ],
            "layout": "IPY_MODEL_9c7808f39d30496cab84e1ea75cd249d"
          }
        },
        "86d5c3fe35df435f846ccd794c72e5e3": {
          "model_module": "@jupyter-widgets/controls",
          "model_module_version": "1.5.0",
          "model_name": "HTMLModel",
          "state": {
            "_dom_classes": [],
            "_model_module": "@jupyter-widgets/controls",
            "_model_module_version": "1.5.0",
            "_model_name": "HTMLModel",
            "_view_count": null,
            "_view_module": "@jupyter-widgets/controls",
            "_view_module_version": "1.5.0",
            "_view_name": "HTMLView",
            "description": "",
            "description_tooltip": null,
            "layout": "IPY_MODEL_28b61f464d194ab281486921a18d0a6f",
            "placeholder": "​",
            "style": "IPY_MODEL_45471fc689a4418882f6a5ba31119e24",
            "value": "Extracting files from TS_Part2_NonClickbait_Auto_LC.zip: 100%"
          }
        },
        "87b6c16ed3034ee699306fa345d864c9": {
          "model_module": "@jupyter-widgets/base",
          "model_module_version": "1.2.0",
          "model_name": "LayoutModel",
          "state": {
            "_model_module": "@jupyter-widgets/base",
            "_model_module_version": "1.2.0",
            "_model_name": "LayoutModel",
            "_view_count": null,
            "_view_module": "@jupyter-widgets/base",
            "_view_module_version": "1.2.0",
            "_view_name": "LayoutView",
            "align_content": null,
            "align_items": null,
            "align_self": null,
            "border": null,
            "bottom": null,
            "display": null,
            "flex": null,
            "flex_flow": null,
            "grid_area": null,
            "grid_auto_columns": null,
            "grid_auto_flow": null,
            "grid_auto_rows": null,
            "grid_column": null,
            "grid_gap": null,
            "grid_row": null,
            "grid_template_areas": null,
            "grid_template_columns": null,
            "grid_template_rows": null,
            "height": null,
            "justify_content": null,
            "justify_items": null,
            "left": null,
            "margin": null,
            "max_height": null,
            "max_width": null,
            "min_height": null,
            "min_width": null,
            "object_fit": null,
            "object_position": null,
            "order": null,
            "overflow": null,
            "overflow_x": null,
            "overflow_y": null,
            "padding": null,
            "right": null,
            "top": null,
            "visibility": null,
            "width": null
          }
        },
        "89ab64f3f08b4ac5ac2963d1cd02f6fb": {
          "model_module": "@jupyter-widgets/controls",
          "model_module_version": "1.5.0",
          "model_name": "FloatProgressModel",
          "state": {
            "_dom_classes": [],
            "_model_module": "@jupyter-widgets/controls",
            "_model_module_version": "1.5.0",
            "_model_name": "FloatProgressModel",
            "_view_count": null,
            "_view_module": "@jupyter-widgets/controls",
            "_view_module_version": "1.5.0",
            "_view_name": "ProgressView",
            "bar_style": "success",
            "description": "",
            "description_tooltip": null,
            "layout": "IPY_MODEL_87b6c16ed3034ee699306fa345d864c9",
            "max": 28284,
            "min": 0,
            "orientation": "horizontal",
            "style": "IPY_MODEL_04fe2fcfcb994dae84b45e0f7f10ff95",
            "value": 28284
          }
        },
        "9616dcba9cd84fc2a59e0c16be5216eb": {
          "model_module": "@jupyter-widgets/base",
          "model_module_version": "1.2.0",
          "model_name": "LayoutModel",
          "state": {
            "_model_module": "@jupyter-widgets/base",
            "_model_module_version": "1.2.0",
            "_model_name": "LayoutModel",
            "_view_count": null,
            "_view_module": "@jupyter-widgets/base",
            "_view_module_version": "1.2.0",
            "_view_name": "LayoutView",
            "align_content": null,
            "align_items": null,
            "align_self": null,
            "border": null,
            "bottom": null,
            "display": null,
            "flex": null,
            "flex_flow": null,
            "grid_area": null,
            "grid_auto_columns": null,
            "grid_auto_flow": null,
            "grid_auto_rows": null,
            "grid_column": null,
            "grid_gap": null,
            "grid_row": null,
            "grid_template_areas": null,
            "grid_template_columns": null,
            "grid_template_rows": null,
            "height": null,
            "justify_content": null,
            "justify_items": null,
            "left": null,
            "margin": null,
            "max_height": null,
            "max_width": null,
            "min_height": null,
            "min_width": null,
            "object_fit": null,
            "object_position": null,
            "order": null,
            "overflow": null,
            "overflow_x": null,
            "overflow_y": null,
            "padding": null,
            "right": null,
            "top": null,
            "visibility": null,
            "width": null
          }
        },
        "98c208494c7b43a7b1c73f4d75e998e6": {
          "model_module": "@jupyter-widgets/controls",
          "model_module_version": "1.5.0",
          "model_name": "DescriptionStyleModel",
          "state": {
            "_model_module": "@jupyter-widgets/controls",
            "_model_module_version": "1.5.0",
            "_model_name": "DescriptionStyleModel",
            "_view_count": null,
            "_view_module": "@jupyter-widgets/base",
            "_view_module_version": "1.2.0",
            "_view_name": "StyleView",
            "description_width": ""
          }
        },
        "99d020ec7c6c405e96cf23b90e66538d": {
          "model_module": "@jupyter-widgets/base",
          "model_module_version": "1.2.0",
          "model_name": "LayoutModel",
          "state": {
            "_model_module": "@jupyter-widgets/base",
            "_model_module_version": "1.2.0",
            "_model_name": "LayoutModel",
            "_view_count": null,
            "_view_module": "@jupyter-widgets/base",
            "_view_module_version": "1.2.0",
            "_view_name": "LayoutView",
            "align_content": null,
            "align_items": null,
            "align_self": null,
            "border": null,
            "bottom": null,
            "display": null,
            "flex": null,
            "flex_flow": null,
            "grid_area": null,
            "grid_auto_columns": null,
            "grid_auto_flow": null,
            "grid_auto_rows": null,
            "grid_column": null,
            "grid_gap": null,
            "grid_row": null,
            "grid_template_areas": null,
            "grid_template_columns": null,
            "grid_template_rows": null,
            "height": null,
            "justify_content": null,
            "justify_items": null,
            "left": null,
            "margin": null,
            "max_height": null,
            "max_width": null,
            "min_height": null,
            "min_width": null,
            "object_fit": null,
            "object_position": null,
            "order": null,
            "overflow": null,
            "overflow_x": null,
            "overflow_y": null,
            "padding": null,
            "right": null,
            "top": null,
            "visibility": null,
            "width": null
          }
        },
        "9c7808f39d30496cab84e1ea75cd249d": {
          "model_module": "@jupyter-widgets/base",
          "model_module_version": "1.2.0",
          "model_name": "LayoutModel",
          "state": {
            "_model_module": "@jupyter-widgets/base",
            "_model_module_version": "1.2.0",
            "_model_name": "LayoutModel",
            "_view_count": null,
            "_view_module": "@jupyter-widgets/base",
            "_view_module_version": "1.2.0",
            "_view_name": "LayoutView",
            "align_content": null,
            "align_items": null,
            "align_self": null,
            "border": null,
            "bottom": null,
            "display": null,
            "flex": null,
            "flex_flow": null,
            "grid_area": null,
            "grid_auto_columns": null,
            "grid_auto_flow": null,
            "grid_auto_rows": null,
            "grid_column": null,
            "grid_gap": null,
            "grid_row": null,
            "grid_template_areas": null,
            "grid_template_columns": null,
            "grid_template_rows": null,
            "height": null,
            "justify_content": null,
            "justify_items": null,
            "left": null,
            "margin": null,
            "max_height": null,
            "max_width": null,
            "min_height": null,
            "min_width": null,
            "object_fit": null,
            "object_position": null,
            "order": null,
            "overflow": null,
            "overflow_x": null,
            "overflow_y": null,
            "padding": null,
            "right": null,
            "top": null,
            "visibility": null,
            "width": null
          }
        },
        "9ef68c5cc8f543619c52e8ab07b23dd3": {
          "model_module": "@jupyter-widgets/controls",
          "model_module_version": "1.5.0",
          "model_name": "DescriptionStyleModel",
          "state": {
            "_model_module": "@jupyter-widgets/controls",
            "_model_module_version": "1.5.0",
            "_model_name": "DescriptionStyleModel",
            "_view_count": null,
            "_view_module": "@jupyter-widgets/base",
            "_view_module_version": "1.2.0",
            "_view_name": "StyleView",
            "description_width": ""
          }
        },
        "9f26ddd5a8a1450599a1bb05f172b866": {
          "model_module": "@jupyter-widgets/base",
          "model_module_version": "1.2.0",
          "model_name": "LayoutModel",
          "state": {
            "_model_module": "@jupyter-widgets/base",
            "_model_module_version": "1.2.0",
            "_model_name": "LayoutModel",
            "_view_count": null,
            "_view_module": "@jupyter-widgets/base",
            "_view_module_version": "1.2.0",
            "_view_name": "LayoutView",
            "align_content": null,
            "align_items": null,
            "align_self": null,
            "border": null,
            "bottom": null,
            "display": null,
            "flex": null,
            "flex_flow": null,
            "grid_area": null,
            "grid_auto_columns": null,
            "grid_auto_flow": null,
            "grid_auto_rows": null,
            "grid_column": null,
            "grid_gap": null,
            "grid_row": null,
            "grid_template_areas": null,
            "grid_template_columns": null,
            "grid_template_rows": null,
            "height": null,
            "justify_content": null,
            "justify_items": null,
            "left": null,
            "margin": null,
            "max_height": null,
            "max_width": null,
            "min_height": null,
            "min_width": null,
            "object_fit": null,
            "object_position": null,
            "order": null,
            "overflow": null,
            "overflow_x": null,
            "overflow_y": null,
            "padding": null,
            "right": null,
            "top": null,
            "visibility": null,
            "width": null
          }
        },
        "9f686d0603d94669888fe557e2f8af61": {
          "model_module": "@jupyter-widgets/base",
          "model_module_version": "1.2.0",
          "model_name": "LayoutModel",
          "state": {
            "_model_module": "@jupyter-widgets/base",
            "_model_module_version": "1.2.0",
            "_model_name": "LayoutModel",
            "_view_count": null,
            "_view_module": "@jupyter-widgets/base",
            "_view_module_version": "1.2.0",
            "_view_name": "LayoutView",
            "align_content": null,
            "align_items": null,
            "align_self": null,
            "border": null,
            "bottom": null,
            "display": null,
            "flex": null,
            "flex_flow": null,
            "grid_area": null,
            "grid_auto_columns": null,
            "grid_auto_flow": null,
            "grid_auto_rows": null,
            "grid_column": null,
            "grid_gap": null,
            "grid_row": null,
            "grid_template_areas": null,
            "grid_template_columns": null,
            "grid_template_rows": null,
            "height": null,
            "justify_content": null,
            "justify_items": null,
            "left": null,
            "margin": null,
            "max_height": null,
            "max_width": null,
            "min_height": null,
            "min_width": null,
            "object_fit": null,
            "object_position": null,
            "order": null,
            "overflow": null,
            "overflow_x": null,
            "overflow_y": null,
            "padding": null,
            "right": null,
            "top": null,
            "visibility": null,
            "width": null
          }
        },
        "a4472a6da4a84c91b214cc7679892b6b": {
          "model_module": "@jupyter-widgets/controls",
          "model_module_version": "1.5.0",
          "model_name": "HTMLModel",
          "state": {
            "_dom_classes": [],
            "_model_module": "@jupyter-widgets/controls",
            "_model_module_version": "1.5.0",
            "_model_name": "HTMLModel",
            "_view_count": null,
            "_view_module": "@jupyter-widgets/controls",
            "_view_module_version": "1.5.0",
            "_view_name": "HTMLView",
            "description": "",
            "description_tooltip": null,
            "layout": "IPY_MODEL_21e78e0cc3c14b55931b5b1cd40e694e",
            "placeholder": "​",
            "style": "IPY_MODEL_0d45e07dbc924a478a88680d6e7b8f3b",
            "value": "Extracting files from TS_Part2_Clickbait_Auto_GB.zip: 100%"
          }
        },
        "a47da9c3a1a742c282e49443229a79db": {
          "model_module": "@jupyter-widgets/controls",
          "model_module_version": "1.5.0",
          "model_name": "ProgressStyleModel",
          "state": {
            "_model_module": "@jupyter-widgets/controls",
            "_model_module_version": "1.5.0",
            "_model_name": "ProgressStyleModel",
            "_view_count": null,
            "_view_module": "@jupyter-widgets/base",
            "_view_module_version": "1.2.0",
            "_view_name": "StyleView",
            "bar_color": null,
            "description_width": ""
          }
        },
        "a5246e353fcf435b8d97da49d14bf374": {
          "model_module": "@jupyter-widgets/controls",
          "model_module_version": "1.5.0",
          "model_name": "DescriptionStyleModel",
          "state": {
            "_model_module": "@jupyter-widgets/controls",
            "_model_module_version": "1.5.0",
            "_model_name": "DescriptionStyleModel",
            "_view_count": null,
            "_view_module": "@jupyter-widgets/base",
            "_view_module_version": "1.2.0",
            "_view_name": "StyleView",
            "description_width": ""
          }
        },
        "aa39a2a6ea8d40e6b1cdd7475febec23": {
          "model_module": "@jupyter-widgets/controls",
          "model_module_version": "1.5.0",
          "model_name": "DescriptionStyleModel",
          "state": {
            "_model_module": "@jupyter-widgets/controls",
            "_model_module_version": "1.5.0",
            "_model_name": "DescriptionStyleModel",
            "_view_count": null,
            "_view_module": "@jupyter-widgets/base",
            "_view_module_version": "1.2.0",
            "_view_name": "StyleView",
            "description_width": ""
          }
        },
        "b3cec4c907be43c58b1646ae27f5195e": {
          "model_module": "@jupyter-widgets/controls",
          "model_module_version": "1.5.0",
          "model_name": "HBoxModel",
          "state": {
            "_dom_classes": [],
            "_model_module": "@jupyter-widgets/controls",
            "_model_module_version": "1.5.0",
            "_model_name": "HBoxModel",
            "_view_count": null,
            "_view_module": "@jupyter-widgets/controls",
            "_view_module_version": "1.5.0",
            "_view_name": "HBoxView",
            "box_style": "",
            "children": [
              "IPY_MODEL_edb465941b924c3199fe643111388fcd",
              "IPY_MODEL_778a3da12d88466aa8c9d6bdcebff026",
              "IPY_MODEL_e07dfa748771421694b7ab109c2287c8"
            ],
            "layout": "IPY_MODEL_0fdda241c42344ff991699223903beae"
          }
        },
        "b6124b9428a6478dac0d7ccd27c80df9": {
          "model_module": "@jupyter-widgets/base",
          "model_module_version": "1.2.0",
          "model_name": "LayoutModel",
          "state": {
            "_model_module": "@jupyter-widgets/base",
            "_model_module_version": "1.2.0",
            "_model_name": "LayoutModel",
            "_view_count": null,
            "_view_module": "@jupyter-widgets/base",
            "_view_module_version": "1.2.0",
            "_view_name": "LayoutView",
            "align_content": null,
            "align_items": null,
            "align_self": null,
            "border": null,
            "bottom": null,
            "display": null,
            "flex": null,
            "flex_flow": null,
            "grid_area": null,
            "grid_auto_columns": null,
            "grid_auto_flow": null,
            "grid_auto_rows": null,
            "grid_column": null,
            "grid_gap": null,
            "grid_row": null,
            "grid_template_areas": null,
            "grid_template_columns": null,
            "grid_template_rows": null,
            "height": null,
            "justify_content": null,
            "justify_items": null,
            "left": null,
            "margin": null,
            "max_height": null,
            "max_width": null,
            "min_height": null,
            "min_width": null,
            "object_fit": null,
            "object_position": null,
            "order": null,
            "overflow": null,
            "overflow_x": null,
            "overflow_y": null,
            "padding": null,
            "right": null,
            "top": null,
            "visibility": null,
            "width": null
          }
        },
        "b86405fd6a794dc2830cd13f42162734": {
          "model_module": "@jupyter-widgets/base",
          "model_module_version": "1.2.0",
          "model_name": "LayoutModel",
          "state": {
            "_model_module": "@jupyter-widgets/base",
            "_model_module_version": "1.2.0",
            "_model_name": "LayoutModel",
            "_view_count": null,
            "_view_module": "@jupyter-widgets/base",
            "_view_module_version": "1.2.0",
            "_view_name": "LayoutView",
            "align_content": null,
            "align_items": null,
            "align_self": null,
            "border": null,
            "bottom": null,
            "display": null,
            "flex": null,
            "flex_flow": null,
            "grid_area": null,
            "grid_auto_columns": null,
            "grid_auto_flow": null,
            "grid_auto_rows": null,
            "grid_column": null,
            "grid_gap": null,
            "grid_row": null,
            "grid_template_areas": null,
            "grid_template_columns": null,
            "grid_template_rows": null,
            "height": null,
            "justify_content": null,
            "justify_items": null,
            "left": null,
            "margin": null,
            "max_height": null,
            "max_width": null,
            "min_height": null,
            "min_width": null,
            "object_fit": null,
            "object_position": null,
            "order": null,
            "overflow": null,
            "overflow_x": null,
            "overflow_y": null,
            "padding": null,
            "right": null,
            "top": null,
            "visibility": null,
            "width": null
          }
        },
        "b8c7222f8dd04511a8e3f65c283a487e": {
          "model_module": "@jupyter-widgets/base",
          "model_module_version": "1.2.0",
          "model_name": "LayoutModel",
          "state": {
            "_model_module": "@jupyter-widgets/base",
            "_model_module_version": "1.2.0",
            "_model_name": "LayoutModel",
            "_view_count": null,
            "_view_module": "@jupyter-widgets/base",
            "_view_module_version": "1.2.0",
            "_view_name": "LayoutView",
            "align_content": null,
            "align_items": null,
            "align_self": null,
            "border": null,
            "bottom": null,
            "display": null,
            "flex": null,
            "flex_flow": null,
            "grid_area": null,
            "grid_auto_columns": null,
            "grid_auto_flow": null,
            "grid_auto_rows": null,
            "grid_column": null,
            "grid_gap": null,
            "grid_row": null,
            "grid_template_areas": null,
            "grid_template_columns": null,
            "grid_template_rows": null,
            "height": null,
            "justify_content": null,
            "justify_items": null,
            "left": null,
            "margin": null,
            "max_height": null,
            "max_width": null,
            "min_height": null,
            "min_width": null,
            "object_fit": null,
            "object_position": null,
            "order": null,
            "overflow": null,
            "overflow_x": null,
            "overflow_y": null,
            "padding": null,
            "right": null,
            "top": null,
            "visibility": null,
            "width": null
          }
        },
        "b9edc0d16f324c0bb76aa331ab6d39e4": {
          "model_module": "@jupyter-widgets/controls",
          "model_module_version": "1.5.0",
          "model_name": "HBoxModel",
          "state": {
            "_dom_classes": [],
            "_model_module": "@jupyter-widgets/controls",
            "_model_module_version": "1.5.0",
            "_model_name": "HBoxModel",
            "_view_count": null,
            "_view_module": "@jupyter-widgets/controls",
            "_view_module_version": "1.5.0",
            "_view_name": "HBoxView",
            "box_style": "",
            "children": [
              "IPY_MODEL_ce359c1c982b4d83b5aa6dccebf9bcf1",
              "IPY_MODEL_89ab64f3f08b4ac5ac2963d1cd02f6fb",
              "IPY_MODEL_2552ef29e66e4238ba45aae41b48544f"
            ],
            "layout": "IPY_MODEL_f9d05d460f3241e2a102e9777baf0054"
          }
        },
        "bcfd33d1ed364893b35327bd8703e0e8": {
          "model_module": "@jupyter-widgets/controls",
          "model_module_version": "1.5.0",
          "model_name": "DescriptionStyleModel",
          "state": {
            "_model_module": "@jupyter-widgets/controls",
            "_model_module_version": "1.5.0",
            "_model_name": "DescriptionStyleModel",
            "_view_count": null,
            "_view_module": "@jupyter-widgets/base",
            "_view_module_version": "1.2.0",
            "_view_name": "StyleView",
            "description_width": ""
          }
        },
        "befc7b27eadf4f4fa82237221a769bce": {
          "model_module": "@jupyter-widgets/base",
          "model_module_version": "1.2.0",
          "model_name": "LayoutModel",
          "state": {
            "_model_module": "@jupyter-widgets/base",
            "_model_module_version": "1.2.0",
            "_model_name": "LayoutModel",
            "_view_count": null,
            "_view_module": "@jupyter-widgets/base",
            "_view_module_version": "1.2.0",
            "_view_name": "LayoutView",
            "align_content": null,
            "align_items": null,
            "align_self": null,
            "border": null,
            "bottom": null,
            "display": null,
            "flex": null,
            "flex_flow": null,
            "grid_area": null,
            "grid_auto_columns": null,
            "grid_auto_flow": null,
            "grid_auto_rows": null,
            "grid_column": null,
            "grid_gap": null,
            "grid_row": null,
            "grid_template_areas": null,
            "grid_template_columns": null,
            "grid_template_rows": null,
            "height": null,
            "justify_content": null,
            "justify_items": null,
            "left": null,
            "margin": null,
            "max_height": null,
            "max_width": null,
            "min_height": null,
            "min_width": null,
            "object_fit": null,
            "object_position": null,
            "order": null,
            "overflow": null,
            "overflow_x": null,
            "overflow_y": null,
            "padding": null,
            "right": null,
            "top": null,
            "visibility": null,
            "width": null
          }
        },
        "bf64cca9b412486196fca3ec36c4f008": {
          "model_module": "@jupyter-widgets/controls",
          "model_module_version": "1.5.0",
          "model_name": "DescriptionStyleModel",
          "state": {
            "_model_module": "@jupyter-widgets/controls",
            "_model_module_version": "1.5.0",
            "_model_name": "DescriptionStyleModel",
            "_view_count": null,
            "_view_module": "@jupyter-widgets/base",
            "_view_module_version": "1.2.0",
            "_view_name": "StyleView",
            "description_width": ""
          }
        },
        "c19d2fa6211046969eba4f66497aee6c": {
          "model_module": "@jupyter-widgets/controls",
          "model_module_version": "1.5.0",
          "model_name": "HBoxModel",
          "state": {
            "_dom_classes": [],
            "_model_module": "@jupyter-widgets/controls",
            "_model_module_version": "1.5.0",
            "_model_name": "HBoxModel",
            "_view_count": null,
            "_view_module": "@jupyter-widgets/controls",
            "_view_module_version": "1.5.0",
            "_view_name": "HBoxView",
            "box_style": "",
            "children": [
              "IPY_MODEL_a4472a6da4a84c91b214cc7679892b6b",
              "IPY_MODEL_7c35b41469d94cc48772259809eab064",
              "IPY_MODEL_4119a455c5c640f290344888a593573d"
            ],
            "layout": "IPY_MODEL_c1cff8ad86ae4bb6bf8eed9d9d197fb1"
          }
        },
        "c1cff8ad86ae4bb6bf8eed9d9d197fb1": {
          "model_module": "@jupyter-widgets/base",
          "model_module_version": "1.2.0",
          "model_name": "LayoutModel",
          "state": {
            "_model_module": "@jupyter-widgets/base",
            "_model_module_version": "1.2.0",
            "_model_name": "LayoutModel",
            "_view_count": null,
            "_view_module": "@jupyter-widgets/base",
            "_view_module_version": "1.2.0",
            "_view_name": "LayoutView",
            "align_content": null,
            "align_items": null,
            "align_self": null,
            "border": null,
            "bottom": null,
            "display": null,
            "flex": null,
            "flex_flow": null,
            "grid_area": null,
            "grid_auto_columns": null,
            "grid_auto_flow": null,
            "grid_auto_rows": null,
            "grid_column": null,
            "grid_gap": null,
            "grid_row": null,
            "grid_template_areas": null,
            "grid_template_columns": null,
            "grid_template_rows": null,
            "height": null,
            "justify_content": null,
            "justify_items": null,
            "left": null,
            "margin": null,
            "max_height": null,
            "max_width": null,
            "min_height": null,
            "min_width": null,
            "object_fit": null,
            "object_position": null,
            "order": null,
            "overflow": null,
            "overflow_x": null,
            "overflow_y": null,
            "padding": null,
            "right": null,
            "top": null,
            "visibility": null,
            "width": null
          }
        },
        "c3bd96da56ad4bbe845ef5e63f306a8f": {
          "model_module": "@jupyter-widgets/base",
          "model_module_version": "1.2.0",
          "model_name": "LayoutModel",
          "state": {
            "_model_module": "@jupyter-widgets/base",
            "_model_module_version": "1.2.0",
            "_model_name": "LayoutModel",
            "_view_count": null,
            "_view_module": "@jupyter-widgets/base",
            "_view_module_version": "1.2.0",
            "_view_name": "LayoutView",
            "align_content": null,
            "align_items": null,
            "align_self": null,
            "border": null,
            "bottom": null,
            "display": null,
            "flex": null,
            "flex_flow": null,
            "grid_area": null,
            "grid_auto_columns": null,
            "grid_auto_flow": null,
            "grid_auto_rows": null,
            "grid_column": null,
            "grid_gap": null,
            "grid_row": null,
            "grid_template_areas": null,
            "grid_template_columns": null,
            "grid_template_rows": null,
            "height": null,
            "justify_content": null,
            "justify_items": null,
            "left": null,
            "margin": null,
            "max_height": null,
            "max_width": null,
            "min_height": null,
            "min_width": null,
            "object_fit": null,
            "object_position": null,
            "order": null,
            "overflow": null,
            "overflow_x": null,
            "overflow_y": null,
            "padding": null,
            "right": null,
            "top": null,
            "visibility": null,
            "width": null
          }
        },
        "c4378334e701421bb59bcc6f208f4b8b": {
          "model_module": "@jupyter-widgets/base",
          "model_module_version": "1.2.0",
          "model_name": "LayoutModel",
          "state": {
            "_model_module": "@jupyter-widgets/base",
            "_model_module_version": "1.2.0",
            "_model_name": "LayoutModel",
            "_view_count": null,
            "_view_module": "@jupyter-widgets/base",
            "_view_module_version": "1.2.0",
            "_view_name": "LayoutView",
            "align_content": null,
            "align_items": null,
            "align_self": null,
            "border": null,
            "bottom": null,
            "display": null,
            "flex": null,
            "flex_flow": null,
            "grid_area": null,
            "grid_auto_columns": null,
            "grid_auto_flow": null,
            "grid_auto_rows": null,
            "grid_column": null,
            "grid_gap": null,
            "grid_row": null,
            "grid_template_areas": null,
            "grid_template_columns": null,
            "grid_template_rows": null,
            "height": null,
            "justify_content": null,
            "justify_items": null,
            "left": null,
            "margin": null,
            "max_height": null,
            "max_width": null,
            "min_height": null,
            "min_width": null,
            "object_fit": null,
            "object_position": null,
            "order": null,
            "overflow": null,
            "overflow_x": null,
            "overflow_y": null,
            "padding": null,
            "right": null,
            "top": null,
            "visibility": null,
            "width": null
          }
        },
        "c8b4a4e386134b8e9463db9b30f530b5": {
          "model_module": "@jupyter-widgets/base",
          "model_module_version": "1.2.0",
          "model_name": "LayoutModel",
          "state": {
            "_model_module": "@jupyter-widgets/base",
            "_model_module_version": "1.2.0",
            "_model_name": "LayoutModel",
            "_view_count": null,
            "_view_module": "@jupyter-widgets/base",
            "_view_module_version": "1.2.0",
            "_view_name": "LayoutView",
            "align_content": null,
            "align_items": null,
            "align_self": null,
            "border": null,
            "bottom": null,
            "display": null,
            "flex": null,
            "flex_flow": null,
            "grid_area": null,
            "grid_auto_columns": null,
            "grid_auto_flow": null,
            "grid_auto_rows": null,
            "grid_column": null,
            "grid_gap": null,
            "grid_row": null,
            "grid_template_areas": null,
            "grid_template_columns": null,
            "grid_template_rows": null,
            "height": null,
            "justify_content": null,
            "justify_items": null,
            "left": null,
            "margin": null,
            "max_height": null,
            "max_width": null,
            "min_height": null,
            "min_width": null,
            "object_fit": null,
            "object_position": null,
            "order": null,
            "overflow": null,
            "overflow_x": null,
            "overflow_y": null,
            "padding": null,
            "right": null,
            "top": null,
            "visibility": null,
            "width": null
          }
        },
        "ca2677aa86224b48a7a825d4da0671e4": {
          "model_module": "@jupyter-widgets/base",
          "model_module_version": "1.2.0",
          "model_name": "LayoutModel",
          "state": {
            "_model_module": "@jupyter-widgets/base",
            "_model_module_version": "1.2.0",
            "_model_name": "LayoutModel",
            "_view_count": null,
            "_view_module": "@jupyter-widgets/base",
            "_view_module_version": "1.2.0",
            "_view_name": "LayoutView",
            "align_content": null,
            "align_items": null,
            "align_self": null,
            "border": null,
            "bottom": null,
            "display": null,
            "flex": null,
            "flex_flow": null,
            "grid_area": null,
            "grid_auto_columns": null,
            "grid_auto_flow": null,
            "grid_auto_rows": null,
            "grid_column": null,
            "grid_gap": null,
            "grid_row": null,
            "grid_template_areas": null,
            "grid_template_columns": null,
            "grid_template_rows": null,
            "height": null,
            "justify_content": null,
            "justify_items": null,
            "left": null,
            "margin": null,
            "max_height": null,
            "max_width": null,
            "min_height": null,
            "min_width": null,
            "object_fit": null,
            "object_position": null,
            "order": null,
            "overflow": null,
            "overflow_x": null,
            "overflow_y": null,
            "padding": null,
            "right": null,
            "top": null,
            "visibility": null,
            "width": null
          }
        },
        "cb0493f323f34ef4994802042626e4bf": {
          "model_module": "@jupyter-widgets/base",
          "model_module_version": "1.2.0",
          "model_name": "LayoutModel",
          "state": {
            "_model_module": "@jupyter-widgets/base",
            "_model_module_version": "1.2.0",
            "_model_name": "LayoutModel",
            "_view_count": null,
            "_view_module": "@jupyter-widgets/base",
            "_view_module_version": "1.2.0",
            "_view_name": "LayoutView",
            "align_content": null,
            "align_items": null,
            "align_self": null,
            "border": null,
            "bottom": null,
            "display": null,
            "flex": null,
            "flex_flow": null,
            "grid_area": null,
            "grid_auto_columns": null,
            "grid_auto_flow": null,
            "grid_auto_rows": null,
            "grid_column": null,
            "grid_gap": null,
            "grid_row": null,
            "grid_template_areas": null,
            "grid_template_columns": null,
            "grid_template_rows": null,
            "height": null,
            "justify_content": null,
            "justify_items": null,
            "left": null,
            "margin": null,
            "max_height": null,
            "max_width": null,
            "min_height": null,
            "min_width": null,
            "object_fit": null,
            "object_position": null,
            "order": null,
            "overflow": null,
            "overflow_x": null,
            "overflow_y": null,
            "padding": null,
            "right": null,
            "top": null,
            "visibility": null,
            "width": null
          }
        },
        "cb80a0ecb72a4c41a768b8ef07ca3103": {
          "model_module": "@jupyter-widgets/base",
          "model_module_version": "1.2.0",
          "model_name": "LayoutModel",
          "state": {
            "_model_module": "@jupyter-widgets/base",
            "_model_module_version": "1.2.0",
            "_model_name": "LayoutModel",
            "_view_count": null,
            "_view_module": "@jupyter-widgets/base",
            "_view_module_version": "1.2.0",
            "_view_name": "LayoutView",
            "align_content": null,
            "align_items": null,
            "align_self": null,
            "border": null,
            "bottom": null,
            "display": null,
            "flex": null,
            "flex_flow": null,
            "grid_area": null,
            "grid_auto_columns": null,
            "grid_auto_flow": null,
            "grid_auto_rows": null,
            "grid_column": null,
            "grid_gap": null,
            "grid_row": null,
            "grid_template_areas": null,
            "grid_template_columns": null,
            "grid_template_rows": null,
            "height": null,
            "justify_content": null,
            "justify_items": null,
            "left": null,
            "margin": null,
            "max_height": null,
            "max_width": null,
            "min_height": null,
            "min_width": null,
            "object_fit": null,
            "object_position": null,
            "order": null,
            "overflow": null,
            "overflow_x": null,
            "overflow_y": null,
            "padding": null,
            "right": null,
            "top": null,
            "visibility": null,
            "width": null
          }
        },
        "cc25c9177ecf42008b32d03c3af26829": {
          "model_module": "@jupyter-widgets/base",
          "model_module_version": "1.2.0",
          "model_name": "LayoutModel",
          "state": {
            "_model_module": "@jupyter-widgets/base",
            "_model_module_version": "1.2.0",
            "_model_name": "LayoutModel",
            "_view_count": null,
            "_view_module": "@jupyter-widgets/base",
            "_view_module_version": "1.2.0",
            "_view_name": "LayoutView",
            "align_content": null,
            "align_items": null,
            "align_self": null,
            "border": null,
            "bottom": null,
            "display": null,
            "flex": null,
            "flex_flow": null,
            "grid_area": null,
            "grid_auto_columns": null,
            "grid_auto_flow": null,
            "grid_auto_rows": null,
            "grid_column": null,
            "grid_gap": null,
            "grid_row": null,
            "grid_template_areas": null,
            "grid_template_columns": null,
            "grid_template_rows": null,
            "height": null,
            "justify_content": null,
            "justify_items": null,
            "left": null,
            "margin": null,
            "max_height": null,
            "max_width": null,
            "min_height": null,
            "min_width": null,
            "object_fit": null,
            "object_position": null,
            "order": null,
            "overflow": null,
            "overflow_x": null,
            "overflow_y": null,
            "padding": null,
            "right": null,
            "top": null,
            "visibility": null,
            "width": null
          }
        },
        "ce359c1c982b4d83b5aa6dccebf9bcf1": {
          "model_module": "@jupyter-widgets/controls",
          "model_module_version": "1.5.0",
          "model_name": "HTMLModel",
          "state": {
            "_dom_classes": [],
            "_model_module": "@jupyter-widgets/controls",
            "_model_module_version": "1.5.0",
            "_model_name": "HTMLModel",
            "_view_count": null,
            "_view_module": "@jupyter-widgets/controls",
            "_view_module_version": "1.5.0",
            "_view_name": "HTMLView",
            "description": "",
            "description_tooltip": null,
            "layout": "IPY_MODEL_9f686d0603d94669888fe557e2f8af61",
            "placeholder": "​",
            "style": "IPY_MODEL_a5246e353fcf435b8d97da49d14bf374",
            "value": "Extracting files from TS_Part2_NonClickbait_Auto_SO.zip: 100%"
          }
        },
        "d483c3984819456db561f407557a78dc": {
          "model_module": "@jupyter-widgets/controls",
          "model_module_version": "1.5.0",
          "model_name": "ProgressStyleModel",
          "state": {
            "_model_module": "@jupyter-widgets/controls",
            "_model_module_version": "1.5.0",
            "_model_name": "ProgressStyleModel",
            "_view_count": null,
            "_view_module": "@jupyter-widgets/base",
            "_view_module_version": "1.2.0",
            "_view_name": "StyleView",
            "bar_color": null,
            "description_width": ""
          }
        },
        "d4cf693cb73a45f880f0c71051ddd0a1": {
          "model_module": "@jupyter-widgets/base",
          "model_module_version": "1.2.0",
          "model_name": "LayoutModel",
          "state": {
            "_model_module": "@jupyter-widgets/base",
            "_model_module_version": "1.2.0",
            "_model_name": "LayoutModel",
            "_view_count": null,
            "_view_module": "@jupyter-widgets/base",
            "_view_module_version": "1.2.0",
            "_view_name": "LayoutView",
            "align_content": null,
            "align_items": null,
            "align_self": null,
            "border": null,
            "bottom": null,
            "display": null,
            "flex": null,
            "flex_flow": null,
            "grid_area": null,
            "grid_auto_columns": null,
            "grid_auto_flow": null,
            "grid_auto_rows": null,
            "grid_column": null,
            "grid_gap": null,
            "grid_row": null,
            "grid_template_areas": null,
            "grid_template_columns": null,
            "grid_template_rows": null,
            "height": null,
            "justify_content": null,
            "justify_items": null,
            "left": null,
            "margin": null,
            "max_height": null,
            "max_width": null,
            "min_height": null,
            "min_width": null,
            "object_fit": null,
            "object_position": null,
            "order": null,
            "overflow": null,
            "overflow_x": null,
            "overflow_y": null,
            "padding": null,
            "right": null,
            "top": null,
            "visibility": null,
            "width": null
          }
        },
        "d5dddf8c72f74f55a35c8ae229772b8d": {
          "model_module": "@jupyter-widgets/controls",
          "model_module_version": "1.5.0",
          "model_name": "HBoxModel",
          "state": {
            "_dom_classes": [],
            "_model_module": "@jupyter-widgets/controls",
            "_model_module_version": "1.5.0",
            "_model_name": "HBoxModel",
            "_view_count": null,
            "_view_module": "@jupyter-widgets/controls",
            "_view_module_version": "1.5.0",
            "_view_name": "HBoxView",
            "box_style": "",
            "children": [
              "IPY_MODEL_86d5c3fe35df435f846ccd794c72e5e3",
              "IPY_MODEL_529ec6cb5d5d428bac57ab0ff94ddb04",
              "IPY_MODEL_0347f4d8c5e6478bb073c9cb2083fed4"
            ],
            "layout": "IPY_MODEL_ca2677aa86224b48a7a825d4da0671e4"
          }
        },
        "dc8b1df411a14d5fbcb1ad4f31aadb5a": {
          "model_module": "@jupyter-widgets/controls",
          "model_module_version": "1.5.0",
          "model_name": "DescriptionStyleModel",
          "state": {
            "_model_module": "@jupyter-widgets/controls",
            "_model_module_version": "1.5.0",
            "_model_name": "DescriptionStyleModel",
            "_view_count": null,
            "_view_module": "@jupyter-widgets/base",
            "_view_module_version": "1.2.0",
            "_view_name": "StyleView",
            "description_width": ""
          }
        },
        "e0139c03534243f09ac6b7f19e0cdc7f": {
          "model_module": "@jupyter-widgets/controls",
          "model_module_version": "1.5.0",
          "model_name": "DescriptionStyleModel",
          "state": {
            "_model_module": "@jupyter-widgets/controls",
            "_model_module_version": "1.5.0",
            "_model_name": "DescriptionStyleModel",
            "_view_count": null,
            "_view_module": "@jupyter-widgets/base",
            "_view_module_version": "1.2.0",
            "_view_name": "StyleView",
            "description_width": ""
          }
        },
        "e07dfa748771421694b7ab109c2287c8": {
          "model_module": "@jupyter-widgets/controls",
          "model_module_version": "1.5.0",
          "model_name": "HTMLModel",
          "state": {
            "_dom_classes": [],
            "_model_module": "@jupyter-widgets/controls",
            "_model_module_version": "1.5.0",
            "_model_name": "HTMLModel",
            "_view_count": null,
            "_view_module": "@jupyter-widgets/controls",
            "_view_module_version": "1.5.0",
            "_view_name": "HTMLView",
            "description": "",
            "description_tooltip": null,
            "layout": "IPY_MODEL_cb80a0ecb72a4c41a768b8ef07ca3103",
            "placeholder": "​",
            "style": "IPY_MODEL_9ef68c5cc8f543619c52e8ab07b23dd3",
            "value": " 20058/20058 [05:16&lt;00:00, 47.89it/s]"
          }
        },
        "e3e14e13049f4182bfac4f93e4e7d8e8": {
          "model_module": "@jupyter-widgets/controls",
          "model_module_version": "1.5.0",
          "model_name": "HTMLModel",
          "state": {
            "_dom_classes": [],
            "_model_module": "@jupyter-widgets/controls",
            "_model_module_version": "1.5.0",
            "_model_name": "HTMLModel",
            "_view_count": null,
            "_view_module": "@jupyter-widgets/controls",
            "_view_module_version": "1.5.0",
            "_view_name": "HTMLView",
            "description": "",
            "description_tooltip": null,
            "layout": "IPY_MODEL_e59c94efcc1541c8a75384eaeea72a73",
            "placeholder": "​",
            "style": "IPY_MODEL_0750d3a4a63c4c51b19cea3aa54273b6",
            "value": "Extracting files from TS_Part2_NonClickbait_Auto_EC.zip: 100%"
          }
        },
        "e4c18bff81b8479da97c022cd7391d04": {
          "model_module": "@jupyter-widgets/controls",
          "model_module_version": "1.5.0",
          "model_name": "ProgressStyleModel",
          "state": {
            "_model_module": "@jupyter-widgets/controls",
            "_model_module_version": "1.5.0",
            "_model_name": "ProgressStyleModel",
            "_view_count": null,
            "_view_module": "@jupyter-widgets/base",
            "_view_module_version": "1.2.0",
            "_view_name": "StyleView",
            "bar_color": null,
            "description_width": ""
          }
        },
        "e59c94efcc1541c8a75384eaeea72a73": {
          "model_module": "@jupyter-widgets/base",
          "model_module_version": "1.2.0",
          "model_name": "LayoutModel",
          "state": {
            "_model_module": "@jupyter-widgets/base",
            "_model_module_version": "1.2.0",
            "_model_name": "LayoutModel",
            "_view_count": null,
            "_view_module": "@jupyter-widgets/base",
            "_view_module_version": "1.2.0",
            "_view_name": "LayoutView",
            "align_content": null,
            "align_items": null,
            "align_self": null,
            "border": null,
            "bottom": null,
            "display": null,
            "flex": null,
            "flex_flow": null,
            "grid_area": null,
            "grid_auto_columns": null,
            "grid_auto_flow": null,
            "grid_auto_rows": null,
            "grid_column": null,
            "grid_gap": null,
            "grid_row": null,
            "grid_template_areas": null,
            "grid_template_columns": null,
            "grid_template_rows": null,
            "height": null,
            "justify_content": null,
            "justify_items": null,
            "left": null,
            "margin": null,
            "max_height": null,
            "max_width": null,
            "min_height": null,
            "min_width": null,
            "object_fit": null,
            "object_position": null,
            "order": null,
            "overflow": null,
            "overflow_x": null,
            "overflow_y": null,
            "padding": null,
            "right": null,
            "top": null,
            "visibility": null,
            "width": null
          }
        },
        "e672281db3414d69a415e90f0e25bee6": {
          "model_module": "@jupyter-widgets/controls",
          "model_module_version": "1.5.0",
          "model_name": "HTMLModel",
          "state": {
            "_dom_classes": [],
            "_model_module": "@jupyter-widgets/controls",
            "_model_module_version": "1.5.0",
            "_model_name": "HTMLModel",
            "_view_count": null,
            "_view_module": "@jupyter-widgets/controls",
            "_view_module_version": "1.5.0",
            "_view_name": "HTMLView",
            "description": "",
            "description_tooltip": null,
            "layout": "IPY_MODEL_485883cf25554f7ba99f7d0e48e655cc",
            "placeholder": "​",
            "style": "IPY_MODEL_6ca86db523e7470db3d3a526c77a8093",
            "value": " 15276/15276 [02:49&lt;00:00, 91.80it/s]"
          }
        },
        "e6f2b27bb9fa4b918da62395317970e0": {
          "model_module": "@jupyter-widgets/controls",
          "model_module_version": "1.5.0",
          "model_name": "HTMLModel",
          "state": {
            "_dom_classes": [],
            "_model_module": "@jupyter-widgets/controls",
            "_model_module_version": "1.5.0",
            "_model_name": "HTMLModel",
            "_view_count": null,
            "_view_module": "@jupyter-widgets/controls",
            "_view_module_version": "1.5.0",
            "_view_name": "HTMLView",
            "description": "",
            "description_tooltip": null,
            "layout": "IPY_MODEL_c8b4a4e386134b8e9463db9b30f530b5",
            "placeholder": "​",
            "style": "IPY_MODEL_121c33de1b5c428fae52dac523d97c85",
            "value": "Extracting files from TS_Part2_Clickbait_Auto_IS.zip: 100%"
          }
        },
        "e790838293d240db85ff78a9ebf6c9ff": {
          "model_module": "@jupyter-widgets/controls",
          "model_module_version": "1.5.0",
          "model_name": "DescriptionStyleModel",
          "state": {
            "_model_module": "@jupyter-widgets/controls",
            "_model_module_version": "1.5.0",
            "_model_name": "DescriptionStyleModel",
            "_view_count": null,
            "_view_module": "@jupyter-widgets/base",
            "_view_module_version": "1.2.0",
            "_view_name": "StyleView",
            "description_width": ""
          }
        },
        "e799c3de27724cfb97ced227dc0ba2e2": {
          "model_module": "@jupyter-widgets/controls",
          "model_module_version": "1.5.0",
          "model_name": "DescriptionStyleModel",
          "state": {
            "_model_module": "@jupyter-widgets/controls",
            "_model_module_version": "1.5.0",
            "_model_name": "DescriptionStyleModel",
            "_view_count": null,
            "_view_module": "@jupyter-widgets/base",
            "_view_module_version": "1.2.0",
            "_view_name": "StyleView",
            "description_width": ""
          }
        },
        "edb465941b924c3199fe643111388fcd": {
          "model_module": "@jupyter-widgets/controls",
          "model_module_version": "1.5.0",
          "model_name": "HTMLModel",
          "state": {
            "_dom_classes": [],
            "_model_module": "@jupyter-widgets/controls",
            "_model_module_version": "1.5.0",
            "_model_name": "HTMLModel",
            "_view_count": null,
            "_view_module": "@jupyter-widgets/controls",
            "_view_module_version": "1.5.0",
            "_view_name": "HTMLView",
            "description": "",
            "description_tooltip": null,
            "layout": "IPY_MODEL_3695d4c950d94f0388298913e03da460",
            "placeholder": "​",
            "style": "IPY_MODEL_f9ba3941fd514cb28f57a23e1f22b9c2",
            "value": "Extracting files from TS_Part2_NonClickbait_Auto_PO.zip: 100%"
          }
        },
        "ee40e78d973e4d61aae78535307b4e0e": {
          "model_module": "@jupyter-widgets/controls",
          "model_module_version": "1.5.0",
          "model_name": "FloatProgressModel",
          "state": {
            "_dom_classes": [],
            "_model_module": "@jupyter-widgets/controls",
            "_model_module_version": "1.5.0",
            "_model_name": "FloatProgressModel",
            "_view_count": null,
            "_view_module": "@jupyter-widgets/controls",
            "_view_module_version": "1.5.0",
            "_view_name": "ProgressView",
            "bar_style": "success",
            "description": "",
            "description_tooltip": null,
            "layout": "IPY_MODEL_9616dcba9cd84fc2a59e0c16be5216eb",
            "max": 14803,
            "min": 0,
            "orientation": "horizontal",
            "style": "IPY_MODEL_e4c18bff81b8479da97c022cd7391d04",
            "value": 14803
          }
        },
        "f01d91aea58345e0802b838bb9c040e3": {
          "model_module": "@jupyter-widgets/controls",
          "model_module_version": "1.5.0",
          "model_name": "HBoxModel",
          "state": {
            "_dom_classes": [],
            "_model_module": "@jupyter-widgets/controls",
            "_model_module_version": "1.5.0",
            "_model_name": "HBoxModel",
            "_view_count": null,
            "_view_module": "@jupyter-widgets/controls",
            "_view_module_version": "1.5.0",
            "_view_name": "HBoxView",
            "box_style": "",
            "children": [
              "IPY_MODEL_24c6ded08c56412fa79831c74f0775b8",
              "IPY_MODEL_ee40e78d973e4d61aae78535307b4e0e",
              "IPY_MODEL_03df4f04d4014da49731666a3250ee85"
            ],
            "layout": "IPY_MODEL_15ef786034ab41a19e1cccd9b0bd9b1e"
          }
        },
        "f1fa7586bec1462991c8d9c61ac53dc5": {
          "model_module": "@jupyter-widgets/controls",
          "model_module_version": "1.5.0",
          "model_name": "FloatProgressModel",
          "state": {
            "_dom_classes": [],
            "_model_module": "@jupyter-widgets/controls",
            "_model_module_version": "1.5.0",
            "_model_name": "FloatProgressModel",
            "_view_count": null,
            "_view_module": "@jupyter-widgets/controls",
            "_view_module_version": "1.5.0",
            "_view_name": "ProgressView",
            "bar_style": "success",
            "description": "",
            "description_tooltip": null,
            "layout": "IPY_MODEL_c3bd96da56ad4bbe845ef5e63f306a8f",
            "max": 22084,
            "min": 0,
            "orientation": "horizontal",
            "style": "IPY_MODEL_1e7ea00d38c143dba8cafc43ad0ce922",
            "value": 22084
          }
        },
        "f39eaca6e3eb4876ace24b0c40b03be6": {
          "model_module": "@jupyter-widgets/base",
          "model_module_version": "1.2.0",
          "model_name": "LayoutModel",
          "state": {
            "_model_module": "@jupyter-widgets/base",
            "_model_module_version": "1.2.0",
            "_model_name": "LayoutModel",
            "_view_count": null,
            "_view_module": "@jupyter-widgets/base",
            "_view_module_version": "1.2.0",
            "_view_name": "LayoutView",
            "align_content": null,
            "align_items": null,
            "align_self": null,
            "border": null,
            "bottom": null,
            "display": null,
            "flex": null,
            "flex_flow": null,
            "grid_area": null,
            "grid_auto_columns": null,
            "grid_auto_flow": null,
            "grid_auto_rows": null,
            "grid_column": null,
            "grid_gap": null,
            "grid_row": null,
            "grid_template_areas": null,
            "grid_template_columns": null,
            "grid_template_rows": null,
            "height": null,
            "justify_content": null,
            "justify_items": null,
            "left": null,
            "margin": null,
            "max_height": null,
            "max_width": null,
            "min_height": null,
            "min_width": null,
            "object_fit": null,
            "object_position": null,
            "order": null,
            "overflow": null,
            "overflow_x": null,
            "overflow_y": null,
            "padding": null,
            "right": null,
            "top": null,
            "visibility": null,
            "width": null
          }
        },
        "f9ba3941fd514cb28f57a23e1f22b9c2": {
          "model_module": "@jupyter-widgets/controls",
          "model_module_version": "1.5.0",
          "model_name": "DescriptionStyleModel",
          "state": {
            "_model_module": "@jupyter-widgets/controls",
            "_model_module_version": "1.5.0",
            "_model_name": "DescriptionStyleModel",
            "_view_count": null,
            "_view_module": "@jupyter-widgets/base",
            "_view_module_version": "1.2.0",
            "_view_name": "StyleView",
            "description_width": ""
          }
        },
        "f9d05d460f3241e2a102e9777baf0054": {
          "model_module": "@jupyter-widgets/base",
          "model_module_version": "1.2.0",
          "model_name": "LayoutModel",
          "state": {
            "_model_module": "@jupyter-widgets/base",
            "_model_module_version": "1.2.0",
            "_model_name": "LayoutModel",
            "_view_count": null,
            "_view_module": "@jupyter-widgets/base",
            "_view_module_version": "1.2.0",
            "_view_name": "LayoutView",
            "align_content": null,
            "align_items": null,
            "align_self": null,
            "border": null,
            "bottom": null,
            "display": null,
            "flex": null,
            "flex_flow": null,
            "grid_area": null,
            "grid_auto_columns": null,
            "grid_auto_flow": null,
            "grid_auto_rows": null,
            "grid_column": null,
            "grid_gap": null,
            "grid_row": null,
            "grid_template_areas": null,
            "grid_template_columns": null,
            "grid_template_rows": null,
            "height": null,
            "justify_content": null,
            "justify_items": null,
            "left": null,
            "margin": null,
            "max_height": null,
            "max_width": null,
            "min_height": null,
            "min_width": null,
            "object_fit": null,
            "object_position": null,
            "order": null,
            "overflow": null,
            "overflow_x": null,
            "overflow_y": null,
            "padding": null,
            "right": null,
            "top": null,
            "visibility": null,
            "width": null
          }
        },
        "ff5d3d5fa669481ebf8fe2d9258c96a5": {
          "model_module": "@jupyter-widgets/controls",
          "model_module_version": "1.5.0",
          "model_name": "HBoxModel",
          "state": {
            "_dom_classes": [],
            "_model_module": "@jupyter-widgets/controls",
            "_model_module_version": "1.5.0",
            "_model_name": "HBoxModel",
            "_view_count": null,
            "_view_module": "@jupyter-widgets/controls",
            "_view_module_version": "1.5.0",
            "_view_name": "HBoxView",
            "box_style": "",
            "children": [
              "IPY_MODEL_85770b4f6d3443c1813485901a1a65c8",
              "IPY_MODEL_f1fa7586bec1462991c8d9c61ac53dc5",
              "IPY_MODEL_281d5ca29d9b45d383dbdd0b7d8ec5d8"
            ],
            "layout": "IPY_MODEL_24890d011a924312b0f34621ce89e833"
          }
        }
      }
    }
  },
  "nbformat": 4,
  "nbformat_minor": 0
}
